{
 "cells": [
  {
   "cell_type": "markdown",
   "metadata": {},
   "source": [
    "# AGI project\n",
    "# PYTHON 3\n",
    "# compute AGI based on annual fields \n",
    "# present-day vs future\n",
    "# use AGIcrit, Tpref, O2thresh as calculated from MONTHLY or ANNUAL hist. clim.\n",
    "# calculate habitat overlap between AA toothfish and others\n",
    "# save number at each depth level\n",
    "\n",
    "# version August 2023: adapted to Perlmutter, new list of prey"
   ]
  },
  {
   "cell_type": "code",
   "execution_count": 1,
   "metadata": {},
   "outputs": [],
   "source": [
    "#get_ipython().system(u'jupyter nbconvert --to=python plot_AGI_toothfish_present_vs_future_AGI_habitat_overlap_at_each_DEPTH_save_numbers.ipynb')"
   ]
  },
  {
   "cell_type": "code",
   "execution_count": 2,
   "metadata": {
    "tags": []
   },
   "outputs": [],
   "source": [
    "\n",
    "import xarray as xr\n",
    "import numpy as np\n",
    "import sys, os\n",
    "from pathlib import Path\n",
    "import glob\n",
    "import matplotlib.pyplot as plt\n"
   ]
  },
  {
   "cell_type": "code",
   "execution_count": 3,
   "metadata": {
    "tags": []
   },
   "outputs": [
    {
     "name": "stdout",
     "output_type": "stream",
     "text": [
      "['Dissostichus mawsoni', 'Trematomus loennbergii', 'Macrourus whitsoni', 'Galiteuthis glacialis', 'Chionodraco hamatus', 'Anotopterus vorax', 'Chaenodraco wilsoni', 'Kondakovia longimana', 'Cryodraco antarcticus', 'Muraenolepis microps', 'Psychroteuthis glacialis', 'Gymnodraco acuticeps', 'Amblyraja georgiana', 'Antarctomysis maxima', 'Lepidonotothen squamifrons', 'Mesonychoteuthis hamiltoni', 'Pleuragramma antarctica', 'Euphausia superba', 'Notothenia coriiceps', 'Trematomus lepidorhinus', 'Pagothenia borchgrevinki', 'Lycenchelys aratrirostris', 'Neopagetopsis ionah', 'Chaenocephalus aceratus', 'Trematomus hansoni', 'Chionobathyscus dewitti', 'Euphausia crystallorophias', 'Notothenia rossii', 'Bathyraja maccaini']\n",
      "29 species\n",
      "['Dissostichus_mawsoni', 'Trematomus_loennbergii', 'Macrourus_whitsoni', 'Galiteuthis_glacialis', 'Chionodraco_hamatus', 'Anotopterus_vorax', 'Chaenodraco_wilsoni', 'Kondakovia_longimana', 'Cryodraco_antarcticus', 'Muraenolepis_microps', 'Psychroteuthis_glacialis', 'Gymnodraco_acuticeps', 'Amblyraja_georgiana', 'Antarctomysis_maxima', 'Lepidonotothen_squamifrons', 'Mesonychoteuthis_hamiltoni', 'Pleuragramma_antarctica', 'Euphausia_superba', 'Notothenia_coriiceps', 'Trematomus_lepidorhinus', 'Pagothenia_borchgrevinki', 'Lycenchelys_aratrirostris', 'Neopagetopsis_ionah', 'Chaenocephalus_aceratus', 'Trematomus_hansoni', 'Chionobathyscus_dewitti', 'Euphausia_crystallorophias', 'Notothenia_rossii', 'Bathyraja_maccaini']\n"
     ]
    }
   ],
   "source": [
    "#-----\n",
    "# based on python code provided by Anne\n",
    "#-----\n",
    "\n",
    "basepath=\"/pscratch/sd/c/cnissen/AGI_toothfish_project/\" \n",
    "no_species=29\n",
    "\n",
    "# Init\n",
    "species_names         = [None] * no_species # empty list\n",
    "species_names_        = [None] * no_species # empty list\n",
    "habitat_file_names    = [None] * no_species # empty list\n",
    "\n",
    "#habitat_files = Path(basepath + \"all_prey_plus_toothfish/\").glob('*_boolean.nc')  # updated habitat files, Nov 2022!!!!!!\n",
    "\n",
    "# Dec 2024: recreated habitat files with Anne's scripts during review process\n",
    "# test different thresholds here!\n",
    "thresh = 0\n",
    "habitat_files = Path(basepath + \"scripts_Anne/AquaMaps/0.5deg_prob_threshold_0.\"+\\\n",
    "                     str(thresh)+\"/\").glob('*_boolean.nc')  # updated habitat files, Nov 2022!!!!!!\n",
    "\n",
    "#habitat_files = Path(basepath + \"share/\").glob('*_boolean.nc') \n",
    "# Note: I changed name of file of Antimora_rostrata to *boolean2.nc, so that it won't be included here\n",
    "for ifile,file in enumerate(habitat_files):   \n",
    "    habitat_file_names[ifile]    = str(file)\n",
    "    # Get the species name from the full pathname with a space between\n",
    "    species_names[ifile]  = '_'.join(os.path.basename(file).split('_')[:-2]).replace('_',' ') \n",
    "    if not species_names[ifile] in ['Galiteuthis glacialis','Mesonychoteuthis hamiltoni','Kondakovia longimana']:\n",
    "        species_names[ifile] = species_names[ifile][8:] # get rid of \"Default\" or \"Reviewed\"\n",
    "    if species_names[ifile][0].isspace():  # get rid of white space if there is any\n",
    "        species_names[ifile] = species_names[ifile][1:]\n",
    "    if species_names[ifile] in ['Chionobathyscus dewitti All Suitable Habitat']:\n",
    "        species_names[ifile] = species_names[ifile][0:23]\n",
    "    # Get the species name from the full pathname with _ in it\n",
    "    species_names_[ifile] = species_names[ifile].replace(' ','_')  #'_'.join(os.path.basename(file).split('_')[:-2]) \n",
    "\n",
    "#print(habitat_file_names)\n",
    "print(species_names)\n",
    "print(len(species_names),'species')\n",
    "print(species_names_)\n"
   ]
  },
  {
   "cell_type": "code",
   "execution_count": 4,
   "metadata": {
    "tags": []
   },
   "outputs": [
    {
     "name": "stdout",
     "output_type": "stream",
     "text": [
      "29\n"
     ]
    }
   ],
   "source": [
    "#----\n",
    "# Species information needed for calculation AGI\n",
    "#----\n",
    "\n",
    "# define order of species as contained in depth_min, LWa etc.\n",
    "species_list = ['Cryodraco antarcticus','Neopagetopsis ionah','Trematomus lepidorhinus',\\\n",
    "               'Trematomus hansoni','Bathyraja maccaini','Chaenocephalus aceratus',\\\n",
    "               'Notothenia coriiceps','Pleuragramma antarctica','Dissostichus mawsoni',\\\n",
    "                'Macrourus whitsoni',\\\n",
    "               'Lepidonotothen squamifrons','Notothenia rossii','Muraenolepis microps',\\\n",
    "               'Chaenodraco wilsoni','Chionobathyscus dewitti',\\\n",
    "               'Galiteuthis glacialis','Mesonychoteuthis hamiltoni','Kondakovia longimana',\\\n",
    "               'Amblyraja georgiana','Anotopterus vorax','Antarctomysis maxima',\\\n",
    "               'Chionodraco hamatus','Euphausia crystallorophias','Euphausia superba','Gymnodraco acuticeps',\\\n",
    "               'Lycenchelys aratrirostris','Pagothenia borchgrevinki','Psychroteuthis glacialis',\\\n",
    "               'Trematomus loennbergii']\n",
    "print(len(species_list))\n",
    "# excluded the following species for now: \n",
    "# 1) Antimora rostrata: don't have the habitat file (habitat outside of SO)\n",
    "\n",
    "# NO MAP Bathyraja eatonii\t?\t\t15\t1500\n",
    "\n",
    "# Minimum depth of occurence (meter)\n",
    "depth_min     = [None] * len(species_names) # Initialize\n",
    "depth_min[0]  = 90   # 'Cryodraco antarcticus'\n",
    "depth_min[1]  = 20   #'Neopagetopsis ionah'\n",
    "depth_min[2]  = 272    # 'Trematomus lepidorhinus'\n",
    "depth_min[3]  = 6    # 'Trematomus hansoni'\n",
    "depth_min[4]  = 167  # 'Bathyraja maccaini'\n",
    "depth_min[5]  = 0    # 'Chaenocephalus aceratus'\n",
    "depth_min[6]  = 0    # 'Notothenia coriiceps'\n",
    "depth_min[7]  = 0    # 'Pleuragramma antarctica'\n",
    "depth_min[8]  = 0    # 'Dissostichus mawsoni' ## Assume a wide range for toothfish (max. overlap with prey) ##\n",
    "depth_min[9]  = 400  # 'Macrourus whitsoni'\n",
    "depth_min[10] = 10   # 'Lepidonotothen squamifrons'\n",
    "depth_min[11] = 5    # 'Notothenia rossii'\n",
    "depth_min[12] = 10   # 'Muraenolepis microps'\n",
    "depth_min[13] = 200  # 'Chaenodraco wilsoni'\n",
    "depth_min[14] = 500  # 'Chionobathyscus dewitti'\n",
    "depth_min[15] = 200   #'Galiteuthis glacialis'\n",
    "depth_min[16] = 200   # 'Mesonychoteuthis hamiltoni'\n",
    "depth_min[17] = 500   # 'Kondakovia longimana'\n",
    "depth_min[18] = 57    # Amblyraja georgiana\n",
    "depth_min[19] = 358  # Anotopterus vorax\n",
    "depth_min[20] = 220 # Antarctomysis maxima\n",
    "depth_min[21] = 76 # Chionodraco hamatus\n",
    "depth_min[22] = 0 # Euphausia crystallorophias\n",
    "depth_min[23] = 0 # Euphausia superba\n",
    "depth_min[24] = 66 # Gymnodraco acuticeps\n",
    "depth_min[25] = 244 # Lycenchelys aratrirostris\n",
    "depth_min[26] = 0 # Pagothenia borchgrevinki\n",
    "depth_min[27] = 385 # Psychroteuthis glacialis\n",
    "depth_min[28] = 65 # Trematomus loennbergii\n",
    "#depth_min[29] = # Trematomus eulepidotus #EXCLUDED\n",
    "\n",
    "# Maximum depth of occurence (meter)\n",
    "depth_max     = [None] * len(species_names) # Initialize\n",
    "depth_max[0]  = 600  # 'Cryodraco antarcticus'\n",
    "depth_max[1]  = 900  #'Neopagetopsis ionah'\n",
    "depth_max[2]  = 468  # 'Trematomus lepidorhinus'\n",
    "depth_max[3]  = 549  # 'Trematomus hansoni'\n",
    "depth_max[4]  = 500  # 'Bathyraja maccaini'\n",
    "depth_max[5]  = 770  # 'Chaenocephalus aceratus'\n",
    "depth_max[6]  = 550  # 'Notothenia coriiceps'\n",
    "depth_max[7]  = 1000 # 'Pleuragramma antarctica'\n",
    "depth_max[8]  = 2210   # 'Dissostichus mawsoni' ## Assume a wide range for toothfish (max. overlap with prey) ##\n",
    "depth_max[9]  = 3185 # 'Macrourus whitsoni'\n",
    "depth_max[10] = 900  # 'Lepidonotothen squamifrons'\n",
    "depth_max[11] = 350 # 'Notothenia rossii'\n",
    "depth_max[12] = 1600 # 'Muraenolepis microps'\n",
    "depth_max[13] = 800  # 'Chaenodraco wilsoni'\n",
    "depth_max[14] = 2000 # 'Chionobathyscus dewitti'\n",
    "depth_max[15] = 2500   #'Galiteuthis glacialis'\n",
    "depth_max[16] =  600  # 'Mesonychoteuthis hamiltoni'\n",
    "depth_max[17] = 2000   # 'Kondakovia longimana'\n",
    "depth_max[18] = 173    # Amblyraja georgiana\n",
    "depth_max[19] = 1059 # Anotopterus vorax\n",
    "depth_max[20] = 440 # Antarctomysis maxima\n",
    "depth_max[21] = 271 # Chionodraco hamatus\n",
    "depth_max[22] = 650 # Euphausia crystallorophias\n",
    "depth_max[23] = 600 # Euphausia superba\n",
    "depth_max[24] = 247 # Gymnodraco acuticeps\n",
    "depth_max[25] = 376 # Lycenchelys aratrirostris\n",
    "depth_max[26] = 30 # Pagothenia borchgrevinki\n",
    "depth_max[27] = 610 # Psychroteuthis glacialis\n",
    "depth_max[28] = 832 # Trematomus loennbergii\n",
    "#depth_max[29] = # Trematomus eulepidotus EXCLUDED\n",
    "\n",
    "#---\n",
    "# NOTE Jan 2023: this info below is not needed anymore with the new AGI formulation!\n",
    "#----\n",
    "## LWa extracted 21.07.2022 from FishBase\n",
    "#LWa     = [None] * len(species_names) # Initialize\n",
    "#LWa[0]  = 0.0007  # 'Cryodraco antarcticus'\n",
    "#LWa[1]  = 0.01863  #'Neopagetopsis ionah'\n",
    "#LWa[2]  = 0.0042  # 'Trematomus eulepidotus'\n",
    "#LWa[3]  = 0.0021  # 'Trematomus hansoni'\n",
    "#LWa[4]  = 0.00477  # 'Bathyraja maccaini'\n",
    "#LWa[5]  = 0.0006 # 'Chaenocephalus aceratus'\n",
    "#LWa[6]  = 0.0132  # 'Notothenia coriiceps'\n",
    "#LWa[7]  = 0.0019  # 'Pleuragramma antarctica'\n",
    "#LWa[8]  = 0.0045   # 'Dissostichus mawsoni'\n",
    "#LWa[9]  = 0.0135 # 'Macrourus whitsoni'\n",
    "#LWa[10] = 0.0027  # 'Lepidonotothen squamifrons'\n",
    "##LWa[11] = 0.001     # 'Antimora rostrata'\n",
    "#LWa[11] = 0.0093 # 'Notothenia rossii'\n",
    "#LWa[12] = 0.00437 # 'Muraenolepis microps'\n",
    "#LWa[13] = 0.0005  # 'Chaenodraco wilsoni'\n",
    "#LWa[14] = 0.0012 # 'Chionobathyscus dewitti'\n",
    "\n",
    "## LWb extracted 21.07.2022 from FishBase\n",
    "#LWb     = [None] * len(species_names) # Initialize\n",
    "#LWb[0]  = 3.51  # 'Cryodraco antarcticus'\n",
    "#LWb[1]  = 2.762  #'Neopagetopsis ionah'\n",
    "#LWb[2]  = 3.32  # 'Trematomus eulepidotus'\n",
    "#LWb[3]  = 3.52  # 'Trematomus hansoni'\n",
    "#LWb[4]  = 3.162  # 'Bathyraja maccaini'\n",
    "#LWb[5]  = 3.63  # 'Chaenocephalus aceratus'\n",
    "#LWb[6]  = 3.09  # 'Notothenia coriiceps'\n",
    "#LWb[7]  = 3.41  # 'Pleuragramma antarctica'\n",
    "#LWb[8]  = 3.24   # 'Dissostichus mawsoni'\n",
    "#LWb[9]  = 3.15 # 'Macrourus whitsoni'\n",
    "#LWb[10] = 3.41  # 'Lepidonotothen squamifrons'\n",
    "##LWb[11] = 3.52   # 'Antimora rostrata'\n",
    "#LWb[11] = 3.07 # 'Notothenia rossii'\n",
    "#LWb[12] = 3.11 # 'Muraenolepis microps'\n",
    "#LWb[13] = 3.79  # 'Chaenodraco wilsoni'\n",
    "#LWb[14] = 3.5 # 'Chionobathyscus dewitti'\n",
    "\n",
    "## Linf extracted 21.07.2022 from FishBase\n",
    "## * Linf estimated from Lmax using Froese and Binohlan (2000) Eq. (5).\n",
    "#Linf     = [None] * len(species_names) # Initialize\n",
    "#Linf[0]  = 50.66374052  # 'Cryodraco antarcticus'*\n",
    "#Linf[1]  = 58.12886422  #'Neopagetopsis ionah'*\n",
    "#Linf[2]  = 26.5  # 'Trematomus eulepidotus'\n",
    "#Linf[3]  = 36.5  # 'Trematomus hansoni'\n",
    "#Linf[4]  = 123.061517  # 'Bathyraja maccaini'*\n",
    "#Linf[5]  = 70.4  # 'Chaenocephalus aceratus'\n",
    "#Linf[6]  = 62  # 'Notothenia coriiceps'\n",
    "#Linf[7]  = 25.1  # 'Pleuragramma antarctica'\n",
    "#Linf[8]  = 183   # 'Dissostichus mawsoni'\n",
    "#Linf[9]  = 92 # 'Macrourus whitsoni'\n",
    "#Linf[10] = 56.7  # 'Lepidonotothen squamifrons'\n",
    "##Linf[11] = 66   # 'Antimora rostrata'\n",
    "#Linf[11] = 87 # 'Notothenia rossii'\n",
    "#Linf[12] = 36.60305736 # 'Muraenolepis microps'*\n",
    "#Linf[13] = 44.82252387  # 'Chaenodraco wilsoni'*\n",
    "#Linf[14] = 62.21264207 # 'Chionobathyscus dewitti'*\n"
   ]
  },
  {
   "cell_type": "code",
   "execution_count": 5,
   "metadata": {
    "tags": []
   },
   "outputs": [],
   "source": [
    "#----\n",
    "# get indices of depth levels of species\n",
    "#----\n",
    "\n",
    "def find_nearest(array, value):\n",
    "    array = np.asarray(array)\n",
    "    idx = (np.abs(array - value)).argmin()\n",
    "    return idx\n",
    "\n",
    "file_mesh = '/pscratch/sd/c/cnissen/files_toothfish_project_AGI/Mesh_ancillary_information_v20220919.nc'\n",
    "data_levels = xr.open_dataset(file_mesh)\n",
    "levels      = data_levels['depth'].values # 88 levels\n",
    "lat      = data_levels['lat'].values\n",
    "lon      = data_levels['lon'].values\n",
    "mask        = data_levels['mask_vol'].values\n",
    "data_levels.close()\n",
    "\n",
    "index_min_depth     = [None] * len(species_names) # Initialize\n",
    "index_max_depth     = [None] * len(species_names) # Initialize\n",
    "\n",
    "for i,name in enumerate(species_names):\n",
    "    # Note Cara: order of entries in depth_min etc. is not alphabetical!!!!\n",
    "    # here, I have adapted the index from \"i\" to \"iii\" to read in the correct depth ranges\n",
    "    # for the current species\n",
    "    iii = species_list.index(species_names[i]) # get index of current species as contained in depth_min etc.\n",
    "    index_min_depth[i] = find_nearest(levels,depth_min[iii])\n",
    "    index_max_depth[i] = find_nearest(levels,depth_max[iii])\n",
    "    # now, index_min_depth should contain the correct values according to alphabetical order as looped over\n",
    "    # NOTE: given how python is indexing, I think I then need to index over index_min_depth:index_max_depth+1\n",
    "    # (was index_min_depth:index_max_depth before)\n",
    "    "
   ]
  },
  {
   "cell_type": "code",
   "execution_count": 6,
   "metadata": {
    "tags": []
   },
   "outputs": [
    {
     "name": "stdout",
     "output_type": "stream",
     "text": [
      "(88, 360, 1440)\n",
      "Min/Max topo: 203.5 3185.0\n"
     ]
    }
   ],
   "source": [
    "#---\n",
    "# construct topo mask (to separate shelves from open ocean)\n",
    "#---\n",
    "\n",
    "print(mask.shape)\n",
    "#print(mask)\n",
    "\n",
    "topo = np.nan*np.ones([mask.shape[1],mask.shape[2]])\n",
    "for mm in range(0,mask.shape[1]): #239+1):#mask.shape[1]): # only process for south of 60S\n",
    "    for nn in range(0,mask.shape[2]):\n",
    "        aux = mask[:,mm,nn]\n",
    "        if np.sum(aux)>0:\n",
    "            #print(mm,nn,aux)\n",
    "            #print(levels[aux==1][-1])\n",
    "            topo[mm,nn] = levels[aux==1][-1]\n",
    "    \n",
    "print('Min/Max topo:',np.nanmin(topo),np.nanmax(topo))\n"
   ]
  },
  {
   "cell_type": "code",
   "execution_count": 7,
   "metadata": {
    "tags": []
   },
   "outputs": [],
   "source": [
    "#-----\n",
    "# calculate AGI from annual mean fields\n",
    "#-----\n",
    "\n",
    "# constants\n",
    "d = 0.7 # n.d.; metabolic scaling coefficient\n",
    "j1 = 4500 # K; \"Anabolism activation energy divided by Boltzmann constant\" (Clarke2021)\n",
    "j2 = 8000 # K; \"Catabolism activation energy divided by Boltzmann constant\" (Clarke2021)\n",
    "j_diff = j2-j1\n",
    "# from Clarke2021: \"Somatic (or biomass) growth can be expressed as the difference between anabolism and catabolism\"\n",
    "\n",
    "#---\n",
    "# load AGIcrit, Tpref, O2thresh\n",
    "#---\n",
    "\n",
    "# Init\n",
    "AGI_crit = [None] * no_species # empty list\n",
    "o2thresh = [None] * no_species # empty list\n",
    "TPref    = [None] * no_species # empty list\n",
    "\n",
    "based_on_monthly_clim_AGIcrit = True # if False, use AGIcrit calculated based on annual mean climatology\n",
    "\n",
    "# AGIcrit \n",
    "for ii in range(0,len(species_names)):\n",
    "    if based_on_monthly_clim_AGIcrit:\n",
    "        file = 'AGIcrit_'+species_names_[ii]+'_based_on_monthly_clim_1995_2014_threshold_0.'+str(thresh)+'.nc'\n",
    "        ff     = xr.open_dataset(basepath+'new_thresholds/'+file)\n",
    "    else:\n",
    "        file = 'AGIcrit_'+species_names_[ii]+'_based_on_annual_clim_1995_2014.nc'\n",
    "        ff     = xr.open_dataset(basepath+'new_thresholds/based_on_annual/'+file)\n",
    "    AGI_crit[ii]        = ff['AGIcrit'].values[0]\n",
    "    ff.close()\n",
    "    \n",
    "# o2thresh  \n",
    "for ii in range(0,len(species_names)):\n",
    "    if based_on_monthly_clim_AGIcrit:\n",
    "        file = 'o2thresh_'+species_names_[ii]+'_based_on_monthly_clim_1995_2014_threshold_0.'+str(thresh)+'.nc'\n",
    "        ff     = xr.open_dataset(basepath+'new_thresholds/'+file)\n",
    "    else:\n",
    "        file = 'o2thresh_'+species_names_[ii]+'_based_on_annual_clim_1995_2014.nc'\n",
    "        ff     = xr.open_dataset(basepath+'new_thresholds/based_on_annual/'+file)\n",
    "    o2thresh[ii]        = ff['o2thresh'].values[0]\n",
    "    ff.close()\n",
    "    \n",
    "# TPref \n",
    "for ii in range(0,len(species_names)):\n",
    "    if based_on_monthly_clim_AGIcrit:\n",
    "        file = 'Tpref_'+species_names_[ii]+'_based_on_monthly_clim_1995_2014_threshold_0.'+str(thresh)+'.nc'\n",
    "        ff     = xr.open_dataset(basepath+'new_thresholds/'+file)\n",
    "    else:\n",
    "        file = 'Tpref_'+species_names_[ii]+'_based_on_annual_clim_1995_2014.nc'\n",
    "        ff     = xr.open_dataset(basepath+'new_thresholds/based_on_annual/'+file)\n",
    "    TPref[ii]        = ff['Tpref'].values[0]\n",
    "    ff.close()\n",
    "\n",
    "#-----\n",
    "# NOTE that order of species in LWa etc is not the same as in \"species_names\"\n",
    "# account for that further down!!!!\n",
    "#-----\n",
    "# calculate Winf and W for each species\n",
    "# UPDATE Jan 2023: the info below is not needed anymore with updated calculation of AGI\n",
    "# calculate Winf and W for each species\n",
    "#Winf = np.asarray(LWa)*(np.asarray(Linf)**np.asarray(LWb))\n",
    "#W    = (1./3.)*Winf\n",
    "#print('Winf:',Winf)\n",
    "#print('AGI_crit:',AGI_crit)\n",
    "#print('o2thresh:',o2thresh)\n",
    "#print('TPref:',TPref)\n",
    "\n",
    "#--------\n",
    "# NOTE: I don't think the order provided in LWa,LWb & Linf matches the order in which AGIcrit etc are loaded here!\n",
    "# careful when indexing\n",
    "# -> see above for finding the indices for the depth range!\n",
    "#--------\n"
   ]
  },
  {
   "cell_type": "code",
   "execution_count": 8,
   "metadata": {
    "tags": []
   },
   "outputs": [
    {
     "name": "stdout",
     "output_type": "stream",
     "text": [
      "Load year  1995\n",
      "Min/Max pO2: 4.207563 225.77884\n",
      "Min/Max t_insitu: -2.571443 15.545197\n",
      "Load year  1996\n",
      "Min/Max pO2: 2.8013957 225.59848\n",
      "Min/Max t_insitu: -2.575366 14.551913\n",
      "Load year  1997\n",
      "Min/Max pO2: 1.8041228 225.43907\n",
      "Min/Max t_insitu: -2.5624118 15.000496\n",
      "Load year  1998\n",
      "Min/Max pO2: 0.027826557 225.30064\n",
      "Min/Max t_insitu: -2.5636892 15.028485\n",
      "Load year  1999\n",
      "Min/Max pO2: 1.8957909 225.04358\n",
      "Min/Max t_insitu: -2.5640612 14.615901\n",
      "Load year  2000\n",
      "Min/Max pO2: 9.454568 224.61386\n",
      "Min/Max t_insitu: -2.5593815 15.245595\n",
      "Load year  2001\n",
      "Min/Max pO2: 3.726922 224.15968\n",
      "Min/Max t_insitu: -2.5575552 15.217681\n",
      "Load year  2002\n",
      "Min/Max pO2: 2.2234223 223.76306\n",
      "Min/Max t_insitu: -2.5549266 14.752597\n",
      "Load year  2003\n",
      "Min/Max pO2: 2.194433 224.76065\n",
      "Min/Max t_insitu: -2.5629275 15.570725\n",
      "Load year  2004\n",
      "Min/Max pO2: 2.6431694 229.60274\n",
      "Min/Max t_insitu: -2.5545547 16.359056\n",
      "Load year  2005\n",
      "Min/Max pO2: 1.7453376 229.03206\n",
      "Min/Max t_insitu: -2.5574455 14.253276\n",
      "Load year  2006\n",
      "Min/Max pO2: 3.3401098 228.37299\n",
      "Min/Max t_insitu: -2.556283 16.057344\n",
      "Load year  2007\n",
      "Min/Max pO2: 1.5953447 227.14195\n",
      "Min/Max t_insitu: -2.5581613 14.757957\n",
      "Load year  2008\n",
      "Min/Max pO2: 1.1253906 226.94159\n",
      "Min/Max t_insitu: -2.5532055 15.160706\n",
      "Load year  2009\n",
      "Min/Max pO2: 3.5195415 234.71707\n",
      "Min/Max t_insitu: -2.555146 15.328689\n",
      "Load year  2010\n",
      "Min/Max pO2: 4.862745 243.19257\n",
      "Min/Max t_insitu: -2.5590649 15.139638\n",
      "Load year  2011\n",
      "Min/Max pO2: 14.780415 227.82408\n",
      "Min/Max t_insitu: -2.5639048 15.482086\n",
      "Load year  2012\n",
      "Min/Max pO2: 14.942332 234.89539\n",
      "Min/Max t_insitu: -2.5616167 15.895008\n",
      "Load year  2013\n",
      "Min/Max pO2: 6.855995 222.09746\n",
      "Min/Max t_insitu: -2.5600293 15.064448\n",
      "Load year  2014\n",
      "Min/Max pO2: 1.5967058 222.66554\n",
      "Min/Max t_insitu: -2.5555043 15.473795\n",
      "\n",
      "Min/Max t_insitu: -2.5586371 15.072821\n",
      "Min/Max pO2: 4.361255 224.97017\n",
      "done\n"
     ]
    }
   ],
   "source": [
    "#-----\n",
    "# calculate AGI based on annual fields\n",
    "# part I: load pO2 & t_insitu fields\n",
    "#-----\n",
    "\n",
    "which_sim = 'simAssp585' # for present-day, keep this as simAssp585! \n",
    "#path1 = '/pscratch/sd/c/cnissen/files_toothfish_project_AGI/'+which_sim+'_reduced/'\n",
    "path1 = '/pscratch/sd/c/cnissen/files_toothfish_project_AGI/ARCHIVE_AGI/' # new path for repeating calculation during review process\n",
    "\n",
    "#----\n",
    "# PRESENT-DAY\n",
    "#----\n",
    "\n",
    "year_list1 = np.arange(1995,2014+1,1)\n",
    "\n",
    "for yy in range(0,len(year_list1)):\n",
    "    year1 = year_list1[yy]\n",
    "    print('Load year ',year1)\n",
    "    \n",
    "    # pO2 data (mbar)\n",
    "    file_pO2  = path1+'/pO2_fesom_'+which_sim+'_'+str(year1)+'0101_v2.nc'\n",
    "    data_pO2   = xr.open_dataset(file_pO2)\n",
    "    a1 = data_pO2['pO2'].values\n",
    "    a1 = np.ma.masked_where(a1<0,a1)\n",
    "    print('Min/Max pO2:',np.nanmin(a1),np.nanmax(a1))\n",
    "    if yy==0:\n",
    "        pO2_1      = a1 #data_pO2['pO2'].values\n",
    "    else:\n",
    "        pO2_1      = pO2_1+ a1 #data_pO2['pO2'].values\n",
    "    data_pO2.close()\n",
    "    del a1\n",
    "\n",
    "    # T insitu (deg C)\n",
    "    file_t_insitu   = path1+'/t_insitu_fesom_'+which_sim+'_'+str(year1)+'0101_v2.nc'\n",
    "    data_t_insitu   = xr.open_dataset(file_t_insitu)\n",
    "    a1 = data_t_insitu['t_insitu'].values\n",
    "    a1 = np.ma.masked_where(a1<-3.0,a1)\n",
    "    print('Min/Max t_insitu:',np.nanmin(a1),np.nanmax(a1))\n",
    "    #print('Min/Max t_insitu:',np.min(data_t_insitu['t_insitu'].values),np.max(data_t_insitu['t_insitu'].values))\n",
    "    if yy==0:\n",
    "        t_insitu_1        = a1 #data_t_insitu['t_insitu'].values\n",
    "    else:\n",
    "        t_insitu_1        = t_insitu_1+ a1 #data_t_insitu['t_insitu'].values\n",
    "    data_t_insitu.close()\n",
    "    del a1\n",
    "    \n",
    "# calculate climatology\n",
    "t_insitu_1 = t_insitu_1/len(year_list1)\n",
    "pO2_1      = pO2_1/len(year_list1)\n",
    "print('')\n",
    "print('Min/Max t_insitu:',np.nanmin(t_insitu_1),np.nanmax(t_insitu_1))\n",
    "print('Min/Max pO2:',np.nanmin(pO2_1),np.nanmax(pO2_1))\n",
    "    \n",
    "print('done')\n"
   ]
  },
  {
   "cell_type": "code",
   "execution_count": 9,
   "metadata": {
    "tags": []
   },
   "outputs": [
    {
     "name": "stdout",
     "output_type": "stream",
     "text": [
      "Load year  2091\n",
      "Load depth levels\n",
      "Min/Max pO2: 0.18407242 245.66891\n",
      "Min/Max t_insitu: -2.5228913 17.88519\n",
      "Load year  2092\n",
      "Min/Max pO2: 0.18615732 246.0024\n",
      "Min/Max t_insitu: -2.5127351 17.922821\n",
      "Load year  2093\n",
      "Min/Max pO2: 0.2095166 242.58719\n",
      "Min/Max t_insitu: -2.7079659 17.464113\n",
      "Load year  2094\n",
      "Min/Max pO2: 0.21596994 252.32352\n",
      "Min/Max t_insitu: -2.522755 18.096907\n",
      "Load year  2095\n",
      "Min/Max pO2: 0.21790534 244.46132\n",
      "Min/Max t_insitu: -2.552226 17.449821\n",
      "Load year  2096\n",
      "Min/Max pO2: 0.22117928 249.26617\n",
      "Min/Max t_insitu: -2.5628629 18.667217\n",
      "Load year  2097\n",
      "Min/Max pO2: 0.22600251 248.33086\n",
      "Min/Max t_insitu: -2.6080208 17.687935\n",
      "Load year  2098\n",
      "Min/Max pO2: 0.20842572 248.31505\n",
      "Min/Max t_insitu: -2.5353906 17.82436\n",
      "Load year  2099\n",
      "Min/Max pO2: 0.20978902 244.02168\n",
      "Min/Max t_insitu: -2.5157914 18.47154\n",
      "Load year  2100\n",
      "Min/Max pO2: 0.20297492 247.70912\n",
      "Min/Max t_insitu: -2.514549 18.517756\n",
      "\n",
      "Min/Max t_insitu: -2.5108533 17.641241\n",
      "Min/Max pO2: 0.21230969 240.27682\n",
      "done\n"
     ]
    }
   ],
   "source": [
    "#-----\n",
    "# calculate AGI based on annual fields\n",
    "# part I: load pO2 & t_insitu fields\n",
    "#-----\n",
    "\n",
    "which_sim = 'ssp585' #'simAssp126'\n",
    "#path1 = '/pscratch/sd/c/cnissen/files_toothfish_project_AGI/'+which_sim+'_reduced/'\n",
    "path1 = '/pscratch/sd/c/cnissen/files_toothfish_project_AGI/ARCHIVE_AGI/' # new path for repeating calculation during review process\n",
    "\n",
    "which_drift = '2091_2100' \n",
    "\n",
    "# example file name for drift-corrected files: t_insitu_fesom_ssp245_20910101_monthly_drift_corrected_2090_2099_minus_1995_2014_v2.nc\n",
    "drift_corr ='monthly_drift_corrected_'+which_drift+'_minus_1995_2014_v2' \n",
    "\n",
    "#----\n",
    "# FUTURE\n",
    "#----\n",
    "\n",
    "#year_list2 = np.arange(2091,2100+1,1) #np.arange(2090,2099+1,1)\n",
    "year_list2 = np.arange(int(which_drift[0:4]),int(which_drift[5:])+1,1)\n",
    "\n",
    "for yy in range(0,len(year_list2)):\n",
    "    year2 = year_list2[yy]\n",
    "    print('Load year ',year2)\n",
    "    \n",
    "    # pO2 data (mbar)\n",
    "    file_pO2  = path1+'/pO2_fesom_'+which_sim+'_'+str(year2)+'0101_'+drift_corr+'.nc'\n",
    "    data_pO2   = xr.open_dataset(file_pO2)\n",
    "    if yy==0:\n",
    "        print('Load depth levels')\n",
    "        depths = data_pO2['depth'].values\n",
    "    a1 = data_pO2['pO2'].values\n",
    "    a1 = np.ma.masked_where(a1<0,a1)\n",
    "    print('Min/Max pO2:',np.nanmin(a1),np.nanmax(a1))\n",
    "    if yy==0:\n",
    "        pO2_2      = a1 #data_pO2['pO2'].values\n",
    "    else:\n",
    "        pO2_2      = pO2_2+ a1 #data_pO2['pO2'].values\n",
    "    data_pO2.close()\n",
    "    del a1\n",
    "\n",
    "    # T insitu (deg C)\n",
    "    file_t_insitu   = path1+'/t_insitu_fesom_'+which_sim+'_'+str(year2)+'0101_'+drift_corr+'.nc'\n",
    "    data_t_insitu   = xr.open_dataset(file_t_insitu)\n",
    "    a1 = data_t_insitu['t_insitu'].values\n",
    "    a1 = np.ma.masked_where(a1<-3.0,a1)\n",
    "    print('Min/Max t_insitu:',np.nanmin(a1),np.nanmax(a1))\n",
    "    #print('Min/Max t_insitu:',np.min(data_t_insitu['t_insitu'].values),np.max(data_t_insitu['t_insitu'].values))\n",
    "    if yy==0:\n",
    "        t_insitu_2        = a1 #data_t_insitu['t_insitu'].values\n",
    "    else:\n",
    "        t_insitu_2        = t_insitu_2+ a1 #data_t_insitu['t_insitu'].values\n",
    "    data_t_insitu.close()\n",
    "    del a1\n",
    "\n",
    "# calculate climatology\n",
    "t_insitu_2 = t_insitu_2/len(year_list2)\n",
    "pO2_2      = pO2_2/len(year_list2)\n",
    "    \n",
    "# volume data \n",
    "data_vol   = xr.open_dataset(file_mesh)\n",
    "vol        = data_vol['volume']\n",
    "data_vol.close()\n",
    "\n",
    "#print(vol.shape)\n",
    "#print(t_insitu_2.shape)\n",
    "#print(pO2_2.shape)\n",
    "\n",
    "print('')\n",
    "print('Min/Max t_insitu:',np.nanmin(t_insitu_2),np.nanmax(t_insitu_2))\n",
    "print('Min/Max pO2:',np.nanmin(pO2_2),np.nanmax(pO2_2))\n",
    "\n",
    "# to be checked: without this step, temp minimum is -41 or so for future... why?\n",
    "#t_insitu_1[t_insitu_1<-5]=np.nan\n",
    "#t_insitu_2[t_insitu_2<-5]=np.nan\n",
    "#print('min/max t_insitu_2:',np.nanmin(t_insitu_2),np.nanmax(t_insitu_2))\n",
    "#t_insitu_1 = np.ma.masked_where(t_insitu_1<-40,t_insitu_1)\n",
    "#t_insitu_2 = np.ma.masked_where(t_insitu_2<-40,t_insitu_2)\n",
    "##print('min/max t_insitu_1:',np.nanmin(t_insitu_1),np.nanmax(t_insitu_1))\n",
    "#print('min/max t_insitu_2:',np.nanmin(t_insitu_2),np.nanmax(t_insitu_2))\n",
    "\n",
    "print('done')\n"
   ]
  },
  {
   "cell_type": "code",
   "execution_count": 10,
   "metadata": {
    "tags": []
   },
   "outputs": [],
   "source": [
    "#------\n",
    "# weighted quantile function\n",
    "# from here: https://stackoverflow.com/questions/21844024/weighted-percentile-using-numpy\n",
    "#------\n",
    "########\n",
    "# to be double-check carefully! \n",
    "########\n",
    "\n",
    "def weighted_quantile(values, quantiles, sample_weight=None, \n",
    "                      values_sorted=False, old_style=False):\n",
    "    \"\"\" Very close to numpy.percentile, but supports weights.\n",
    "    NOTE: quantiles should be in [0, 1]!\n",
    "    :param values: numpy.array with data\n",
    "    :param quantiles: array-like with many quantiles needed\n",
    "    :param sample_weight: array-like of the same length as `array`\n",
    "    :param values_sorted: bool, if True, then will avoid sorting of\n",
    "        initial array\n",
    "    :param old_style: if True, will correct output to be consistent\n",
    "        with numpy.percentile.\n",
    "    :return: numpy.array with computed quantiles.\n",
    "    \"\"\"\n",
    "    values = np.array(values)\n",
    "    quantiles = np.array(quantiles)\n",
    "    if sample_weight is None:\n",
    "        sample_weight = np.ones(len(values))\n",
    "    sample_weight = np.array(sample_weight)\n",
    "    assert np.all(quantiles >= 0) and np.all(quantiles <= 1), \\\n",
    "        'quantiles should be in [0, 1]'\n",
    "\n",
    "    if not values_sorted:\n",
    "        sorter = np.argsort(values)\n",
    "        values = values[sorter]\n",
    "        sample_weight = sample_weight[sorter]\n",
    "\n",
    "    weighted_quantiles = np.cumsum(sample_weight) - 0.5 * sample_weight\n",
    "    if old_style:\n",
    "        # To be convenient with numpy.percentile\n",
    "        weighted_quantiles -= weighted_quantiles[0]\n",
    "        weighted_quantiles /= weighted_quantiles[-1]\n",
    "    else:\n",
    "        weighted_quantiles /= np.sum(sample_weight)\n",
    "    return np.interp(quantiles, weighted_quantiles, values)\n",
    "\n"
   ]
  },
  {
   "cell_type": "code",
   "execution_count": 11,
   "metadata": {
    "tags": []
   },
   "outputs": [
    {
     "name": "stdout",
     "output_type": "stream",
     "text": [
      "done\n"
     ]
    }
   ],
   "source": [
    "#----\n",
    "# load MPA masks on mesh\n",
    "#----\n",
    "\n",
    "# the regions below are not used in the paper!\n",
    "\n",
    "#path1 = '/pscratch/sd/c/cnissen/HLRN_runs_postprocessed/masks/masks_MPAs/'\n",
    "\n",
    "#ff  = xr.open_dataset(path1+'MPA_mask_AntarcticPeninsula_regular_mesh_0.125deg_toothfish_project.nc')\n",
    "#mask_WAP = ff['mask_mpa'].values\n",
    "#ff.close()\n",
    "                      \n",
    "#ff  = xr.open_dataset(path1+'MPA_mask_East_Antarctica_1_regular_mesh_0.125deg_toothfish_project.nc')\n",
    "#mask_eastAA1= ff['mask_mpa'].values\n",
    "#ff.close()\n",
    "\n",
    "#ff  = xr.open_dataset(path1+'MPA_mask_East_Antarctica_2_regular_mesh_0.125deg_toothfish_project.nc')\n",
    "#mask_eastAA2= ff['mask_mpa'].values\n",
    "#ff.close()\n",
    "\n",
    "#ff  = xr.open_dataset(path1+'MPA_mask_East_Antarctica_3_regular_mesh_0.125deg_toothfish_project.nc')\n",
    "#mask_eastAA3= ff['mask_mpa'].values\n",
    "#ff.close()\n",
    "    \n",
    "#ff  = xr.open_dataset(path1+'MPA_mask_RossSea_regular_mesh_0.125deg_toothfish_project.nc')\n",
    "#mask_Ross= ff['mask_mpa'].values\n",
    "#ff.close()\n",
    "\n",
    "#ff  = xr.open_dataset(path1+'MPA_mask_WeddellSea_regular_mesh_0.125deg_toothfish_project.nc')\n",
    "#mask_Weddell= ff['mask_mpa'].values\n",
    "#ff.close()\n",
    "\n",
    "#ff  = xr.open_dataset(path1+'MPA_mask_Orkney_regular_mesh_0.125deg_toothfish_project.nc')\n",
    "#mask_Orkney= ff['mask_mpa'].values\n",
    "#ff.close()\n",
    "\n",
    "#print(mask_Orkney.shape)\n",
    "\n",
    "#---\n",
    "# all_shelves and all_openOcean masks:\n",
    "#---\n",
    "\n",
    "path_shelf_mask = '/pscratch/sd/c/cnissen/AGI_toothfish_project/masks/Mask_Antarctic_shelf_south_of_1000m_isobath.nc'\n",
    "path_openOcean_mask = '/pscratch/sd/c/cnissen/AGI_toothfish_project/masks/Mask_openOcean_south_of_45S_north_of_1000m_isobath.nc'\n",
    "\n",
    "ff  = xr.open_dataset(path_shelf_mask)\n",
    "mask_shelves = ff['mask'].values\n",
    "ff.close()\n",
    "\n",
    "ff  = xr.open_dataset(path_openOcean_mask)\n",
    "mask_openOcean = ff['mask'].values\n",
    "ff.close()\n",
    "\n",
    "print('done')\n"
   ]
  },
  {
   "cell_type": "code",
   "execution_count": 12,
   "metadata": {
    "tags": []
   },
   "outputs": [],
   "source": [
    "#----\n",
    "# functions\n",
    "#----\n",
    "\n",
    "def get_mask_viable_habitat(i,hab_field,vol,pO2,t_insitu,index_min_depth,index_max_depth,\\\n",
    "                                    species_list,species_names,TPref,o2thresh,AGI_crit,j_diff,mask):\n",
    "    # NOTE: \"mask\" is 2D field; can be an MPA or the whole Southern Ocean (array of ones in this case)\n",
    "    \n",
    "    # turn mask into 3D\n",
    "    mask3D = np.tile(mask,[88,1,1])\n",
    "    #mask3D = mask3D[index_min_depth[i]:index_max_depth[i]+1,:,:] # select depth levels of interest\n",
    "    \n",
    "    # set mask outside of depth range to zero\n",
    "    if index_min_depth[i]>0:\n",
    "        mask3D[0:index_min_depth[i]:,:] = 0\n",
    "    mask3D[index_max_depth[i]:,:,:] = 0\n",
    "    \n",
    "    ### select the data/volume over the relevant depth range, correct with habitat array\n",
    "    # NOTE: index_min_depth[i]:index_max_depth[i]    or.    index_min_depth[i]:index_max_depth[i]+1   ?\n",
    "    vol_inhabitat = (vol.values[:,:,:]*hab_field*mask3D) \n",
    "    dataout1      = (pO2[:,:,:]*hab_field*mask3D)\n",
    "    dataout2      = (t_insitu[:,:,:]*hab_field*mask3D)\n",
    "    #print(dataout1.shape) # depth x lat x lon\n",
    "    \n",
    "    # use all months -> don't \"ravel\" here to keep the depths x lat x lon format\n",
    "    dataout1b = dataout1[:,:,:] #.ravel() # pO2\n",
    "    dataout2b = dataout2[:,:,:] #.ravel() # temp\n",
    "    # make sure volume array has dimensions months x depths x lat x lon before applying ravel()\n",
    "    vol_inhabitat_b = np.copy(vol_inhabitat) #.ravel() #np.tile(vol_inhabitat,(12,1,1,1)).ravel() \n",
    "    \n",
    "    dataout2b       = np.ma.masked_where(np.isnan(dataout1b),dataout2b) # every available node\n",
    "    vol_inhabitat_b = np.ma.masked_where(np.isnan(dataout1b),vol_inhabitat_b)\n",
    "    dataout1b       = np.ma.masked_where(np.isnan(dataout1b),dataout1b)\n",
    "    \n",
    "    dataout2b       = np.ma.masked_where(dataout1b==0,dataout2b) # every available node\n",
    "    vol_inhabitat_b = np.ma.masked_where(dataout1b==0,vol_inhabitat_b)\n",
    "    dataout1b       = np.ma.masked_where(dataout1b==0,dataout1b)\n",
    "    \n",
    "    vol_weights = vol_inhabitat_b/np.nansum(vol_inhabitat_b)\n",
    "    \n",
    "    # order of species in W, Winf etc not the same as in this i-loop!\n",
    "    # correct for that here (same was done for index_min_depth and index_max_depth)\n",
    "    iii = species_list.index(species_names[i])\n",
    "    \n",
    "    #------\n",
    "    # get Tpref & O2thresh -> see plot_AGI_toothfish_TPref_O2thresh_save_as_netcdf.ipynb\n",
    "    #   Tpref: 50th percentile in habitat (volume weighted)\n",
    "    #   O2thresh: 10th percentile in habitat (volume weighted)\n",
    "    tpref_species    = TPref[i]\n",
    "    o2thresh_species = o2thresh[i]   \n",
    "    #------\n",
    "    \n",
    "    #----\n",
    "    # calculate AGIcrit: 10th percentile in habitat (volume wieghted)\n",
    "    \n",
    "    #w_ratio = (W[iii]**(1-d))/(Winf[iii]**(1-d))\n",
    "    # UPDATE Jan 2023: adapt calculation of AGI to what is in Anne's paper (W, W_inf etc not needed anymore)\n",
    "    w_ratio = ((1./3.)**(1-d))\n",
    "    a1 = np.exp((j_diff/(tpref_species+273.15)) - (j_diff/(dataout2b+273.15)))\n",
    "    \n",
    "    AGI = dataout1b/(o2thresh_species*w_ratio*a1)\n",
    "    \n",
    "    #res = weighted_quantile(AGI, [0.1], sample_weight=vol_weights)\n",
    "    \n",
    "    \n",
    "    #---\n",
    "    # correction November 2023\n",
    "    mask_habitat = np.zeros_like(AGI) \n",
    "    AGI[AGI.mask==True]=-999 # DOES THIS line change the problem with identifying prey at a depth level where it shouldn't be?\n",
    "    ind_hab = np.where(AGI>AGI_crit[i]) # if AGI contains masked cells, these will be interpreted as >1 here!!!!\n",
    "    mask_habitat[ind_hab] = 1\n",
    "    mask_habitat[mask_habitat.mask==True]=0\n",
    "    #---   \n",
    "    \n",
    "    # old code\n",
    "    #ind_hab = np.where(AGI>AGI_crit[i]) #[0]\n",
    "    #mask_habitat = np.zeros_like(AGI) #\n",
    "    #mask_habitat[ind_hab] = 1\n",
    "\n",
    "    return mask_habitat,vol_inhabitat_b\n",
    "    \n",
    "    \n",
    "def get_AGI_profile(i,hab_field,vol,pO2,t_insitu,index_min_depth,index_max_depth,\\\n",
    "                                    species_list,species_names,TPref,o2thresh,AGI_crit,j_diff,mask):\n",
    "    # NOTE: \"mask\" is 2D field; can be an MPA or the whole Southern Ocean (array of ones in this case)\n",
    "    \n",
    "    # turn mask into 3D\n",
    "    mask3D = np.tile(mask,[88,1,1])\n",
    "    mask3D = mask3D[index_min_depth[i]:index_max_depth[i]+1,:,:] # select depth levels of interest\n",
    "    \n",
    "    ### select the data/volume over the relevant depth range, correct with habitat array\n",
    "    # NOTE: index_min_depth[i]:index_max_depth[i]    or.    index_min_depth[i]:index_max_depth[i]+1   ?\n",
    "    vol_inhabitat = (vol.values[index_min_depth[i]:index_max_depth[i]+1,:,:]*hab_field*mask3D) \n",
    "    dataout1      = (pO2[index_min_depth[i]:index_max_depth[i]+1,:,:]*hab_field*mask3D)\n",
    "    dataout2      = (t_insitu[index_min_depth[i]:index_max_depth[i]+1,:,:]*hab_field*mask3D)\n",
    "    #print(dataout1.shape) # depth x lat x lon\n",
    "    \n",
    "    #----\n",
    "    # get vertical profile\n",
    "    #----\n",
    "    # loop over available depth levels and calculate average AGI\n",
    "    \n",
    "    AGI_profile = np.nan*np.ones(vol.values.shape[0])\n",
    "    counter = 0 # indices do not necessarily have to start at zero, but arrays are already reduced!\n",
    "    for dd in range(index_min_depth[i],index_max_depth[i]+1): # loop only over depths in habitat\n",
    "        #print (dataout1.shape)\n",
    "        \n",
    "        # use all months\n",
    "        dataout1b = dataout1[counter,:,:].ravel() # pO2\n",
    "        dataout2b = dataout2[counter,:,:].ravel() # temp\n",
    "        vol_inhabitat_reg = vol_inhabitat[counter,:,:]\n",
    "        # make sure volume array has dimensions months x depths x lat x lon before applying ravel()\n",
    "        vol_inhabitat_b = np.copy(vol_inhabitat_reg).ravel() #np.tile(vol_inhabitat,(12,1,1,1)).ravel() \n",
    "    \n",
    "        # make sure to only keep nodes that are available for current species\n",
    "        ind = np.where((~np.isnan(dataout1b)))[0] # every available node\n",
    "        dataout1b = dataout1b[ind]\n",
    "        dataout2b = dataout2b[ind]\n",
    "        vol_inhabitat_b = vol_inhabitat_b[ind]\n",
    "        ind = np.where((dataout1b!=0))[0] # every available node\n",
    "        dataout1b = dataout1b[ind] # pO2\n",
    "        dataout2b = dataout2b[ind] # temp\n",
    "        vol_inhabitat_b = vol_inhabitat_b[ind]\n",
    "        del ind\n",
    "    \n",
    "        totalvol_inhabitat = np.nansum(vol_inhabitat_b) # total in-habitat volume (accounting for bathymetry)\n",
    "        vol_weights = vol_inhabitat_b/np.sum(vol_inhabitat_b)\n",
    "    \n",
    "        # order of species in W, Winf etc not the same as in this i-loop!\n",
    "        # correct for that here (same was done for index_min_depth and index_max_depth)\n",
    "        iii = species_list.index(species_names[i])\n",
    "    \n",
    "        #------\n",
    "        # get Tpref & O2thresh -> see plot_AGI_toothfish_TPref_O2thresh_save_as_netcdf.ipynb\n",
    "        #   Tpref: 50th percentile in habitat (volume weighted)\n",
    "        #   O2thresh: 10th percentile in habitat (volume weighted)\n",
    "        tpref_species    = TPref[i]\n",
    "        o2thresh_species = o2thresh[i]   \n",
    "        #------\n",
    "    \n",
    "        #----\n",
    "        # calculate AGIcrit: 10th percentile in habitat (volume wieghted)\n",
    "\n",
    "        #w_ratio = (W[iii]**(1-d))/(Winf[iii]**(1-d))\n",
    "        # UPDATE Jan 2023: adapt calculation of AGI to what is in Anne's paper (W, W_inf etc not needed anymore)\n",
    "        w_ratio = ((1./3.)**(1-d))\n",
    "        a1 = np.exp((j_diff/(tpref_species+273.15)) - (j_diff/(dataout2b+273.15)))\n",
    "\n",
    "        #print ('Min/Max dataout1b:',np.min(dataout1b),np.max(dataout1b))\n",
    "        #print ('Min/Max a1:',np.min(a1),np.max(a1))\n",
    "        AGI = dataout1b/(o2thresh_species*w_ratio*a1)\n",
    "\n",
    "        #print(dd,counter,AGI.shape,vol_inhabitat_b.shape)\n",
    "        \n",
    "        AGI_profile[dd] = np.sum(AGI*vol_inhabitat_b)/np.sum(vol_inhabitat_b)\n",
    "        \n",
    "        counter = counter+1\n",
    "        \n",
    "        #res = weighted_quantile(AGI, [0.1], sample_weight=vol_weights)\n",
    "        #ind_hab = np.where(AGI>AGI_crit[i])[0]\n",
    "    \n",
    "    # return: vertical profile of AGI\n",
    "    return AGI_profile\n",
    "    "
   ]
  },
  {
   "cell_type": "code",
   "execution_count": 13,
   "metadata": {
    "tags": []
   },
   "outputs": [
    {
     "name": "stdout",
     "output_type": "stream",
     "text": [
      "thresh: 0\n",
      "all_shelves ...\n",
      "0 Dissostichus mawsoni\n",
      "/pscratch/sd/c/cnissen/AGI_toothfish_project/scripts_Anne/AquaMaps/0.5deg_prob_threshold_0.0/Reviewed_Dissostichus_mawsoni_modelgrid_boolean.nc\n",
      "get toothfish habitat, present-day\n",
      "get toothfish habitat, future\n",
      "Save to netcdf file\n",
      "Create file /pscratch/sd/c/cnissen/AGI_toothfish_project/habitat_overlap/AGI_based_habitat_overlap_toothfish_vs_prey_whole_water_column_ssp585_2091_2100_shelf_vs_openOcean_monthly_drift_corrected_2091_2100_minus_1995_2014_v2_threshold_0.0.nc\n"
     ]
    },
    {
     "name": "stderr",
     "output_type": "stream",
     "text": [
      "  0%|          | 0/29 [00:00<?, ?it/s]"
     ]
    },
    {
     "name": "stdout",
     "output_type": "stream",
     "text": [
      "1 Trematomus loennbergii\n"
     ]
    },
    {
     "name": "stderr",
     "output_type": "stream",
     "text": [
      "/tmp/ipykernel_848170/1338615782.py:220: UserWarning: Warning: converting a masked element to nan.\n",
      "  overlap1[dd,counter] = np.sum(vol_1[dd,:,:].ravel()[ind1])*factor\n",
      "/tmp/ipykernel_848170/1338615782.py:221: UserWarning: Warning: converting a masked element to nan.\n",
      "  overlap2[dd,counter] = np.sum(vol_2[dd,:,:].ravel()[ind2])*factor\n",
      "  7%|▋         | 2/29 [00:20<04:36, 10.26s/it]"
     ]
    },
    {
     "name": "stdout",
     "output_type": "stream",
     "text": [
      "Successfully saved all_shelves of Trematomus_loennbergii to netcdf file\n",
      "2 Macrourus whitsoni\n"
     ]
    },
    {
     "name": "stderr",
     "output_type": "stream",
     "text": [
      " 10%|█         | 3/29 [00:40<06:14, 14.40s/it]"
     ]
    },
    {
     "name": "stdout",
     "output_type": "stream",
     "text": [
      "Successfully saved all_shelves of Macrourus_whitsoni to netcdf file\n",
      "3 Galiteuthis glacialis\n"
     ]
    },
    {
     "name": "stderr",
     "output_type": "stream",
     "text": [
      " 14%|█▍        | 4/29 [00:54<05:52, 14.10s/it]"
     ]
    },
    {
     "name": "stdout",
     "output_type": "stream",
     "text": [
      "Successfully saved all_shelves of Galiteuthis_glacialis to netcdf file\n",
      "4 Chionodraco hamatus\n"
     ]
    },
    {
     "name": "stderr",
     "output_type": "stream",
     "text": [
      " 17%|█▋        | 5/29 [01:14<06:25, 16.07s/it]"
     ]
    },
    {
     "name": "stdout",
     "output_type": "stream",
     "text": [
      "Successfully saved all_shelves of Chionodraco_hamatus to netcdf file\n",
      "5 Anotopterus vorax\n"
     ]
    },
    {
     "name": "stderr",
     "output_type": "stream",
     "text": [
      " 21%|██        | 6/29 [01:33<06:34, 17.17s/it]"
     ]
    },
    {
     "name": "stdout",
     "output_type": "stream",
     "text": [
      "Successfully saved all_shelves of Anotopterus_vorax to netcdf file\n",
      "6 Chaenodraco wilsoni\n"
     ]
    },
    {
     "name": "stderr",
     "output_type": "stream",
     "text": [
      " 24%|██▍       | 7/29 [01:52<06:33, 17.88s/it]"
     ]
    },
    {
     "name": "stdout",
     "output_type": "stream",
     "text": [
      "Successfully saved all_shelves of Chaenodraco_wilsoni to netcdf file\n",
      "7 Kondakovia longimana\n"
     ]
    },
    {
     "name": "stderr",
     "output_type": "stream",
     "text": [
      " 28%|██▊       | 8/29 [02:05<05:43, 16.36s/it]"
     ]
    },
    {
     "name": "stdout",
     "output_type": "stream",
     "text": [
      "Successfully saved all_shelves of Kondakovia_longimana to netcdf file\n",
      "8 Cryodraco antarcticus\n"
     ]
    },
    {
     "name": "stderr",
     "output_type": "stream",
     "text": [
      " 31%|███       | 9/29 [02:25<05:46, 17.32s/it]"
     ]
    },
    {
     "name": "stdout",
     "output_type": "stream",
     "text": [
      "Successfully saved all_shelves of Cryodraco_antarcticus to netcdf file\n",
      "9 Muraenolepis microps\n"
     ]
    },
    {
     "name": "stderr",
     "output_type": "stream",
     "text": [
      " 34%|███▍      | 10/29 [02:44<05:42, 18.00s/it]"
     ]
    },
    {
     "name": "stdout",
     "output_type": "stream",
     "text": [
      "Successfully saved all_shelves of Muraenolepis_microps to netcdf file\n",
      "10 Psychroteuthis glacialis\n"
     ]
    },
    {
     "name": "stderr",
     "output_type": "stream",
     "text": [
      " 38%|███▊      | 11/29 [03:04<05:31, 18.42s/it]"
     ]
    },
    {
     "name": "stdout",
     "output_type": "stream",
     "text": [
      "Successfully saved all_shelves of Psychroteuthis_glacialis to netcdf file\n",
      "11 Gymnodraco acuticeps\n"
     ]
    },
    {
     "name": "stderr",
     "output_type": "stream",
     "text": [
      " 41%|████▏     | 12/29 [03:23<05:18, 18.75s/it]"
     ]
    },
    {
     "name": "stdout",
     "output_type": "stream",
     "text": [
      "Successfully saved all_shelves of Gymnodraco_acuticeps to netcdf file\n",
      "12 Amblyraja georgiana\n"
     ]
    },
    {
     "name": "stderr",
     "output_type": "stream",
     "text": [
      " 45%|████▍     | 13/29 [03:42<05:02, 18.89s/it]"
     ]
    },
    {
     "name": "stdout",
     "output_type": "stream",
     "text": [
      "Successfully saved all_shelves of Amblyraja_georgiana to netcdf file\n",
      "13 Antarctomysis maxima\n"
     ]
    },
    {
     "name": "stderr",
     "output_type": "stream",
     "text": [
      " 48%|████▊     | 14/29 [04:02<04:45, 19.02s/it]"
     ]
    },
    {
     "name": "stdout",
     "output_type": "stream",
     "text": [
      "Successfully saved all_shelves of Antarctomysis_maxima to netcdf file\n",
      "14 Lepidonotothen squamifrons\n"
     ]
    },
    {
     "name": "stderr",
     "output_type": "stream",
     "text": [
      " 52%|█████▏    | 15/29 [04:22<04:29, 19.23s/it]"
     ]
    },
    {
     "name": "stdout",
     "output_type": "stream",
     "text": [
      "Successfully saved all_shelves of Lepidonotothen_squamifrons to netcdf file\n",
      "15 Mesonychoteuthis hamiltoni\n"
     ]
    },
    {
     "name": "stderr",
     "output_type": "stream",
     "text": [
      " 55%|█████▌    | 16/29 [04:35<03:47, 17.53s/it]"
     ]
    },
    {
     "name": "stdout",
     "output_type": "stream",
     "text": [
      "Successfully saved all_shelves of Mesonychoteuthis_hamiltoni to netcdf file\n",
      "16 Pleuragramma antarctica\n"
     ]
    },
    {
     "name": "stderr",
     "output_type": "stream",
     "text": [
      " 59%|█████▊    | 17/29 [04:55<03:40, 18.39s/it]"
     ]
    },
    {
     "name": "stdout",
     "output_type": "stream",
     "text": [
      "Successfully saved all_shelves of Pleuragramma_antarctica to netcdf file\n",
      "17 Euphausia superba\n"
     ]
    },
    {
     "name": "stderr",
     "output_type": "stream",
     "text": [
      " 62%|██████▏   | 18/29 [05:15<03:27, 18.83s/it]"
     ]
    },
    {
     "name": "stdout",
     "output_type": "stream",
     "text": [
      "Successfully saved all_shelves of Euphausia_superba to netcdf file\n",
      "18 Notothenia coriiceps\n"
     ]
    },
    {
     "name": "stderr",
     "output_type": "stream",
     "text": [
      " 66%|██████▌   | 19/29 [05:36<03:14, 19.41s/it]"
     ]
    },
    {
     "name": "stdout",
     "output_type": "stream",
     "text": [
      "Successfully saved all_shelves of Notothenia_coriiceps to netcdf file\n",
      "19 Trematomus lepidorhinus\n"
     ]
    },
    {
     "name": "stderr",
     "output_type": "stream",
     "text": [
      " 69%|██████▉   | 20/29 [05:57<02:59, 19.94s/it]"
     ]
    },
    {
     "name": "stdout",
     "output_type": "stream",
     "text": [
      "Successfully saved all_shelves of Trematomus_lepidorhinus to netcdf file\n",
      "20 Pagothenia borchgrevinki\n"
     ]
    },
    {
     "name": "stderr",
     "output_type": "stream",
     "text": [
      " 72%|███████▏  | 21/29 [06:18<02:42, 20.30s/it]"
     ]
    },
    {
     "name": "stdout",
     "output_type": "stream",
     "text": [
      "Successfully saved all_shelves of Pagothenia_borchgrevinki to netcdf file\n",
      "21 Lycenchelys aratrirostris\n"
     ]
    },
    {
     "name": "stderr",
     "output_type": "stream",
     "text": [
      " 76%|███████▌  | 22/29 [06:39<02:23, 20.52s/it]"
     ]
    },
    {
     "name": "stdout",
     "output_type": "stream",
     "text": [
      "Successfully saved all_shelves of Lycenchelys_aratrirostris to netcdf file\n",
      "22 Neopagetopsis ionah\n"
     ]
    },
    {
     "name": "stderr",
     "output_type": "stream",
     "text": [
      " 79%|███████▉  | 23/29 [07:00<02:02, 20.42s/it]"
     ]
    },
    {
     "name": "stdout",
     "output_type": "stream",
     "text": [
      "Successfully saved all_shelves of Neopagetopsis_ionah to netcdf file\n",
      "23 Chaenocephalus aceratus\n"
     ]
    },
    {
     "name": "stderr",
     "output_type": "stream",
     "text": [
      " 83%|████████▎ | 24/29 [07:19<01:40, 20.19s/it]"
     ]
    },
    {
     "name": "stdout",
     "output_type": "stream",
     "text": [
      "Successfully saved all_shelves of Chaenocephalus_aceratus to netcdf file\n",
      "24 Trematomus hansoni\n"
     ]
    },
    {
     "name": "stderr",
     "output_type": "stream",
     "text": [
      " 86%|████████▌ | 25/29 [07:39<01:20, 20.06s/it]"
     ]
    },
    {
     "name": "stdout",
     "output_type": "stream",
     "text": [
      "Successfully saved all_shelves of Trematomus_hansoni to netcdf file\n",
      "25 Chionobathyscus dewitti\n"
     ]
    },
    {
     "name": "stderr",
     "output_type": "stream",
     "text": [
      " 90%|████████▉ | 26/29 [07:58<00:59, 19.88s/it]"
     ]
    },
    {
     "name": "stdout",
     "output_type": "stream",
     "text": [
      "Successfully saved all_shelves of Chionobathyscus_dewitti to netcdf file\n",
      "26 Euphausia crystallorophias\n"
     ]
    },
    {
     "name": "stderr",
     "output_type": "stream",
     "text": [
      " 93%|█████████▎| 27/29 [08:19<00:39, 19.96s/it]"
     ]
    },
    {
     "name": "stdout",
     "output_type": "stream",
     "text": [
      "Successfully saved all_shelves of Euphausia_crystallorophias to netcdf file\n",
      "27 Notothenia rossii\n"
     ]
    },
    {
     "name": "stderr",
     "output_type": "stream",
     "text": [
      " 97%|█████████▋| 28/29 [08:39<00:20, 20.05s/it]"
     ]
    },
    {
     "name": "stdout",
     "output_type": "stream",
     "text": [
      "Successfully saved all_shelves of Notothenia_rossii to netcdf file\n",
      "28 Bathyraja maccaini\n"
     ]
    },
    {
     "name": "stderr",
     "output_type": "stream",
     "text": [
      "100%|██████████| 29/29 [09:00<00:00, 18.64s/it]"
     ]
    },
    {
     "name": "stdout",
     "output_type": "stream",
     "text": [
      "Successfully saved all_shelves of Bathyraja_maccaini to netcdf file\n",
      "all_openOcean ...\n",
      "0 Dissostichus mawsoni\n",
      "/pscratch/sd/c/cnissen/AGI_toothfish_project/scripts_Anne/AquaMaps/0.5deg_prob_threshold_0.0/Reviewed_Dissostichus_mawsoni_modelgrid_boolean.nc\n",
      "get toothfish habitat, present-day\n"
     ]
    },
    {
     "name": "stderr",
     "output_type": "stream",
     "text": [
      "\n"
     ]
    },
    {
     "name": "stdout",
     "output_type": "stream",
     "text": [
      "get toothfish habitat, future\n",
      "Save to netcdf file\n",
      "File /pscratch/sd/c/cnissen/AGI_toothfish_project/habitat_overlap/AGI_based_habitat_overlap_toothfish_vs_prey_whole_water_column_ssp585_2091_2100_shelf_vs_openOcean_monthly_drift_corrected_2091_2100_minus_1995_2014_v2_threshold_0.0.nc exists already, overwrite\n"
     ]
    },
    {
     "name": "stderr",
     "output_type": "stream",
     "text": [
      "  0%|          | 0/29 [00:00<?, ?it/s]"
     ]
    },
    {
     "name": "stdout",
     "output_type": "stream",
     "text": [
      "1 Trematomus loennbergii\n"
     ]
    },
    {
     "name": "stderr",
     "output_type": "stream",
     "text": [
      "  7%|▋         | 2/29 [00:20<04:30, 10.01s/it]"
     ]
    },
    {
     "name": "stdout",
     "output_type": "stream",
     "text": [
      "Successfully saved all_openOcean of Trematomus_loennbergii to netcdf file\n",
      "2 Macrourus whitsoni\n"
     ]
    },
    {
     "name": "stderr",
     "output_type": "stream",
     "text": [
      " 10%|█         | 3/29 [00:40<06:12, 14.34s/it]"
     ]
    },
    {
     "name": "stdout",
     "output_type": "stream",
     "text": [
      "Successfully saved all_openOcean of Macrourus_whitsoni to netcdf file\n",
      "3 Galiteuthis glacialis\n"
     ]
    },
    {
     "name": "stderr",
     "output_type": "stream",
     "text": [
      " 14%|█▍        | 4/29 [00:54<05:56, 14.27s/it]"
     ]
    },
    {
     "name": "stdout",
     "output_type": "stream",
     "text": [
      "Successfully saved all_openOcean of Galiteuthis_glacialis to netcdf file\n",
      "4 Chionodraco hamatus\n"
     ]
    },
    {
     "name": "stderr",
     "output_type": "stream",
     "text": [
      " 17%|█▋        | 5/29 [01:14<06:32, 16.35s/it]"
     ]
    },
    {
     "name": "stdout",
     "output_type": "stream",
     "text": [
      "Successfully saved all_openOcean of Chionodraco_hamatus to netcdf file\n",
      "5 Anotopterus vorax\n"
     ]
    },
    {
     "name": "stderr",
     "output_type": "stream",
     "text": [
      " 21%|██        | 6/29 [01:34<06:44, 17.60s/it]"
     ]
    },
    {
     "name": "stdout",
     "output_type": "stream",
     "text": [
      "Successfully saved all_openOcean of Anotopterus_vorax to netcdf file\n",
      "6 Chaenodraco wilsoni\n"
     ]
    },
    {
     "name": "stderr",
     "output_type": "stream",
     "text": [
      " 24%|██▍       | 7/29 [01:55<06:45, 18.42s/it]"
     ]
    },
    {
     "name": "stdout",
     "output_type": "stream",
     "text": [
      "Successfully saved all_openOcean of Chaenodraco_wilsoni to netcdf file\n",
      "7 Kondakovia longimana\n"
     ]
    },
    {
     "name": "stderr",
     "output_type": "stream",
     "text": [
      " 28%|██▊       | 8/29 [02:09<05:57, 17.04s/it]"
     ]
    },
    {
     "name": "stdout",
     "output_type": "stream",
     "text": [
      "Successfully saved all_openOcean of Kondakovia_longimana to netcdf file\n",
      "8 Cryodraco antarcticus\n"
     ]
    },
    {
     "name": "stderr",
     "output_type": "stream",
     "text": [
      " 31%|███       | 9/29 [02:30<06:05, 18.25s/it]"
     ]
    },
    {
     "name": "stdout",
     "output_type": "stream",
     "text": [
      "Successfully saved all_openOcean of Cryodraco_antarcticus to netcdf file\n",
      "9 Muraenolepis microps\n"
     ]
    },
    {
     "name": "stderr",
     "output_type": "stream",
     "text": [
      " 34%|███▍      | 10/29 [02:49<05:56, 18.76s/it]"
     ]
    },
    {
     "name": "stdout",
     "output_type": "stream",
     "text": [
      "Successfully saved all_openOcean of Muraenolepis_microps to netcdf file\n",
      "10 Psychroteuthis glacialis\n"
     ]
    },
    {
     "name": "stderr",
     "output_type": "stream",
     "text": [
      " 38%|███▊      | 11/29 [03:10<05:47, 19.33s/it]"
     ]
    },
    {
     "name": "stdout",
     "output_type": "stream",
     "text": [
      "Successfully saved all_openOcean of Psychroteuthis_glacialis to netcdf file\n",
      "11 Gymnodraco acuticeps\n"
     ]
    },
    {
     "name": "stderr",
     "output_type": "stream",
     "text": [
      " 41%|████▏     | 12/29 [03:30<05:32, 19.57s/it]"
     ]
    },
    {
     "name": "stdout",
     "output_type": "stream",
     "text": [
      "Successfully saved all_openOcean of Gymnodraco_acuticeps to netcdf file\n",
      "12 Amblyraja georgiana\n"
     ]
    },
    {
     "name": "stderr",
     "output_type": "stream",
     "text": [
      " 45%|████▍     | 13/29 [03:50<05:14, 19.69s/it]"
     ]
    },
    {
     "name": "stdout",
     "output_type": "stream",
     "text": [
      "Successfully saved all_openOcean of Amblyraja_georgiana to netcdf file\n",
      "13 Antarctomysis maxima\n"
     ]
    },
    {
     "name": "stderr",
     "output_type": "stream",
     "text": [
      " 48%|████▊     | 14/29 [04:10<04:56, 19.77s/it]"
     ]
    },
    {
     "name": "stdout",
     "output_type": "stream",
     "text": [
      "Successfully saved all_openOcean of Antarctomysis_maxima to netcdf file\n",
      "14 Lepidonotothen squamifrons\n"
     ]
    },
    {
     "name": "stderr",
     "output_type": "stream",
     "text": [
      " 52%|█████▏    | 15/29 [04:30<04:37, 19.85s/it]"
     ]
    },
    {
     "name": "stdout",
     "output_type": "stream",
     "text": [
      "Successfully saved all_openOcean of Lepidonotothen_squamifrons to netcdf file\n",
      "15 Mesonychoteuthis hamiltoni\n"
     ]
    },
    {
     "name": "stderr",
     "output_type": "stream",
     "text": [
      " 55%|█████▌    | 16/29 [04:44<03:53, 17.98s/it]"
     ]
    },
    {
     "name": "stdout",
     "output_type": "stream",
     "text": [
      "Successfully saved all_openOcean of Mesonychoteuthis_hamiltoni to netcdf file\n",
      "16 Pleuragramma antarctica\n"
     ]
    },
    {
     "name": "stderr",
     "output_type": "stream",
     "text": [
      " 59%|█████▊    | 17/29 [05:04<03:43, 18.63s/it]"
     ]
    },
    {
     "name": "stdout",
     "output_type": "stream",
     "text": [
      "Successfully saved all_openOcean of Pleuragramma_antarctica to netcdf file\n",
      "17 Euphausia superba\n"
     ]
    },
    {
     "name": "stderr",
     "output_type": "stream",
     "text": [
      " 62%|██████▏   | 18/29 [05:24<03:30, 19.18s/it]"
     ]
    },
    {
     "name": "stdout",
     "output_type": "stream",
     "text": [
      "Successfully saved all_openOcean of Euphausia_superba to netcdf file\n",
      "18 Notothenia coriiceps\n"
     ]
    },
    {
     "name": "stderr",
     "output_type": "stream",
     "text": [
      " 66%|██████▌   | 19/29 [05:45<03:15, 19.53s/it]"
     ]
    },
    {
     "name": "stdout",
     "output_type": "stream",
     "text": [
      "Successfully saved all_openOcean of Notothenia_coriiceps to netcdf file\n",
      "19 Trematomus lepidorhinus\n"
     ]
    },
    {
     "name": "stderr",
     "output_type": "stream",
     "text": [
      " 69%|██████▉   | 20/29 [06:05<02:57, 19.75s/it]"
     ]
    },
    {
     "name": "stdout",
     "output_type": "stream",
     "text": [
      "Successfully saved all_openOcean of Trematomus_lepidorhinus to netcdf file\n",
      "20 Pagothenia borchgrevinki\n"
     ]
    },
    {
     "name": "stderr",
     "output_type": "stream",
     "text": [
      " 72%|███████▏  | 21/29 [06:25<02:39, 19.94s/it]"
     ]
    },
    {
     "name": "stdout",
     "output_type": "stream",
     "text": [
      "Successfully saved all_openOcean of Pagothenia_borchgrevinki to netcdf file\n",
      "21 Lycenchelys aratrirostris\n"
     ]
    },
    {
     "name": "stderr",
     "output_type": "stream",
     "text": [
      " 76%|███████▌  | 22/29 [06:46<02:20, 20.00s/it]"
     ]
    },
    {
     "name": "stdout",
     "output_type": "stream",
     "text": [
      "Successfully saved all_openOcean of Lycenchelys_aratrirostris to netcdf file\n",
      "22 Neopagetopsis ionah\n"
     ]
    },
    {
     "name": "stderr",
     "output_type": "stream",
     "text": [
      " 79%|███████▉  | 23/29 [07:06<02:00, 20.07s/it]"
     ]
    },
    {
     "name": "stdout",
     "output_type": "stream",
     "text": [
      "Successfully saved all_openOcean of Neopagetopsis_ionah to netcdf file\n",
      "23 Chaenocephalus aceratus\n"
     ]
    },
    {
     "name": "stderr",
     "output_type": "stream",
     "text": [
      " 83%|████████▎ | 24/29 [07:26<01:40, 20.07s/it]"
     ]
    },
    {
     "name": "stdout",
     "output_type": "stream",
     "text": [
      "Successfully saved all_openOcean of Chaenocephalus_aceratus to netcdf file\n",
      "24 Trematomus hansoni\n"
     ]
    },
    {
     "name": "stderr",
     "output_type": "stream",
     "text": [
      " 86%|████████▌ | 25/29 [07:46<01:20, 20.07s/it]"
     ]
    },
    {
     "name": "stdout",
     "output_type": "stream",
     "text": [
      "Successfully saved all_openOcean of Trematomus_hansoni to netcdf file\n",
      "25 Chionobathyscus dewitti\n"
     ]
    },
    {
     "name": "stderr",
     "output_type": "stream",
     "text": [
      " 90%|████████▉ | 26/29 [08:06<01:00, 20.08s/it]"
     ]
    },
    {
     "name": "stdout",
     "output_type": "stream",
     "text": [
      "Successfully saved all_openOcean of Chionobathyscus_dewitti to netcdf file\n",
      "26 Euphausia crystallorophias\n"
     ]
    },
    {
     "name": "stderr",
     "output_type": "stream",
     "text": [
      " 93%|█████████▎| 27/29 [08:27<00:40, 20.22s/it]"
     ]
    },
    {
     "name": "stdout",
     "output_type": "stream",
     "text": [
      "Successfully saved all_openOcean of Euphausia_crystallorophias to netcdf file\n",
      "27 Notothenia rossii\n"
     ]
    },
    {
     "name": "stderr",
     "output_type": "stream",
     "text": [
      " 97%|█████████▋| 28/29 [08:47<00:20, 20.15s/it]"
     ]
    },
    {
     "name": "stdout",
     "output_type": "stream",
     "text": [
      "Successfully saved all_openOcean of Notothenia_rossii to netcdf file\n",
      "28 Bathyraja maccaini\n"
     ]
    },
    {
     "name": "stderr",
     "output_type": "stream",
     "text": [
      "100%|██████████| 29/29 [09:07<00:00, 18.87s/it]"
     ]
    },
    {
     "name": "stdout",
     "output_type": "stream",
     "text": [
      "Successfully saved all_openOcean of Bathyraja_maccaini to netcdf file\n",
      "wholeSO ...\n",
      "0 Dissostichus mawsoni\n",
      "/pscratch/sd/c/cnissen/AGI_toothfish_project/scripts_Anne/AquaMaps/0.5deg_prob_threshold_0.0/Reviewed_Dissostichus_mawsoni_modelgrid_boolean.nc\n",
      "get toothfish habitat, present-day\n"
     ]
    },
    {
     "name": "stderr",
     "output_type": "stream",
     "text": [
      "\n"
     ]
    },
    {
     "name": "stdout",
     "output_type": "stream",
     "text": [
      "get toothfish habitat, future\n",
      "Save to netcdf file\n",
      "File /pscratch/sd/c/cnissen/AGI_toothfish_project/habitat_overlap/AGI_based_habitat_overlap_toothfish_vs_prey_whole_water_column_ssp585_2091_2100_shelf_vs_openOcean_monthly_drift_corrected_2091_2100_minus_1995_2014_v2_threshold_0.0.nc exists already, overwrite\n"
     ]
    },
    {
     "name": "stderr",
     "output_type": "stream",
     "text": [
      "  0%|          | 0/29 [00:00<?, ?it/s]"
     ]
    },
    {
     "name": "stdout",
     "output_type": "stream",
     "text": [
      "1 Trematomus loennbergii\n"
     ]
    },
    {
     "name": "stderr",
     "output_type": "stream",
     "text": [
      "  7%|▋         | 2/29 [00:20<04:33, 10.15s/it]"
     ]
    },
    {
     "name": "stdout",
     "output_type": "stream",
     "text": [
      "Successfully saved wholeSO of Trematomus_loennbergii to netcdf file\n",
      "2 Macrourus whitsoni\n"
     ]
    },
    {
     "name": "stderr",
     "output_type": "stream",
     "text": [
      " 10%|█         | 3/29 [00:40<06:14, 14.40s/it]"
     ]
    },
    {
     "name": "stdout",
     "output_type": "stream",
     "text": [
      "Successfully saved wholeSO of Macrourus_whitsoni to netcdf file\n",
      "3 Galiteuthis glacialis\n"
     ]
    },
    {
     "name": "stderr",
     "output_type": "stream",
     "text": [
      " 14%|█▍        | 4/29 [00:54<05:56, 14.27s/it]"
     ]
    },
    {
     "name": "stdout",
     "output_type": "stream",
     "text": [
      "Successfully saved wholeSO of Galiteuthis_glacialis to netcdf file\n",
      "4 Chionodraco hamatus\n"
     ]
    },
    {
     "name": "stderr",
     "output_type": "stream",
     "text": [
      " 17%|█▋        | 5/29 [01:14<06:32, 16.35s/it]"
     ]
    },
    {
     "name": "stdout",
     "output_type": "stream",
     "text": [
      "Successfully saved wholeSO of Chionodraco_hamatus to netcdf file\n",
      "5 Anotopterus vorax\n"
     ]
    },
    {
     "name": "stderr",
     "output_type": "stream",
     "text": [
      " 21%|██        | 6/29 [01:35<06:46, 17.65s/it]"
     ]
    },
    {
     "name": "stdout",
     "output_type": "stream",
     "text": [
      "Successfully saved wholeSO of Anotopterus_vorax to netcdf file\n",
      "6 Chaenodraco wilsoni\n"
     ]
    },
    {
     "name": "stderr",
     "output_type": "stream",
     "text": [
      " 24%|██▍       | 7/29 [01:54<06:41, 18.25s/it]"
     ]
    },
    {
     "name": "stdout",
     "output_type": "stream",
     "text": [
      "Successfully saved wholeSO of Chaenodraco_wilsoni to netcdf file\n",
      "7 Kondakovia longimana\n"
     ]
    },
    {
     "name": "stderr",
     "output_type": "stream",
     "text": [
      " 28%|██▊       | 8/29 [02:07<05:49, 16.66s/it]"
     ]
    },
    {
     "name": "stdout",
     "output_type": "stream",
     "text": [
      "Successfully saved wholeSO of Kondakovia_longimana to netcdf file\n",
      "8 Cryodraco antarcticus\n"
     ]
    },
    {
     "name": "stderr",
     "output_type": "stream",
     "text": [
      " 31%|███       | 9/29 [02:27<05:51, 17.56s/it]"
     ]
    },
    {
     "name": "stdout",
     "output_type": "stream",
     "text": [
      "Successfully saved wholeSO of Cryodraco_antarcticus to netcdf file\n",
      "9 Muraenolepis microps\n"
     ]
    },
    {
     "name": "stderr",
     "output_type": "stream",
     "text": [
      " 34%|███▍      | 10/29 [02:47<05:45, 18.16s/it]"
     ]
    },
    {
     "name": "stdout",
     "output_type": "stream",
     "text": [
      "Successfully saved wholeSO of Muraenolepis_microps to netcdf file\n",
      "10 Psychroteuthis glacialis\n"
     ]
    },
    {
     "name": "stderr",
     "output_type": "stream",
     "text": [
      " 38%|███▊      | 11/29 [03:06<05:33, 18.53s/it]"
     ]
    },
    {
     "name": "stdout",
     "output_type": "stream",
     "text": [
      "Successfully saved wholeSO of Psychroteuthis_glacialis to netcdf file\n",
      "11 Gymnodraco acuticeps\n"
     ]
    },
    {
     "name": "stderr",
     "output_type": "stream",
     "text": [
      " 41%|████▏     | 12/29 [03:25<05:19, 18.78s/it]"
     ]
    },
    {
     "name": "stdout",
     "output_type": "stream",
     "text": [
      "Successfully saved wholeSO of Gymnodraco_acuticeps to netcdf file\n",
      "12 Amblyraja georgiana\n"
     ]
    },
    {
     "name": "stderr",
     "output_type": "stream",
     "text": [
      " 45%|████▍     | 13/29 [03:45<05:02, 18.93s/it]"
     ]
    },
    {
     "name": "stdout",
     "output_type": "stream",
     "text": [
      "Successfully saved wholeSO of Amblyraja_georgiana to netcdf file\n",
      "13 Antarctomysis maxima\n"
     ]
    },
    {
     "name": "stderr",
     "output_type": "stream",
     "text": [
      " 48%|████▊     | 14/29 [04:04<04:45, 19.05s/it]"
     ]
    },
    {
     "name": "stdout",
     "output_type": "stream",
     "text": [
      "Successfully saved wholeSO of Antarctomysis_maxima to netcdf file\n",
      "14 Lepidonotothen squamifrons\n"
     ]
    },
    {
     "name": "stderr",
     "output_type": "stream",
     "text": [
      " 52%|█████▏    | 15/29 [04:23<04:28, 19.14s/it]"
     ]
    },
    {
     "name": "stdout",
     "output_type": "stream",
     "text": [
      "Successfully saved wholeSO of Lepidonotothen_squamifrons to netcdf file\n",
      "15 Mesonychoteuthis hamiltoni\n"
     ]
    },
    {
     "name": "stderr",
     "output_type": "stream",
     "text": [
      " 55%|█████▌    | 16/29 [04:37<03:46, 17.39s/it]"
     ]
    },
    {
     "name": "stdout",
     "output_type": "stream",
     "text": [
      "Successfully saved wholeSO of Mesonychoteuthis_hamiltoni to netcdf file\n",
      "16 Pleuragramma antarctica\n"
     ]
    },
    {
     "name": "stderr",
     "output_type": "stream",
     "text": [
      " 59%|█████▊    | 17/29 [04:56<03:36, 18.03s/it]"
     ]
    },
    {
     "name": "stdout",
     "output_type": "stream",
     "text": [
      "Successfully saved wholeSO of Pleuragramma_antarctica to netcdf file\n",
      "17 Euphausia superba\n"
     ]
    },
    {
     "name": "stderr",
     "output_type": "stream",
     "text": [
      " 62%|██████▏   | 18/29 [05:16<03:23, 18.48s/it]"
     ]
    },
    {
     "name": "stdout",
     "output_type": "stream",
     "text": [
      "Successfully saved wholeSO of Euphausia_superba to netcdf file\n",
      "18 Notothenia coriiceps\n"
     ]
    },
    {
     "name": "stderr",
     "output_type": "stream",
     "text": [
      " 66%|██████▌   | 19/29 [05:35<03:07, 18.77s/it]"
     ]
    },
    {
     "name": "stdout",
     "output_type": "stream",
     "text": [
      "Successfully saved wholeSO of Notothenia_coriiceps to netcdf file\n",
      "19 Trematomus lepidorhinus\n"
     ]
    },
    {
     "name": "stderr",
     "output_type": "stream",
     "text": [
      " 69%|██████▉   | 20/29 [05:54<02:50, 18.98s/it]"
     ]
    },
    {
     "name": "stdout",
     "output_type": "stream",
     "text": [
      "Successfully saved wholeSO of Trematomus_lepidorhinus to netcdf file\n",
      "20 Pagothenia borchgrevinki\n"
     ]
    },
    {
     "name": "stderr",
     "output_type": "stream",
     "text": [
      " 72%|███████▏  | 21/29 [06:14<02:32, 19.10s/it]"
     ]
    },
    {
     "name": "stdout",
     "output_type": "stream",
     "text": [
      "Successfully saved wholeSO of Pagothenia_borchgrevinki to netcdf file\n",
      "21 Lycenchelys aratrirostris\n"
     ]
    },
    {
     "name": "stderr",
     "output_type": "stream",
     "text": [
      " 76%|███████▌  | 22/29 [06:33<02:14, 19.16s/it]"
     ]
    },
    {
     "name": "stdout",
     "output_type": "stream",
     "text": [
      "Successfully saved wholeSO of Lycenchelys_aratrirostris to netcdf file\n",
      "22 Neopagetopsis ionah\n"
     ]
    },
    {
     "name": "stderr",
     "output_type": "stream",
     "text": [
      " 79%|███████▉  | 23/29 [06:52<01:55, 19.21s/it]"
     ]
    },
    {
     "name": "stdout",
     "output_type": "stream",
     "text": [
      "Successfully saved wholeSO of Neopagetopsis_ionah to netcdf file\n",
      "23 Chaenocephalus aceratus\n"
     ]
    },
    {
     "name": "stderr",
     "output_type": "stream",
     "text": [
      " 83%|████████▎ | 24/29 [07:12<01:36, 19.31s/it]"
     ]
    },
    {
     "name": "stdout",
     "output_type": "stream",
     "text": [
      "Successfully saved wholeSO of Chaenocephalus_aceratus to netcdf file\n",
      "24 Trematomus hansoni\n"
     ]
    },
    {
     "name": "stderr",
     "output_type": "stream",
     "text": [
      " 86%|████████▌ | 25/29 [07:32<01:17, 19.39s/it]"
     ]
    },
    {
     "name": "stdout",
     "output_type": "stream",
     "text": [
      "Successfully saved wholeSO of Trematomus_hansoni to netcdf file\n",
      "25 Chionobathyscus dewitti\n"
     ]
    },
    {
     "name": "stderr",
     "output_type": "stream",
     "text": [
      " 90%|████████▉ | 26/29 [07:51<00:58, 19.47s/it]"
     ]
    },
    {
     "name": "stdout",
     "output_type": "stream",
     "text": [
      "Successfully saved wholeSO of Chionobathyscus_dewitti to netcdf file\n",
      "26 Euphausia crystallorophias\n"
     ]
    },
    {
     "name": "stderr",
     "output_type": "stream",
     "text": [
      " 93%|█████████▎| 27/29 [08:11<00:39, 19.52s/it]"
     ]
    },
    {
     "name": "stdout",
     "output_type": "stream",
     "text": [
      "Successfully saved wholeSO of Euphausia_crystallorophias to netcdf file\n",
      "27 Notothenia rossii\n"
     ]
    },
    {
     "name": "stderr",
     "output_type": "stream",
     "text": [
      " 97%|█████████▋| 28/29 [08:31<00:19, 19.68s/it]"
     ]
    },
    {
     "name": "stdout",
     "output_type": "stream",
     "text": [
      "Successfully saved wholeSO of Notothenia_rossii to netcdf file\n",
      "28 Bathyraja maccaini\n"
     ]
    },
    {
     "name": "stderr",
     "output_type": "stream",
     "text": [
      "100%|██████████| 29/29 [08:52<00:00, 18.36s/it]"
     ]
    },
    {
     "name": "stdout",
     "output_type": "stream",
     "text": [
      "Successfully saved wholeSO of Bathyraja_maccaini to netcdf file\n",
      "done\n"
     ]
    },
    {
     "name": "stderr",
     "output_type": "stream",
     "text": [
      "\n"
     ]
    }
   ],
   "source": [
    "#----\n",
    "# get overlap in habitat between PRESENT-DAY and FUTURE AGI \n",
    "#----\n",
    "#----\n",
    "# what do I want to calculate?\n",
    "#----\n",
    "# for a given time slice,\n",
    "#    have a mask (in region of interest) that is 1 wherever toothfish is above AGI_crit for the present-day\n",
    "#    have a second mask for a given prey species\n",
    "#    for each depth level, get overlap (in km3)\n",
    "#    do the same for the future\n",
    "#    compute overlap_future minus overlap_present_day\n",
    "\n",
    "import scipy.stats as stats\n",
    "from netCDF4 import Dataset\n",
    "from datetime import datetime\n",
    "from tqdm import tqdm\n",
    "today = datetime.today()\n",
    "\n",
    "save_to_netcdf = True\n",
    "\n",
    "print('thresh:',thresh)\n",
    "\n",
    "# Note: keep order as is. Order is hard-coded when writing data to netcdf file!!\n",
    "#subregions = ['wholeSO','RossSea','WeddellSea','AntarcticPeninsula','Orkney',\\\n",
    "#             'EastAntarctica1','EastAntarctica2','EastAntarctica3']\n",
    "subregions = ['all_shelves','all_openOcean','wholeSO']\n",
    "    \n",
    "if which_sim in ['simAssp585']:\n",
    "    color_future = 'darkblue'\n",
    "elif which_sim in ['simAssp370']:\n",
    "    color_future = 'mediumturquoise'\n",
    "elif which_sim in ['simAssp245']:\n",
    "    color_future = 'cornflowerblue'\n",
    "elif which_sim in ['simAssp126']:\n",
    "    color_future = 'mediumpurple'\n",
    "    \n",
    "for rr in range(0,len(subregions)):\n",
    "    print(subregions[rr],'...')\n",
    "    \n",
    "    if subregions[rr] in ['wholeSO']:\n",
    "        mask_subregion = np.ones_like(mask_shelves) #mask_Weddell) # for whole SO, pass an array of ones\n",
    "    elif subregions[rr] in ['RossSea']:\n",
    "        mask_subregion = mask_Ross\n",
    "    elif subregions[rr] in ['WeddellSea']:\n",
    "        mask_subregion = mask_Weddell\n",
    "    elif subregions[rr] in ['AntarcticPeninsula']:\n",
    "        mask_subregion = mask_WAP\n",
    "    elif subregions[rr] in ['Orkney']:\n",
    "        mask_subregion = mask_Orkney\n",
    "    elif subregions[rr] in ['EastAntarctica1']:\n",
    "        mask_subregion = mask_eastAA1\n",
    "    elif subregions[rr] in ['EastAntarctica2']:\n",
    "        mask_subregion = mask_eastAA2\n",
    "    elif subregions[rr] in ['EastAntarctica3']:\n",
    "        mask_subregion = mask_eastAA3\n",
    "    elif subregions[rr] in ['all_shelves']:\n",
    "        #mask_subregion = np.zeros_like(mask_Weddell)\n",
    "        #mask_subregion[topo<=1000] = 1\n",
    "        # correction Oct 2, 2023: \n",
    "        mask_subregion = np.copy(mask_shelves)\n",
    "    elif subregions[rr] in ['all_openOcean']:\n",
    "        #mask_subregion = np.ones_like(mask_Weddell)\n",
    "        #mask_subregion[topo>1000] = 1\n",
    "        # correction Oct 2, 2023: \n",
    "        mask_subregion = np.copy(mask_openOcean)\n",
    "        \n",
    "    # set NaNs to zero\n",
    "    mask_subregion[np.isnan(mask_subregion)]=0\n",
    "    \n",
    "    # get toothfish habitat\n",
    "    i_tf = species_names.index(\"Dissostichus mawsoni\")\n",
    "    print(i_tf,species_names[i_tf])\n",
    "    print(habitat_file_names[i_tf])\n",
    "    \n",
    "    ### Get the in-habitat data for each species over the relevant depth range ###\n",
    "    file_habitat = habitat_file_names[i_tf]\n",
    "    data_hab     = xr.open_dataset(file_habitat) # 2D habitat presence/absence data (1 for present or 0 for absent)\n",
    "    # make sure the habitat field has dimensions depth x lat x lon before applying it to the respective fields\n",
    "    num_depth = 88 #len(np.arange(index_min_depth[i_tf],index_max_depth[i_tf]+1,1)) \n",
    "    hab_field = np.tile(data_hab['presence'].values,(num_depth,1,1))\n",
    "    data_hab.close()\n",
    "\n",
    "    # present-day\n",
    "    print ('get toothfish habitat, present-day')\n",
    "    mask_habitat_toothfish_1,vol_1 = get_mask_viable_habitat(i_tf,hab_field,vol,pO2_1,t_insitu_1,\\\n",
    "                                                       index_min_depth,index_max_depth,\\\n",
    "                                        species_list,species_names,TPref,o2thresh,AGI_crit,\\\n",
    "                                                       j_diff,mask_subregion)\n",
    "    # future\n",
    "    print ('get toothfish habitat, future')\n",
    "    mask_habitat_toothfish_2,vol_2 = get_mask_viable_habitat(i_tf,hab_field,vol,pO2_2,t_insitu_2,\\\n",
    "                                            index_min_depth,index_max_depth,\\\n",
    "                                        species_list,species_names,TPref,o2thresh,AGI_crit,\\\n",
    "                                            j_diff,mask_subregion)\n",
    "    #print (mask_habitat_toothfish_1.shape)\n",
    "    \n",
    "    del hab_field,num_depth\n",
    "    \n",
    "    if save_to_netcdf:\n",
    "        print ('Save to netcdf file')\n",
    "            \n",
    "        savepath = '/pscratch/sd/c/cnissen/AGI_toothfish_project/habitat_overlap/'\n",
    "        \n",
    "        if based_on_monthly_clim_AGIcrit:\n",
    "            netcdf_name = 'AGI_based_habitat_overlap_toothfish_vs_prey_whole_water_column_'+\\\n",
    "                    which_sim+'_'+str(year_list2[0])+'_'+str(year_list2[-1])+'_shelf_vs_openOcean_'+drift_corr+'_threshold_0.'+str(thresh)+'.nc'\n",
    "        else:\n",
    "            netcdf_name = 'AGI_based_habitat_overlap_toothfish_vs_prey_whole_water_column_'+\\\n",
    "                    which_sim+'_'+str(year_list2[0])+'_'+str(year_list2[-1])+\\\n",
    "                '_AGIcrit_annual_mean_clim_ALL_DEPTHS_v2_shelf_vs_openOcean_'+drift_corr+'_v2.nc'\n",
    "            \n",
    "        #-----\n",
    "        # create file & define dimensions\n",
    "        #-----\n",
    "        if not os.path.exists(savepath+netcdf_name):\n",
    "            print ('Create file '+savepath+netcdf_name)\n",
    "            w_nc_fid = Dataset(savepath+netcdf_name, 'w', format='NETCDF4_CLASSIC')\n",
    "            # create dimension & variable\n",
    "            w_nc_fid.createDimension('subregions', len(subregions)) \n",
    "            w_nc_fid.createDimension('depth', len(depths)) \n",
    "            w_nc_fid.createDimension('time', 2) # present-day, future \n",
    "            w_nc_fid.close()\n",
    "            \n",
    "            #-----\n",
    "            # global information\n",
    "            #-----\n",
    "            #----\n",
    "            script_name = 'plot_PAPER_AGI_toothfish_present_vs_future_AGI_habitat_overlap_at_each_DEPTH_save_numbers.ipynb'\n",
    "            w_nc_fid = Dataset(savepath+netcdf_name, 'r+', format='NETCDF4_CLASSIC')\n",
    "            if not based_on_monthly_clim_AGIcrit:\n",
    "                w_nc_fid.AGI_crit = 'AGIcrit based on annual mean climatology'\n",
    "                \n",
    "            w_nc_fid.present_day = str(year_list1[0])+'-'+str(year_list1[-1])\n",
    "            w_nc_fid.future = str(year_list2[0])+'-'+str(year_list2[-1])\n",
    "            w_nc_fid.which_scenario = which_sim\n",
    "            w_nc_fid.subregions = '1=all shelves, 2=all open ocean'           \n",
    "            w_nc_fid.file_mask_shelf = path_shelf_mask\n",
    "            w_nc_fid.file_mask_openOcean = path_openOcean_mask\n",
    "            #w_nc_fid.subregions = '1=wholeSO, 2=RossSea, 3=WeddellSea, 4=AntarcticPeninsula, '+\\\n",
    "            #            '5=Orkney, 6=EastAntarctica1, 7=EastAntarctica2, 8=EastAntarctica3'           \n",
    "            w_nc_fid.history = \"Created \" + today.strftime(\"%d/%m/%y\")\n",
    "            w_nc_fid.script = script_name+\" (for internal information only)\"\n",
    "            w_nc_fid.close()\n",
    "\n",
    "            #-----\n",
    "            # define variables\n",
    "            #-----\n",
    "            w_nc_fid = Dataset(savepath+netcdf_name, 'r+', format='NETCDF4_CLASSIC')      # Create and open new netcdf file to write to\n",
    "\n",
    "            for i in range(0,len(species_names)):\n",
    "                if not species_names[i] in [\"Dissostichus mawsoni\"]:\n",
    "                    w_nc_var1a = w_nc_fid.createVariable('overlap_'+species_names_[i], 'f4',('subregions','depth','time'))\n",
    "                    w_nc_var1a.description = 'Overlap in viable habitat, i.e., where AGI>AGI_crit, between '+\\\n",
    "                                    species_names[i]+' and the Antarctic toothfish'\n",
    "                    w_nc_var1a.units = 'Mio km3'\n",
    "                    w_nc_var1a.time = '1=present_day, 2=future'\n",
    "            w_nc_fid.close() \n",
    "        \n",
    "        else:\n",
    "            try:\n",
    "                #-----\n",
    "                # define variables\n",
    "                #-----\n",
    "                w_nc_fid = Dataset(savepath+netcdf_name, 'r+', format='NETCDF4_CLASSIC')      # Create and open new netcdf file to write to\n",
    "\n",
    "                for i in [0,1,7]:#range(0,len(species_names)):\n",
    "                    if not species_names[i] in [\"Dissostichus mawsoni\"]:\n",
    "                        w_nc_var1a = w_nc_fid.createVariable('overlap_'+species_names_[i], 'f4',('subregions','depth','time'))\n",
    "                        w_nc_var1a.description = 'Overlap in viable habitat, i.e., where AGI>AGI_crit, between '+\\\n",
    "                                        species_names[i]+' and the Antarctic toothfish'\n",
    "                        w_nc_var1a.units = 'Mio km3'\n",
    "                        w_nc_var1a.time = '1=present_day, 2=future'\n",
    "                w_nc_fid.close() \n",
    "            except:\n",
    "                pass\n",
    "            print ('File '+savepath+netcdf_name+' exists already, overwrite')\n",
    "    \n",
    "    \n",
    "    # get overlap in present-day and future time slice\n",
    "    overlap1 = np.zeros([len(depths),len(species_names)-1]) # minus toothfish\n",
    "    overlap2 = np.zeros([len(depths),len(species_names)-1])\n",
    "    counter = 0\n",
    "    factor = 1./1e15 # convert from m3 to Mio. km3\n",
    "    for i in tqdm(range(0,len(species_names))): #[0,1,7]:#\n",
    "        if not species_names[i] in [\"Dissostichus mawsoni\"]:\n",
    "            print(i,species_names[i])\n",
    "            #print(habitat_file_names[i])\n",
    "\n",
    "            ### Get the in-habitat data for each species over the relevant depth range ###\n",
    "            file_habitat = habitat_file_names[i]\n",
    "            data_hab     = xr.open_dataset(file_habitat) # 2D habitat presence/absence data (1 for present or 0 for absent)\n",
    "            # make sure the habitat field has dimensions depth x lat x lon before applying it to the respective fields\n",
    "            num_depth = 88 #len(np.arange(index_min_depth[i],index_max_depth[i]+1,1)) \n",
    "            hab_field = np.tile(data_hab['presence'].values,(num_depth,1,1))\n",
    "            data_hab.close()\n",
    "\n",
    "            # present-day\n",
    "           # print ('get habitat, present-day')\n",
    "            mask_habitat_prey_1,vol_prey_1 = get_mask_viable_habitat(i,hab_field,vol,pO2_1,t_insitu_1,\\\n",
    "                                                               index_min_depth,index_max_depth,\\\n",
    "                                                species_list,species_names,TPref,o2thresh,AGI_crit,\\\n",
    "                                                               j_diff,mask_subregion)\n",
    "            # future\n",
    "           # print ('get habitat, future')\n",
    "            mask_habitat_prey_2,vol_prey_2 = get_mask_viable_habitat(i,hab_field,vol,pO2_2,t_insitu_2,\\\n",
    "                                                    index_min_depth,index_max_depth,\\\n",
    "                                                species_list,species_names,TPref,o2thresh,AGI_crit,\\\n",
    "                                                j_diff,mask_subregion)\n",
    "\n",
    "            #-----\n",
    "            # get overlap\n",
    "            #-----\n",
    "            for dd in range(0,len(depths)): # get separately for each depth level\n",
    "                # get nodes that are 1 in both the toothfish and the prey mask\n",
    "                ind1 = np.where((mask_habitat_toothfish_1[dd,:,:].ravel()==1) & (mask_habitat_prey_1[dd,:,:].ravel()==1))[0]\n",
    "                ind2 = np.where((mask_habitat_toothfish_2[dd,:,:].ravel()==1) & (mask_habitat_prey_2[dd,:,:].ravel()==1))[0]\n",
    "                #print (ind1.shape,ind2.shape)\n",
    "\n",
    "                overlap1[dd,counter] = np.sum(vol_1[dd,:,:].ravel()[ind1])*factor\n",
    "                overlap2[dd,counter] = np.sum(vol_2[dd,:,:].ravel()[ind2])*factor\n",
    "\n",
    "               # if (dd==5) | (dd==20) | (dd==40):\n",
    "               #     print('dd=',dd)\n",
    "               #     print ('Overlap in Mio km3:',overlap1[dd,counter],overlap2[dd,counter])\n",
    "               #     print ('Ratio:',overlap2[dd,counter]/overlap1[dd,counter])\n",
    "\n",
    "                del ind1,ind2\n",
    "            del mask_habitat_prey_1,mask_habitat_prey_2\n",
    "            del vol_prey_1,vol_prey_2\n",
    "\n",
    "        \n",
    "            #----\n",
    "            # save as netcdf, so that I only have to run this once over all the regions!\n",
    "            #----\n",
    "\n",
    "            if save_to_netcdf:\n",
    "\n",
    "                #-----\n",
    "                # write variables\n",
    "                #-----\n",
    "                w_nc_fid = Dataset(savepath+netcdf_name, 'r+', format='NETCDF4_CLASSIC')      # Create and open new netcdf file to write to\n",
    "                w_nc_fid.variables['overlap_'+species_names_[i]][rr,:,0]= overlap1[:,counter] # present-day\n",
    "                w_nc_fid.variables['overlap_'+species_names_[i]][rr,:,1]= overlap2[:,counter] # future\n",
    "                w_nc_fid.close() \n",
    "            \n",
    "            counter = counter+1\n",
    "            \n",
    "            print ('Successfully saved '+subregions[rr]+' of '+species_names_[i]+' to netcdf file')\n",
    "\n",
    "print('done')\n"
   ]
  },
  {
   "cell_type": "code",
   "execution_count": 1,
   "metadata": {},
   "outputs": [],
   "source": [
    "#print(savepath)\n",
    "#print(netcdf_name)\n",
    "#print(subregions)\n",
    "\n",
    "#file = 'AGI_based_habitat_overlap_toothfish_vs_prey_whole_water_column_simAssp126_2090_2099_shelf_vs_openOcean.nc'\n",
    "#ff   = xr.open_dataset('/pscratch/sd/c/cnissen/AGI_toothfish_project/habitat_overlap/'+file)\n",
    "#data = ff['overlap_Bathyraja_maccaini'].values #[0]\n",
    "#ff.close()   \n",
    "#print(data.shape)\n"
   ]
  },
  {
   "cell_type": "code",
   "execution_count": null,
   "metadata": {},
   "outputs": [],
   "source": []
  },
  {
   "cell_type": "code",
   "execution_count": null,
   "metadata": {},
   "outputs": [],
   "source": []
  },
  {
   "cell_type": "code",
   "execution_count": null,
   "metadata": {},
   "outputs": [],
   "source": []
  },
  {
   "cell_type": "code",
   "execution_count": null,
   "metadata": {},
   "outputs": [],
   "source": []
  }
 ],
 "metadata": {
  "kernelspec": {
   "display_name": "myenv-jupyter",
   "language": "python",
   "name": "myenv-jupyter"
  },
  "language_info": {
   "codemirror_mode": {
    "name": "ipython",
    "version": 3
   },
   "file_extension": ".py",
   "mimetype": "text/x-python",
   "name": "python",
   "nbconvert_exporter": "python",
   "pygments_lexer": "ipython3",
   "version": "3.9.12"
  }
 },
 "nbformat": 4,
 "nbformat_minor": 4
}
