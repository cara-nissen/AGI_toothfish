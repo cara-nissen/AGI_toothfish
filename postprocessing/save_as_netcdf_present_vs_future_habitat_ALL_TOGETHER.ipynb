{
 "cells": [
  {
   "cell_type": "markdown",
   "metadata": {},
   "source": [
    "# compute AGI based on annual fields \n",
    "# present-day vs future\n",
    "# use AGIcrit, Tpref, O2thresh as calculated from monthly hist. clim.\n",
    "# HERE: save numbers for plotting as netcdf"
   ]
  },
  {
   "cell_type": "code",
   "execution_count": 1,
   "metadata": {},
   "outputs": [],
   "source": [
    "#get_ipython().system(u'jupyter nbconvert --to=python plot_AGI_toothfish_testing.ipynb')"
   ]
  },
  {
   "cell_type": "code",
   "execution_count": 2,
   "metadata": {
    "tags": []
   },
   "outputs": [],
   "source": [
    "\n",
    "import xarray as xr\n",
    "import numpy as np\n",
    "import sys, os\n",
    "from pathlib import Path\n",
    "import glob\n",
    "import matplotlib.pyplot as plt\n"
   ]
  },
  {
   "cell_type": "code",
   "execution_count": 3,
   "metadata": {
    "tags": []
   },
   "outputs": [
    {
     "name": "stdout",
     "output_type": "stream",
     "text": [
      "['Dissostichus mawsoni', 'Trematomus loennbergii', 'Macrourus whitsoni', 'Galiteuthis glacialis', 'Chionodraco hamatus', 'Anotopterus vorax', 'Chaenodraco wilsoni', 'Kondakovia longimana', 'Cryodraco antarcticus', 'Muraenolepis microps', 'Psychroteuthis glacialis', 'Gymnodraco acuticeps', 'Amblyraja georgiana', 'Antarctomysis maxima', 'Lepidonotothen squamifrons', 'Mesonychoteuthis hamiltoni', 'Pleuragramma antarctica', 'Euphausia superba', 'Notothenia coriiceps', 'Trematomus lepidorhinus', 'Pagothenia borchgrevinki', 'Lycenchelys aratrirostris', 'Neopagetopsis ionah', 'Chaenocephalus aceratus', 'Trematomus hansoni', 'Chionobathyscus dewitti', 'Euphausia crystallorophias', 'Notothenia rossii', 'Bathyraja maccaini']\n",
      "29 species\n",
      "['Dissostichus_mawsoni', 'Trematomus_loennbergii', 'Macrourus_whitsoni', 'Galiteuthis_glacialis', 'Chionodraco_hamatus', 'Anotopterus_vorax', 'Chaenodraco_wilsoni', 'Kondakovia_longimana', 'Cryodraco_antarcticus', 'Muraenolepis_microps', 'Psychroteuthis_glacialis', 'Gymnodraco_acuticeps', 'Amblyraja_georgiana', 'Antarctomysis_maxima', 'Lepidonotothen_squamifrons', 'Mesonychoteuthis_hamiltoni', 'Pleuragramma_antarctica', 'Euphausia_superba', 'Notothenia_coriiceps', 'Trematomus_lepidorhinus', 'Pagothenia_borchgrevinki', 'Lycenchelys_aratrirostris', 'Neopagetopsis_ionah', 'Chaenocephalus_aceratus', 'Trematomus_hansoni', 'Chionobathyscus_dewitti', 'Euphausia_crystallorophias', 'Notothenia_rossii', 'Bathyraja_maccaini']\n",
      "28\n"
     ]
    }
   ],
   "source": [
    "#-----\n",
    "# based on python code provided by Anne\n",
    "#-----\n",
    "\n",
    "basepath=\"/pscratch/sd/c/cnissen/AGI_toothfish_project/\" \n",
    "no_species=29 \n",
    "\n",
    "# Init\n",
    "species_names         = [None] * no_species # empty list\n",
    "species_names_        = [None] * no_species # empty list\n",
    "habitat_file_names    = [None] * no_species # empty list\n",
    "\n",
    "habitat_files = Path(basepath + \"all_prey_plus_toothfish/\").glob('*_boolean.nc')  # updated habitat files, Nov 2022!!!!!!\n",
    "#habitat_files = Path(basepath + \"share/\").glob('*_boolean.nc') \n",
    "# Note: I changed name of file of Antimora_rostrata to *boolean2.nc, so that it won't be included here\n",
    "for ifile,file in enumerate(habitat_files):   \n",
    "    habitat_file_names[ifile]    = str(file)\n",
    "    # Get the species name from the full pathname with a space between\n",
    "    species_names[ifile]  = '_'.join(os.path.basename(file).split('_')[:-2]).replace('_',' ') \n",
    "    if not species_names[ifile] in ['Galiteuthis glacialis','Mesonychoteuthis hamiltoni','Kondakovia longimana']:\n",
    "        species_names[ifile] = species_names[ifile][8:] # get rid of \"Default\" or \"Reviewed\"\n",
    "    if species_names[ifile][0].isspace():  # get rid of white space if there is any\n",
    "        species_names[ifile] = species_names[ifile][1:]\n",
    "    if species_names[ifile] in ['Chionobathyscus dewitti All Suitable Habitat']:\n",
    "        species_names[ifile] = species_names[ifile][0:23]\n",
    "    # Get the species name from the full pathname with _ in it\n",
    "    species_names_[ifile] = species_names[ifile].replace(' ','_')  #'_'.join(os.path.basename(file).split('_')[:-2]) \n",
    "\n",
    "#print(habitat_file_names)\n",
    "print(species_names)\n",
    "print(len(species_names),'species')\n",
    "print(species_names_)\n",
    "\n",
    "    \n",
    "species_names_no_toothfish = ['Trematomus loennbergii', 'Macrourus whitsoni', 'Galiteuthis glacialis',\\\n",
    "                              'Chionodraco hamatus', 'Anotopterus vorax', 'Chaenodraco wilsoni',\\\n",
    "                              'Kondakovia longimana', 'Cryodraco antarcticus', 'Muraenolepis microps',\\\n",
    "                              'Psychroteuthis glacialis', 'Gymnodraco acuticeps', 'Amblyraja georgiana',\\\n",
    "                              'Antarctomysis maxima', 'Lepidonotothen squamifrons', 'Mesonychoteuthis hamiltoni',\\\n",
    "                              'Pleuragramma antarctica', 'Euphausia superba', 'Notothenia coriiceps',\\\n",
    "                              'Trematomus lepidorhinus', 'Pagothenia borchgrevinki', 'Lycenchelys aratrirostris',\\\n",
    "                              'Neopagetopsis ionah', 'Chaenocephalus aceratus', 'Trematomus hansoni',\\\n",
    "                              'Chionobathyscus dewitti', 'Euphausia crystallorophias', 'Notothenia rossii',\\\n",
    "                              'Bathyraja maccaini']\n",
    "print (len(species_names_no_toothfish))\n"
   ]
  },
  {
   "cell_type": "code",
   "execution_count": 4,
   "metadata": {
    "tags": []
   },
   "outputs": [
    {
     "name": "stdout",
     "output_type": "stream",
     "text": [
      "29\n"
     ]
    }
   ],
   "source": [
    "#----\n",
    "# Species information needed for calculation AGI\n",
    "#----\n",
    "\n",
    "# define order of species as contained in depth_min, LWa etc.\n",
    "species_list = ['Cryodraco antarcticus','Neopagetopsis ionah','Trematomus lepidorhinus',\\\n",
    "               'Trematomus hansoni','Bathyraja maccaini','Chaenocephalus aceratus',\\\n",
    "               'Notothenia coriiceps','Pleuragramma antarctica','Dissostichus mawsoni',\\\n",
    "                'Macrourus whitsoni',\\\n",
    "               'Lepidonotothen squamifrons','Notothenia rossii','Muraenolepis microps',\\\n",
    "               'Chaenodraco wilsoni','Chionobathyscus dewitti',\\\n",
    "               'Galiteuthis glacialis','Mesonychoteuthis hamiltoni','Kondakovia longimana',\\\n",
    "               'Amblyraja georgiana','Anotopterus vorax','Antarctomysis maxima',\\\n",
    "               'Chionodraco hamatus','Euphausia crystallorophias','Euphausia superba','Gymnodraco acuticeps',\\\n",
    "               'Lycenchelys aratrirostris','Pagothenia borchgrevinki','Psychroteuthis glacialis',\\\n",
    "               'Trematomus loennbergii']\n",
    "print(len(species_list))\n",
    "# excluded the following species for now: \n",
    "# 1) Antimora rostrata: don't have the habitat file (habitat outside of SO)\n",
    "\n",
    "# NO MAP Bathyraja eatonii\t?\t\t15\t1500\n",
    "\n",
    "# Minimum depth of occurence (meter)\n",
    "depth_min     = [None] * len(species_names) # Initialize\n",
    "depth_min[0]  = 90   # 'Cryodraco antarcticus'\n",
    "depth_min[1]  = 20   #'Neopagetopsis ionah'\n",
    "depth_min[2]  = 272    # 'Trematomus lepidorhinus'\n",
    "depth_min[3]  = 6    # 'Trematomus hansoni'\n",
    "depth_min[4]  = 167  # 'Bathyraja maccaini'\n",
    "depth_min[5]  = 0    # 'Chaenocephalus aceratus'\n",
    "depth_min[6]  = 0    # 'Notothenia coriiceps'\n",
    "depth_min[7]  = 0    # 'Pleuragramma antarctica'\n",
    "depth_min[8]  = 0    # 'Dissostichus mawsoni' ## Assume a wide range for toothfish (max. overlap with prey) ##\n",
    "depth_min[9]  = 400  # 'Macrourus whitsoni'\n",
    "depth_min[10] = 10   # 'Lepidonotothen squamifrons'\n",
    "depth_min[11] = 5    # 'Notothenia rossii'\n",
    "depth_min[12] = 10   # 'Muraenolepis microps'\n",
    "depth_min[13] = 200  # 'Chaenodraco wilsoni'\n",
    "depth_min[14] = 500  # 'Chionobathyscus dewitti'\n",
    "depth_min[15] = 200   #'Galiteuthis glacialis'\n",
    "depth_min[16] = 200   # 'Mesonychoteuthis hamiltoni'\n",
    "depth_min[17] = 500   # 'Kondakovia longimana'\n",
    "depth_min[18] = 57    # Amblyraja georgiana\n",
    "depth_min[19] = 358  # Anotopterus vorax\n",
    "depth_min[20] = 220 # Antarctomysis maxima\n",
    "depth_min[21] = 76 # Chionodraco hamatus\n",
    "depth_min[22] = 0 # Euphausia crystallorophias\n",
    "depth_min[23] = 0 # Euphausia superba\n",
    "depth_min[24] = 66 # Gymnodraco acuticeps\n",
    "depth_min[25] = 244 # Lycenchelys aratrirostris\n",
    "depth_min[26] = 0 # Pagothenia borchgrevinki\n",
    "depth_min[27] = 385 # Psychroteuthis glacialis\n",
    "depth_min[28] = 65 # Trematomus loennbergii\n",
    "#depth_min[29] = # Trematomus eulepidotus #EXCLUDED\n",
    "\n",
    "# Maximum depth of occurence (meter)\n",
    "depth_max     = [None] * len(species_names) # Initialize\n",
    "depth_max[0]  = 600  # 'Cryodraco antarcticus'\n",
    "depth_max[1]  = 900  #'Neopagetopsis ionah'\n",
    "depth_max[2]  = 468  # 'Trematomus lepidorhinus'\n",
    "depth_max[3]  = 549  # 'Trematomus hansoni'\n",
    "depth_max[4]  = 500  # 'Bathyraja maccaini'\n",
    "depth_max[5]  = 770  # 'Chaenocephalus aceratus'\n",
    "depth_max[6]  = 550  # 'Notothenia coriiceps'\n",
    "depth_max[7]  = 1000 # 'Pleuragramma antarctica'\n",
    "depth_max[8]  = 2210   # 'Dissostichus mawsoni' ## Assume a wide range for toothfish (max. overlap with prey) ##\n",
    "depth_max[9]  = 3185 # 'Macrourus whitsoni'\n",
    "depth_max[10] = 900  # 'Lepidonotothen squamifrons'\n",
    "depth_max[11] = 350 # 'Notothenia rossii'\n",
    "depth_max[12] = 1600 # 'Muraenolepis microps'\n",
    "depth_max[13] = 800  # 'Chaenodraco wilsoni'\n",
    "depth_max[14] = 2000 # 'Chionobathyscus dewitti'\n",
    "depth_max[15] = 2500   #'Galiteuthis glacialis'\n",
    "depth_max[16] =  600  # 'Mesonychoteuthis hamiltoni'\n",
    "depth_max[17] = 2000   # 'Kondakovia longimana'\n",
    "depth_max[18] = 173    # Amblyraja georgiana\n",
    "depth_max[19] = 1059 # Anotopterus vorax\n",
    "depth_max[20] = 440 # Antarctomysis maxima\n",
    "depth_max[21] = 271 # Chionodraco hamatus\n",
    "depth_max[22] = 650 # Euphausia crystallorophias\n",
    "depth_max[23] = 600 # Euphausia superba\n",
    "depth_max[24] = 247 # Gymnodraco acuticeps\n",
    "depth_max[25] = 376 # Lycenchelys aratrirostris\n",
    "depth_max[26] = 30 # Pagothenia borchgrevinki\n",
    "depth_max[27] = 610 # Psychroteuthis glacialis\n",
    "depth_max[28] = 832 # Trematomus loennbergii\n",
    "#depth_max[29] = # Trematomus eulepidotus EXCLUDED\n",
    "\n",
    "#---\n",
    "# NOTE Jan 2023: this info below is not needed anymore with the new AGI formulation!\n",
    "#----\n",
    "## LWa extracted 21.07.2022 from FishBase\n",
    "#LWa     = [None] * len(species_names) # Initialize\n",
    "#LWa[0]  = 0.0007  # 'Cryodraco antarcticus'\n",
    "#LWa[1]  = 0.01863  #'Neopagetopsis ionah'\n",
    "#LWa[2]  = 0.0042  # 'Trematomus eulepidotus'\n",
    "#LWa[3]  = 0.0021  # 'Trematomus hansoni'\n",
    "#LWa[4]  = 0.00477  # 'Bathyraja maccaini'\n",
    "#LWa[5]  = 0.0006 # 'Chaenocephalus aceratus'\n",
    "#LWa[6]  = 0.0132  # 'Notothenia coriiceps'\n",
    "#LWa[7]  = 0.0019  # 'Pleuragramma antarctica'\n",
    "#LWa[8]  = 0.0045   # 'Dissostichus mawsoni'\n",
    "#LWa[9]  = 0.0135 # 'Macrourus whitsoni'\n",
    "#LWa[10] = 0.0027  # 'Lepidonotothen squamifrons'\n",
    "##LWa[11] = 0.001     # 'Antimora rostrata'\n",
    "#LWa[11] = 0.0093 # 'Notothenia rossii'\n",
    "#LWa[12] = 0.00437 # 'Muraenolepis microps'\n",
    "#LWa[13] = 0.0005  # 'Chaenodraco wilsoni'\n",
    "#LWa[14] = 0.0012 # 'Chionobathyscus dewitti'\n",
    "\n",
    "## LWb extracted 21.07.2022 from FishBase\n",
    "#LWb     = [None] * len(species_names) # Initialize\n",
    "#LWb[0]  = 3.51  # 'Cryodraco antarcticus'\n",
    "#LWb[1]  = 2.762  #'Neopagetopsis ionah'\n",
    "#LWb[2]  = 3.32  # 'Trematomus eulepidotus'\n",
    "#LWb[3]  = 3.52  # 'Trematomus hansoni'\n",
    "#LWb[4]  = 3.162  # 'Bathyraja maccaini'\n",
    "#LWb[5]  = 3.63  # 'Chaenocephalus aceratus'\n",
    "#LWb[6]  = 3.09  # 'Notothenia coriiceps'\n",
    "#LWb[7]  = 3.41  # 'Pleuragramma antarctica'\n",
    "#LWb[8]  = 3.24   # 'Dissostichus mawsoni'\n",
    "#LWb[9]  = 3.15 # 'Macrourus whitsoni'\n",
    "#LWb[10] = 3.41  # 'Lepidonotothen squamifrons'\n",
    "##LWb[11] = 3.52   # 'Antimora rostrata'\n",
    "#LWb[11] = 3.07 # 'Notothenia rossii'\n",
    "#LWb[12] = 3.11 # 'Muraenolepis microps'\n",
    "#LWb[13] = 3.79  # 'Chaenodraco wilsoni'\n",
    "#LWb[14] = 3.5 # 'Chionobathyscus dewitti'\n",
    "\n",
    "## Linf extracted 21.07.2022 from FishBase\n",
    "## * Linf estimated from Lmax using Froese and Binohlan (2000) Eq. (5).\n",
    "#Linf     = [None] * len(species_names) # Initialize\n",
    "#Linf[0]  = 50.66374052  # 'Cryodraco antarcticus'*\n",
    "#Linf[1]  = 58.12886422  #'Neopagetopsis ionah'*\n",
    "#Linf[2]  = 26.5  # 'Trematomus eulepidotus'\n",
    "#Linf[3]  = 36.5  # 'Trematomus hansoni'\n",
    "#Linf[4]  = 123.061517  # 'Bathyraja maccaini'*\n",
    "#Linf[5]  = 70.4  # 'Chaenocephalus aceratus'\n",
    "#Linf[6]  = 62  # 'Notothenia coriiceps'\n",
    "#Linf[7]  = 25.1  # 'Pleuragramma antarctica'\n",
    "#Linf[8]  = 183   # 'Dissostichus mawsoni'\n",
    "#Linf[9]  = 92 # 'Macrourus whitsoni'\n",
    "#Linf[10] = 56.7  # 'Lepidonotothen squamifrons'\n",
    "##Linf[11] = 66   # 'Antimora rostrata'\n",
    "#Linf[11] = 87 # 'Notothenia rossii'\n",
    "#Linf[12] = 36.60305736 # 'Muraenolepis microps'*\n",
    "#Linf[13] = 44.82252387  # 'Chaenodraco wilsoni'*\n",
    "#Linf[14] = 62.21264207 # 'Chionobathyscus dewitti'*\n"
   ]
  },
  {
   "cell_type": "code",
   "execution_count": 5,
   "metadata": {
    "tags": []
   },
   "outputs": [],
   "source": [
    "#----\n",
    "# get indices of depth levels of species\n",
    "#----\n",
    "\n",
    "def find_nearest(array, value):\n",
    "    array = np.asarray(array)\n",
    "    idx = (np.abs(array - value)).argmin()\n",
    "    return idx\n",
    "\n",
    "file_mesh = '/pscratch/sd/c/cnissen/files_toothfish_project_AGI/Mesh_ancillary_information_v20220919.nc'\n",
    "data_levels = xr.open_dataset(file_mesh)\n",
    "levels      = data_levels['depth'].values # 88 levels\n",
    "data_levels.close()\n",
    "\n",
    "index_min_depth     = [None] * len(species_names) # Initialize\n",
    "index_max_depth     = [None] * len(species_names) # Initialize\n",
    "\n",
    "for i,name in enumerate(species_names):\n",
    "    # Note Cara: order of entries in depth_min etc. is not alphabetical!!!!\n",
    "    # here, I have adapted the index from \"i\" to \"iii\" to read in the correct depth ranges\n",
    "    # for the current species\n",
    "    iii = species_list.index(species_names[i]) # get index of current species as contained in depth_min etc.\n",
    "    index_min_depth[i] = find_nearest(levels,depth_min[iii])\n",
    "    index_max_depth[i] = find_nearest(levels,depth_max[iii])\n",
    "    # now, index_min_depth should contain the correct values according to alphabetical order as looped over\n",
    "    # NOTE: given how python is indexing, I think I then need to index over index_min_depth:index_max_depth+1\n",
    "    # (was index_min_depth:index_max_depth before)\n",
    "    "
   ]
  },
  {
   "cell_type": "code",
   "execution_count": 6,
   "metadata": {
    "tags": []
   },
   "outputs": [],
   "source": [
    "#-----\n",
    "# calculate AGI from annual mean fields\n",
    "#-----\n",
    "\n",
    "# constants\n",
    "d = 0.7 # n.d.; metabolic scaling coefficient\n",
    "j1 = 4500 # K; \"Anabolism activation energy divided by Boltzmann constant\" (Clarke2021)\n",
    "j2 = 8000 # K; \"Catabolism activation energy divided by Boltzmann constant\" (Clarke2021)\n",
    "j_diff = j2-j1\n",
    "# from Clarke2021: \"Somatic (or biomass) growth can be expressed as the difference between anabolism and catabolism\"\n",
    "\n",
    "#---\n",
    "# load AGIcrit, Tpref, O2thresh\n",
    "#---\n",
    "\n",
    "# Init\n",
    "AGI_crit = [None] * no_species # empty list\n",
    "o2thresh = [None] * no_species # empty list\n",
    "TPref    = [None] * no_species # empty list\n",
    "\n",
    "# AGIcrit \n",
    "for ii in range(0,len(species_names)):\n",
    "    file = 'AGIcrit_'+species_names_[ii]+'_based_on_monthly_clim_1995_2014.nc'\n",
    "    #print(file)\n",
    "    ff     = xr.open_dataset(basepath+'new_thresholds/'+file)\n",
    "    AGI_crit[ii]        = ff['AGIcrit'].values[0]\n",
    "    ff.close()\n",
    "    \n",
    "# o2thresh  \n",
    "for ii in range(0,len(species_names)):\n",
    "    file = 'o2thresh_'+species_names_[ii]+'_based_on_monthly_clim_1995_2014.nc'\n",
    "    ff     = xr.open_dataset(basepath+'new_thresholds/'+file)\n",
    "    o2thresh[ii]        = ff['o2thresh'].values[0]\n",
    "    ff.close()\n",
    "    \n",
    "# TPref \n",
    "for ii in range(0,len(species_names)):\n",
    "    file = 'Tpref_'+species_names_[ii]+'_based_on_monthly_clim_1995_2014.nc'\n",
    "    ff     = xr.open_dataset(basepath+'new_thresholds/'+file)\n",
    "    TPref[ii]        = ff['Tpref'].values[0]\n",
    "    ff.close()\n",
    "\n",
    "#-----\n",
    "# NOTE that order of species in LWa etc is not the same as in \"species_names\"\n",
    "# account for that further down!!!!\n",
    "#-----\n",
    "# UPDATE Jan 2023: the info below is not needed anymore with updated calculation of AGI\n",
    "# calculate Winf and W for each species\n",
    "#Winf = np.asarray(LWa)*(np.asarray(Linf)**np.asarray(LWb))\n",
    "#W    = (1./3.)*Winf\n",
    "#print('Winf:',Winf)\n",
    "#print('AGI_crit:',AGI_crit)\n",
    "#print('o2thresh:',o2thresh)\n",
    "#print('TPref:',TPref)\n",
    "\n",
    "#--------\n",
    "# NOTE: I don't think the order provided in LWa,LWb & Linf matches the order in which AGIcrit etc are loaded here!\n",
    "# careful when indexing\n",
    "# -> see above for finding the indices for the depth range!\n",
    "#--------\n"
   ]
  },
  {
   "cell_type": "code",
   "execution_count": 7,
   "metadata": {
    "tags": []
   },
   "outputs": [
    {
     "name": "stdout",
     "output_type": "stream",
     "text": [
      "Load year  1995\n",
      "Min/Max pO2: 4.207563 225.77884\n",
      "Min/Max t_insitu: -2.571443 15.545197\n",
      "Load year  1996\n",
      "Min/Max pO2: 2.8013957 225.59848\n",
      "Min/Max t_insitu: -2.575366 14.551913\n",
      "Load year  1997\n",
      "Min/Max pO2: 1.8041228 225.43907\n",
      "Min/Max t_insitu: -2.5624118 15.000496\n",
      "Load year  1998\n",
      "Min/Max pO2: 0.027826557 225.30064\n",
      "Min/Max t_insitu: -2.5636892 15.028485\n",
      "Load year  1999\n",
      "Min/Max pO2: 1.8957909 225.04358\n",
      "Min/Max t_insitu: -2.5640612 14.615901\n",
      "Load year  2000\n",
      "Min/Max pO2: 9.454568 224.61386\n",
      "Min/Max t_insitu: -2.5593815 15.245595\n",
      "Load year  2001\n",
      "Min/Max pO2: 3.726922 224.15968\n",
      "Min/Max t_insitu: -2.5575552 15.217681\n",
      "Load year  2002\n",
      "Min/Max pO2: 2.2234223 223.76306\n",
      "Min/Max t_insitu: -2.5549266 14.752597\n",
      "Load year  2003\n",
      "Min/Max pO2: 2.194433 224.76065\n",
      "Min/Max t_insitu: -2.5629275 15.570725\n",
      "Load year  2004\n",
      "Min/Max pO2: 2.6431694 229.60274\n",
      "Min/Max t_insitu: -2.5545547 16.359056\n",
      "Load year  2005\n",
      "Min/Max pO2: 1.7453376 229.03206\n",
      "Min/Max t_insitu: -2.5574455 14.253276\n",
      "Load year  2006\n",
      "Min/Max pO2: 3.3401098 228.37299\n",
      "Min/Max t_insitu: -2.556283 16.057344\n",
      "Load year  2007\n",
      "Min/Max pO2: 1.5953447 227.14195\n",
      "Min/Max t_insitu: -2.5581613 14.757957\n",
      "Load year  2008\n",
      "Min/Max pO2: 1.1253906 226.94159\n",
      "Min/Max t_insitu: -2.5532055 15.160706\n",
      "Load year  2009\n",
      "Min/Max pO2: 3.5195415 234.71707\n",
      "Min/Max t_insitu: -2.555146 15.328689\n",
      "Load year  2010\n",
      "Min/Max pO2: 4.862745 243.19257\n",
      "Min/Max t_insitu: -2.5590649 15.139638\n",
      "Load year  2011\n",
      "Min/Max pO2: 14.780415 227.82408\n",
      "Min/Max t_insitu: -2.5639048 15.482086\n",
      "Load year  2012\n",
      "Min/Max pO2: 14.942332 234.89539\n",
      "Min/Max t_insitu: -2.5616167 15.895008\n",
      "Load year  2013\n",
      "Min/Max pO2: 6.855995 222.09746\n",
      "Min/Max t_insitu: -2.5600293 15.064448\n",
      "Load year  2014\n",
      "Min/Max pO2: 1.5967058 222.66554\n",
      "Min/Max t_insitu: -2.5555043 15.473795\n",
      "\n",
      "Min/Max t_insitu: -2.5586371 15.072821\n",
      "Min/Max pO2: 4.361255 224.97017\n",
      "done\n"
     ]
    }
   ],
   "source": [
    "#-----\n",
    "# calculate AGI based on annual fields\n",
    "# part I: load pO2 & t_insitu fields\n",
    "#-----\n",
    "\n",
    "which_sim = 'simAssp585' # for present-day, keep this as simAssp585! \n",
    "path1 = '/pscratch/sd/c/cnissen/files_toothfish_project_AGI/'+which_sim+'_reduced/'\n",
    "\n",
    "#----\n",
    "# PRESENT-DAY\n",
    "#----\n",
    "\n",
    "year_list1 = np.arange(1995,2014+1,1)\n",
    "\n",
    "for yy in range(0,len(year_list1)):\n",
    "    year1 = year_list1[yy]\n",
    "    print('Load year ',year1)\n",
    "    \n",
    "    # pO2 data (mbar)\n",
    "    file_pO2  = path1+'/pO2_fesom_'+which_sim+'_'+str(year1)+'0101_v2.nc'\n",
    "    data_pO2   = xr.open_dataset(file_pO2)\n",
    "    a1 = data_pO2['pO2'].values\n",
    "    a1 = np.ma.masked_where(a1<0,a1)\n",
    "    print('Min/Max pO2:',np.nanmin(a1),np.nanmax(a1))\n",
    "    if yy==0:\n",
    "        pO2_1      = a1 #data_pO2['pO2'].values\n",
    "    else:\n",
    "        pO2_1      = pO2_1+ a1 #data_pO2['pO2'].values\n",
    "    data_pO2.close()\n",
    "    del a1\n",
    "\n",
    "    # T insitu (deg C)\n",
    "    file_t_insitu   = path1+'/t_insitu_fesom_'+which_sim+'_'+str(year1)+'0101_v2.nc'\n",
    "    data_t_insitu   = xr.open_dataset(file_t_insitu)\n",
    "    a1 = data_t_insitu['t_insitu'].values\n",
    "    a1 = np.ma.masked_where(a1<-3.0,a1)\n",
    "    print('Min/Max t_insitu:',np.nanmin(a1),np.nanmax(a1))\n",
    "    #print('Min/Max t_insitu:',np.min(data_t_insitu['t_insitu'].values),np.max(data_t_insitu['t_insitu'].values))\n",
    "    if yy==0:\n",
    "        t_insitu_1        = a1 #data_t_insitu['t_insitu'].values\n",
    "    else:\n",
    "        t_insitu_1        = t_insitu_1+ a1 #data_t_insitu['t_insitu'].values\n",
    "    data_t_insitu.close()\n",
    "    del a1\n",
    "    \n",
    "# calculate climatology\n",
    "t_insitu_1 = t_insitu_1/len(year_list1)\n",
    "pO2_1      = pO2_1/len(year_list1)\n",
    "print('')\n",
    "print('Min/Max t_insitu:',np.nanmin(t_insitu_1),np.nanmax(t_insitu_1))\n",
    "print('Min/Max pO2:',np.nanmin(pO2_1),np.nanmax(pO2_1))\n",
    "    \n",
    "print('done')\n"
   ]
  },
  {
   "cell_type": "code",
   "execution_count": 36,
   "metadata": {
    "tags": []
   },
   "outputs": [
    {
     "name": "stdout",
     "output_type": "stream",
     "text": [
      "Load year  2081\n",
      "Load year  2082\n",
      "Load year  2083\n",
      "Load year  2084\n",
      "Load year  2085\n",
      "Load year  2086\n",
      "Load year  2087\n",
      "Load year  2088\n",
      "Load year  2089\n",
      "Load year  2090\n",
      "Load year  2091\n",
      "Load year  2092\n",
      "Load year  2093\n",
      "Load year  2094\n",
      "Load year  2095\n",
      "Load year  2096\n",
      "Load year  2097\n",
      "Load year  2098\n",
      "Load year  2099\n",
      "Load year  2100\n",
      "(88, 360, 1440)\n",
      "(88, 360, 1440)\n",
      "(88, 360, 1440)\n"
     ]
    }
   ],
   "source": [
    "#-----\n",
    "# calculate AGI based on annual fields\n",
    "# part I: load pO2 & t_insitu fields\n",
    "#-----\n",
    "\n",
    "# the drift-corrected files are in folders called ssp585_reduced, ssp370_reduced etc. (simAssp585 has the non-drift-corrected files)\n",
    "which_sim   = 'ssp585' \n",
    "which_drift = '2081_2100' # 2081_2100, 2091_2100, 2098_2100, 2090_2099\n",
    "\n",
    "# example file name for drift-corrected files: t_insitu_fesom_ssp245_20910101_monthly_drift_corrected_2090_2099_minus_1995_2014_v2.nc\n",
    "drift_corr ='monthly_drift_corrected_'+which_drift+'_minus_1995_2014_v2' \n",
    "\n",
    "path1 = '/pscratch/sd/c/cnissen/files_toothfish_project_AGI/'+which_sim+'_reduced/'\n",
    "\n",
    "#which_sim = 'simAssp585'\n",
    "#path1 = '/pscratch/sd/c/cnissen/files_toothfish_project_AGI/'+which_sim+'_reduced/'\n",
    "\n",
    "#----\n",
    "# FUTURE\n",
    "#----\n",
    "\n",
    "year_list2 = np.arange(int(which_drift[0:4]),int(which_drift[5:])+1,1)\n",
    "\n",
    "for yy in range(0,len(year_list2)):\n",
    "    year2 = year_list2[yy]\n",
    "    print('Load year ',year2)\n",
    "    \n",
    "    # pO2 data (mbar)\n",
    "    file_pO2  = path1+'/pO2_fesom_'+which_sim+'_'+str(year2)+'0101_'+drift_corr+'.nc'\n",
    "    data_pO2   = xr.open_dataset(file_pO2)\n",
    "    if yy==0:\n",
    "        pO2_2      = data_pO2['pO2'].values\n",
    "    else:\n",
    "        pO2_2      = pO2_2+data_pO2['pO2'].values\n",
    "    data_pO2.close()\n",
    "\n",
    "    # T insitu (deg C)\n",
    "    file_t_insitu   = path1+'/t_insitu_fesom_'+which_sim+'_'+str(year2)+'0101_'+drift_corr+'.nc'\n",
    "    data_t_insitu   = xr.open_dataset(file_t_insitu)\n",
    "    if yy==0:\n",
    "        t_insitu_2        = data_t_insitu['t_insitu'].values\n",
    "    else:\n",
    "        t_insitu_2        = t_insitu_2+data_t_insitu['t_insitu'].values\n",
    "    data_t_insitu.close()\n",
    "\n",
    "# make sure future fields are handled the same way as historical fields!\n",
    "pO2_2 = np.ma.masked_where(pO2_2<0,pO2_2)\n",
    "t_insitu_2 = np.ma.masked_where(t_insitu_2<-3.0,t_insitu_2)\n",
    "\n",
    "pO2_2[np.isnan(pO2_1)] = np.nan\n",
    "t_insitu_2[np.isnan(t_insitu_1)] = np.nan\n",
    "\n",
    "# calculate climatology\n",
    "t_insitu_2 = t_insitu_2/len(year_list2)\n",
    "pO2_2      = pO2_2/len(year_list2)\n",
    "    \n",
    "# volume data \n",
    "data_vol   = xr.open_dataset(file_mesh)\n",
    "vol        = data_vol['volume']\n",
    "data_vol.close()\n",
    "\n",
    "print(vol.shape)\n",
    "print(t_insitu_2.shape)\n",
    "print(pO2_2.shape)\n"
   ]
  },
  {
   "cell_type": "code",
   "execution_count": 37,
   "metadata": {
    "tags": []
   },
   "outputs": [],
   "source": [
    "#------\n",
    "# weighted quantile function\n",
    "# from here: https://stackoverflow.com/questions/21844024/weighted-percentile-using-numpy\n",
    "#------\n",
    "########\n",
    "# to be double-check carefully! \n",
    "########\n",
    "\n",
    "def weighted_quantile(values, quantiles, sample_weight=None, \n",
    "                      values_sorted=False, old_style=False):\n",
    "    \"\"\" Very close to numpy.percentile, but supports weights.\n",
    "    NOTE: quantiles should be in [0, 1]!\n",
    "    :param values: numpy.array with data\n",
    "    :param quantiles: array-like with many quantiles needed\n",
    "    :param sample_weight: array-like of the same length as `array`\n",
    "    :param values_sorted: bool, if True, then will avoid sorting of\n",
    "        initial array\n",
    "    :param old_style: if True, will correct output to be consistent\n",
    "        with numpy.percentile.\n",
    "    :return: numpy.array with computed quantiles.\n",
    "    \"\"\"\n",
    "    values = np.array(values)\n",
    "    quantiles = np.array(quantiles)\n",
    "    if sample_weight is None:\n",
    "        sample_weight = np.ones(len(values))\n",
    "    sample_weight = np.array(sample_weight)\n",
    "    assert np.all(quantiles >= 0) and np.all(quantiles <= 1), \\\n",
    "        'quantiles should be in [0, 1]'\n",
    "\n",
    "    if not values_sorted:\n",
    "        sorter = np.argsort(values)\n",
    "        values = values[sorter]\n",
    "        sample_weight = sample_weight[sorter]\n",
    "\n",
    "    weighted_quantiles = np.cumsum(sample_weight) - 0.5 * sample_weight\n",
    "    if old_style:\n",
    "        # To be convenient with numpy.percentile\n",
    "        weighted_quantiles -= weighted_quantiles[0]\n",
    "        weighted_quantiles /= weighted_quantiles[-1]\n",
    "    else:\n",
    "        weighted_quantiles /= np.sum(sample_weight)\n",
    "    return np.interp(quantiles, weighted_quantiles, values)"
   ]
  },
  {
   "cell_type": "code",
   "execution_count": 38,
   "metadata": {
    "tags": []
   },
   "outputs": [],
   "source": [
    "#----\n",
    "# functions\n",
    "#----\n",
    "\n",
    "def get_habitable_volume(i,hab_field,vol,pO2,t_insitu,overlap,\\\n",
    "                                    species_list,species_names,TPref,o2thresh,AGI_crit,j_diff):\n",
    "    \n",
    "   # ### Get the in-habitat data for each species over the relevant depth range ###\n",
    "   # file_habitat = habitat_file_names[i]\n",
    "   # data_hab     = xr.open_dataset(file_habitat) # 2D habitat presence/absence data (1 for present or 0 for absent)\n",
    "   # # make sure the habitat field has dimensions depth x lat x lon before applying it to the respective fields\n",
    "   # num_depth = len(np.arange(index_min_depth[i],index_max_depth[i]+1,1)) \n",
    "   # hab_field = np.tile(data_hab['presence'].values,(num_depth,1,1))\n",
    "   # data_hab.close()\n",
    "    \n",
    "    ### select the data/volume over the relevant depth range, correct with habitat array\n",
    "    # NOTE: index_min_depth[i]:index_max_depth[i]    or.    index_min_depth[i]:index_max_depth[i]+1   ?\n",
    "    vol_inhabitat = (vol.values[overlap,:,:]*hab_field) \n",
    "    dataout1      = (pO2[overlap,:,:]*hab_field)\n",
    "    dataout2      = (t_insitu[overlap,:,:]*hab_field)\n",
    "    \n",
    "    #vol_inhabitat = (vol.values[index_min_depth[i]:index_max_depth[i]+1,:,:]*hab_field) \n",
    "    #dataout1      = (pO2[index_min_depth[i]:index_max_depth[i]+1,:,:]*hab_field)\n",
    "    #dataout2      = (t_insitu[index_min_depth[i]:index_max_depth[i]+1,:,:]*hab_field)\n",
    "    \n",
    "    #print(dataout1.shape) # depth x lat x lon\n",
    "\n",
    "    # use all months\n",
    "    dataout1b = dataout1[:,:,:].ravel() # pO2\n",
    "    dataout2b = dataout2[:,:,:].ravel() # temp\n",
    "    # make sure volume array has dimensions months x depths x lat x lon before applying ravel()\n",
    "    vol_inhabitat_b = np.copy(vol_inhabitat).ravel() #np.tile(vol_inhabitat,(12,1,1,1)).ravel() \n",
    "    \n",
    "    # make sure to only keep nodes that are available for current species\n",
    "    ind = np.where((~np.isnan(dataout1b)))[0] # every available node\n",
    "    dataout1b = dataout1b[ind]\n",
    "    dataout2b = dataout2b[ind]\n",
    "    vol_inhabitat_b = vol_inhabitat_b[ind]\n",
    "    ind = np.where((dataout1b!=0))[0] # every available node\n",
    "    dataout1b = dataout1b[ind] # pO2\n",
    "    dataout2b = dataout2b[ind] # temp\n",
    "    vol_inhabitat_b = vol_inhabitat_b[ind]\n",
    "    del ind\n",
    "    \n",
    "  #  print('Min/Max pO2 in habitat:',np.min(dataout1b),np.max(dataout1b))\n",
    "  #  print('Min/Max t insitu in habitat:',np.min(dataout2b),np.max(dataout2b))\n",
    "    \n",
    "    totalvol_inhabitat = np.nansum(vol_inhabitat_b) # total in-habitat volume (accounting for bathymetry)\n",
    "  #  print('totalvol_inhabitat (3D):',totalvol_inhabitat) \n",
    "    vol_weights = vol_inhabitat_b/np.sum(vol_inhabitat_b)\n",
    "    #print(np.sum(vol_weights)) # as a check, should be 1\n",
    "    \n",
    "    # order of species in W, Winf etc not the same as in this i-loop!\n",
    "    # correct for that here (same was done for index_min_depth and index_max_depth)\n",
    "    iii = species_list.index(species_names[i])\n",
    "    \n",
    "    #------\n",
    "    # get Tpref & O2thresh -> see plot_AGI_toothfish_TPref_O2thresh_save_as_netcdf.ipynb\n",
    "    #   Tpref: 50th percentile in habitat (volume weighted)\n",
    "    #   O2thresh: 10th percentile in habitat (volume weighted)\n",
    "    tpref_species    = TPref[i]\n",
    "    o2thresh_species = o2thresh[i]   \n",
    "    #------\n",
    "    \n",
    "    #----\n",
    "    # calculate AGIcrit: 10th percentile in habitat (volume wieghted)\n",
    "    \n",
    "    #w_ratio = (W[iii]**(1-d))/(Winf[iii]**(1-d))\n",
    "    # UPDATE Jan 2023: adapt calculation of AGI to what is in Anne's paper (W, W_inf etc not needed anymore)\n",
    "    w_ratio = ((1./3.)**(1-d))\n",
    "    a1 = np.exp((j_diff/(tpref_species+273.15)) - (j_diff/(dataout2b+273.15)))\n",
    "    \n",
    "    AGI = dataout1b/(o2thresh_species*w_ratio*a1)\n",
    "    #print('Min/Max AGI in 3D habitat:',np.min(AGI),np.max(AGI))\n",
    "    \n",
    "    #print(AGI.shape)\n",
    "    #print(vol_inhabitat_b.shape)\n",
    "    \n",
    "    res = weighted_quantile(AGI, [0.1], sample_weight=vol_weights)\n",
    "    \n",
    "    ind_hab = np.where(AGI>AGI_crit[i])[0]\n",
    "    \n",
    "  #  #---\n",
    "  #  # correction November 2023\n",
    "  #  mask_habitat = np.zeros_like(AGI) \n",
    "  #  AGI[AGI.mask==True]=-999 # DOES THIS line change the problem with identifying prey at a depth level where it shouldn't be?\n",
    "  #  ind_hab = np.where(AGI>AGI_crit[i]) # if AGI contains masked cells, these will be interpreted as >1 here!!!!\n",
    "  #  mask_habitat[ind_hab] = 1\n",
    "  #  mask_habitat[mask_habitat.mask==True]=0\n",
    "  #  #---   \n",
    "  #  \n",
    "  #  # old code\n",
    "  #  #ind_hab = np.where(AGI>AGI_crit[i]) #[0]\n",
    "  #  #mask_habitat = np.zeros_like(AGI) #\n",
    "  #  #mask_habitat[ind_hab] = 1\n",
    "    \n",
    "    \n",
    "    #print(ind_hab.shape)\n",
    "    #print('volume above AGIcrit:',np.sum(vol_inhabitat_b[ind_hab]))\n",
    "    #print('total volume:',totalvol_inhabitat)\n",
    "    #print('Ratio:',np.sum(vol_inhabitat_b[ind_hab])/totalvol_inhabitat)\n",
    "    \n",
    "    # return: AGIcrit_future, volume above AGIcrit_present_day, total volume\n",
    "    return res[0],np.sum(vol_inhabitat_b[ind_hab]),np.sum(vol_inhabitat_b)\n",
    "    \n",
    "def get_mask_viable_habitat(i,hab_field,vol,pO2,t_insitu,index_min_depth,index_max_depth,\\\n",
    "                                    species_list,species_names,TPref,o2thresh,AGI_crit,j_diff,mask):\n",
    "    # NOTE: \"mask\" is 2D field; can be an MPA or the whole Southern Ocean (array of ones in this case)\n",
    "    \n",
    "    # turn mask into 3D\n",
    "    mask3D = np.tile(mask,[88,1,1])\n",
    "    #mask3D = mask3D[index_min_depth[i]:index_max_depth[i]+1,:,:] # select depth levels of interest\n",
    "    \n",
    "    # set mask outside of depth range to zero\n",
    "    if index_min_depth[i]>0:\n",
    "        mask3D[0:index_min_depth[i]:,:] = 0\n",
    "    mask3D[index_max_depth[i]:,:,:] = 0\n",
    "    \n",
    "    ### select the data/volume over the relevant depth range, correct with habitat array\n",
    "    # NOTE: index_min_depth[i]:index_max_depth[i]    or.    index_min_depth[i]:index_max_depth[i]+1   ?\n",
    "    vol_inhabitat = (vol.values[:,:,:]*hab_field*mask3D) \n",
    "    dataout1      = (pO2[:,:,:]*hab_field*mask3D)\n",
    "    dataout2      = (t_insitu[:,:,:]*hab_field*mask3D)\n",
    "    #print(dataout1.shape) # depth x lat x lon\n",
    "    \n",
    "    # use all months -> don't \"ravel\" here to keep the depths x lat x lon format\n",
    "    dataout1b = dataout1[:,:,:] #.ravel() # pO2\n",
    "    dataout2b = dataout2[:,:,:] #.ravel() # temp\n",
    "    # make sure volume array has dimensions months x depths x lat x lon before applying ravel()\n",
    "    vol_inhabitat_b = np.copy(vol_inhabitat) #.ravel() #np.tile(vol_inhabitat,(12,1,1,1)).ravel() \n",
    "    \n",
    "    dataout2b       = np.ma.masked_where(np.isnan(dataout1b),dataout2b) # every available node\n",
    "    vol_inhabitat_b = np.ma.masked_where(np.isnan(dataout1b),vol_inhabitat_b)\n",
    "    dataout1b       = np.ma.masked_where(np.isnan(dataout1b),dataout1b)\n",
    "    \n",
    "    dataout2b       = np.ma.masked_where(dataout1b==0,dataout2b) # every available node\n",
    "    vol_inhabitat_b = np.ma.masked_where(dataout1b==0,vol_inhabitat_b)\n",
    "    dataout1b       = np.ma.masked_where(dataout1b==0,dataout1b)\n",
    "    \n",
    "    vol_weights = vol_inhabitat_b/np.nansum(vol_inhabitat_b)\n",
    "    \n",
    "    # order of species in W, Winf etc not the same as in this i-loop!\n",
    "    # correct for that here (same was done for index_min_depth and index_max_depth)\n",
    "    iii = species_list.index(species_names[i])\n",
    "    \n",
    "    #------\n",
    "    # get Tpref & O2thresh -> see plot_AGI_toothfish_TPref_O2thresh_save_as_netcdf.ipynb\n",
    "    #   Tpref: 50th percentile in habitat (volume weighted)\n",
    "    #   O2thresh: 10th percentile in habitat (volume weighted)\n",
    "    tpref_species    = TPref[i]\n",
    "    o2thresh_species = o2thresh[i]   \n",
    "    #------\n",
    "    \n",
    "    #----\n",
    "    # calculate AGIcrit: 10th percentile in habitat (volume wieghted)\n",
    "    \n",
    "    #w_ratio = (W[iii]**(1-d))/(Winf[iii]**(1-d))\n",
    "    # UPDATE Jan 2023: adapt calculation of AGI to what is in Anne's paper (W, W_inf etc not needed anymore)\n",
    "    w_ratio = ((1./3.)**(1-d))\n",
    "    a1 = np.exp((j_diff/(tpref_species+273.15)) - (j_diff/(dataout2b+273.15)))\n",
    "    \n",
    "    AGI = dataout1b/(o2thresh_species*w_ratio*a1)\n",
    "    \n",
    "    #res = weighted_quantile(AGI, [0.1], sample_weight=vol_weights)\n",
    "    \n",
    "    ind_hab = np.where(AGI>AGI_crit[i]) #[0]\n",
    "    \n",
    "    mask_habitat = np.zeros_like(AGI) #\n",
    "    mask_habitat[ind_hab] = 1\n",
    "\n",
    "    return mask_habitat,vol_inhabitat_b,np.sum(vol_inhabitat_b[ind_hab])\n",
    "    "
   ]
  },
  {
   "cell_type": "code",
   "execution_count": 39,
   "metadata": {
    "tags": []
   },
   "outputs": [
    {
     "name": "stdout",
     "output_type": "stream",
     "text": [
      "0 Dissostichus mawsoni\n",
      "/pscratch/sd/c/cnissen/AGI_toothfish_project/all_prey_plus_toothfish/Reviewed_Dissostichus_mawsoni_modelgrid_boolean.nc\n"
     ]
    },
    {
     "name": "stderr",
     "output_type": "stream",
     "text": [
      "100%|██████████| 5/5 [00:09<00:00,  1.87s/it]\n"
     ]
    },
    {
     "name": "stdout",
     "output_type": "stream",
     "text": [
      "1 Trematomus loennbergii\n",
      "/pscratch/sd/c/cnissen/AGI_toothfish_project/all_prey_plus_toothfish/Reviewed_Trematomus_loennbergii_modelgrid_boolean.nc\n"
     ]
    },
    {
     "name": "stderr",
     "output_type": "stream",
     "text": [
      "100%|██████████| 5/5 [00:04<00:00,  1.10it/s]\n"
     ]
    },
    {
     "name": "stdout",
     "output_type": "stream",
     "text": [
      "2 Macrourus whitsoni\n",
      "/pscratch/sd/c/cnissen/AGI_toothfish_project/all_prey_plus_toothfish/Reviewed_Macrourus_whitsoni_modelgrid_boolean.nc\n"
     ]
    },
    {
     "name": "stderr",
     "output_type": "stream",
     "text": [
      "100%|██████████| 5/5 [00:07<00:00,  1.52s/it]\n"
     ]
    },
    {
     "name": "stdout",
     "output_type": "stream",
     "text": [
      "3 Galiteuthis glacialis\n",
      "/pscratch/sd/c/cnissen/AGI_toothfish_project/all_prey_plus_toothfish/Galiteuthis_glacialis_modelgrid_boolean.nc\n"
     ]
    },
    {
     "name": "stderr",
     "output_type": "stream",
     "text": [
      "100%|██████████| 5/5 [00:13<00:00,  2.68s/it]\n"
     ]
    },
    {
     "name": "stdout",
     "output_type": "stream",
     "text": [
      "4 Chionodraco hamatus\n",
      "/pscratch/sd/c/cnissen/AGI_toothfish_project/all_prey_plus_toothfish/Reviewed_Chionodraco_hamatus_modelgrid_boolean.nc\n"
     ]
    },
    {
     "name": "stderr",
     "output_type": "stream",
     "text": [
      "100%|██████████| 5/5 [00:01<00:00,  3.48it/s]\n"
     ]
    },
    {
     "name": "stdout",
     "output_type": "stream",
     "text": [
      "5 Anotopterus vorax\n",
      "/pscratch/sd/c/cnissen/AGI_toothfish_project/all_prey_plus_toothfish/Default_Anotopterus_vorax_modelgrid_boolean.nc\n"
     ]
    },
    {
     "name": "stderr",
     "output_type": "stream",
     "text": [
      "100%|██████████| 5/5 [00:04<00:00,  1.01it/s]\n"
     ]
    },
    {
     "name": "stdout",
     "output_type": "stream",
     "text": [
      "6 Chaenodraco wilsoni\n",
      "/pscratch/sd/c/cnissen/AGI_toothfish_project/all_prey_plus_toothfish/Default_Chaenodraco_wilsoni_modelgrid_boolean.nc\n"
     ]
    },
    {
     "name": "stderr",
     "output_type": "stream",
     "text": [
      "100%|██████████| 5/5 [00:02<00:00,  1.70it/s]\n"
     ]
    },
    {
     "name": "stdout",
     "output_type": "stream",
     "text": [
      "7 Kondakovia longimana\n",
      "/pscratch/sd/c/cnissen/AGI_toothfish_project/all_prey_plus_toothfish/Kondakovia_longimana_modelgrid_boolean.nc\n"
     ]
    },
    {
     "name": "stderr",
     "output_type": "stream",
     "text": [
      "100%|██████████| 5/5 [00:06<00:00,  1.35s/it]\n"
     ]
    },
    {
     "name": "stdout",
     "output_type": "stream",
     "text": [
      "8 Cryodraco antarcticus\n",
      "/pscratch/sd/c/cnissen/AGI_toothfish_project/all_prey_plus_toothfish/Default_Cryodraco_antarcticus_modelgrid_boolean.nc\n"
     ]
    },
    {
     "name": "stderr",
     "output_type": "stream",
     "text": [
      "100%|██████████| 5/5 [00:02<00:00,  1.69it/s]\n"
     ]
    },
    {
     "name": "stdout",
     "output_type": "stream",
     "text": [
      "9 Muraenolepis microps\n",
      "/pscratch/sd/c/cnissen/AGI_toothfish_project/all_prey_plus_toothfish/Reviewed_Muraenolepis_microps_modelgrid_boolean.nc\n"
     ]
    },
    {
     "name": "stderr",
     "output_type": "stream",
     "text": [
      "100%|██████████| 5/5 [00:06<00:00,  1.34s/it]\n"
     ]
    },
    {
     "name": "stdout",
     "output_type": "stream",
     "text": [
      "10 Psychroteuthis glacialis\n",
      "/pscratch/sd/c/cnissen/AGI_toothfish_project/all_prey_plus_toothfish/Reviewed_Psychroteuthis_glacialis_modelgrid_boolean.nc\n"
     ]
    },
    {
     "name": "stderr",
     "output_type": "stream",
     "text": [
      "100%|██████████| 5/5 [00:00<00:00,  5.10it/s]\n"
     ]
    },
    {
     "name": "stdout",
     "output_type": "stream",
     "text": [
      "11 Gymnodraco acuticeps\n",
      "/pscratch/sd/c/cnissen/AGI_toothfish_project/all_prey_plus_toothfish/Reviewed_Gymnodraco_acuticeps_modelgrid_boolean.nc\n"
     ]
    },
    {
     "name": "stderr",
     "output_type": "stream",
     "text": [
      "100%|██████████| 5/5 [00:01<00:00,  3.66it/s]\n"
     ]
    },
    {
     "name": "stdout",
     "output_type": "stream",
     "text": [
      "12 Amblyraja georgiana\n",
      "/pscratch/sd/c/cnissen/AGI_toothfish_project/all_prey_plus_toothfish/Reviewed_Amblyraja_georgiana_modelgrid_boolean.nc\n"
     ]
    },
    {
     "name": "stderr",
     "output_type": "stream",
     "text": [
      "100%|██████████| 5/5 [00:00<00:00,  5.28it/s]\n"
     ]
    },
    {
     "name": "stdout",
     "output_type": "stream",
     "text": [
      "13 Antarctomysis maxima\n",
      "/pscratch/sd/c/cnissen/AGI_toothfish_project/all_prey_plus_toothfish/Reviewed_Antarctomysis_maxima_modelgrid_boolean.nc\n"
     ]
    },
    {
     "name": "stderr",
     "output_type": "stream",
     "text": [
      "100%|██████████| 5/5 [00:00<00:00,  5.25it/s]\n"
     ]
    },
    {
     "name": "stdout",
     "output_type": "stream",
     "text": [
      "14 Lepidonotothen squamifrons\n",
      "/pscratch/sd/c/cnissen/AGI_toothfish_project/all_prey_plus_toothfish/Default_Lepidonotothen_squamifrons_modelgrid_boolean.nc\n"
     ]
    },
    {
     "name": "stderr",
     "output_type": "stream",
     "text": [
      "100%|██████████| 5/5 [00:05<00:00,  1.03s/it]\n"
     ]
    },
    {
     "name": "stdout",
     "output_type": "stream",
     "text": [
      "15 Mesonychoteuthis hamiltoni\n",
      "/pscratch/sd/c/cnissen/AGI_toothfish_project/all_prey_plus_toothfish/Mesonychoteuthis_hamiltoni_modelgrid_boolean.nc\n"
     ]
    },
    {
     "name": "stderr",
     "output_type": "stream",
     "text": [
      "100%|██████████| 5/5 [00:04<00:00,  1.10it/s]\n"
     ]
    },
    {
     "name": "stdout",
     "output_type": "stream",
     "text": [
      "16 Pleuragramma antarctica\n",
      "/pscratch/sd/c/cnissen/AGI_toothfish_project/all_prey_plus_toothfish/Reviewed_Pleuragramma_antarctica_modelgrid_boolean.nc\n"
     ]
    },
    {
     "name": "stderr",
     "output_type": "stream",
     "text": [
      "100%|██████████| 5/5 [00:05<00:00,  1.16s/it]\n"
     ]
    },
    {
     "name": "stdout",
     "output_type": "stream",
     "text": [
      "17 Euphausia superba\n",
      "/pscratch/sd/c/cnissen/AGI_toothfish_project/all_prey_plus_toothfish/Reviewed_Euphausia_superba_modelgrid_boolean.nc\n"
     ]
    },
    {
     "name": "stderr",
     "output_type": "stream",
     "text": [
      "100%|██████████| 5/5 [00:12<00:00,  2.50s/it]\n"
     ]
    },
    {
     "name": "stdout",
     "output_type": "stream",
     "text": [
      "18 Notothenia coriiceps\n",
      "/pscratch/sd/c/cnissen/AGI_toothfish_project/all_prey_plus_toothfish/Default_Notothenia_coriiceps_modelgrid_boolean.nc\n"
     ]
    },
    {
     "name": "stderr",
     "output_type": "stream",
     "text": [
      "100%|██████████| 5/5 [00:04<00:00,  1.24it/s]\n"
     ]
    },
    {
     "name": "stdout",
     "output_type": "stream",
     "text": [
      "19 Trematomus lepidorhinus\n",
      "/pscratch/sd/c/cnissen/AGI_toothfish_project/all_prey_plus_toothfish/Reviewed_Trematomus_lepidorhinus_modelgrid_boolean.nc\n"
     ]
    },
    {
     "name": "stderr",
     "output_type": "stream",
     "text": [
      "100%|██████████| 5/5 [00:00<00:00,  5.01it/s]\n"
     ]
    },
    {
     "name": "stdout",
     "output_type": "stream",
     "text": [
      "20 Pagothenia borchgrevinki\n",
      "/pscratch/sd/c/cnissen/AGI_toothfish_project/all_prey_plus_toothfish/Reviewed_Pagothenia_borchgrevinki_modelgrid_boolean.nc\n"
     ]
    },
    {
     "name": "stderr",
     "output_type": "stream",
     "text": [
      "100%|██████████| 5/5 [00:00<00:00, 10.51it/s]\n"
     ]
    },
    {
     "name": "stdout",
     "output_type": "stream",
     "text": [
      "21 Lycenchelys aratrirostris\n",
      "/pscratch/sd/c/cnissen/AGI_toothfish_project/all_prey_plus_toothfish/Reviewed_Lycenchelys_aratrirostris_modelgrid_boolean.nc\n"
     ]
    },
    {
     "name": "stderr",
     "output_type": "stream",
     "text": [
      "100%|██████████| 5/5 [00:00<00:00,  7.38it/s]\n"
     ]
    },
    {
     "name": "stdout",
     "output_type": "stream",
     "text": [
      "22 Neopagetopsis ionah\n",
      "/pscratch/sd/c/cnissen/AGI_toothfish_project/all_prey_plus_toothfish/Reviewed_Neopagetopsis_ionah_modelgrid_boolean.nc\n"
     ]
    },
    {
     "name": "stderr",
     "output_type": "stream",
     "text": [
      "100%|██████████| 5/5 [00:05<00:00,  1.01s/it]\n"
     ]
    },
    {
     "name": "stdout",
     "output_type": "stream",
     "text": [
      "23 Chaenocephalus aceratus\n",
      "/pscratch/sd/c/cnissen/AGI_toothfish_project/all_prey_plus_toothfish/Default_Chaenocephalus_aceratus_modelgrid_boolean.nc\n"
     ]
    },
    {
     "name": "stderr",
     "output_type": "stream",
     "text": [
      "100%|██████████| 5/5 [00:04<00:00,  1.09it/s]\n"
     ]
    },
    {
     "name": "stdout",
     "output_type": "stream",
     "text": [
      "24 Trematomus hansoni\n",
      "/pscratch/sd/c/cnissen/AGI_toothfish_project/all_prey_plus_toothfish/Default_Trematomus_hansoni_modelgrid_boolean.nc\n"
     ]
    },
    {
     "name": "stderr",
     "output_type": "stream",
     "text": [
      "100%|██████████| 5/5 [00:03<00:00,  1.26it/s]\n"
     ]
    },
    {
     "name": "stdout",
     "output_type": "stream",
     "text": [
      "25 Chionobathyscus dewitti\n",
      "/pscratch/sd/c/cnissen/AGI_toothfish_project/all_prey_plus_toothfish/Default_Chionobathyscus_dewitti_All_Suitable_Habitat_modelgrid_boolean.nc\n"
     ]
    },
    {
     "name": "stderr",
     "output_type": "stream",
     "text": [
      "100%|██████████| 5/5 [00:04<00:00,  1.20it/s]\n"
     ]
    },
    {
     "name": "stdout",
     "output_type": "stream",
     "text": [
      "26 Euphausia crystallorophias\n",
      "/pscratch/sd/c/cnissen/AGI_toothfish_project/all_prey_plus_toothfish/Default_Euphausia_crystallorophias_modelgrid_boolean.nc\n"
     ]
    },
    {
     "name": "stderr",
     "output_type": "stream",
     "text": [
      "100%|██████████| 5/5 [00:07<00:00,  1.57s/it]\n"
     ]
    },
    {
     "name": "stdout",
     "output_type": "stream",
     "text": [
      "27 Notothenia rossii\n",
      "/pscratch/sd/c/cnissen/AGI_toothfish_project/all_prey_plus_toothfish/Default_Notothenia_rossii_modelgrid_boolean.nc\n"
     ]
    },
    {
     "name": "stderr",
     "output_type": "stream",
     "text": [
      "100%|██████████| 5/5 [00:02<00:00,  1.91it/s]\n"
     ]
    },
    {
     "name": "stdout",
     "output_type": "stream",
     "text": [
      "28 Bathyraja maccaini\n",
      "/pscratch/sd/c/cnissen/AGI_toothfish_project/all_prey_plus_toothfish/Reviewed_Bathyraja_maccaini_modelgrid_boolean.nc\n"
     ]
    },
    {
     "name": "stderr",
     "output_type": "stream",
     "text": [
      "100%|██████████| 5/5 [00:01<00:00,  2.81it/s]"
     ]
    },
    {
     "name": "stdout",
     "output_type": "stream",
     "text": [
      "done\n"
     ]
    },
    {
     "name": "stderr",
     "output_type": "stream",
     "text": [
      "\n"
     ]
    }
   ],
   "source": [
    "#---\n",
    "# get habitat loss for each species and each depth intervall\n",
    "#---\n",
    "\n",
    "from netCDF4 import Dataset\n",
    "from datetime import datetime\n",
    "from tqdm import tqdm\n",
    "\n",
    "today = datetime.today()\n",
    "\n",
    "save_as_netcdf = True\n",
    "\n",
    "# first version\n",
    "#depth_list1 = [0,   0,  250,750, 1500]\n",
    "#depth_list2 = [3500,250,750,1500,3500]\n",
    "\n",
    "# second version (motivated by temp & O2 changes in toothfish habitat)\n",
    "depth_list1 = [0,   0,  400,700, 1000]\n",
    "depth_list2 = [3500,400,700,1000,3500]\n",
    "\n",
    "levels[0]=0\n",
    "    \n",
    "habitat_loss = np.zeros([len(species_names),len(depth_list1)])\n",
    "for i in range(0,len(species_names)):\n",
    "    print(i,species_names[i])\n",
    "    print(habitat_file_names[i])\n",
    "    \n",
    "    for dd in tqdm(range(0,len(depth_list1))):\n",
    "        depth1,depth2 = depth_list1[dd],depth_list2[dd] #750,1500 #250,750 #0,250 #1000,2000 #0,3000\n",
    "        ind_depths = np.where((levels>=depth1) & (levels<depth2))[0]\n",
    "\n",
    "        ### Get the in-habitat data for each species over the relevant depth range ###\n",
    "        file_habitat = habitat_file_names[i]\n",
    "        data_hab     = xr.open_dataset(file_habitat) # 2D habitat presence/absence data (1 for present or 0 for absent)\n",
    "        av_depths = np.arange(index_min_depth[i],index_max_depth[i]+1,1)\n",
    "        \n",
    "        overlap = np.array(list(set(ind_depths) & set(av_depths)))\n",
    "        \n",
    "        if len(overlap)>0: # only of some depth levels are available for current species\n",
    "            # make sure the habitat field has dimensions depth x lat x lon before applying it to the respective fields\n",
    "            num_depth = len(overlap) \n",
    "            hab_field = np.tile(data_hab['presence'].values,(num_depth,1,1))\n",
    "            data_hab.close()\n",
    "\n",
    "            AGI_crit_present,vol_hab1,tot_vol = get_habitable_volume(i,hab_field,vol,pO2_1,t_insitu_1,\\\n",
    "                                                                     overlap,\\\n",
    "                                            species_list,species_names,TPref,o2thresh,AGI_crit,j_diff)\n",
    "            del tot_vol\n",
    "\n",
    "            # get habitable volume in present-day \n",
    "            AGI_crit_future,vol_hab2,tot_vol = get_habitable_volume(i,hab_field,vol,pO2_2,t_insitu_2,\\\n",
    "                                                                    overlap,\\\n",
    "                                            species_list,species_names,TPref,o2thresh,AGI_crit,j_diff)\n",
    "\n",
    "            #print('AGIcrit present-day vs future:',AGI_crit[i],AGI_crit_future)\n",
    "            #print('habitable volume present-day (volume above present-day AGIcrit, =90%):',vol_hab1)\n",
    "            #print('habitable volume future (volume above present-day AGIcrit):',vol_hab2)\n",
    "            #print(tot_vol)\n",
    "            #print('Ratio of future habitable volume to total volume',100*vol_hab2/tot_vol)\n",
    "            #print('Habitat loss (90% minus future habitable volume):',90-100*vol_hab2/tot_vol)\n",
    "            # in the present-day, the above is 90% (per definition)\n",
    "            # anything below 90% is a habitat loss\n",
    "            habitat_loss[i,dd] = 90-100*vol_hab2/tot_vol\n",
    "            \n",
    "            del AGI_crit_present,AGI_crit_future,vol_hab1,vol_hab2,tot_vol,hab_field\n",
    "\n",
    "        del overlap,av_depths,data_hab,file_habitat,ind_depths,depth1,depth2\n",
    "        \n",
    "    #----\n",
    "    # save as netcdf\n",
    "    #----\n",
    "    if save_as_netcdf:\n",
    "        #-----\n",
    "        # create file & define dimensions\n",
    "        #-----\n",
    "        savepath = '/pscratch/sd/c/cnissen/AGI_toothfish_project/habitat_loss/'\n",
    "        netcdf_name = 'Habitat_loss_'+str(year_list2[0])+'_'+str(year_list2[-1])+'_rel_to_'+\\\n",
    "                            str(year_list1[0])+'_'+str(year_list1[-1])+'_'+which_sim+'_'+drift_corr+'.nc'\n",
    "        if not os.path.exists(savepath+netcdf_name):\n",
    "            print ('Create file '+savepath+netcdf_name)\n",
    "            w_nc_fid = Dataset(savepath+netcdf_name, 'w', format='NETCDF4_CLASSIC')\n",
    "            # create dimension & variable\n",
    "            w_nc_fid.createDimension('species_names', len(species_names)) \n",
    "            w_nc_fid.createDimension('depth_intervals', len(depth_list1)) \n",
    "            w_nc_fid.close()\n",
    "\n",
    "            #-----\n",
    "            # global information\n",
    "            #-----\n",
    "            #----\n",
    "            script_name = 'plot_PAPER_AGI_toothfish_present_vs_future_habitat_ALL_TOGETHER_save_as_netcdf.ipynb'\n",
    "            w_nc_fid = Dataset(savepath+netcdf_name, 'r+', format='NETCDF4_CLASSIC')\n",
    "            w_nc_fid.species_names1 = '0=Dissostichus mawsoni, 1=Trematomus loennbergii, 2=Macrourus whitsoni, 3=Galiteuthis glacialis'\n",
    "            w_nc_fid.species_names2 = '4=Chionodraco hamatus, 5=Anotopterus vorax, 6=Chaenodraco wilsoni, 7=Kondakovia longimana'\n",
    "            w_nc_fid.species_names3 = '8=Cryodraco antarcticus, 9=Muraenolepis microps, 10=Psychroteuthis glacialis, 11=Gymnodraco acuticeps'\n",
    "            w_nc_fid.species_names4 = '12=Amblyraja georgiana, 13=Antarctomysis maxima, 14=Lepidonotothen 15=squamifrons, 16=Mesonychoteuthis hamiltoni'\n",
    "            w_nc_fid.species_names5 = '17=Pleuragramma antarctica, 18=Euphausia superba, 19=Notothenia coriiceps, 20=Trematomus lepidorhinus'\n",
    "            w_nc_fid.species_names6 = '21=Pagothenia borchgrevinki, 22=Lycenchelys aratrirostris, 23=Neopagetopsis ionah, 24=Chaenocephalus aceratus'\n",
    "            w_nc_fid.species_names7 = '25=Trematomus hansoni, 26=Chionobathyscus dewitti, 27=Euphausia crystallorophias, 28=Notothenia rossii'\n",
    "            w_nc_fid.species_names8 = '29=Bathyraja maccaini'\n",
    "            w_nc_fid.AGI_crit = 'AGIcrit based on monthly mean climatology'\n",
    "            w_nc_fid.present_day = str(year_list1[0])+'-'+str(year_list1[-1])\n",
    "            w_nc_fid.future = str(year_list2[0])+'-'+str(year_list2[-1])\n",
    "            w_nc_fid.which_scenario = which_sim\n",
    "            w_nc_fid.history = \"Created \" + today.strftime(\"%d/%m/%y\")\n",
    "            w_nc_fid.script = script_name+\" (for internal information only)\"\n",
    "            w_nc_fid.close()\n",
    "            \n",
    "            #-----\n",
    "            # define variables\n",
    "            #-----\n",
    "            w_nc_fid = Dataset(savepath+netcdf_name, 'r+', format='NETCDF4_CLASSIC')      # Create and open new netcdf file to write to\n",
    "            w_nc_var1a = w_nc_fid.createVariable('habitat_loss', 'f4',('species_names','depth_intervals'))\n",
    "            w_nc_var1a.description = 'Loss of viable habitat (AGI>AGIcrit)'\n",
    "            w_nc_var1a.units = 'Mio km3'\n",
    "\n",
    "            w_nc_var1a = w_nc_fid.createVariable('depth_upper_bound', 'f4',('depth_intervals'))\n",
    "            w_nc_var1a = w_nc_fid.createVariable('depth_lower_bound', 'f4',('depth_intervals'))\n",
    "\n",
    "            w_nc_fid.close() \n",
    "\n",
    "        w_nc_fid = Dataset(savepath+netcdf_name, 'r+', format='NETCDF4_CLASSIC')      # Create and open new netcdf file to write to\n",
    "        w_nc_fid.variables['depth_upper_bound'][:]= depth_list1\n",
    "        w_nc_fid.variables['depth_lower_bound'][:]= depth_list2\n",
    "        w_nc_fid.variables['habitat_loss'][i,:]= habitat_loss[i,:]\n",
    "        w_nc_fid.close() \n",
    "    \n",
    "print('done')\n",
    "        "
   ]
  },
  {
   "cell_type": "code",
   "execution_count": null,
   "metadata": {
    "tags": []
   },
   "outputs": [],
   "source": []
  },
  {
   "cell_type": "code",
   "execution_count": null,
   "metadata": {
    "tags": []
   },
   "outputs": [],
   "source": []
  },
  {
   "cell_type": "code",
   "execution_count": null,
   "metadata": {},
   "outputs": [],
   "source": []
  }
 ],
 "metadata": {
  "kernelspec": {
   "display_name": "myenv-jupyter",
   "language": "python",
   "name": "myenv-jupyter"
  },
  "language_info": {
   "codemirror_mode": {
    "name": "ipython",
    "version": 3
   },
   "file_extension": ".py",
   "mimetype": "text/x-python",
   "name": "python",
   "nbconvert_exporter": "python",
   "pygments_lexer": "ipython3",
   "version": "3.9.12"
  }
 },
 "nbformat": 4,
 "nbformat_minor": 4
}
