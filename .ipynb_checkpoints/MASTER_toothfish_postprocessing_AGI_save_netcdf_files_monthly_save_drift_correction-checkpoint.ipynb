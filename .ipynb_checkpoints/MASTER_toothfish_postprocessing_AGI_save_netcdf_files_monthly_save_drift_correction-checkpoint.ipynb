{
 "cells": [
  {
   "cell_type": "markdown",
   "metadata": {},
   "source": [
    "# get drift in potential temperature and oxygen at every model grid cell\n",
    "\n",
    "# calculate pO2 and save as netcdf file\n",
    "# on regular mesh: 0.25° x 0.125°\n",
    "# monthly for the years 1995-2014\n"
   ]
  },
  {
   "cell_type": "code",
   "execution_count": 1,
   "metadata": {},
   "outputs": [],
   "source": [
    "#get_ipython().system(u'jupyter nbconvert --to=python MASTER_toothfish_postprocessing_AGI_save_netcdf_files_monthly.ipynb')"
   ]
  },
  {
   "cell_type": "code",
   "execution_count": 2,
   "metadata": {
    "tags": []
   },
   "outputs": [],
   "source": [
    "### modules\n",
    "import os\n",
    "import sys\n",
    "#sys.path.append('/home/ollie/jhauck/py_fesom/modules/')\n",
    "sys.path.append(\"pyfesom/\") # add pyfesom to search path\n",
    "sys.path.append(\"python_gsw_py3/\") \n",
    "import pyfesom as pf\n",
    "import numpy as np\n",
    "from scipy.interpolate import griddata\n",
    "import matplotlib\n",
    "import matplotlib.pyplot as plt\n",
    "from netCDF4 import Dataset\n",
    "from time import localtime, gmtime, strftime\n",
    "from netCDF4 import Dataset\n",
    "from matplotlib import cm \n",
    "#from mpl_toolkits.basemap import Basemap\n",
    "#from load_mesh_data_new import *\n",
    "#import seawater as sw\n",
    "from numba import njit\n",
    "from gsw import rho # rho from SA, CT, p\n",
    "from gsw import pt0_from_t # potTemp from SA, t, p (at reference pressure 0)\n",
    "from gsw import pt_from_t # potTemp from SA, t, p and reference pressure\n",
    "from gsw import pot_rho_t_exact # potRho from SA, t, p and reference pressure\n",
    "from gsw import p_from_z # get pressure from z and lat\n",
    "from gsw import CT_from_pt # conservative temp from potTemp and SA\n",
    "from gsw import rho_first_derivatives # first derivatives of rho with respect to SA, CT, p\n",
    "from gsw2 import sigma0_pt0_exact # gsw_sigma0_pt0_exact(SA,pt0)\n",
    "from gsw import SA_from_SP\n",
    "import pandas as pd\n",
    "import seawater as sw\n",
    "from tqdm import tqdm\n",
    "#from gsw import O2sol_SP_pt"
   ]
  },
  {
   "cell_type": "code",
   "execution_count": 3,
   "metadata": {},
   "outputs": [],
   "source": [
    "#-----\n",
    "## simulations\n",
    "#-----\n",
    "latlim = -45 # restrict interpolated output to south of this latitude\n",
    "\n",
    "#-----\n",
    "## path to data\n",
    "#-----\n",
    "meshpath = '/pscratch/sd/c/cnissen/mesh_COARZE/'\n"
   ]
  },
  {
   "cell_type": "code",
   "execution_count": 4,
   "metadata": {},
   "outputs": [
    {
     "name": "stdout",
     "output_type": "stream",
     "text": [
      "(72411,)\n",
      "(2745299,)\n"
     ]
    }
   ],
   "source": [
    "#-----\n",
    "# load mesh file\n",
    "#-----\n",
    "\n",
    "mesh = pf.load_mesh(meshpath, get3d=True,usepickle=False)\n",
    "\n",
    "path_mesh = '/pscratch/sd/c/cnissen/'\n",
    "file_mesh = 'Nissen2022_FESOM_REcoM_mesh_information_corrected_20220910.nc'\n",
    "\n",
    "f1 = Dataset(path_mesh+file_mesh) #xr.open_dataset(path+file1)\n",
    "lats      = f1.variables['lat'][:]\n",
    "lons      = f1.variables['lon'][:]\n",
    "zlevs     = f1.variables['zlevs'][:]\n",
    "cavities = f1.variables['cavity'][:]\n",
    "topo     = f1.variables['topo'][:]\n",
    "area_nodes     = f1.variables['cell_area'][:]\n",
    "volume   = f1.variables['cell_volume'][:]\n",
    "f1.close()\n",
    "print(lats.shape)\n",
    "\n",
    "ind_no_cavity = np.where(cavities==0)[0]\n",
    "ind_cavities = np.where(cavities==1)[0]\n",
    "\n",
    "#\n",
    "df = pd.read_csv('/pscratch/sd/c/cnissen/HLRN_runs_postprocessed/nod3d.out', delim_whitespace=True, skiprows=1, \\\n",
    "                        names=['node_number','x','y','z','flag'])\n",
    "lats3d    = df.y.values\n",
    "lons3d    = df.x.values\n",
    "zlevs3d = df.z.values\n",
    "print (zlevs3d.shape)\n"
   ]
  },
  {
   "cell_type": "code",
   "execution_count": 5,
   "metadata": {},
   "outputs": [],
   "source": [
    "#------\n",
    "# FUNCTIONS\n",
    "#------\n",
    "\n",
    "def transform_lon_coord(data,grid_resolution_x):\n",
    "    # change lon coordinate in 2D array from 0-360 to -180:180\n",
    "    # for 2D arrays: assume lon coordinate to be the 2nd dimension  \n",
    "    if grid_resolution_x==1.0: \n",
    "        num_lon = 360/2\n",
    "    elif grid_resolution_x==0.5: \n",
    "        num_lon = 720/2\n",
    "    elif grid_resolution_x==0.25: \n",
    "        num_lon = 1440/2\n",
    "    elif grid_resolution_x==0.125: \n",
    "        num_lon = 2880/2\n",
    "    #print num_lon\n",
    "        \n",
    "    if len(data.shape)==2:\n",
    "        data_transformed          = np.empty_like(data)\n",
    "        #data_transformed[0:180,:] = data[180:,:]\n",
    "        #data_transformed[180:,:]  = data[0:180,:] \n",
    "        data_transformed[:,0:num_lon] = data[:,num_lon:]\n",
    "        data_transformed[:,num_lon:]  = data[:,0:num_lon]   \n",
    "    elif len(data.shape)==1:\n",
    "        data_transformed          = np.empty_like(data)\n",
    "        data_transformed[0:num_lon] = data[num_lon:]\n",
    "        data_transformed[num_lon:]  = data[0:num_lon]\n",
    "    return data_transformed\n",
    "\n",
    "@njit\n",
    "def reorganize_field_in_cavities(ind_cavities,data): \n",
    "    for ii in ind_cavities: #ind_cavities: \n",
    "        bb = data[:,ii] # get all depth levels at current cavity node\n",
    "        ind_av = np.where(bb>0)[0] # get indices of all depth levels that are NOT masked\n",
    "        #ind_av = bb>=0 #bb.mask==False\n",
    "        #nd_av = np.where(ind_av==True)[0]\n",
    "        #print ind_av\n",
    "        # if surface value is filled, but thereafter there is a gap: \n",
    "        if len(ind_av)>1:\n",
    "            if (ind_av[1]-ind_av[0])>1:  #any(np.diff(ind_av)>1):  \n",
    "                bb[ind_av[1]-1]=bb[ind_av[0]] # move \"surface\" value to correct depth\n",
    "                bb[ind_av[0]] = 0 # set surface entry to zero\n",
    "               \n",
    "        data[:,ii] = bb # overwrite original field\n",
    "    return data\n"
   ]
  },
  {
   "cell_type": "code",
   "execution_count": 6,
   "metadata": {
    "scrolled": true
   },
   "outputs": [
    {
     "name": "stdout",
     "output_type": "stream",
     "text": [
      "(360, 1440)\n",
      "CHECK\n",
      "Southern Ocean surface area (0.25° x 0.125° mesh): 60193145000000.0 m2\n",
      "Southern Ocean surface area (native mesh): 47211442000000.0 m2 (ocean only)\n"
     ]
    }
   ],
   "source": [
    "#-------\n",
    "# 1) surface area of cells of interpolated grid ('area')\n",
    "# 2) volume of cells of interpolated grid ('volume')\n",
    "#-------\n",
    "\n",
    "#meshfile_interp = '/work/ollie/ncara/fesom/fesom-1.4-recom/HLRN/files_toothfish_project_AGI/'+\\\n",
    "#        'Mesh_ancillary_information_v20220725.nc'\n",
    "meshfile_interp = '/pscratch/sd/c/cnissen/files_toothfish_project_AGI/'+\\\n",
    "        'Mesh_ancillary_information_v20220725.nc'\n",
    "file1 = Dataset(meshfile_interp)\n",
    "    \n",
    "grid_resolution_x = 0.25 #0.5,0.25 # define grid resolution of regular mesh\n",
    "grid_resolution_y = 0.125 #0.5,0.0625\n",
    "\n",
    "xi = file1.variables['lon'][:] # longitude\n",
    "yi = file1.variables['lat'][:] # latitude\n",
    "depths = file1.variables['depth'][:] # depth\n",
    "x_all,y_all = np.meshgrid(xi,yi) #xi[:-1],yi[:-1])\n",
    "print (x_all.shape)\n",
    "\n",
    "area = file1.variables['area'][:,:]\n",
    "mask_vol = file1.variables['mask_vol'][:,:,:] # mask; depth x lat x lon\n",
    "mask_sfc = file1.variables['mask_sfc'][:,:] # mask; lat x lon\n",
    "file1.close()\n",
    "    \n",
    "print ('CHECK')\n",
    "print ('Southern Ocean surface area ('+str(grid_resolution_x)+'° x '+str(grid_resolution_y)+\\\n",
    "            '° mesh): '+str(np.sum(area[mask_sfc==1]))+' m2')\n",
    "indSO_native = np.where(mesh.y2<=-50)[0]\n",
    "print ('Southern Ocean surface area (native mesh): '+\\\n",
    "       str(np.sum(area_nodes[indSO_native]))+' m2 (ocean only)')\n",
    "\n",
    "\n"
   ]
  },
  {
   "cell_type": "code",
   "execution_count": 7,
   "metadata": {},
   "outputs": [],
   "source": [
    "#-----\n",
    "# constants for calculation of pO2\n",
    "#-----\n",
    "\n",
    "# convert O2 from mmol m-3 to mol kg-1\n",
    "# convert T_pot to T_insitu\n",
    "\n",
    "ref_pressure = 0\n",
    "\n",
    "#-----\n",
    "# constants\n",
    "#-----\n",
    "xO2 = 0.20946 # O2 mole fraction dry air\n",
    "Vm = 0.317 # partial molar volume O2 (m3 mol-1 Pa dbar-1)\n",
    "R = 8.3145 # gas constant in m3 Pa K-1 mol -1\n",
    "KC = 273.15 # deg C to Kelvin\n",
    "\n",
    "A0 = 5.80871\n",
    "A1 = 3.20291\n",
    "A2 = 4.17887\n",
    "A3 = 5.10006\n",
    "A4 = -0.0986643\n",
    "A5 = 3.80369\n",
    "B0 = -0.00701577\n",
    "B1 = -0.00770028\n",
    "B2 = -0.0113864\n",
    "B3 = -0.00951519\n",
    "C0 = -0.000000275915\n",
    "D0 = 24.4543\n",
    "D1 = -67.4509\n",
    "D2 = -4.8489\n",
    "D3 = -5.44*1e-4\n"
   ]
  },
  {
   "cell_type": "code",
   "execution_count": 8,
   "metadata": {
    "tags": []
   },
   "outputs": [],
   "source": [
    "#----\n",
    "# what do I want to do?\n",
    "#----\n",
    "# at each grid cell, get avg thetao, so, and bgc22 for 1995-2014 and future_time_slice\n",
    "#    calculate t_insitu and pO2 for the two time slices\n",
    "#    save as netcdf\n",
    "#----"
   ]
  },
  {
   "cell_type": "code",
   "execution_count": 9,
   "metadata": {
    "tags": []
   },
   "outputs": [
    {
     "name": "stdout",
     "output_type": "stream",
     "text": [
      "Process year 1995\n",
      "Process year 1996\n",
      "Process year 1997\n",
      "Process year 1998\n",
      "Process year 1999\n",
      "Process year 2000\n",
      "Process year 2001\n",
      "Process year 2002\n",
      "Process year 2003\n",
      "Process year 2004\n",
      "Process year 2005\n",
      "Process year 2006\n",
      "Process year 2007\n",
      "Process year 2008\n",
      "Process year 2009\n",
      "Process year 2010\n",
      "Process year 2011\n",
      "Process year 2012\n",
      "Process year 2013\n",
      "Process year 2014\n",
      "Min/Max temp: -3.9822527885437013 33.041748237609866\n",
      "Min/Max salt: 11.49119167327881 47.39307842254639\n",
      "Min/Max oxy: 2.2300000514997496e-16 486.8507965087891\n"
     ]
    }
   ],
   "source": [
    "#----\n",
    "# prepare loop over all data, part I -> historical data of simB\n",
    "#----\n",
    "\n",
    "year_list1 = np.arange(1995,2014+1,1)\n",
    "\n",
    "simulation = 'simB'\n",
    "\n",
    "path = '/pscratch/sd/c/cnissen/'\n",
    "var_name1 = 'thetao'\n",
    "var_name2 = 'so'\n",
    "var_name3 = 'bgc22'\n",
    "\n",
    "temp_hist = np.zeros([12,len(depths),len(lons)])\n",
    "salt_hist = np.zeros([12,len(depths),len(lons)])\n",
    "oxy_hist  = np.zeros([12,len(depths),len(lons)])\n",
    "for yy in range(0,len(year_list1)):\n",
    "    year = year_list1[yy]\n",
    "    print ('Process year',year)\n",
    "    \n",
    "    path1 = path+'COARZE_temp/'+simulation+'/'\n",
    "    path2 = path+'COARZE_salt/'+simulation+'/'\n",
    "    path3 = path+'COARZE_oxy/'+simulation+'/'\n",
    "    \n",
    "    # temp\n",
    "    ff = Dataset(path1+'/'+var_name1+'_fesom_'+str(year)+'0101.nc')\n",
    "    data1_all = ff.variables[var_name1][:,:,:] #.mean(axis=0)\n",
    "    ff.close()\n",
    "    # salt\n",
    "    ff = Dataset(path2+'/'+var_name2+'_fesom_'+str(year)+'0101.nc')\n",
    "    data2_all = ff.variables[var_name2][:,:,:] #.mean(axis=0)\n",
    "    ff.close()\n",
    "    # oxygen\n",
    "    ff = Dataset(path3+'/'+var_name3+'_fesom_'+str(year)+'0101.nc')\n",
    "    data3_all = ff.variables[var_name3][:,:,:] #.mean(axis=0)\n",
    "    ff.close()\n",
    "    \n",
    "    # collect data to get cliamtology\n",
    "    temp_hist = temp_hist + data1_all\n",
    "    salt_hist = salt_hist + data2_all\n",
    "    oxy_hist  = oxy_hist + data3_all\n",
    "    \n",
    "    del data1_all,data2_all,data3_all\n",
    "    \n",
    "# normalize by numebr of years\n",
    "temp_hist = np.divide(temp_hist,len(year_list1))\n",
    "salt_hist = np.divide(salt_hist,len(year_list1))\n",
    "oxy_hist  = np.divide(oxy_hist,len(year_list1))\n",
    "     \n",
    "print('Min/Max temp:',np.min(temp_hist),np.max(temp_hist))\n",
    "print('Min/Max salt:',np.min(salt_hist),np.max(salt_hist))\n",
    "print('Min/Max oxy:',np.min(oxy_hist),np.max(oxy_hist))\n",
    "\n",
    "    "
   ]
  },
  {
   "cell_type": "code",
   "execution_count": 10,
   "metadata": {
    "tags": []
   },
   "outputs": [
    {
     "name": "stdout",
     "output_type": "stream",
     "text": [
      "Process year 2091\n",
      "Process year 2092\n",
      "Process year 2093\n",
      "Process year 2094\n",
      "Process year 2095\n",
      "Process year 2096\n",
      "Process year 2097\n",
      "Process year 2098\n",
      "Process year 2099\n",
      "Process year 2100\n",
      "Min/Max temp: -3.67112250328064 33.051788330078125\n",
      "Min/Max salt: 11.613802814483643 47.3642032623291\n",
      "Min/Max oxy: 2.2300000514997496e-16 477.01576843261716\n"
     ]
    }
   ],
   "source": [
    "#----\n",
    "# prepare loop over all data, part II -> future data of simB\n",
    "#----\n",
    "\n",
    "#year_list2 = np.arange(2098,2100+1,1)\n",
    "year_list2 = np.arange(2091,2100+1,1)\n",
    "#year_list2 = np.arange(2090,2099+1,1)\n",
    "#year_list2 = np.arange(2081,2100+1,1)\n",
    "\n",
    "simulation = 'simB'\n",
    "\n",
    "path = '/pscratch/sd/c/cnissen/'\n",
    "var_name1 = 'thetao'\n",
    "var_name2 = 'so'\n",
    "var_name3 = 'bgc22'\n",
    "\n",
    "temp_future = np.zeros([12,len(depths),len(lons)])\n",
    "salt_future = np.zeros([12,len(depths),len(lons)])\n",
    "oxy_future  = np.zeros([12,len(depths),len(lons)])\n",
    "for yy in range(0,len(year_list2)):\n",
    "    year = year_list2[yy]\n",
    "    print ('Process year',year)\n",
    "    \n",
    "    path1 = path+'COARZE_temp/'+simulation+'/'\n",
    "    path2 = path+'COARZE_salt/'+simulation+'/'\n",
    "    path3 = path+'COARZE_oxy/'+simulation+'/'\n",
    "    \n",
    "    # temp\n",
    "    ff = Dataset(path1+'/'+var_name1+'_fesom_'+str(year)+'0101.nc')\n",
    "    data1_all = ff.variables[var_name1][:,:,:] #.mean(axis=0)\n",
    "    ff.close()\n",
    "    # salt\n",
    "    ff = Dataset(path2+'/'+var_name2+'_fesom_'+str(year)+'0101.nc')\n",
    "    data2_all = ff.variables[var_name2][:,:,:] #.mean(axis=0)\n",
    "    ff.close()\n",
    "    # oxygen\n",
    "    ff = Dataset(path3+'/'+var_name3+'_fesom_'+str(year)+'0101.nc')\n",
    "    data3_all = ff.variables[var_name3][:,:,:] #.mean(axis=0)\n",
    "    ff.close()\n",
    "    \n",
    "    # collect data to get cliamtology\n",
    "    temp_future = temp_future + data1_all\n",
    "    salt_future = salt_future + data2_all\n",
    "    oxy_future  = oxy_future + data3_all\n",
    "    \n",
    "    del data1_all,data2_all,data3_all\n",
    "    \n",
    "# normalize by numebr of years\n",
    "temp_future = np.divide(temp_future,len(year_list2))\n",
    "salt_future = np.divide(salt_future,len(year_list2))\n",
    "oxy_future  = np.divide(oxy_future,len(year_list2))\n",
    "     \n",
    "print('Min/Max temp:',np.min(temp_future),np.max(temp_future))\n",
    "print('Min/Max salt:',np.min(salt_future),np.max(salt_future))\n",
    "print('Min/Max oxy:',np.min(oxy_future),np.max(oxy_future))\n"
   ]
  },
  {
   "cell_type": "code",
   "execution_count": null,
   "metadata": {},
   "outputs": [],
   "source": []
  },
  {
   "cell_type": "code",
   "execution_count": 11,
   "metadata": {},
   "outputs": [
    {
     "name": "stdout",
     "output_type": "stream",
     "text": [
      "done\n"
     ]
    }
   ],
   "source": [
    "#----\n",
    "# prepare loop over all data, part III -> compute insitu temp and pO2 for HISTORICAL PERIOD\n",
    "#----\n",
    "\n",
    "#note_data = 'FESOM-REcoM simulation, Cara Nissen, September 2022, cara.nissen@awi.de or cara.nissen@colorado.edu'\n",
    "note_data = 'FESOM-REcoM simulation, Cara Nissen, December 2023, cara.nissen@awi.de or cara.nissen@colorado.edu'\n",
    "\n",
    "savepath = '/pscratch/sd/c/cnissen/files_toothfish_project_AGI/'+simulation+'_monthly_drift/'\n",
    "# check existence of paths\n",
    "if not os.path.exists(savepath):\n",
    "    print ('Created '+savepath)\n",
    "    os.makedirs(savepath)\n",
    "    \n",
    "fill_value = -9999\n",
    "\n",
    "yi_SO  = yi #[:-1]\n",
    "ind_SO = np.where(yi_SO<=latlim)[0]\n",
    "yi_SO  = yi_SO[ind_SO]\n",
    "\n",
    "lat_3D    = np.tile(y_all,[depths.shape[0],1,1]) # (99, 91, 720) depth, lat, lon\n",
    "depths_3D = np.tile(depths,[y_all.shape[0],y_all.shape[1],1])\n",
    "depths_3D = np.transpose(depths_3D,[2,0,1]) # (99, 91, 720) depth, lat, lon\n",
    "\n",
    "#pres_3D  = sw.eos80.pres(depths_3D,lat_3D) # (99, 91, 720) depth, lat, lon\n",
    "if np.min(depths_3D)<-10:\n",
    "    pres_3D = p_from_z(depths_3D,lat_3D)\n",
    "elif np.min(depths_3D)>=0:\n",
    "    pres_3D = p_from_z(-1*depths_3D,lat_3D)    \n",
    "\n",
    "# option to turn on/off the storage of additional fields:\n",
    "save_oxygen = True\n",
    "save_salinity = True\n",
    "\n",
    "process_hist = False\n",
    "if process_hist:\n",
    "    #----\n",
    "    # create netcdf file here (1 file per year and variable)\n",
    "    #----\n",
    "    # variables: t_insitu, pO2\n",
    "    # dimensions: depth x lon x lat\n",
    "    save_as_netcdf = True\n",
    "    if save_as_netcdf:\n",
    "        if save_oxygen:\n",
    "            #----\n",
    "            # oxygen in mol kg-1\n",
    "            #----\n",
    "            netcdf_name = 'oxygen_fesom_'+simulation+'_avg_'+str(year_list1[0])+'_'+str(year_list1[-1])+'_monthly.nc'\n",
    "            if not os.path.exists(savepath+netcdf_name):\n",
    "                print ('Create file '+savepath+netcdf_name)\n",
    "                w_nc_fid = Dataset(savepath+netcdf_name, 'w', format='NETCDF4_CLASSIC')\n",
    "                # create dimension & variable\n",
    "                w_nc_fid.createDimension('lon', len(xi)) \n",
    "                w_nc_fid.createDimension('lat', len(yi_SO))  \n",
    "                w_nc_fid.createDimension('month', 12) # monthly  \n",
    "                w_nc_fid.createDimension('depth',len(np.unique(mesh.zlevs))) \n",
    "                w_nc_var2 = w_nc_fid.createVariable('lat', 'f4',('lat'))\n",
    "                w_nc_var3 = w_nc_fid.createVariable('lon', 'f4',('lon'))\n",
    "                w_nc_var4 = w_nc_fid.createVariable('depth', 'f4',('depth'))\n",
    "                w_nc_var2.unit = 'degrees N'\n",
    "                w_nc_var3.unit = 'degrees E'\n",
    "                w_nc_var4.unit = 'm'\n",
    "                w_nc_var5 = w_nc_fid.createVariable('oxygen', 'f4',('month','depth','lat','lon'),fill_value=fill_value)\n",
    "                w_nc_var5.description = 'oxygen concentration'\n",
    "                w_nc_var5.unit = 'mol kg-1'\n",
    "                w_nc_var5.note = 'converted from mmol m-3 using modeled in-situ density'\n",
    "                w_nc_fid.variables['lat'][:] = yi_SO\n",
    "                w_nc_fid.variables['lon'][:] = xi\n",
    "                w_nc_fid.variables['depth'][:] = depths\n",
    "                w_nc_fid.note = note_data\n",
    "                w_nc_fid.original_file = path2+var_name3+'_fesom_'+str(year)+'0101.nc'\n",
    "                w_nc_fid.script = '/home/ollie/ncara/scripts/MASTER_toothfish_postprocessing_AGI_save_netcdf_files_monthly.ipynb'\n",
    "                w_nc_fid.close()\n",
    "        #----\n",
    "        # pO2\n",
    "        #----\n",
    "        netcdf_name = 'pO2_fesom_'+simulation+'_avg_'+str(year_list1[0])+'_'+str(year_list1[-1])+'_monthly.nc'\n",
    "        if not os.path.exists(savepath+netcdf_name):\n",
    "            print ('Create file '+savepath+netcdf_name)\n",
    "            w_nc_fid = Dataset(savepath+netcdf_name, 'w', format='NETCDF4_CLASSIC')\n",
    "            # create dimension & variable\n",
    "            w_nc_fid.createDimension('lon', len(xi)) \n",
    "            w_nc_fid.createDimension('lat', len(yi_SO))  \n",
    "            w_nc_fid.createDimension('month', 12) # monthly  \n",
    "            w_nc_fid.createDimension('depth', len(np.unique(mesh.zlevs))) \n",
    "            w_nc_var2 = w_nc_fid.createVariable('lat', 'f4',('lat'))\n",
    "            w_nc_var3 = w_nc_fid.createVariable('lon', 'f4',('lon'))\n",
    "            w_nc_var4 = w_nc_fid.createVariable('depth', 'f4',('depth'))\n",
    "            w_nc_var2.unit = 'degrees N'\n",
    "            w_nc_var3.unit = 'degrees E'\n",
    "            w_nc_var4.unit = 'm'\n",
    "            w_nc_var5 = w_nc_fid.createVariable('pO2', 'f4',('month','depth','lat','lon'),fill_value=fill_value)\n",
    "            w_nc_var5.description = 'partial pressure of oxygen'\n",
    "            w_nc_var5.note = 'calculated from monthly mean model output of T, S, and O2'\n",
    "            w_nc_var5.unit = 'mbar'\n",
    "            w_nc_fid.variables['lat'][:] = yi_SO\n",
    "            w_nc_fid.variables['lon'][:] = xi\n",
    "            w_nc_fid.variables['depth'][:] = depths\n",
    "            w_nc_fid.note = note_data\n",
    "            w_nc_fid.original_file = path2+var_name3+'_fesom_'+str(year)+'0101.nc'\n",
    "            w_nc_fid.script = '/home/ollie/ncara/scripts/MASTER_toothfish_postprocessing_AGI_save_netcdf_files_monthly.ipynb'\n",
    "            w_nc_fid.close()\n",
    "        #else:\n",
    "        #    print 'File '+savepath+netcdf_name+' exists already, overwrite'\n",
    "        \n",
    "        #----\n",
    "        # in situ temp\n",
    "        #----\n",
    "        netcdf_name = 't_insitu_fesom_'+simulation+'_avg_'+str(year_list1[0])+'_'+str(year_list1[-1])+'_monthly.nc'\n",
    "        if not os.path.exists(savepath+netcdf_name):\n",
    "            print ('Create file '+savepath+netcdf_name)\n",
    "            w_nc_fid = Dataset(savepath+netcdf_name, 'w', format='NETCDF4_CLASSIC')\n",
    "            # create dimension & variable\n",
    "            w_nc_fid.createDimension('lon', len(xi)) \n",
    "            w_nc_fid.createDimension('lat', len(yi_SO))  \n",
    "            w_nc_fid.createDimension('month', 12) # monthly  \n",
    "            w_nc_fid.createDimension('depth', len(np.unique(mesh.zlevs))) \n",
    "            w_nc_var2 = w_nc_fid.createVariable('lat', 'f4',('lat'))\n",
    "            w_nc_var3 = w_nc_fid.createVariable('lon', 'f4',('lon'))\n",
    "            w_nc_var4 = w_nc_fid.createVariable('depth', 'f4',('depth'))\n",
    "            w_nc_var2.unit = 'degrees N'\n",
    "            w_nc_var3.unit = 'degrees E'\n",
    "            w_nc_var4.unit = 'm'\n",
    "            w_nc_var5 = w_nc_fid.createVariable('t_insitu', 'f4',('month','depth','lat','lon'),fill_value=fill_value)\n",
    "            w_nc_var5.description = 'insitu temperature'\n",
    "            w_nc_var5.unit = 'deg C'\n",
    "            w_nc_fid.variables['lat'][:] = yi_SO\n",
    "            w_nc_fid.variables['lon'][:] = xi\n",
    "            w_nc_fid.variables['depth'][:] = depths\n",
    "            w_nc_fid.note = note_data\n",
    "            w_nc_fid.original_file = path1+var_name1+'_fesom_'+str(year)+'0101.nc'\n",
    "            w_nc_fid.script = '/home/ollie/ncara/scripts/MASTER_toothfish_postprocessing_AGI_save_netcdf_files_monthly.ipynb'\n",
    "            w_nc_fid.close()\n",
    "        #else:\n",
    "        #    print 'File '+savepath+netcdf_name+' exists already, overwrite'\n",
    "        \n",
    "        if save_salinity:\n",
    "            #----\n",
    "            # salinity\n",
    "            #----\n",
    "            netcdf_name = 'salt_fesom_'+simulation+'_avg_'+str(year_list1[0])+'_'+str(year_list1[-1])+'_monthly.nc'\n",
    "            if not os.path.exists(savepath+netcdf_name):\n",
    "                print ('Create file '+savepath+netcdf_name)\n",
    "                w_nc_fid = Dataset(savepath+netcdf_name, 'w', format='NETCDF4_CLASSIC')\n",
    "                # create dimension & variable\n",
    "                w_nc_fid.createDimension('lon', len(xi)) \n",
    "                w_nc_fid.createDimension('lat', len(yi_SO))  \n",
    "                w_nc_fid.createDimension('month', 12) # monthly  \n",
    "                w_nc_fid.createDimension('depth', len(np.unique(mesh.zlevs))) \n",
    "                w_nc_var2 = w_nc_fid.createVariable('lat', 'f4',('lat'))\n",
    "                w_nc_var3 = w_nc_fid.createVariable('lon', 'f4',('lon'))\n",
    "                w_nc_var4 = w_nc_fid.createVariable('depth', 'f4',('depth'))\n",
    "                w_nc_var2.unit = 'degrees N'\n",
    "                w_nc_var3.unit = 'degrees E'\n",
    "                w_nc_var4.unit = 'm'\n",
    "                w_nc_var5 = w_nc_fid.createVariable('salt', 'f4',('month','depth','lat','lon'),fill_value=fill_value)\n",
    "                w_nc_var5.description = 'practical salinity'\n",
    "                w_nc_var5.unit = 'psu'\n",
    "                w_nc_fid.variables['lat'][:] = yi_SO\n",
    "                w_nc_fid.variables['lon'][:] = xi\n",
    "                w_nc_fid.variables['depth'][:] = depths\n",
    "                w_nc_fid.note = note_data\n",
    "                w_nc_fid.original_file = path1+var_name2+'_fesom_'+str(year)+'0101.nc'\n",
    "                w_nc_fid.script = '/home/ollie/ncara/scripts/MASTER_toothfish_postprocessing_AGI_save_netcdf_files_monthly.ipynb'\n",
    "                w_nc_fid.close()\n",
    "\n",
    "    for kk in range(0,len(depths)):\n",
    "        print ('Depth level: '+str(depths[kk])+'m')\n",
    "        \n",
    "        pO2_all_months      = fill_value*np.ones([len(yi_SO),len(xi),12])\n",
    "        O2_molkg_all_months = fill_value*np.ones([len(yi_SO),len(xi),12])\n",
    "        t_insitu_all_months = fill_value*np.ones([len(yi_SO),len(xi),12])\n",
    "        salt_all_months     = fill_value*np.ones([len(yi_SO),len(xi),12])\n",
    "\n",
    "        for mm in tqdm(range(0,12)): # calculate pO2 etc for each month, but then only store the annual mean\n",
    "            #print ('Month: '+str(mm+1)+'...')\n",
    "            \n",
    "            data1 = temp_hist[mm,:,:] # temp\n",
    "            data2 = salt_hist[mm,:,:] # salt\n",
    "            data3 = oxy_hist[mm,:,:] # oxygen\n",
    "            # set masked values to 0 to get correction within cavity correct\n",
    "            # (if I don't do that, masked and not-masked values are not correctly recognized with njit)\n",
    "            data1[data1.mask==True]=0 \n",
    "            data1 = reorganize_field_in_cavities(ind_cavities,data1) \n",
    "            data2[data2.mask==True]=0 \n",
    "            data2 = reorganize_field_in_cavities(ind_cavities,data2) \n",
    "            data3[data3.mask==True]=0 \n",
    "            data3 = reorganize_field_in_cavities(ind_cavities,data3)    \n",
    "            \n",
    "            data1[data1==0]=np.nan\n",
    "            data2[data2==0]=np.nan\n",
    "            data3[data3==0]=np.nan\n",
    "    \n",
    "            #-----\n",
    "            # TEMP\n",
    "            #-----\n",
    "            data = np.copy(data1[kk,:])\n",
    "            data_int = griddata((mesh.x2, mesh.y2),data.ravel(),\\\n",
    "                            (x_all.ravel(), y_all.ravel()), method='linear')  # Final interpolated field\n",
    "            del data\n",
    "            data_int = data_int.reshape((x_all.shape[0],x_all.shape[1])) \n",
    "         #   data_int = transform_lon_coord(data_int,grid_resolution_x) # NOTE: ...\n",
    "            # I think this transformation is only needed because \"mask_vol\" is wrongly rotated!\n",
    "            # Confirmed: after correcting mask_vol in ancillary file, I do not need the transformation anymore!\n",
    "            #data_int[mask==0]=-99999 # check if it should be done after or before lon-transformation\n",
    "            data_int[np.isnan(data_int)] = -99999\n",
    "            data_int[data_int==0]=-99999\n",
    "            data_int[data_int>50]=-99999\n",
    "            data_int_temp = np.copy(data_int)\n",
    "            data_int_temp[mask_vol[kk,:,:]==0]=-99999\n",
    "            del data_int\n",
    "\n",
    "            #-----\n",
    "            # test plot\n",
    "            #-----\n",
    "            test_plot = False\n",
    "            if test_plot:\n",
    "                # note that lon is still organized the wrong way when plotting here\n",
    "                levels1 = np.arange(-3,10.5,0.5)\n",
    "                levels2 = np.arange(-1,3.5,0.5)\n",
    "                unit1 = 'deg C'\n",
    "                ind_plot = 300#80#600\n",
    "                dpicnt = 150\n",
    "                colormap = cm.Spectral_r\n",
    "                plt.figure(figsize=(6,4), dpi = dpicnt,facecolor='w', edgecolor='k') \n",
    "                plt.contourf(x_all[0:ind_plot,:],y_all[0:ind_plot,:],data_int_temp[0:ind_plot,:],\\\n",
    "                             levels=levels1,cmap=colormap, extend='both')\n",
    "                cbar=plt.colorbar(orientation='horizontal',shrink=0.8,pad=0.1)\n",
    "                cbar.ax.set_xlabel(unit1) \n",
    "                cbar.cmap.set_under('grey')\n",
    "                plt.title('Temperature at '+str(mesh.zlevs[kk])+'m',fontsize=10,fontweight='bold')\n",
    "                plt.show()\n",
    "                ## mask\n",
    "                plt.figure(figsize=(6,4), dpi = dpicnt,facecolor='w', edgecolor='k') \n",
    "                plt.contourf(x_all[0:ind_plot,:],y_all[0:ind_plot,:],mask_vol[kk,0:ind_plot,:],\\\n",
    "                             levels=levels2,cmap=colormap, extend='both')\n",
    "                cbar=plt.colorbar(orientation='horizontal',shrink=0.8,pad=0.1)\n",
    "                cbar.ax.set_xlabel('') \n",
    "                cbar.cmap.set_under('grey')\n",
    "                plt.title('Mask at '+str(mesh.zlevs[kk])+'m',fontsize=10,fontweight='bold')\n",
    "                plt.show()\n",
    "\n",
    "            #-----\n",
    "            # SALINITY\n",
    "            #-----\n",
    "            data = np.copy(data2[kk,:])\n",
    "            data_int = griddata((mesh.x2, mesh.y2),data.ravel(),\\\n",
    "                            (x_all.ravel(), y_all.ravel()), method='linear')  # Final interpolated field\n",
    "            del data\n",
    "            data_int = data_int.reshape((x_all.shape[0],x_all.shape[1])) \n",
    "          #  data_int = transform_lon_coord(data_int,grid_resolution_x) # see note above for temp\n",
    "            #data_int[mask==0]=-99999 # check if it should be done after or before lon-transformation\n",
    "            data_int[np.isnan(data_int)] = -99999\n",
    "            data_int[data_int==0]=-99999\n",
    "            data_int[data_int>50]=-99999\n",
    "            data_int_salt = np.copy(data_int)\n",
    "            data_int_salt[mask_vol[kk,:,:]==0]=-99999\n",
    "            del data_int\n",
    "            #-----\n",
    "            # OXYGEN\n",
    "            #-----\n",
    "            data = np.copy(data3[kk,:])\n",
    "            data_int = griddata((mesh.x2, mesh.y2),data.ravel(),\\\n",
    "                            (x_all.ravel(), y_all.ravel()), method='linear')  # Final interpolated field\n",
    "            del data\n",
    "            data_int = data_int.reshape((x_all.shape[0],x_all.shape[1])) \n",
    "          #  data_int = transform_lon_coord(data_int,grid_resolution_x) # see note above for temp!\n",
    "            #data_int[mask==0]=-99999 # check if it should be done after or before lon-transformation\n",
    "            data_int[np.isnan(data_int)] = -99999\n",
    "            data_int[data_int==0]=-99999\n",
    "            data_int_oxygen = np.copy(data_int)\n",
    "            data_int_oxygen[mask_vol[kk,:,:]==0]=-99999\n",
    "            O2_mmol_per_m3 = np.copy(data_int_oxygen)\n",
    "            del data_int\n",
    "\n",
    "            #print data_int_temp.shape\n",
    "\n",
    "            #print 'Min/Max pot. temp:',np.nanmin(data_int_temp),np.nanmax(data_int_temp)\n",
    "            #print 'Min/Max salinty:',np.nanmin(data_int_salt),np.nanmax(data_int_salt)\n",
    "            #print 'Min/Max oxy:',np.nanmin(data_int_oxygen),np.nanmax(data_int_oxygen)\n",
    "\n",
    "           # if np.mod(kk,20)==0:\n",
    "           #     print ('Max temp,salt,oxy:',\\\n",
    "           #            np.nanmax(data_int_temp),np.nanmax(data_int_salt),np.nanmax(data_int_oxygen))\n",
    "\n",
    "            #-----\n",
    "            # calculate pO2\n",
    "            #-----\n",
    "\n",
    "            # get in situ temp\n",
    "           # print 'Min/Max data_int_salt:',np.min(data_int_salt),np.max(data_int_salt)\n",
    "           # print 'Min/Max data_int_temp:',np.min(data_int_temp),np.max(data_int_temp)\n",
    "            t_insitu = sw.eos80.temp(data_int_salt,data_int_temp,pres_3D[kk,:,:],ref_pressure)\n",
    "            t_insitu[data_int_temp<-99]=np.nan\n",
    "           # print 'Min/Max t_insitu:',np.nanmin(t_insitu),np.nanmax(t_insitu)\n",
    "\n",
    "            # get in situ density\n",
    "            rho    = sw.dens(data_int_salt,t_insitu,pres_3D[kk,:,:])\n",
    "           # print 'Min/Max rho:',np.nanmin(rho),np.nanmax(rho)\n",
    "\n",
    "            O2_molkg = O2_mmol_per_m3*0.001/rho #1035.0  # convert model O2 to mol kg-1 (using in situ or potential density?)\n",
    "\n",
    "            # scaled temp\n",
    "            T_scaled = np.log((298.15-t_insitu)/(KC+t_insitu)) # np.log -> ln(), np.log10 -> log10\n",
    "\n",
    "            # saturation concentration of O2 in seawater\n",
    "            A = A0 + A1*T_scaled + A2*T_scaled*T_scaled + A3*T_scaled*T_scaled*T_scaled+\\\n",
    "                    A4*T_scaled*T_scaled*T_scaled*T_scaled +\\\n",
    "                    A5*T_scaled*T_scaled*T_scaled*T_scaled*T_scaled +\\\n",
    "                    data_int_salt*(B0+B1*T_scaled+B2*T_scaled*T_scaled+B3*T_scaled*T_scaled*T_scaled)+\\\n",
    "                    C0*data_int_salt*data_int_salt\n",
    "            c_sat_o2 = 1e-6*np.exp(A)\n",
    "\n",
    "            # water vapour pressure\n",
    "            pH2O = 1013.25 * np.exp(D0 + D1*(100./(t_insitu+KC))+D2*np.log((t_insitu+KC)/100.)+D3*data_int_salt)\n",
    "\n",
    "            K0 = c_sat_o2/(xO2 * (1013.25 - pH2O))\n",
    "            pO2 = (O2_molkg/K0)*np.exp((Vm*pres_3D[kk,:,:])/(R*(KC+t_insitu)))\n",
    "\n",
    "            t_insitu[np.isnan(pO2)]=np.nan\n",
    "            data_int_salt[np.isnan(pO2)]=np.nan\n",
    "\n",
    "            #if np.mod(kk,20)==0:\n",
    "            #    print ('Min/Max pO2:',np.nanmin(pO2),np.nanmax(pO2))\n",
    "            #    print ('Min/Max t insitu:',np.nanmin(t_insitu),np.nanmax(t_insitu))\n",
    "\n",
    "            t_insitu[np.isnan(t_insitu)]=fill_value\n",
    "            pO2[np.isnan(pO2)]=fill_value\n",
    "            data_int_salt[np.isnan(data_int_salt)]=fill_value\n",
    "            \n",
    "            pO2_all_months[:,:,mm]      = pO2\n",
    "            O2_molkg_all_months[:,:,mm] = O2_molkg\n",
    "            t_insitu_all_months[:,:,mm] = t_insitu\n",
    "            salt_all_months[:,:,mm]     = data_int_salt\n",
    "            \n",
    "            del t_insitu,pO2,data_int_salt\n",
    "            del data_int_temp,data_int_oxygen,rho\n",
    "            del T_scaled,A,c_sat_o2,pH2O,K0\n",
    "            del O2_mmol_per_m3\n",
    "           # del data1,data2,data3\n",
    "        \n",
    "            #-----\n",
    "            # fields to save: t_insitu, pO2, O2 in mol/kg, practical salinity\n",
    "            #-----\n",
    "            if save_as_netcdf:\n",
    "                if save_oxygen:\n",
    "                    #----\n",
    "                    # oxygen\n",
    "                    #----\n",
    "                    netcdf_name = 'oxygen_fesom_'+simulation+'_avg_'+str(year_list1[0])+'_'+str(year_list1[-1])+'_monthly.nc'\n",
    "                    w_nc_fid = Dataset(savepath+netcdf_name, 'r+', format='NETCDF4_CLASSIC')# Create and open new netcdf file to write to\n",
    "                    w_nc_fid.variables['oxygen'][mm,kk,:,:] = O2_molkg_all_months[:,:,mm]\n",
    "                    w_nc_fid.close()\n",
    "                #----\n",
    "                # pO2\n",
    "                #----\n",
    "                netcdf_name = 'pO2_fesom_'+simulation+'_avg_'+str(year_list1[0])+'_'+str(year_list1[-1])+'_monthly.nc'\n",
    "                w_nc_fid = Dataset(savepath+netcdf_name, 'r+', format='NETCDF4_CLASSIC')# Create and open new netcdf file to write to\n",
    "                w_nc_fid.variables['pO2'][mm,kk,:,:] = pO2_all_months[:,:,mm]\n",
    "                w_nc_fid.close()\n",
    "                #----\n",
    "                # in situ temp\n",
    "                #----\n",
    "                netcdf_name = 't_insitu_fesom_'+simulation+'_avg_'+str(year_list1[0])+'_'+str(year_list1[-1])+'_monthly.nc'\n",
    "                w_nc_fid = Dataset(savepath+netcdf_name, 'r+', format='NETCDF4_CLASSIC')# Create and open new netcdf file to write to\n",
    "                w_nc_fid.variables['t_insitu'][mm,kk,:,:] = t_insitu_all_months[:,:,mm]\n",
    "                w_nc_fid.close()\n",
    "                if save_salinity:\n",
    "                    #----\n",
    "                    # salinity\n",
    "                    #----\n",
    "                    netcdf_name = 'salt_fesom_'+simulation+'_avg_'+str(year_list1[0])+'_'+str(year_list1[-1])+'_monthly.nc'\n",
    "                    w_nc_fid = Dataset(savepath+netcdf_name, 'r+', format='NETCDF4_CLASSIC')# Create and open new netcdf file to write to\n",
    "                    w_nc_fid.variables['salt'][mm,kk,:,:] = salt_all_months[:,:,mm]\n",
    "                    w_nc_fid.close()\n",
    "                if mm==11:\n",
    "                    print ('Successfully written depth level '+str(kk+1)+'/'+str(len(depths))+\\\n",
    "                       ' to file')\n",
    "            #print ''\n",
    "        \n",
    "        del t_insitu_all_months,O2_molkg_all_months\n",
    "        del salt_all_months,pO2_all_months\n",
    "\n",
    "print ('done')\n"
   ]
  },
  {
   "cell_type": "code",
   "execution_count": null,
   "metadata": {
    "tags": []
   },
   "outputs": [],
   "source": []
  },
  {
   "cell_type": "code",
   "execution_count": 13,
   "metadata": {
    "tags": []
   },
   "outputs": [
    {
     "name": "stdout",
     "output_type": "stream",
     "text": [
      "Create file /pscratch/sd/c/cnissen/files_toothfish_project_AGI/simB_monthly_drift/oxygen_fesom_simB_avg_2091_2100_monthly.nc\n",
      "Create file /pscratch/sd/c/cnissen/files_toothfish_project_AGI/simB_monthly_drift/pO2_fesom_simB_avg_2091_2100_monthly.nc\n",
      "Create file /pscratch/sd/c/cnissen/files_toothfish_project_AGI/simB_monthly_drift/t_insitu_fesom_simB_avg_2091_2100_monthly.nc\n",
      "Create file /pscratch/sd/c/cnissen/files_toothfish_project_AGI/simB_monthly_drift/salt_fesom_simB_avg_2091_2100_monthly.nc\n",
      "Depth level: -0.0m\n"
     ]
    },
    {
     "name": "stderr",
     "output_type": "stream",
     "text": [
      "100%|██████████| 12/12 [00:52<00:00,  4.38s/it]\n"
     ]
    },
    {
     "name": "stdout",
     "output_type": "stream",
     "text": [
      "Depth level: 5.0m\n"
     ]
    },
    {
     "name": "stderr",
     "output_type": "stream",
     "text": [
      "100%|██████████| 12/12 [00:21<00:00,  1.76s/it]\n"
     ]
    },
    {
     "name": "stdout",
     "output_type": "stream",
     "text": [
      "Depth level: 10.0m\n"
     ]
    },
    {
     "name": "stderr",
     "output_type": "stream",
     "text": [
      "100%|██████████| 12/12 [00:21<00:00,  1.76s/it]\n"
     ]
    },
    {
     "name": "stdout",
     "output_type": "stream",
     "text": [
      "Depth level: 20.0m\n"
     ]
    },
    {
     "name": "stderr",
     "output_type": "stream",
     "text": [
      "100%|██████████| 12/12 [00:25<00:00,  2.16s/it]\n"
     ]
    },
    {
     "name": "stdout",
     "output_type": "stream",
     "text": [
      "Depth level: 30.0m\n"
     ]
    },
    {
     "name": "stderr",
     "output_type": "stream",
     "text": [
      "100%|██████████| 12/12 [00:26<00:00,  2.20s/it]\n"
     ]
    },
    {
     "name": "stdout",
     "output_type": "stream",
     "text": [
      "Depth level: 40.0m\n"
     ]
    },
    {
     "name": "stderr",
     "output_type": "stream",
     "text": [
      "100%|██████████| 12/12 [00:26<00:00,  2.21s/it]\n"
     ]
    },
    {
     "name": "stdout",
     "output_type": "stream",
     "text": [
      "Depth level: 50.0m\n"
     ]
    },
    {
     "name": "stderr",
     "output_type": "stream",
     "text": [
      "100%|██████████| 12/12 [00:24<00:00,  2.01s/it]\n"
     ]
    },
    {
     "name": "stdout",
     "output_type": "stream",
     "text": [
      "Depth level: 60.0m\n"
     ]
    },
    {
     "name": "stderr",
     "output_type": "stream",
     "text": [
      "100%|██████████| 12/12 [00:22<00:00,  1.91s/it]\n"
     ]
    },
    {
     "name": "stdout",
     "output_type": "stream",
     "text": [
      "Depth level: 70.0m\n"
     ]
    },
    {
     "name": "stderr",
     "output_type": "stream",
     "text": [
      "100%|██████████| 12/12 [00:21<00:00,  1.81s/it]\n"
     ]
    },
    {
     "name": "stdout",
     "output_type": "stream",
     "text": [
      "Depth level: 80.0m\n"
     ]
    },
    {
     "name": "stderr",
     "output_type": "stream",
     "text": [
      "100%|██████████| 12/12 [00:21<00:00,  1.75s/it]\n"
     ]
    },
    {
     "name": "stdout",
     "output_type": "stream",
     "text": [
      "Depth level: 90.0m\n"
     ]
    },
    {
     "name": "stderr",
     "output_type": "stream",
     "text": [
      "100%|██████████| 12/12 [00:21<00:00,  1.79s/it]\n"
     ]
    },
    {
     "name": "stdout",
     "output_type": "stream",
     "text": [
      "Depth level: 100.0m\n"
     ]
    },
    {
     "name": "stderr",
     "output_type": "stream",
     "text": [
      "100%|██████████| 12/12 [00:22<00:00,  1.84s/it]\n"
     ]
    },
    {
     "name": "stdout",
     "output_type": "stream",
     "text": [
      "Depth level: 116.8m\n"
     ]
    },
    {
     "name": "stderr",
     "output_type": "stream",
     "text": [
      "100%|██████████| 12/12 [00:21<00:00,  1.82s/it]\n"
     ]
    },
    {
     "name": "stdout",
     "output_type": "stream",
     "text": [
      "Depth level: 127.5m\n"
     ]
    },
    {
     "name": "stderr",
     "output_type": "stream",
     "text": [
      "100%|██████████| 12/12 [00:21<00:00,  1.78s/it]\n"
     ]
    },
    {
     "name": "stdout",
     "output_type": "stream",
     "text": [
      "Depth level: 138.8m\n"
     ]
    },
    {
     "name": "stderr",
     "output_type": "stream",
     "text": [
      "100%|██████████| 12/12 [00:21<00:00,  1.75s/it]\n"
     ]
    },
    {
     "name": "stdout",
     "output_type": "stream",
     "text": [
      "Depth level: 150.5m\n"
     ]
    },
    {
     "name": "stderr",
     "output_type": "stream",
     "text": [
      "100%|██████████| 12/12 [00:21<00:00,  1.76s/it]\n"
     ]
    },
    {
     "name": "stdout",
     "output_type": "stream",
     "text": [
      "Depth level: 162.8m\n"
     ]
    },
    {
     "name": "stderr",
     "output_type": "stream",
     "text": [
      "100%|██████████| 12/12 [00:22<00:00,  1.88s/it]\n"
     ]
    },
    {
     "name": "stdout",
     "output_type": "stream",
     "text": [
      "Depth level: 175.5m\n"
     ]
    },
    {
     "name": "stderr",
     "output_type": "stream",
     "text": [
      "100%|██████████| 12/12 [00:21<00:00,  1.77s/it]\n"
     ]
    },
    {
     "name": "stdout",
     "output_type": "stream",
     "text": [
      "Depth level: 189.0m\n"
     ]
    },
    {
     "name": "stderr",
     "output_type": "stream",
     "text": [
      "100%|██████████| 12/12 [00:21<00:00,  1.76s/it]\n"
     ]
    },
    {
     "name": "stdout",
     "output_type": "stream",
     "text": [
      "Depth level: 203.5m\n"
     ]
    },
    {
     "name": "stderr",
     "output_type": "stream",
     "text": [
      "100%|██████████| 12/12 [00:21<00:00,  1.81s/it]\n"
     ]
    },
    {
     "name": "stdout",
     "output_type": "stream",
     "text": [
      "Depth level: 219.0m\n"
     ]
    },
    {
     "name": "stderr",
     "output_type": "stream",
     "text": [
      "100%|██████████| 12/12 [00:22<00:00,  1.85s/it]\n"
     ]
    },
    {
     "name": "stdout",
     "output_type": "stream",
     "text": [
      "Depth level: 235.5m\n"
     ]
    },
    {
     "name": "stderr",
     "output_type": "stream",
     "text": [
      "100%|██████████| 12/12 [00:21<00:00,  1.82s/it]\n"
     ]
    },
    {
     "name": "stdout",
     "output_type": "stream",
     "text": [
      "Depth level: 253.0m\n"
     ]
    },
    {
     "name": "stderr",
     "output_type": "stream",
     "text": [
      "100%|██████████| 12/12 [00:21<00:00,  1.81s/it]\n"
     ]
    },
    {
     "name": "stdout",
     "output_type": "stream",
     "text": [
      "Depth level: 271.5m\n"
     ]
    },
    {
     "name": "stderr",
     "output_type": "stream",
     "text": [
      "100%|██████████| 12/12 [00:21<00:00,  1.82s/it]\n"
     ]
    },
    {
     "name": "stdout",
     "output_type": "stream",
     "text": [
      "Depth level: 291.0m\n"
     ]
    },
    {
     "name": "stderr",
     "output_type": "stream",
     "text": [
      "100%|██████████| 12/12 [00:21<00:00,  1.83s/it]\n"
     ]
    },
    {
     "name": "stdout",
     "output_type": "stream",
     "text": [
      "Depth level: 311.0m\n"
     ]
    },
    {
     "name": "stderr",
     "output_type": "stream",
     "text": [
      "100%|██████████| 12/12 [00:21<00:00,  1.81s/it]\n"
     ]
    },
    {
     "name": "stdout",
     "output_type": "stream",
     "text": [
      "Depth level: 331.0m\n"
     ]
    },
    {
     "name": "stderr",
     "output_type": "stream",
     "text": [
      "100%|██████████| 12/12 [00:22<00:00,  1.89s/it]\n"
     ]
    },
    {
     "name": "stdout",
     "output_type": "stream",
     "text": [
      "Depth level: 351.0m\n"
     ]
    },
    {
     "name": "stderr",
     "output_type": "stream",
     "text": [
      "100%|██████████| 12/12 [00:23<00:00,  1.93s/it]\n"
     ]
    },
    {
     "name": "stdout",
     "output_type": "stream",
     "text": [
      "Depth level: 371.0m\n"
     ]
    },
    {
     "name": "stderr",
     "output_type": "stream",
     "text": [
      "100%|██████████| 12/12 [00:22<00:00,  1.87s/it]\n"
     ]
    },
    {
     "name": "stdout",
     "output_type": "stream",
     "text": [
      "Depth level: 391.0m\n"
     ]
    },
    {
     "name": "stderr",
     "output_type": "stream",
     "text": [
      "100%|██████████| 12/12 [00:21<00:00,  1.76s/it]\n"
     ]
    },
    {
     "name": "stdout",
     "output_type": "stream",
     "text": [
      "Depth level: 411.2m\n"
     ]
    },
    {
     "name": "stderr",
     "output_type": "stream",
     "text": [
      "100%|██████████| 12/12 [00:21<00:00,  1.77s/it]\n"
     ]
    },
    {
     "name": "stdout",
     "output_type": "stream",
     "text": [
      "Depth level: 431.8m\n"
     ]
    },
    {
     "name": "stderr",
     "output_type": "stream",
     "text": [
      "100%|██████████| 12/12 [00:21<00:00,  1.77s/it]\n"
     ]
    },
    {
     "name": "stdout",
     "output_type": "stream",
     "text": [
      "Depth level: 452.2m\n"
     ]
    },
    {
     "name": "stderr",
     "output_type": "stream",
     "text": [
      "100%|██████████| 12/12 [00:22<00:00,  1.87s/it]\n"
     ]
    },
    {
     "name": "stdout",
     "output_type": "stream",
     "text": [
      "Depth level: 472.8m\n"
     ]
    },
    {
     "name": "stderr",
     "output_type": "stream",
     "text": [
      "100%|██████████| 12/12 [00:22<00:00,  1.92s/it]\n"
     ]
    },
    {
     "name": "stdout",
     "output_type": "stream",
     "text": [
      "Depth level: 493.2m\n"
     ]
    },
    {
     "name": "stderr",
     "output_type": "stream",
     "text": [
      "100%|██████████| 12/12 [00:22<00:00,  1.85s/it]\n"
     ]
    },
    {
     "name": "stdout",
     "output_type": "stream",
     "text": [
      "Depth level: 513.8m\n"
     ]
    },
    {
     "name": "stderr",
     "output_type": "stream",
     "text": [
      "100%|██████████| 12/12 [00:21<00:00,  1.81s/it]\n"
     ]
    },
    {
     "name": "stdout",
     "output_type": "stream",
     "text": [
      "Depth level: 534.2m\n"
     ]
    },
    {
     "name": "stderr",
     "output_type": "stream",
     "text": [
      "100%|██████████| 12/12 [00:23<00:00,  1.99s/it]\n"
     ]
    },
    {
     "name": "stdout",
     "output_type": "stream",
     "text": [
      "Depth level: 554.8m\n"
     ]
    },
    {
     "name": "stderr",
     "output_type": "stream",
     "text": [
      "100%|██████████| 12/12 [00:23<00:00,  1.92s/it]\n"
     ]
    },
    {
     "name": "stdout",
     "output_type": "stream",
     "text": [
      "Depth level: 575.2m\n"
     ]
    },
    {
     "name": "stderr",
     "output_type": "stream",
     "text": [
      "100%|██████████| 12/12 [00:21<00:00,  1.82s/it]\n"
     ]
    },
    {
     "name": "stdout",
     "output_type": "stream",
     "text": [
      "Depth level: 595.8m\n"
     ]
    },
    {
     "name": "stderr",
     "output_type": "stream",
     "text": [
      "100%|██████████| 12/12 [00:21<00:00,  1.78s/it]\n"
     ]
    },
    {
     "name": "stdout",
     "output_type": "stream",
     "text": [
      "Depth level: 616.2m\n"
     ]
    },
    {
     "name": "stderr",
     "output_type": "stream",
     "text": [
      "100%|██████████| 12/12 [00:21<00:00,  1.78s/it]\n"
     ]
    },
    {
     "name": "stdout",
     "output_type": "stream",
     "text": [
      "Depth level: 636.8m\n"
     ]
    },
    {
     "name": "stderr",
     "output_type": "stream",
     "text": [
      "100%|██████████| 12/12 [00:22<00:00,  1.90s/it]\n"
     ]
    },
    {
     "name": "stdout",
     "output_type": "stream",
     "text": [
      "Depth level: 657.2m\n"
     ]
    },
    {
     "name": "stderr",
     "output_type": "stream",
     "text": [
      "100%|██████████| 12/12 [00:22<00:00,  1.90s/it]\n"
     ]
    },
    {
     "name": "stdout",
     "output_type": "stream",
     "text": [
      "Depth level: 678.0m\n"
     ]
    },
    {
     "name": "stderr",
     "output_type": "stream",
     "text": [
      "100%|██████████| 12/12 [00:21<00:00,  1.81s/it]\n"
     ]
    },
    {
     "name": "stdout",
     "output_type": "stream",
     "text": [
      "Depth level: 699.0m\n"
     ]
    },
    {
     "name": "stderr",
     "output_type": "stream",
     "text": [
      "100%|██████████| 12/12 [00:22<00:00,  1.85s/it]\n"
     ]
    },
    {
     "name": "stdout",
     "output_type": "stream",
     "text": [
      "Depth level: 720.2m\n"
     ]
    },
    {
     "name": "stderr",
     "output_type": "stream",
     "text": [
      "100%|██████████| 12/12 [00:21<00:00,  1.75s/it]\n"
     ]
    },
    {
     "name": "stdout",
     "output_type": "stream",
     "text": [
      "Depth level: 741.8m\n"
     ]
    },
    {
     "name": "stderr",
     "output_type": "stream",
     "text": [
      "100%|██████████| 12/12 [00:21<00:00,  1.80s/it]\n"
     ]
    },
    {
     "name": "stdout",
     "output_type": "stream",
     "text": [
      "Depth level: 763.5m\n"
     ]
    },
    {
     "name": "stderr",
     "output_type": "stream",
     "text": [
      "100%|██████████| 12/12 [00:22<00:00,  1.85s/it]\n"
     ]
    },
    {
     "name": "stdout",
     "output_type": "stream",
     "text": [
      "Depth level: 785.5m\n"
     ]
    },
    {
     "name": "stderr",
     "output_type": "stream",
     "text": [
      "100%|██████████| 12/12 [00:22<00:00,  1.84s/it]\n"
     ]
    },
    {
     "name": "stdout",
     "output_type": "stream",
     "text": [
      "Depth level: 807.8m\n"
     ]
    },
    {
     "name": "stderr",
     "output_type": "stream",
     "text": [
      "100%|██████████| 12/12 [00:22<00:00,  1.83s/it]\n"
     ]
    },
    {
     "name": "stdout",
     "output_type": "stream",
     "text": [
      "Depth level: 830.2m\n"
     ]
    },
    {
     "name": "stderr",
     "output_type": "stream",
     "text": [
      "100%|██████████| 12/12 [00:21<00:00,  1.79s/it]\n"
     ]
    },
    {
     "name": "stdout",
     "output_type": "stream",
     "text": [
      "Depth level: 853.0m\n"
     ]
    },
    {
     "name": "stderr",
     "output_type": "stream",
     "text": [
      "100%|██████████| 12/12 [00:21<00:00,  1.78s/it]\n"
     ]
    },
    {
     "name": "stdout",
     "output_type": "stream",
     "text": [
      "Depth level: 876.0m\n"
     ]
    },
    {
     "name": "stderr",
     "output_type": "stream",
     "text": [
      "100%|██████████| 12/12 [00:22<00:00,  1.88s/it]\n"
     ]
    },
    {
     "name": "stdout",
     "output_type": "stream",
     "text": [
      "Depth level: 899.5m\n"
     ]
    },
    {
     "name": "stderr",
     "output_type": "stream",
     "text": [
      "100%|██████████| 12/12 [00:21<00:00,  1.83s/it]\n"
     ]
    },
    {
     "name": "stdout",
     "output_type": "stream",
     "text": [
      "Depth level: 924.3m\n"
     ]
    },
    {
     "name": "stderr",
     "output_type": "stream",
     "text": [
      "100%|██████████| 12/12 [00:21<00:00,  1.83s/it]\n"
     ]
    },
    {
     "name": "stdout",
     "output_type": "stream",
     "text": [
      "Depth level: 950.3m\n"
     ]
    },
    {
     "name": "stderr",
     "output_type": "stream",
     "text": [
      "100%|██████████| 12/12 [00:22<00:00,  1.84s/it]\n"
     ]
    },
    {
     "name": "stdout",
     "output_type": "stream",
     "text": [
      "Depth level: 977.3m\n"
     ]
    },
    {
     "name": "stderr",
     "output_type": "stream",
     "text": [
      "100%|██████████| 12/12 [00:21<00:00,  1.82s/it]\n"
     ]
    },
    {
     "name": "stdout",
     "output_type": "stream",
     "text": [
      "Depth level: 1005.3m\n"
     ]
    },
    {
     "name": "stderr",
     "output_type": "stream",
     "text": [
      "100%|██████████| 12/12 [00:21<00:00,  1.82s/it]\n"
     ]
    },
    {
     "name": "stdout",
     "output_type": "stream",
     "text": [
      "Depth level: 1034.3m\n"
     ]
    },
    {
     "name": "stderr",
     "output_type": "stream",
     "text": [
      "100%|██████████| 12/12 [00:22<00:00,  1.90s/it]\n"
     ]
    },
    {
     "name": "stdout",
     "output_type": "stream",
     "text": [
      "Depth level: 1064.3m\n"
     ]
    },
    {
     "name": "stderr",
     "output_type": "stream",
     "text": [
      "100%|██████████| 12/12 [00:21<00:00,  1.81s/it]\n"
     ]
    },
    {
     "name": "stdout",
     "output_type": "stream",
     "text": [
      "Depth level: 1095.8m\n"
     ]
    },
    {
     "name": "stderr",
     "output_type": "stream",
     "text": [
      "100%|██████████| 12/12 [00:22<00:00,  1.91s/it]\n"
     ]
    },
    {
     "name": "stdout",
     "output_type": "stream",
     "text": [
      "Depth level: 1129.3m\n"
     ]
    },
    {
     "name": "stderr",
     "output_type": "stream",
     "text": [
      "100%|██████████| 12/12 [00:23<00:00,  1.93s/it]\n"
     ]
    },
    {
     "name": "stdout",
     "output_type": "stream",
     "text": [
      "Depth level: 1164.8m\n"
     ]
    },
    {
     "name": "stderr",
     "output_type": "stream",
     "text": [
      "100%|██████████| 12/12 [00:22<00:00,  1.86s/it]\n"
     ]
    },
    {
     "name": "stdout",
     "output_type": "stream",
     "text": [
      "Depth level: 1202.3m\n"
     ]
    },
    {
     "name": "stderr",
     "output_type": "stream",
     "text": [
      "100%|██████████| 12/12 [00:21<00:00,  1.80s/it]\n"
     ]
    },
    {
     "name": "stdout",
     "output_type": "stream",
     "text": [
      "Depth level: 1241.3m\n"
     ]
    },
    {
     "name": "stderr",
     "output_type": "stream",
     "text": [
      "100%|██████████| 12/12 [00:21<00:00,  1.77s/it]\n"
     ]
    },
    {
     "name": "stdout",
     "output_type": "stream",
     "text": [
      "Depth level: 1281.3m\n"
     ]
    },
    {
     "name": "stderr",
     "output_type": "stream",
     "text": [
      "100%|██████████| 12/12 [00:22<00:00,  1.86s/it]\n"
     ]
    },
    {
     "name": "stdout",
     "output_type": "stream",
     "text": [
      "Depth level: 1322.8m\n"
     ]
    },
    {
     "name": "stderr",
     "output_type": "stream",
     "text": [
      "100%|██████████| 12/12 [00:21<00:00,  1.78s/it]\n"
     ]
    },
    {
     "name": "stdout",
     "output_type": "stream",
     "text": [
      "Depth level: 1365.3m\n"
     ]
    },
    {
     "name": "stderr",
     "output_type": "stream",
     "text": [
      "100%|██████████| 12/12 [00:21<00:00,  1.80s/it]\n"
     ]
    },
    {
     "name": "stdout",
     "output_type": "stream",
     "text": [
      "Depth level: 1408.8m\n"
     ]
    },
    {
     "name": "stderr",
     "output_type": "stream",
     "text": [
      "100%|██████████| 12/12 [00:22<00:00,  1.88s/it]\n"
     ]
    },
    {
     "name": "stdout",
     "output_type": "stream",
     "text": [
      "Depth level: 1454.3m\n"
     ]
    },
    {
     "name": "stderr",
     "output_type": "stream",
     "text": [
      "100%|██████████| 12/12 [00:23<00:00,  1.97s/it]\n"
     ]
    },
    {
     "name": "stdout",
     "output_type": "stream",
     "text": [
      "Depth level: 1501.8m\n"
     ]
    },
    {
     "name": "stderr",
     "output_type": "stream",
     "text": [
      "100%|██████████| 12/12 [00:21<00:00,  1.77s/it]\n"
     ]
    },
    {
     "name": "stdout",
     "output_type": "stream",
     "text": [
      "Depth level: 1551.3m\n"
     ]
    },
    {
     "name": "stderr",
     "output_type": "stream",
     "text": [
      "100%|██████████| 12/12 [00:21<00:00,  1.79s/it]\n"
     ]
    },
    {
     "name": "stdout",
     "output_type": "stream",
     "text": [
      "Depth level: 1602.8m\n"
     ]
    },
    {
     "name": "stderr",
     "output_type": "stream",
     "text": [
      "100%|██████████| 12/12 [00:21<00:00,  1.78s/it]\n"
     ]
    },
    {
     "name": "stdout",
     "output_type": "stream",
     "text": [
      "Depth level: 1657.3m\n"
     ]
    },
    {
     "name": "stderr",
     "output_type": "stream",
     "text": [
      "100%|██████████| 12/12 [00:21<00:00,  1.82s/it]\n"
     ]
    },
    {
     "name": "stdout",
     "output_type": "stream",
     "text": [
      "Depth level: 1715.6m\n"
     ]
    },
    {
     "name": "stderr",
     "output_type": "stream",
     "text": [
      "100%|██████████| 12/12 [00:22<00:00,  1.86s/it]\n"
     ]
    },
    {
     "name": "stdout",
     "output_type": "stream",
     "text": [
      "Depth level: 1778.1m\n"
     ]
    },
    {
     "name": "stderr",
     "output_type": "stream",
     "text": [
      "100%|██████████| 12/12 [00:22<00:00,  1.91s/it]\n"
     ]
    },
    {
     "name": "stdout",
     "output_type": "stream",
     "text": [
      "Depth level: 1845.6m\n"
     ]
    },
    {
     "name": "stderr",
     "output_type": "stream",
     "text": [
      "100%|██████████| 12/12 [00:22<00:00,  1.88s/it]\n"
     ]
    },
    {
     "name": "stdout",
     "output_type": "stream",
     "text": [
      "Depth level: 1920.6m\n"
     ]
    },
    {
     "name": "stderr",
     "output_type": "stream",
     "text": [
      "100%|██████████| 12/12 [00:22<00:00,  1.88s/it]\n"
     ]
    },
    {
     "name": "stdout",
     "output_type": "stream",
     "text": [
      "Depth level: 2005.6m\n"
     ]
    },
    {
     "name": "stderr",
     "output_type": "stream",
     "text": [
      "100%|██████████| 12/12 [00:22<00:00,  1.89s/it]\n"
     ]
    },
    {
     "name": "stdout",
     "output_type": "stream",
     "text": [
      "Depth level: 2100.6m\n"
     ]
    },
    {
     "name": "stderr",
     "output_type": "stream",
     "text": [
      "100%|██████████| 12/12 [00:22<00:00,  1.87s/it]\n"
     ]
    },
    {
     "name": "stdout",
     "output_type": "stream",
     "text": [
      "Depth level: 2205.6m\n"
     ]
    },
    {
     "name": "stderr",
     "output_type": "stream",
     "text": [
      "  0%|          | 0/12 [00:00<?, ?it/s]/tmp/ipykernel_804774/1448241578.py:317: RuntimeWarning: overflow encountered in exp\n",
      "  pO2 = (O2_molkg/K0)*np.exp((Vm*pres_3D[kk,:,:])/(R*(KC+t_insitu)))\n",
      "/global/homes/c/cnissen/.conda/envs/myenv/lib/python3.9/site-packages/numpy/ma/core.py:1015: RuntimeWarning: overflow encountered in multiply\n",
      "  result = self.f(da, db, *args, **kwargs)\n",
      "100%|██████████| 12/12 [00:22<00:00,  1.90s/it]\n"
     ]
    },
    {
     "name": "stdout",
     "output_type": "stream",
     "text": [
      "Depth level: 2320.6m\n"
     ]
    },
    {
     "name": "stderr",
     "output_type": "stream",
     "text": [
      "100%|██████████| 12/12 [00:21<00:00,  1.81s/it]\n"
     ]
    },
    {
     "name": "stdout",
     "output_type": "stream",
     "text": [
      "Depth level: 2445.6m\n"
     ]
    },
    {
     "name": "stderr",
     "output_type": "stream",
     "text": [
      "100%|██████████| 12/12 [00:21<00:00,  1.77s/it]\n"
     ]
    },
    {
     "name": "stdout",
     "output_type": "stream",
     "text": [
      "Depth level: 2580.6m\n"
     ]
    },
    {
     "name": "stderr",
     "output_type": "stream",
     "text": [
      "100%|██████████| 12/12 [00:21<00:00,  1.79s/it]\n"
     ]
    },
    {
     "name": "stdout",
     "output_type": "stream",
     "text": [
      "Depth level: 2725.6m\n"
     ]
    },
    {
     "name": "stderr",
     "output_type": "stream",
     "text": [
      "100%|██████████| 12/12 [00:21<00:00,  1.77s/it]\n"
     ]
    },
    {
     "name": "stdout",
     "output_type": "stream",
     "text": [
      "Depth level: 2880.6m\n"
     ]
    },
    {
     "name": "stderr",
     "output_type": "stream",
     "text": [
      "100%|██████████| 12/12 [00:22<00:00,  1.89s/it]\n"
     ]
    },
    {
     "name": "stdout",
     "output_type": "stream",
     "text": [
      "Depth level: 3045.6m\n"
     ]
    },
    {
     "name": "stderr",
     "output_type": "stream",
     "text": [
      "100%|██████████| 12/12 [00:21<00:00,  1.75s/it]\n"
     ]
    },
    {
     "name": "stdout",
     "output_type": "stream",
     "text": [
      "Depth level: 3220.6m\n"
     ]
    },
    {
     "name": "stderr",
     "output_type": "stream",
     "text": [
      "100%|██████████| 12/12 [00:21<00:00,  1.76s/it]\n"
     ]
    },
    {
     "name": "stdout",
     "output_type": "stream",
     "text": [
      "Depth level: 3405.6m\n"
     ]
    },
    {
     "name": "stderr",
     "output_type": "stream",
     "text": [
      "100%|██████████| 12/12 [00:21<00:00,  1.75s/it]\n"
     ]
    },
    {
     "name": "stdout",
     "output_type": "stream",
     "text": [
      "Depth level: 3600.6m\n"
     ]
    },
    {
     "name": "stderr",
     "output_type": "stream",
     "text": [
      "100%|██████████| 12/12 [00:21<00:00,  1.82s/it]\n"
     ]
    },
    {
     "name": "stdout",
     "output_type": "stream",
     "text": [
      "Depth level: 3806.9m\n"
     ]
    },
    {
     "name": "stderr",
     "output_type": "stream",
     "text": [
      "100%|██████████| 12/12 [00:21<00:00,  1.79s/it]\n"
     ]
    },
    {
     "name": "stdout",
     "output_type": "stream",
     "text": [
      "Depth level: 4025.6m\n"
     ]
    },
    {
     "name": "stderr",
     "output_type": "stream",
     "text": [
      "100%|██████████| 12/12 [00:21<00:00,  1.76s/it]\n"
     ]
    },
    {
     "name": "stdout",
     "output_type": "stream",
     "text": [
      "Depth level: 4256.9m\n"
     ]
    },
    {
     "name": "stderr",
     "output_type": "stream",
     "text": [
      "100%|██████████| 12/12 [00:21<00:00,  1.77s/it]\n"
     ]
    },
    {
     "name": "stdout",
     "output_type": "stream",
     "text": [
      "Depth level: 4500.6m\n"
     ]
    },
    {
     "name": "stderr",
     "output_type": "stream",
     "text": [
      "100%|██████████| 12/12 [00:21<00:00,  1.80s/it]\n"
     ]
    },
    {
     "name": "stdout",
     "output_type": "stream",
     "text": [
      "Depth level: 4756.9m\n"
     ]
    },
    {
     "name": "stderr",
     "output_type": "stream",
     "text": [
      "100%|██████████| 12/12 [00:21<00:00,  1.79s/it]\n"
     ]
    },
    {
     "name": "stdout",
     "output_type": "stream",
     "text": [
      "Depth level: 5025.6m\n"
     ]
    },
    {
     "name": "stderr",
     "output_type": "stream",
     "text": [
      "100%|██████████| 12/12 [00:22<00:00,  1.84s/it]\n"
     ]
    },
    {
     "name": "stdout",
     "output_type": "stream",
     "text": [
      "Depth level: 5313.1m\n"
     ]
    },
    {
     "name": "stderr",
     "output_type": "stream",
     "text": [
      "100%|██████████| 12/12 [00:21<00:00,  1.80s/it]\n"
     ]
    },
    {
     "name": "stdout",
     "output_type": "stream",
     "text": [
      "Depth level: 5625.6m\n"
     ]
    },
    {
     "name": "stderr",
     "output_type": "stream",
     "text": [
      "100%|██████████| 12/12 [00:21<00:00,  1.81s/it]\n"
     ]
    },
    {
     "name": "stdout",
     "output_type": "stream",
     "text": [
      "Depth level: 5963.1m\n"
     ]
    },
    {
     "name": "stderr",
     "output_type": "stream",
     "text": [
      "100%|██████████| 12/12 [00:22<00:00,  1.87s/it]"
     ]
    },
    {
     "name": "stdout",
     "output_type": "stream",
     "text": [
      "done\n"
     ]
    },
    {
     "name": "stderr",
     "output_type": "stream",
     "text": [
      "\n"
     ]
    }
   ],
   "source": [
    "#----\n",
    "# prepare loop over all data, part III -> compute insitu temp and pO2 for FUTURE PERIOD\n",
    "#----\n",
    "\n",
    "#note_data = 'FESOM-REcoM simulation, Cara Nissen, September 2022, cara.nissen@awi.de or cara.nissen@colorado.edu'\n",
    "note_data = 'FESOM-REcoM simulation, Cara Nissen, December 2023, cara.nissen@awi.de or cara.nissen@colorado.edu'\n",
    "\n",
    "savepath = '/pscratch/sd/c/cnissen/files_toothfish_project_AGI/'+simulation+'_monthly_drift/'\n",
    "# check existence of paths\n",
    "if not os.path.exists(savepath):\n",
    "    print ('Created '+savepath)\n",
    "    os.makedirs(savepath)\n",
    "    \n",
    "fill_value = -9999\n",
    "\n",
    "yi_SO  = yi #[:-1]\n",
    "ind_SO = np.where(yi_SO<=latlim)[0]\n",
    "yi_SO  = yi_SO[ind_SO]\n",
    "\n",
    "lat_3D    = np.tile(y_all,[depths.shape[0],1,1]) # (99, 91, 720) depth, lat, lon\n",
    "depths_3D = np.tile(depths,[y_all.shape[0],y_all.shape[1],1])\n",
    "depths_3D = np.transpose(depths_3D,[2,0,1]) # (99, 91, 720) depth, lat, lon\n",
    "\n",
    "#pres_3D  = sw.eos80.pres(depths_3D,lat_3D) # (99, 91, 720) depth, lat, lon\n",
    "if np.min(depths_3D)<-10:\n",
    "    pres_3D = p_from_z(depths_3D,lat_3D)\n",
    "elif np.min(depths_3D)>=0:\n",
    "    pres_3D = p_from_z(-1*depths_3D,lat_3D)\n",
    "    \n",
    "# option to turn on/off the storage of additional fields:\n",
    "save_oxygen = True\n",
    "save_salinity = True\n",
    "\n",
    "process_future = True\n",
    "if process_future:\n",
    "    #----\n",
    "    # create netcdf file here (1 file per year and variable)\n",
    "    #----\n",
    "    # variables: t_insitu, pO2\n",
    "    # dimensions: depth x lon x lat\n",
    "    save_as_netcdf = True\n",
    "    if save_as_netcdf:\n",
    "        if save_oxygen:\n",
    "            #----\n",
    "            # oxygen in mol kg-1\n",
    "            #----\n",
    "            netcdf_name = 'oxygen_fesom_'+simulation+'_avg_'+str(year_list2[0])+'_'+str(year_list2[-1])+'_monthly.nc'\n",
    "            if not os.path.exists(savepath+netcdf_name):\n",
    "                print ('Create file '+savepath+netcdf_name)\n",
    "                w_nc_fid = Dataset(savepath+netcdf_name, 'w', format='NETCDF4_CLASSIC')\n",
    "                # create dimension & variable\n",
    "                w_nc_fid.createDimension('lon', len(xi)) \n",
    "                w_nc_fid.createDimension('lat', len(yi_SO))  \n",
    "                w_nc_fid.createDimension('month', 12) # monthly  \n",
    "                w_nc_fid.createDimension('depth', len(np.unique(mesh.zlevs))) \n",
    "                w_nc_var2 = w_nc_fid.createVariable('lat', 'f4',('lat'))\n",
    "                w_nc_var3 = w_nc_fid.createVariable('lon', 'f4',('lon'))\n",
    "                w_nc_var4 = w_nc_fid.createVariable('depth', 'f4',('depth'))\n",
    "                w_nc_var2.unit = 'degrees N'\n",
    "                w_nc_var3.unit = 'degrees E'\n",
    "                w_nc_var4.unit = 'm'\n",
    "                w_nc_var5 = w_nc_fid.createVariable('oxygen', 'f4',('month','depth','lat','lon'),fill_value=fill_value)\n",
    "                w_nc_var5.description = 'oxygen concentration'\n",
    "                w_nc_var5.unit = 'mol kg-1'\n",
    "                w_nc_var5.note = 'converted from mmol m-3 using modeled in-situ density'\n",
    "                w_nc_fid.variables['lat'][:] = yi_SO\n",
    "                w_nc_fid.variables['lon'][:] = xi\n",
    "                w_nc_fid.variables['depth'][:] = depths\n",
    "                w_nc_fid.note = note_data\n",
    "                w_nc_fid.original_file = path2+var_name3+'_fesom_'+str(year)+'0101.nc'\n",
    "                w_nc_fid.script = '/home/ollie/ncara/scripts/MASTER_toothfish_postprocessing_AGI_save_netcdf_files_monthly.ipynb'\n",
    "                w_nc_fid.close()\n",
    "        #----\n",
    "        # pO2\n",
    "        #----\n",
    "        netcdf_name = 'pO2_fesom_'+simulation+'_avg_'+str(year_list2[0])+'_'+str(year_list2[-1])+'_monthly.nc'\n",
    "        if not os.path.exists(savepath+netcdf_name):\n",
    "            print ('Create file '+savepath+netcdf_name)\n",
    "            w_nc_fid = Dataset(savepath+netcdf_name, 'w', format='NETCDF4_CLASSIC')\n",
    "            # create dimension & variable\n",
    "            w_nc_fid.createDimension('lon', len(xi)) \n",
    "            w_nc_fid.createDimension('lat', len(yi_SO))  \n",
    "            w_nc_fid.createDimension('month', 12) # monthly  \n",
    "            w_nc_fid.createDimension('depth', len(np.unique(mesh.zlevs))) \n",
    "            w_nc_var2 = w_nc_fid.createVariable('lat', 'f4',('lat'))\n",
    "            w_nc_var3 = w_nc_fid.createVariable('lon', 'f4',('lon'))\n",
    "            w_nc_var4 = w_nc_fid.createVariable('depth', 'f4',('depth'))\n",
    "            w_nc_var2.unit = 'degrees N'\n",
    "            w_nc_var3.unit = 'degrees E'\n",
    "            w_nc_var4.unit = 'm'\n",
    "            w_nc_var5 = w_nc_fid.createVariable('pO2', 'f4',('month','depth','lat','lon'),fill_value=fill_value)\n",
    "            w_nc_var5.description = 'partial pressure of oxygen'\n",
    "            w_nc_var5.note = 'calculated from monthly mean model output of T, S, and O2'\n",
    "            w_nc_var5.unit = 'mbar'\n",
    "            w_nc_fid.variables['lat'][:] = yi_SO\n",
    "            w_nc_fid.variables['lon'][:] = xi\n",
    "            w_nc_fid.variables['depth'][:] = depths\n",
    "            w_nc_fid.note = note_data\n",
    "            w_nc_fid.original_file = path2+var_name3+'_fesom_'+str(year)+'0101.nc'\n",
    "            w_nc_fid.script = '/home/ollie/ncara/scripts/MASTER_toothfish_postprocessing_AGI_save_netcdf_files_monthly.ipynb'\n",
    "            w_nc_fid.close()\n",
    "        #else:\n",
    "        #    print 'File '+savepath+netcdf_name+' exists already, overwrite'\n",
    "        \n",
    "        #----\n",
    "        # in situ temp\n",
    "        #----\n",
    "        netcdf_name = 't_insitu_fesom_'+simulation+'_avg_'+str(year_list2[0])+'_'+str(year_list2[-1])+'_monthly.nc'\n",
    "        if not os.path.exists(savepath+netcdf_name):\n",
    "            print ('Create file '+savepath+netcdf_name)\n",
    "            w_nc_fid = Dataset(savepath+netcdf_name, 'w', format='NETCDF4_CLASSIC')\n",
    "            # create dimension & variable\n",
    "            w_nc_fid.createDimension('lon', len(xi)) \n",
    "            w_nc_fid.createDimension('lat', len(yi_SO))  \n",
    "            w_nc_fid.createDimension('month', 12) # monthly  \n",
    "            w_nc_fid.createDimension('depth', len(np.unique(mesh.zlevs))) \n",
    "            w_nc_var2 = w_nc_fid.createVariable('lat', 'f4',('lat'))\n",
    "            w_nc_var3 = w_nc_fid.createVariable('lon', 'f4',('lon'))\n",
    "            w_nc_var4 = w_nc_fid.createVariable('depth', 'f4',('depth'))\n",
    "            w_nc_var2.unit = 'degrees N'\n",
    "            w_nc_var3.unit = 'degrees E'\n",
    "            w_nc_var4.unit = 'm'\n",
    "            w_nc_var5 = w_nc_fid.createVariable('t_insitu', 'f4',('month','depth','lat','lon'),fill_value=fill_value)\n",
    "            w_nc_var5.description = 'insitu temperature'\n",
    "            w_nc_var5.unit = 'deg C'\n",
    "            w_nc_fid.variables['lat'][:] = yi_SO\n",
    "            w_nc_fid.variables['lon'][:] = xi\n",
    "            w_nc_fid.variables['depth'][:] = depths\n",
    "            w_nc_fid.note = note_data\n",
    "            w_nc_fid.original_file = path1+var_name1+'_fesom_'+str(year)+'0101.nc'\n",
    "            w_nc_fid.script = '/home/ollie/ncara/scripts/MASTER_toothfish_postprocessing_AGI_save_netcdf_files_monthly.ipynb'\n",
    "            w_nc_fid.close()\n",
    "        #else:\n",
    "        #    print 'File '+savepath+netcdf_name+' exists already, overwrite'\n",
    "        \n",
    "        if save_salinity:\n",
    "            #----\n",
    "            # salinity\n",
    "            #----\n",
    "            netcdf_name = 'salt_fesom_'+simulation+'_avg_'+str(year_list2[0])+'_'+str(year_list2[-1])+'_monthly.nc'\n",
    "            if not os.path.exists(savepath+netcdf_name):\n",
    "                print ('Create file '+savepath+netcdf_name)\n",
    "                w_nc_fid = Dataset(savepath+netcdf_name, 'w', format='NETCDF4_CLASSIC')\n",
    "                # create dimension & variable\n",
    "                w_nc_fid.createDimension('lon', len(xi)) \n",
    "                w_nc_fid.createDimension('lat', len(yi_SO))  \n",
    "                w_nc_fid.createDimension('month', 12) # monthly  \n",
    "                w_nc_fid.createDimension('depth', len(np.unique(mesh.zlevs))) \n",
    "                w_nc_var2 = w_nc_fid.createVariable('lat', 'f4',('lat'))\n",
    "                w_nc_var3 = w_nc_fid.createVariable('lon', 'f4',('lon'))\n",
    "                w_nc_var4 = w_nc_fid.createVariable('depth', 'f4',('depth'))\n",
    "                w_nc_var2.unit = 'degrees N'\n",
    "                w_nc_var3.unit = 'degrees E'\n",
    "                w_nc_var4.unit = 'm'\n",
    "                w_nc_var5 = w_nc_fid.createVariable('salt', 'f4',('month','depth','lat','lon'),fill_value=fill_value)\n",
    "                w_nc_var5.description = 'practical salinity'\n",
    "                w_nc_var5.unit = 'psu'\n",
    "                w_nc_fid.variables['lat'][:] = yi_SO\n",
    "                w_nc_fid.variables['lon'][:] = xi\n",
    "                w_nc_fid.variables['depth'][:] = depths\n",
    "                w_nc_fid.note = note_data\n",
    "                w_nc_fid.original_file = path1+var_name2+'_fesom_'+str(year)+'0101.nc'\n",
    "                w_nc_fid.script = '/home/ollie/ncara/scripts/MASTER_toothfish_postprocessing_AGI_save_netcdf_files_monthly.ipynb'\n",
    "                w_nc_fid.close()\n",
    "\n",
    "    for kk in range(0,len(depths)):\n",
    "        print ('Depth level: '+str(depths[kk])+'m')\n",
    "        \n",
    "        pO2_all_months      = fill_value*np.ones([len(yi_SO),len(xi),12])\n",
    "        O2_molkg_all_months = fill_value*np.ones([len(yi_SO),len(xi),12])\n",
    "        t_insitu_all_months = fill_value*np.ones([len(yi_SO),len(xi),12])\n",
    "        salt_all_months     = fill_value*np.ones([len(yi_SO),len(xi),12])\n",
    "\n",
    "        for mm in tqdm(range(0,12)): # calculate pO2 etc for each month, but then only store the annual mean\n",
    "            #print ('Month: '+str(mm+1)+'...')\n",
    "            \n",
    "            data1 = temp_future[mm,:,:] # temp\n",
    "            data2 = salt_future[mm,:,:] # salt\n",
    "            data3 = oxy_future[mm,:,:] # oxygen\n",
    "            # set masked values to 0 to get correction within cavity correct\n",
    "            # (if I don't do that, masked and not-masked values are not correctly recognized with njit)\n",
    "            data1[data1.mask==True]=0 \n",
    "            data1 = reorganize_field_in_cavities(ind_cavities,data1) \n",
    "            data2[data2.mask==True]=0 \n",
    "            data2 = reorganize_field_in_cavities(ind_cavities,data2) \n",
    "            data3[data3.mask==True]=0 \n",
    "            data3 = reorganize_field_in_cavities(ind_cavities,data3)    \n",
    "            \n",
    "            data1[data1==0]=np.nan\n",
    "            data2[data2==0]=np.nan\n",
    "            data3[data3==0]=np.nan\n",
    "    \n",
    "            #-----\n",
    "            # TEMP\n",
    "            #-----\n",
    "            data = np.copy(data1[kk,:])\n",
    "            data_int = griddata((mesh.x2, mesh.y2),data.ravel(),\\\n",
    "                            (x_all.ravel(), y_all.ravel()), method='linear')  # Final interpolated field\n",
    "            del data\n",
    "            data_int = data_int.reshape((x_all.shape[0],x_all.shape[1])) \n",
    "         #   data_int = transform_lon_coord(data_int,grid_resolution_x) # NOTE: ...\n",
    "            # I think this transformation is only needed because \"mask_vol\" is wrongly rotated!\n",
    "            # Confirmed: after correcting mask_vol in ancillary file, I do not need the transformation anymore!\n",
    "            #data_int[mask==0]=-99999 # check if it should be done after or before lon-transformation\n",
    "            data_int[np.isnan(data_int)] = -99999\n",
    "            data_int[data_int==0]=-99999\n",
    "            data_int[data_int>50]=-99999\n",
    "            data_int_temp = np.copy(data_int)\n",
    "            data_int_temp[mask_vol[kk,:,:]==0]=-99999\n",
    "            del data_int\n",
    "\n",
    "            #-----\n",
    "            # test plot\n",
    "            #-----\n",
    "            test_plot = False\n",
    "            if test_plot:\n",
    "                # note that lon is still organized the wrong way when plotting here\n",
    "                levels1 = np.arange(-3,10.5,0.5)\n",
    "                levels2 = np.arange(-1,3.5,0.5)\n",
    "                unit1 = 'deg C'\n",
    "                ind_plot = 300#80#600\n",
    "                dpicnt = 150\n",
    "                colormap = cm.Spectral_r\n",
    "                plt.figure(figsize=(6,4), dpi = dpicnt,facecolor='w', edgecolor='k') \n",
    "                plt.contourf(x_all[0:ind_plot,:],y_all[0:ind_plot,:],data_int_temp[0:ind_plot,:],\\\n",
    "                             levels=levels1,cmap=colormap, extend='both')\n",
    "                cbar=plt.colorbar(orientation='horizontal',shrink=0.8,pad=0.1)\n",
    "                cbar.ax.set_xlabel(unit1) \n",
    "                cbar.cmap.set_under('grey')\n",
    "                plt.title('Temperature at '+str(mesh.zlevs[kk])+'m',fontsize=10,fontweight='bold')\n",
    "                plt.show()\n",
    "                ## mask\n",
    "                plt.figure(figsize=(6,4), dpi = dpicnt,facecolor='w', edgecolor='k') \n",
    "                plt.contourf(x_all[0:ind_plot,:],y_all[0:ind_plot,:],mask_vol[kk,0:ind_plot,:],\\\n",
    "                             levels=levels2,cmap=colormap, extend='both')\n",
    "                cbar=plt.colorbar(orientation='horizontal',shrink=0.8,pad=0.1)\n",
    "                cbar.ax.set_xlabel('') \n",
    "                cbar.cmap.set_under('grey')\n",
    "                plt.title('Mask at '+str(mesh.zlevs[kk])+'m',fontsize=10,fontweight='bold')\n",
    "                plt.show()\n",
    "\n",
    "            #-----\n",
    "            # SALINITY\n",
    "            #-----\n",
    "            data = np.copy(data2[kk,:])\n",
    "            data_int = griddata((mesh.x2, mesh.y2),data.ravel(),\\\n",
    "                            (x_all.ravel(), y_all.ravel()), method='linear')  # Final interpolated field\n",
    "            del data\n",
    "            data_int = data_int.reshape((x_all.shape[0],x_all.shape[1])) \n",
    "          #  data_int = transform_lon_coord(data_int,grid_resolution_x) # see note above for temp\n",
    "            #data_int[mask==0]=-99999 # check if it should be done after or before lon-transformation\n",
    "            data_int[np.isnan(data_int)] = -99999\n",
    "            data_int[data_int==0]=-99999\n",
    "            data_int[data_int>50]=-99999\n",
    "            data_int_salt = np.copy(data_int)\n",
    "            data_int_salt[mask_vol[kk,:,:]==0]=-99999\n",
    "            del data_int\n",
    "            #-----\n",
    "            # OXYGEN\n",
    "            #-----\n",
    "            data = np.copy(data3[kk,:])\n",
    "            data_int = griddata((mesh.x2, mesh.y2),data.ravel(),\\\n",
    "                            (x_all.ravel(), y_all.ravel()), method='linear')  # Final interpolated field\n",
    "            del data\n",
    "            data_int = data_int.reshape((x_all.shape[0],x_all.shape[1])) \n",
    "          #  data_int = transform_lon_coord(data_int,grid_resolution_x) # see note above for temp!\n",
    "            #data_int[mask==0]=-99999 # check if it should be done after or before lon-transformation\n",
    "            data_int[np.isnan(data_int)] = -99999\n",
    "            data_int[data_int==0]=-99999\n",
    "            data_int_oxygen = np.copy(data_int)\n",
    "            data_int_oxygen[mask_vol[kk,:,:]==0]=-99999\n",
    "            O2_mmol_per_m3 = np.copy(data_int_oxygen)\n",
    "            del data_int\n",
    "\n",
    "            #print data_int_temp.shape\n",
    "\n",
    "            #print 'Min/Max pot. temp:',np.nanmin(data_int_temp),np.nanmax(data_int_temp)\n",
    "            #print 'Min/Max salinty:',np.nanmin(data_int_salt),np.nanmax(data_int_salt)\n",
    "            #print 'Min/Max oxy:',np.nanmin(data_int_oxygen),np.nanmax(data_int_oxygen)\n",
    "\n",
    "          #  if np.mod(kk,20)==0:\n",
    "          #      print ('Max temp,salt,oxy:',\\\n",
    "          #             np.nanmax(data_int_temp),np.nanmax(data_int_salt),np.nanmax(data_int_oxygen))\n",
    "\n",
    "            #-----\n",
    "            # calculate pO2\n",
    "            #-----\n",
    "\n",
    "            # get in situ temp\n",
    "           # print 'Min/Max data_int_salt:',np.min(data_int_salt),np.max(data_int_salt)\n",
    "           # print 'Min/Max data_int_temp:',np.min(data_int_temp),np.max(data_int_temp)\n",
    "            t_insitu = sw.eos80.temp(data_int_salt,data_int_temp,pres_3D[kk,:,:],ref_pressure)\n",
    "            t_insitu[data_int_temp<-99]=np.nan\n",
    "           # print 'Min/Max t_insitu:',np.nanmin(t_insitu),np.nanmax(t_insitu)\n",
    "\n",
    "            # get in situ density\n",
    "            rho    = sw.dens(data_int_salt,t_insitu,pres_3D[kk,:,:])\n",
    "           # print 'Min/Max rho:',np.nanmin(rho),np.nanmax(rho)\n",
    "\n",
    "            O2_molkg = O2_mmol_per_m3*0.001/rho #1035.0  # convert model O2 to mol kg-1 (using in situ or potential density?)\n",
    "\n",
    "            # scaled temp\n",
    "            T_scaled = np.log((298.15-t_insitu)/(KC+t_insitu)) # np.log -> ln(), np.log10 -> log10\n",
    "\n",
    "            # saturation concentration of O2 in seawater\n",
    "            A = A0 + A1*T_scaled + A2*T_scaled*T_scaled + A3*T_scaled*T_scaled*T_scaled+\\\n",
    "                    A4*T_scaled*T_scaled*T_scaled*T_scaled +\\\n",
    "                    A5*T_scaled*T_scaled*T_scaled*T_scaled*T_scaled +\\\n",
    "                    data_int_salt*(B0+B1*T_scaled+B2*T_scaled*T_scaled+B3*T_scaled*T_scaled*T_scaled)+\\\n",
    "                    C0*data_int_salt*data_int_salt\n",
    "            c_sat_o2 = 1e-6*np.exp(A)\n",
    "\n",
    "            # water vapour pressure\n",
    "            pH2O = 1013.25 * np.exp(D0 + D1*(100./(t_insitu+KC))+D2*np.log((t_insitu+KC)/100.)+D3*data_int_salt)\n",
    "\n",
    "            K0 = c_sat_o2/(xO2 * (1013.25 - pH2O))\n",
    "            pO2 = (O2_molkg/K0)*np.exp((Vm*pres_3D[kk,:,:])/(R*(KC+t_insitu)))\n",
    "\n",
    "            t_insitu[np.isnan(pO2)]=np.nan\n",
    "            data_int_salt[np.isnan(pO2)]=np.nan\n",
    "\n",
    "            #if np.mod(kk,20)==0:\n",
    "            #    print ('Min/Max pO2:',np.nanmin(pO2),np.nanmax(pO2))\n",
    "            #    print ('Min/Max t insitu:',np.nanmin(t_insitu),np.nanmax(t_insitu))\n",
    "\n",
    "            t_insitu[np.isnan(t_insitu)]=fill_value\n",
    "            pO2[np.isnan(pO2)]=fill_value\n",
    "            data_int_salt[np.isnan(data_int_salt)]=fill_value\n",
    "            \n",
    "            pO2_all_months[:,:,mm]      = pO2\n",
    "            O2_molkg_all_months[:,:,mm] = O2_molkg\n",
    "            t_insitu_all_months[:,:,mm] = t_insitu\n",
    "            salt_all_months[:,:,mm]     = data_int_salt\n",
    "            \n",
    "            del t_insitu,pO2,data_int_salt\n",
    "            del data_int_temp,data_int_oxygen,rho\n",
    "            del T_scaled,A,c_sat_o2,pH2O,K0\n",
    "            del O2_mmol_per_m3\n",
    "           # del data1,data2,data3\n",
    "        \n",
    "            #-----\n",
    "            # fields to save: t_insitu, pO2, O2 in mol/kg, practical salinity\n",
    "            #-----\n",
    "            if save_as_netcdf:\n",
    "                if save_oxygen:\n",
    "                    #----\n",
    "                    # oxygen\n",
    "                    #----\n",
    "                    netcdf_name = 'oxygen_fesom_'+simulation+'_avg_'+str(year_list2[0])+'_'+str(year_list2[-1])+'_monthly.nc'\n",
    "                    w_nc_fid = Dataset(savepath+netcdf_name, 'r+', format='NETCDF4_CLASSIC')# Create and open new netcdf file to write to\n",
    "                    w_nc_fid.variables['oxygen'][mm,kk,:,:] = O2_molkg_all_months[:,:,mm]\n",
    "                    w_nc_fid.close()\n",
    "                #----\n",
    "                # pO2\n",
    "                #----\n",
    "                netcdf_name = 'pO2_fesom_'+simulation+'_avg_'+str(year_list2[0])+'_'+str(year_list2[-1])+'_monthly.nc'\n",
    "                w_nc_fid = Dataset(savepath+netcdf_name, 'r+', format='NETCDF4_CLASSIC')# Create and open new netcdf file to write to\n",
    "                w_nc_fid.variables['pO2'][mm,kk,:,:] = pO2_all_months[:,:,mm]\n",
    "                w_nc_fid.close()\n",
    "                #----\n",
    "                # in situ temp\n",
    "                #----\n",
    "                netcdf_name = 't_insitu_fesom_'+simulation+'_avg_'+str(year_list2[0])+'_'+str(year_list2[-1])+'_monthly.nc'\n",
    "                w_nc_fid = Dataset(savepath+netcdf_name, 'r+', format='NETCDF4_CLASSIC')# Create and open new netcdf file to write to\n",
    "                w_nc_fid.variables['t_insitu'][mm,kk,:,:] = t_insitu_all_months[:,:,mm]\n",
    "                w_nc_fid.close()\n",
    "                if save_salinity:\n",
    "                    #----\n",
    "                    # salinity\n",
    "                    #----\n",
    "                    netcdf_name = 'salt_fesom_'+simulation+'_avg_'+str(year_list2[0])+'_'+str(year_list2[-1])+'_monthly.nc'\n",
    "                    w_nc_fid = Dataset(savepath+netcdf_name, 'r+', format='NETCDF4_CLASSIC')# Create and open new netcdf file to write to\n",
    "                    w_nc_fid.variables['salt'][mm,kk,:,:] = salt_all_months[:,:,mm]\n",
    "                    w_nc_fid.close()\n",
    "                #if mm==0:\n",
    "                #    print ('Successfully written depth level '+str(kk+1)+'/'+str(len(depths))+\\\n",
    "                #       ' to file')\n",
    "            #print ''\n",
    "        \n",
    "        del t_insitu_all_months,O2_molkg_all_months\n",
    "        del salt_all_months,pO2_all_months\n",
    "\n",
    "print ('done')\n"
   ]
  },
  {
   "cell_type": "code",
   "execution_count": null,
   "metadata": {},
   "outputs": [],
   "source": []
  },
  {
   "cell_type": "code",
   "execution_count": null,
   "metadata": {},
   "outputs": [],
   "source": [
    "\n",
    "#Max temp,salt,oxy: 19.0921727822 34.9511492796 402.84401239\n",
    "#Min/Max pO2: 0.0504333169535 264.758569143\n",
    "#Min/Max t insitu: -2.74675112141 19.0921727822\n",
    "\n",
    "#print data1\n"
   ]
  },
  {
   "cell_type": "code",
   "execution_count": null,
   "metadata": {},
   "outputs": [],
   "source": []
  }
 ],
 "metadata": {
  "kernelspec": {
   "display_name": "myenv-jupyter",
   "language": "python",
   "name": "myenv-jupyter"
  },
  "language_info": {
   "codemirror_mode": {
    "name": "ipython",
    "version": 3
   },
   "file_extension": ".py",
   "mimetype": "text/x-python",
   "name": "python",
   "nbconvert_exporter": "python",
   "pygments_lexer": "ipython3",
   "version": "3.9.12"
  }
 },
 "nbformat": 4,
 "nbformat_minor": 4
}
