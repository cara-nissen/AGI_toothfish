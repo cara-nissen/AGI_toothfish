{
 "cells": [
  {
   "cell_type": "markdown",
   "metadata": {},
   "source": [
    "# compute AGI based on annual fields \n",
    "# present-day vs future\n",
    "# use AGIcrit, Tpref, O2thresh as calculated from monthly hist. clim.\n",
    "# HERE: save numbers for plotting as netcdf --> absolute numbers of viable habitat\n",
    "# EVERY DEPTH LEVEL"
   ]
  },
  {
   "cell_type": "code",
   "execution_count": null,
   "metadata": {},
   "outputs": [],
   "source": [
    "#get_ipython().system(u'jupyter nbconvert --to=python plot_AGI_toothfish_testing.ipynb')"
   ]
  },
  {
   "cell_type": "code",
   "execution_count": 1,
   "metadata": {
    "tags": []
   },
   "outputs": [],
   "source": [
    "\n",
    "import xarray as xr\n",
    "import numpy as np\n",
    "import sys, os\n",
    "from pathlib import Path\n",
    "import glob\n",
    "import matplotlib.pyplot as plt\n"
   ]
  },
  {
   "cell_type": "code",
   "execution_count": 2,
   "metadata": {
    "tags": []
   },
   "outputs": [
    {
     "name": "stdout",
     "output_type": "stream",
     "text": [
      "['Dissostichus mawsoni', 'Trematomus loennbergii', 'Macrourus whitsoni', 'Galiteuthis glacialis', 'Chionodraco hamatus', 'Anotopterus vorax', 'Chaenodraco wilsoni', 'Kondakovia longimana', 'Cryodraco antarcticus', 'Muraenolepis microps', 'Psychroteuthis glacialis', 'Gymnodraco acuticeps', 'Amblyraja georgiana', 'Antarctomysis maxima', 'Lepidonotothen squamifrons', 'Mesonychoteuthis hamiltoni', 'Pleuragramma antarctica', 'Euphausia superba', 'Notothenia coriiceps', 'Trematomus lepidorhinus', 'Pagothenia borchgrevinki', 'Lycenchelys aratrirostris', 'Neopagetopsis ionah', 'Chaenocephalus aceratus', 'Trematomus hansoni', 'Chionobathyscus dewitti', 'Euphausia crystallorophias', 'Notothenia rossii', 'Bathyraja maccaini']\n",
      "29 species\n",
      "['Dissostichus_mawsoni', 'Trematomus_loennbergii', 'Macrourus_whitsoni', 'Galiteuthis_glacialis', 'Chionodraco_hamatus', 'Anotopterus_vorax', 'Chaenodraco_wilsoni', 'Kondakovia_longimana', 'Cryodraco_antarcticus', 'Muraenolepis_microps', 'Psychroteuthis_glacialis', 'Gymnodraco_acuticeps', 'Amblyraja_georgiana', 'Antarctomysis_maxima', 'Lepidonotothen_squamifrons', 'Mesonychoteuthis_hamiltoni', 'Pleuragramma_antarctica', 'Euphausia_superba', 'Notothenia_coriiceps', 'Trematomus_lepidorhinus', 'Pagothenia_borchgrevinki', 'Lycenchelys_aratrirostris', 'Neopagetopsis_ionah', 'Chaenocephalus_aceratus', 'Trematomus_hansoni', 'Chionobathyscus_dewitti', 'Euphausia_crystallorophias', 'Notothenia_rossii', 'Bathyraja_maccaini']\n",
      "28\n"
     ]
    }
   ],
   "source": [
    "#-----\n",
    "# based on python code provided by Anne\n",
    "#-----\n",
    "\n",
    "basepath=\"/pscratch/sd/c/cnissen/AGI_toothfish_project/\" \n",
    "no_species=29 \n",
    "\n",
    "# Init\n",
    "species_names         = [None] * no_species # empty list\n",
    "species_names_        = [None] * no_species # empty list\n",
    "habitat_file_names    = [None] * no_species # empty list\n",
    "\n",
    "habitat_files = Path(basepath + \"all_prey_plus_toothfish/\").glob('*_boolean.nc')  # updated habitat files, Nov 2022!!!!!!\n",
    "#habitat_files = Path(basepath + \"share/\").glob('*_boolean.nc') \n",
    "# Note: I changed name of file of Antimora_rostrata to *boolean2.nc, so that it won't be included here\n",
    "for ifile,file in enumerate(habitat_files):   \n",
    "    habitat_file_names[ifile]    = str(file)\n",
    "    # Get the species name from the full pathname with a space between\n",
    "    species_names[ifile]  = '_'.join(os.path.basename(file).split('_')[:-2]).replace('_',' ') \n",
    "    if not species_names[ifile] in ['Galiteuthis glacialis','Mesonychoteuthis hamiltoni','Kondakovia longimana']:\n",
    "        species_names[ifile] = species_names[ifile][8:] # get rid of \"Default\" or \"Reviewed\"\n",
    "    if species_names[ifile][0].isspace():  # get rid of white space if there is any\n",
    "        species_names[ifile] = species_names[ifile][1:]\n",
    "    if species_names[ifile] in ['Chionobathyscus dewitti All Suitable Habitat']:\n",
    "        species_names[ifile] = species_names[ifile][0:23]\n",
    "    # Get the species name from the full pathname with _ in it\n",
    "    species_names_[ifile] = species_names[ifile].replace(' ','_')  #'_'.join(os.path.basename(file).split('_')[:-2]) \n",
    "\n",
    "#print(habitat_file_names)\n",
    "print(species_names)\n",
    "print(len(species_names),'species')\n",
    "print(species_names_)\n",
    "\n",
    "    \n",
    "species_names_no_toothfish = ['Trematomus loennbergii', 'Macrourus whitsoni', 'Galiteuthis glacialis',\\\n",
    "                              'Chionodraco hamatus', 'Anotopterus vorax', 'Chaenodraco wilsoni',\\\n",
    "                              'Kondakovia longimana', 'Cryodraco antarcticus', 'Muraenolepis microps',\\\n",
    "                              'Psychroteuthis glacialis', 'Gymnodraco acuticeps', 'Amblyraja georgiana',\\\n",
    "                              'Antarctomysis maxima', 'Lepidonotothen squamifrons', 'Mesonychoteuthis hamiltoni',\\\n",
    "                              'Pleuragramma antarctica', 'Euphausia superba', 'Notothenia coriiceps',\\\n",
    "                              'Trematomus lepidorhinus', 'Pagothenia borchgrevinki', 'Lycenchelys aratrirostris',\\\n",
    "                              'Neopagetopsis ionah', 'Chaenocephalus aceratus', 'Trematomus hansoni',\\\n",
    "                              'Chionobathyscus dewitti', 'Euphausia crystallorophias', 'Notothenia rossii',\\\n",
    "                              'Bathyraja maccaini']\n",
    "print (len(species_names_no_toothfish))\n"
   ]
  },
  {
   "cell_type": "code",
   "execution_count": 3,
   "metadata": {
    "tags": []
   },
   "outputs": [
    {
     "name": "stdout",
     "output_type": "stream",
     "text": [
      "29\n"
     ]
    }
   ],
   "source": [
    "#----\n",
    "# Species information needed for calculation AGI\n",
    "#----\n",
    "\n",
    "# define order of species as contained in depth_min, LWa etc.\n",
    "species_list = ['Cryodraco antarcticus','Neopagetopsis ionah','Trematomus lepidorhinus',\\\n",
    "               'Trematomus hansoni','Bathyraja maccaini','Chaenocephalus aceratus',\\\n",
    "               'Notothenia coriiceps','Pleuragramma antarctica','Dissostichus mawsoni',\\\n",
    "                'Macrourus whitsoni',\\\n",
    "               'Lepidonotothen squamifrons','Notothenia rossii','Muraenolepis microps',\\\n",
    "               'Chaenodraco wilsoni','Chionobathyscus dewitti',\\\n",
    "               'Galiteuthis glacialis','Mesonychoteuthis hamiltoni','Kondakovia longimana',\\\n",
    "               'Amblyraja georgiana','Anotopterus vorax','Antarctomysis maxima',\\\n",
    "               'Chionodraco hamatus','Euphausia crystallorophias','Euphausia superba','Gymnodraco acuticeps',\\\n",
    "               'Lycenchelys aratrirostris','Pagothenia borchgrevinki','Psychroteuthis glacialis',\\\n",
    "               'Trematomus loennbergii']\n",
    "print(len(species_list))\n",
    "# excluded the following species for now: \n",
    "# 1) Antimora rostrata: don't have the habitat file (habitat outside of SO)\n",
    "\n",
    "# NO MAP Bathyraja eatonii\t?\t\t15\t1500\n",
    "\n",
    "# Minimum depth of occurence (meter)\n",
    "depth_min     = [None] * len(species_names) # Initialize\n",
    "depth_min[0]  = 90   # 'Cryodraco antarcticus'\n",
    "depth_min[1]  = 20   #'Neopagetopsis ionah'\n",
    "depth_min[2]  = 272    # 'Trematomus lepidorhinus'\n",
    "depth_min[3]  = 6    # 'Trematomus hansoni'\n",
    "depth_min[4]  = 167  # 'Bathyraja maccaini'\n",
    "depth_min[5]  = 0    # 'Chaenocephalus aceratus'\n",
    "depth_min[6]  = 0    # 'Notothenia coriiceps'\n",
    "depth_min[7]  = 0    # 'Pleuragramma antarctica'\n",
    "depth_min[8]  = 0    # 'Dissostichus mawsoni' ## Assume a wide range for toothfish (max. overlap with prey) ##\n",
    "depth_min[9]  = 400  # 'Macrourus whitsoni'\n",
    "depth_min[10] = 10   # 'Lepidonotothen squamifrons'\n",
    "depth_min[11] = 5    # 'Notothenia rossii'\n",
    "depth_min[12] = 10   # 'Muraenolepis microps'\n",
    "depth_min[13] = 200  # 'Chaenodraco wilsoni'\n",
    "depth_min[14] = 500  # 'Chionobathyscus dewitti'\n",
    "depth_min[15] = 200   #'Galiteuthis glacialis'\n",
    "depth_min[16] = 200   # 'Mesonychoteuthis hamiltoni'\n",
    "depth_min[17] = 500   # 'Kondakovia longimana'\n",
    "depth_min[18] = 57    # Amblyraja georgiana\n",
    "depth_min[19] = 358  # Anotopterus vorax\n",
    "depth_min[20] = 220 # Antarctomysis maxima\n",
    "depth_min[21] = 76 # Chionodraco hamatus\n",
    "depth_min[22] = 0 # Euphausia crystallorophias\n",
    "depth_min[23] = 0 # Euphausia superba\n",
    "depth_min[24] = 66 # Gymnodraco acuticeps\n",
    "depth_min[25] = 244 # Lycenchelys aratrirostris\n",
    "depth_min[26] = 0 # Pagothenia borchgrevinki\n",
    "depth_min[27] = 385 # Psychroteuthis glacialis\n",
    "depth_min[28] = 65 # Trematomus loennbergii\n",
    "#depth_min[29] = # Trematomus eulepidotus #EXCLUDED\n",
    "\n",
    "# Maximum depth of occurence (meter)\n",
    "depth_max     = [None] * len(species_names) # Initialize\n",
    "depth_max[0]  = 600  # 'Cryodraco antarcticus'\n",
    "depth_max[1]  = 900  #'Neopagetopsis ionah'\n",
    "depth_max[2]  = 468  # 'Trematomus lepidorhinus'\n",
    "depth_max[3]  = 549  # 'Trematomus hansoni'\n",
    "depth_max[4]  = 500  # 'Bathyraja maccaini'\n",
    "depth_max[5]  = 770  # 'Chaenocephalus aceratus'\n",
    "depth_max[6]  = 550  # 'Notothenia coriiceps'\n",
    "depth_max[7]  = 1000 # 'Pleuragramma antarctica'\n",
    "depth_max[8]  = 2210   # 'Dissostichus mawsoni' ## Assume a wide range for toothfish (max. overlap with prey) ##\n",
    "depth_max[9]  = 3185 # 'Macrourus whitsoni'\n",
    "depth_max[10] = 900  # 'Lepidonotothen squamifrons'\n",
    "depth_max[11] = 350 # 'Notothenia rossii'\n",
    "depth_max[12] = 1600 # 'Muraenolepis microps'\n",
    "depth_max[13] = 800  # 'Chaenodraco wilsoni'\n",
    "depth_max[14] = 2000 # 'Chionobathyscus dewitti'\n",
    "depth_max[15] = 2500   #'Galiteuthis glacialis'\n",
    "depth_max[16] =  600  # 'Mesonychoteuthis hamiltoni'\n",
    "depth_max[17] = 2000   # 'Kondakovia longimana'\n",
    "depth_max[18] = 173    # Amblyraja georgiana\n",
    "depth_max[19] = 1059 # Anotopterus vorax\n",
    "depth_max[20] = 440 # Antarctomysis maxima\n",
    "depth_max[21] = 271 # Chionodraco hamatus\n",
    "depth_max[22] = 650 # Euphausia crystallorophias\n",
    "depth_max[23] = 600 # Euphausia superba\n",
    "depth_max[24] = 247 # Gymnodraco acuticeps\n",
    "depth_max[25] = 376 # Lycenchelys aratrirostris\n",
    "depth_max[26] = 30 # Pagothenia borchgrevinki\n",
    "depth_max[27] = 610 # Psychroteuthis glacialis\n",
    "depth_max[28] = 832 # Trematomus loennbergii\n",
    "#depth_max[29] = # Trematomus eulepidotus EXCLUDED\n",
    "\n",
    "#---\n",
    "# NOTE Jan 2023: this info below is not needed anymore with the new AGI formulation!\n",
    "#----\n",
    "## LWa extracted 21.07.2022 from FishBase\n",
    "#LWa     = [None] * len(species_names) # Initialize\n",
    "#LWa[0]  = 0.0007  # 'Cryodraco antarcticus'\n",
    "#LWa[1]  = 0.01863  #'Neopagetopsis ionah'\n",
    "#LWa[2]  = 0.0042  # 'Trematomus eulepidotus'\n",
    "#LWa[3]  = 0.0021  # 'Trematomus hansoni'\n",
    "#LWa[4]  = 0.00477  # 'Bathyraja maccaini'\n",
    "#LWa[5]  = 0.0006 # 'Chaenocephalus aceratus'\n",
    "#LWa[6]  = 0.0132  # 'Notothenia coriiceps'\n",
    "#LWa[7]  = 0.0019  # 'Pleuragramma antarctica'\n",
    "#LWa[8]  = 0.0045   # 'Dissostichus mawsoni'\n",
    "#LWa[9]  = 0.0135 # 'Macrourus whitsoni'\n",
    "#LWa[10] = 0.0027  # 'Lepidonotothen squamifrons'\n",
    "##LWa[11] = 0.001     # 'Antimora rostrata'\n",
    "#LWa[11] = 0.0093 # 'Notothenia rossii'\n",
    "#LWa[12] = 0.00437 # 'Muraenolepis microps'\n",
    "#LWa[13] = 0.0005  # 'Chaenodraco wilsoni'\n",
    "#LWa[14] = 0.0012 # 'Chionobathyscus dewitti'\n",
    "\n",
    "## LWb extracted 21.07.2022 from FishBase\n",
    "#LWb     = [None] * len(species_names) # Initialize\n",
    "#LWb[0]  = 3.51  # 'Cryodraco antarcticus'\n",
    "#LWb[1]  = 2.762  #'Neopagetopsis ionah'\n",
    "#LWb[2]  = 3.32  # 'Trematomus eulepidotus'\n",
    "#LWb[3]  = 3.52  # 'Trematomus hansoni'\n",
    "#LWb[4]  = 3.162  # 'Bathyraja maccaini'\n",
    "#LWb[5]  = 3.63  # 'Chaenocephalus aceratus'\n",
    "#LWb[6]  = 3.09  # 'Notothenia coriiceps'\n",
    "#LWb[7]  = 3.41  # 'Pleuragramma antarctica'\n",
    "#LWb[8]  = 3.24   # 'Dissostichus mawsoni'\n",
    "#LWb[9]  = 3.15 # 'Macrourus whitsoni'\n",
    "#LWb[10] = 3.41  # 'Lepidonotothen squamifrons'\n",
    "##LWb[11] = 3.52   # 'Antimora rostrata'\n",
    "#LWb[11] = 3.07 # 'Notothenia rossii'\n",
    "#LWb[12] = 3.11 # 'Muraenolepis microps'\n",
    "#LWb[13] = 3.79  # 'Chaenodraco wilsoni'\n",
    "#LWb[14] = 3.5 # 'Chionobathyscus dewitti'\n",
    "\n",
    "## Linf extracted 21.07.2022 from FishBase\n",
    "## * Linf estimated from Lmax using Froese and Binohlan (2000) Eq. (5).\n",
    "#Linf     = [None] * len(species_names) # Initialize\n",
    "#Linf[0]  = 50.66374052  # 'Cryodraco antarcticus'*\n",
    "#Linf[1]  = 58.12886422  #'Neopagetopsis ionah'*\n",
    "#Linf[2]  = 26.5  # 'Trematomus eulepidotus'\n",
    "#Linf[3]  = 36.5  # 'Trematomus hansoni'\n",
    "#Linf[4]  = 123.061517  # 'Bathyraja maccaini'*\n",
    "#Linf[5]  = 70.4  # 'Chaenocephalus aceratus'\n",
    "#Linf[6]  = 62  # 'Notothenia coriiceps'\n",
    "#Linf[7]  = 25.1  # 'Pleuragramma antarctica'\n",
    "#Linf[8]  = 183   # 'Dissostichus mawsoni'\n",
    "#Linf[9]  = 92 # 'Macrourus whitsoni'\n",
    "#Linf[10] = 56.7  # 'Lepidonotothen squamifrons'\n",
    "##Linf[11] = 66   # 'Antimora rostrata'\n",
    "#Linf[11] = 87 # 'Notothenia rossii'\n",
    "#Linf[12] = 36.60305736 # 'Muraenolepis microps'*\n",
    "#Linf[13] = 44.82252387  # 'Chaenodraco wilsoni'*\n",
    "#Linf[14] = 62.21264207 # 'Chionobathyscus dewitti'*\n"
   ]
  },
  {
   "cell_type": "code",
   "execution_count": 4,
   "metadata": {
    "tags": []
   },
   "outputs": [],
   "source": [
    "#----\n",
    "# get indices of depth levels of species\n",
    "#----\n",
    "\n",
    "def find_nearest(array, value):\n",
    "    array = np.asarray(array)\n",
    "    idx = (np.abs(array - value)).argmin()\n",
    "    return idx\n",
    "\n",
    "file_mesh = '/pscratch/sd/c/cnissen/files_toothfish_project_AGI/Mesh_ancillary_information_v20220919.nc'\n",
    "data_levels = xr.open_dataset(file_mesh)\n",
    "levels      = data_levels['depth'].values # 88 levels\n",
    "data_levels.close()\n",
    "\n",
    "index_min_depth     = [None] * len(species_names) # Initialize\n",
    "index_max_depth     = [None] * len(species_names) # Initialize\n",
    "\n",
    "for i,name in enumerate(species_names):\n",
    "    # Note Cara: order of entries in depth_min etc. is not alphabetical!!!!\n",
    "    # here, I have adapted the index from \"i\" to \"iii\" to read in the correct depth ranges\n",
    "    # for the current species\n",
    "    iii = species_list.index(species_names[i]) # get index of current species as contained in depth_min etc.\n",
    "    index_min_depth[i] = find_nearest(levels,depth_min[iii])\n",
    "    index_max_depth[i] = find_nearest(levels,depth_max[iii])\n",
    "    # now, index_min_depth should contain the correct values according to alphabetical order as looped over\n",
    "    # NOTE: given how python is indexing, I think I then need to index over index_min_depth:index_max_depth+1\n",
    "    # (was index_min_depth:index_max_depth before)\n",
    "    "
   ]
  },
  {
   "cell_type": "code",
   "execution_count": 5,
   "metadata": {
    "tags": []
   },
   "outputs": [],
   "source": [
    "#-----\n",
    "# calculate AGI from annual mean fields\n",
    "#-----\n",
    "\n",
    "# constants\n",
    "d = 0.7 # n.d.; metabolic scaling coefficient\n",
    "j1 = 4500 # K; \"Anabolism activation energy divided by Boltzmann constant\" (Clarke2021)\n",
    "j2 = 8000 # K; \"Catabolism activation energy divided by Boltzmann constant\" (Clarke2021)\n",
    "j_diff = j2-j1\n",
    "# from Clarke2021: \"Somatic (or biomass) growth can be expressed as the difference between anabolism and catabolism\"\n",
    "\n",
    "#---\n",
    "# load AGIcrit, Tpref, O2thresh\n",
    "#---\n",
    "\n",
    "# Init\n",
    "AGI_crit = [None] * no_species # empty list\n",
    "o2thresh = [None] * no_species # empty list\n",
    "TPref    = [None] * no_species # empty list\n",
    "\n",
    "# AGIcrit \n",
    "for ii in range(0,len(species_names)):\n",
    "    file = 'AGIcrit_'+species_names_[ii]+'_based_on_monthly_clim_1995_2014.nc'\n",
    "    #print(file)\n",
    "    ff     = xr.open_dataset(basepath+'new_thresholds/'+file)\n",
    "    AGI_crit[ii]        = ff['AGIcrit'].values[0]\n",
    "    ff.close()\n",
    "    \n",
    "# o2thresh  \n",
    "for ii in range(0,len(species_names)):\n",
    "    file = 'o2thresh_'+species_names_[ii]+'_based_on_monthly_clim_1995_2014.nc'\n",
    "    ff     = xr.open_dataset(basepath+'new_thresholds/'+file)\n",
    "    o2thresh[ii]        = ff['o2thresh'].values[0]\n",
    "    ff.close()\n",
    "    \n",
    "# TPref \n",
    "for ii in range(0,len(species_names)):\n",
    "    file = 'Tpref_'+species_names_[ii]+'_based_on_monthly_clim_1995_2014.nc'\n",
    "    ff     = xr.open_dataset(basepath+'new_thresholds/'+file)\n",
    "    TPref[ii]        = ff['Tpref'].values[0]\n",
    "    ff.close()\n",
    "\n",
    "#-----\n",
    "# NOTE that order of species in LWa etc is not the same as in \"species_names\"\n",
    "# account for that further down!!!!\n",
    "#-----\n",
    "# UPDATE Jan 2023: the info below is not needed anymore with updated calculation of AGI\n",
    "# calculate Winf and W for each species\n",
    "#Winf = np.asarray(LWa)*(np.asarray(Linf)**np.asarray(LWb))\n",
    "#W    = (1./3.)*Winf\n",
    "#print('Winf:',Winf)\n",
    "#print('AGI_crit:',AGI_crit)\n",
    "#print('o2thresh:',o2thresh)\n",
    "#print('TPref:',TPref)\n",
    "\n",
    "#--------\n",
    "# NOTE: I don't think the order provided in LWa,LWb & Linf matches the order in which AGIcrit etc are loaded here!\n",
    "# careful when indexing\n",
    "# -> see above for finding the indices for the depth range!\n",
    "#--------\n"
   ]
  },
  {
   "cell_type": "code",
   "execution_count": 6,
   "metadata": {
    "tags": []
   },
   "outputs": [
    {
     "name": "stdout",
     "output_type": "stream",
     "text": [
      "Load year  1995\n",
      "Min/Max pO2: 4.207563 225.77884\n",
      "Min/Max t_insitu: -2.571443 15.545197\n",
      "Load year  1996\n",
      "Min/Max pO2: 2.8013957 225.59848\n",
      "Min/Max t_insitu: -2.575366 14.551913\n",
      "Load year  1997\n",
      "Min/Max pO2: 1.8041228 225.43907\n",
      "Min/Max t_insitu: -2.5624118 15.000496\n",
      "Load year  1998\n",
      "Min/Max pO2: 0.027826557 225.30064\n",
      "Min/Max t_insitu: -2.5636892 15.028485\n",
      "Load year  1999\n",
      "Min/Max pO2: 1.8957909 225.04358\n",
      "Min/Max t_insitu: -2.5640612 14.615901\n",
      "Load year  2000\n",
      "Min/Max pO2: 9.454568 224.61386\n",
      "Min/Max t_insitu: -2.5593815 15.245595\n",
      "Load year  2001\n",
      "Min/Max pO2: 3.726922 224.15968\n",
      "Min/Max t_insitu: -2.5575552 15.217681\n",
      "Load year  2002\n",
      "Min/Max pO2: 2.2234223 223.76306\n",
      "Min/Max t_insitu: -2.5549266 14.752597\n",
      "Load year  2003\n",
      "Min/Max pO2: 2.194433 224.76065\n",
      "Min/Max t_insitu: -2.5629275 15.570725\n",
      "Load year  2004\n",
      "Min/Max pO2: 2.6431694 229.60274\n",
      "Min/Max t_insitu: -2.5545547 16.359056\n",
      "Load year  2005\n",
      "Min/Max pO2: 1.7453376 229.03206\n",
      "Min/Max t_insitu: -2.5574455 14.253276\n",
      "Load year  2006\n",
      "Min/Max pO2: 3.3401098 228.37299\n",
      "Min/Max t_insitu: -2.556283 16.057344\n",
      "Load year  2007\n",
      "Min/Max pO2: 1.5953447 227.14195\n",
      "Min/Max t_insitu: -2.5581613 14.757957\n",
      "Load year  2008\n",
      "Min/Max pO2: 1.1253906 226.94159\n",
      "Min/Max t_insitu: -2.5532055 15.160706\n",
      "Load year  2009\n",
      "Min/Max pO2: 3.5195415 234.71707\n",
      "Min/Max t_insitu: -2.555146 15.328689\n",
      "Load year  2010\n",
      "Min/Max pO2: 4.862745 243.19257\n",
      "Min/Max t_insitu: -2.5590649 15.139638\n",
      "Load year  2011\n",
      "Min/Max pO2: 14.780415 227.82408\n",
      "Min/Max t_insitu: -2.5639048 15.482086\n",
      "Load year  2012\n",
      "Min/Max pO2: 14.942332 234.89539\n",
      "Min/Max t_insitu: -2.5616167 15.895008\n",
      "Load year  2013\n",
      "Min/Max pO2: 6.855995 222.09746\n",
      "Min/Max t_insitu: -2.5600293 15.064448\n",
      "Load year  2014\n",
      "Min/Max pO2: 1.5967058 222.66554\n",
      "Min/Max t_insitu: -2.5555043 15.473795\n",
      "\n",
      "Min/Max t_insitu: -2.5586371 15.072821\n",
      "Min/Max pO2: 4.361255 224.97017\n",
      "done\n"
     ]
    }
   ],
   "source": [
    "#-----\n",
    "# calculate AGI based on annual fields\n",
    "# part I: load pO2 & t_insitu fields\n",
    "#-----\n",
    "\n",
    "which_sim = 'simAssp585' # for present-day, keep this as simAssp585! \n",
    "path1 = '/pscratch/sd/c/cnissen/files_toothfish_project_AGI/'+which_sim+'_reduced/'\n",
    "\n",
    "#----\n",
    "# PRESENT-DAY\n",
    "#----\n",
    "\n",
    "year_list1 = np.arange(1995,2014+1,1)\n",
    "\n",
    "for yy in range(0,len(year_list1)):\n",
    "    year1 = year_list1[yy]\n",
    "    print('Load year ',year1)\n",
    "    \n",
    "    # pO2 data (mbar)\n",
    "    file_pO2  = path1+'/pO2_fesom_'+which_sim+'_'+str(year1)+'0101_v2.nc'\n",
    "    data_pO2   = xr.open_dataset(file_pO2)\n",
    "    a1 = data_pO2['pO2'].values\n",
    "    a1 = np.ma.masked_where(a1<0,a1)\n",
    "    print('Min/Max pO2:',np.nanmin(a1),np.nanmax(a1))\n",
    "    if yy==0:\n",
    "        pO2_1      = a1 #data_pO2['pO2'].values\n",
    "    else:\n",
    "        pO2_1      = pO2_1+ a1 #data_pO2['pO2'].values\n",
    "    data_pO2.close()\n",
    "    del a1\n",
    "\n",
    "    # T insitu (deg C)\n",
    "    file_t_insitu   = path1+'/t_insitu_fesom_'+which_sim+'_'+str(year1)+'0101_v2.nc'\n",
    "    data_t_insitu   = xr.open_dataset(file_t_insitu)\n",
    "    a1 = data_t_insitu['t_insitu'].values\n",
    "    a1 = np.ma.masked_where(a1<-3.0,a1)\n",
    "    print('Min/Max t_insitu:',np.nanmin(a1),np.nanmax(a1))\n",
    "    #print('Min/Max t_insitu:',np.min(data_t_insitu['t_insitu'].values),np.max(data_t_insitu['t_insitu'].values))\n",
    "    if yy==0:\n",
    "        t_insitu_1        = a1 #data_t_insitu['t_insitu'].values\n",
    "    else:\n",
    "        t_insitu_1        = t_insitu_1+ a1 #data_t_insitu['t_insitu'].values\n",
    "    data_t_insitu.close()\n",
    "    del a1\n",
    "    \n",
    "# calculate climatology\n",
    "t_insitu_1 = t_insitu_1/len(year_list1)\n",
    "pO2_1      = pO2_1/len(year_list1)\n",
    "print('')\n",
    "print('Min/Max t_insitu:',np.nanmin(t_insitu_1),np.nanmax(t_insitu_1))\n",
    "print('Min/Max pO2:',np.nanmin(pO2_1),np.nanmax(pO2_1))\n",
    "    \n",
    "print('done')\n"
   ]
  },
  {
   "cell_type": "code",
   "execution_count": 7,
   "metadata": {
    "tags": []
   },
   "outputs": [
    {
     "name": "stdout",
     "output_type": "stream",
     "text": [
      "Load year  2091\n",
      "Load year  2092\n",
      "Load year  2093\n",
      "Load year  2094\n",
      "Load year  2095\n",
      "Load year  2096\n",
      "Load year  2097\n",
      "Load year  2098\n",
      "Load year  2099\n",
      "Load year  2100\n",
      "(88, 360, 1440)\n",
      "(88, 360, 1440)\n",
      "(88, 360, 1440)\n"
     ]
    }
   ],
   "source": [
    "#-----\n",
    "# calculate AGI based on annual fields\n",
    "# part I: load pO2 & t_insitu fields\n",
    "#-----\n",
    "\n",
    "# the drift-corrected files are in folders called ssp585_reduced, ssp370_reduced etc. (simAssp585 has the non-drift-corrected files)\n",
    "which_sim   = 'ssp126' \n",
    "which_drift = '2091_2100' # 2081_2100, 2091_2100, 2098_2100, 2090_2099\n",
    "\n",
    "# example file name for drift-corrected files: t_insitu_fesom_ssp245_20910101_monthly_drift_corrected_2090_2099_minus_1995_2014_v2.nc\n",
    "drift_corr ='monthly_drift_corrected_'+which_drift+'_minus_1995_2014_v2' \n",
    "\n",
    "path1 = '/pscratch/sd/c/cnissen/files_toothfish_project_AGI/'+which_sim+'_reduced/'\n",
    "\n",
    "#which_sim = 'simB'\n",
    "#path1 = '/pscratch/sd/c/cnissen/files_toothfish_project_AGI/'+which_sim+'_reduced/'\n",
    "\n",
    "#----\n",
    "# FUTURE\n",
    "#----\n",
    "\n",
    "year_list2 = np.arange(int(which_drift[0:4]),int(which_drift[5:])+1,1)\n",
    "\n",
    "for yy in range(0,len(year_list2)):\n",
    "    year2 = year_list2[yy]\n",
    "    print('Load year ',year2)\n",
    "    \n",
    "    # pO2 data (mbar)\n",
    "    file_pO2  = path1+'/pO2_fesom_'+which_sim+'_'+str(year2)+'0101_'+drift_corr+'.nc'\n",
    "    data_pO2   = xr.open_dataset(file_pO2)\n",
    "    if yy==0:\n",
    "        pO2_2      = data_pO2['pO2'].values\n",
    "    else:\n",
    "        pO2_2      = pO2_2+data_pO2['pO2'].values\n",
    "    data_pO2.close()\n",
    "\n",
    "    # T insitu (deg C)\n",
    "    file_t_insitu   = path1+'/t_insitu_fesom_'+which_sim+'_'+str(year2)+'0101_'+drift_corr+'.nc'\n",
    "    data_t_insitu   = xr.open_dataset(file_t_insitu)\n",
    "    if yy==0:\n",
    "        t_insitu_2        = data_t_insitu['t_insitu'].values\n",
    "    else:\n",
    "        t_insitu_2        = t_insitu_2+data_t_insitu['t_insitu'].values\n",
    "    data_t_insitu.close()\n",
    "\n",
    "## make sure future fields are handled the same way as historical fields!\n",
    "pO2_2 = np.ma.masked_where(pO2_2<0,pO2_2)\n",
    "t_insitu_2 = np.ma.masked_where(t_insitu_2<-3.0,t_insitu_2)\n",
    "\n",
    "pO2_2[np.isnan(pO2_1)] = np.nan\n",
    "t_insitu_2[np.isnan(t_insitu_1)] = np.nan\n",
    "    \n",
    "# calculate climatology\n",
    "t_insitu_2 = t_insitu_2/len(year_list2)\n",
    "pO2_2      = pO2_2/len(year_list2)\n",
    "    \n",
    "# volume data \n",
    "data_vol   = xr.open_dataset(file_mesh)\n",
    "vol        = data_vol['volume']\n",
    "data_vol.close()\n",
    "\n",
    "print(vol.shape)\n",
    "print(t_insitu_2.shape)\n",
    "print(pO2_2.shape)\n"
   ]
  },
  {
   "cell_type": "code",
   "execution_count": null,
   "metadata": {
    "tags": []
   },
   "outputs": [],
   "source": [
    "\n",
    "test_plot = False\n",
    "if test_plot:\n",
    "    dd = 0\n",
    "    \n",
    "    for dd in range(0,20):\n",
    "        print(dd,np.nanmin(t_insitu_1[dd,:,:]),np.where(t_insitu_1[dd,:,:]==np.nanmin(t_insitu_1[dd,:,:])))\n",
    "\n",
    "    fig7, ax1 = plt.subplots(num=2, figsize=(10,4), dpi=150, facecolor='w', edgecolor='k')\n",
    "    plt.contourf(t_insitu_1[dd,:,:],cmap=plt.cm.RdYlBu_r,levels=np.arange(-2.5,6+0.5,0.5),extend='both')\n",
    "    plt.colorbar()\n",
    "    plt.show()\n",
    "\n",
    "    fig7, ax1 = plt.subplots(num=2, figsize=(10,4), dpi=150, facecolor='w', edgecolor='k')\n",
    "    plt.contourf(t_insitu_2[dd,:,:],cmap=plt.cm.RdYlBu_r,levels=np.arange(-2.5,6+0.5,0.5),extend='both')\n",
    "    plt.colorbar()\n",
    "    plt.show()\n"
   ]
  },
  {
   "cell_type": "code",
   "execution_count": 8,
   "metadata": {
    "tags": []
   },
   "outputs": [],
   "source": [
    "#------\n",
    "# weighted quantile function\n",
    "# from here: https://stackoverflow.com/questions/21844024/weighted-percentile-using-numpy\n",
    "#------\n",
    "########\n",
    "# to be double-check carefully! \n",
    "########\n",
    "\n",
    "def weighted_quantile(values, quantiles, sample_weight=None, \n",
    "                      values_sorted=False, old_style=False):\n",
    "    \"\"\" Very close to numpy.percentile, but supports weights.\n",
    "    NOTE: quantiles should be in [0, 1]!\n",
    "    :param values: numpy.array with data\n",
    "    :param quantiles: array-like with many quantiles needed\n",
    "    :param sample_weight: array-like of the same length as `array`\n",
    "    :param values_sorted: bool, if True, then will avoid sorting of\n",
    "        initial array\n",
    "    :param old_style: if True, will correct output to be consistent\n",
    "        with numpy.percentile.\n",
    "    :return: numpy.array with computed quantiles.\n",
    "    \"\"\"\n",
    "    values = np.array(values)\n",
    "    quantiles = np.array(quantiles)\n",
    "    if sample_weight is None:\n",
    "        sample_weight = np.ones(len(values))\n",
    "    sample_weight = np.array(sample_weight)\n",
    "    assert np.all(quantiles >= 0) and np.all(quantiles <= 1), \\\n",
    "        'quantiles should be in [0, 1]'\n",
    "\n",
    "    if not values_sorted:\n",
    "        sorter = np.argsort(values)\n",
    "        values = values[sorter]\n",
    "        sample_weight = sample_weight[sorter]\n",
    "\n",
    "    weighted_quantiles = np.cumsum(sample_weight) - 0.5 * sample_weight\n",
    "    if old_style:\n",
    "        # To be convenient with numpy.percentile\n",
    "        weighted_quantiles -= weighted_quantiles[0]\n",
    "        weighted_quantiles /= weighted_quantiles[-1]\n",
    "    else:\n",
    "        weighted_quantiles /= np.sum(sample_weight)\n",
    "    return np.interp(quantiles, weighted_quantiles, values)"
   ]
  },
  {
   "cell_type": "code",
   "execution_count": 9,
   "metadata": {
    "tags": []
   },
   "outputs": [],
   "source": [
    "#----\n",
    "# functions\n",
    "#----\n",
    "\n",
    "def get_habitable_volume(i,hab_field,vol,pO2,t_insitu,overlap,\\\n",
    "                                    species_list,species_names,TPref,o2thresh,AGI_crit,j_diff):\n",
    "    \n",
    "   # ### Get the in-habitat data for each species over the relevant depth range ###\n",
    "   # file_habitat = habitat_file_names[i]\n",
    "   # data_hab     = xr.open_dataset(file_habitat) # 2D habitat presence/absence data (1 for present or 0 for absent)\n",
    "   # # make sure the habitat field has dimensions depth x lat x lon before applying it to the respective fields\n",
    "   # num_depth = len(np.arange(index_min_depth[i],index_max_depth[i]+1,1)) \n",
    "   # hab_field = np.tile(data_hab['presence'].values,(num_depth,1,1))\n",
    "   # data_hab.close()\n",
    "    \n",
    "    ### select the data/volume over the relevant depth range, correct with habitat array\n",
    "    # NOTE: index_min_depth[i]:index_max_depth[i]    or.    index_min_depth[i]:index_max_depth[i]+1   ?\n",
    "    vol_inhabitat = (vol.values[overlap,:,:]*hab_field) \n",
    "    dataout1      = (pO2[overlap,:,:]*hab_field)\n",
    "    dataout2      = (t_insitu[overlap,:,:]*hab_field)\n",
    "    \n",
    "    #vol_inhabitat = (vol.values[index_min_depth[i]:index_max_depth[i]+1,:,:]*hab_field) \n",
    "    #dataout1      = (pO2[index_min_depth[i]:index_max_depth[i]+1,:,:]*hab_field)\n",
    "    #dataout2      = (t_insitu[index_min_depth[i]:index_max_depth[i]+1,:,:]*hab_field)\n",
    "    \n",
    "    #print(dataout1.shape) # depth x lat x lon\n",
    "\n",
    "    # use all months\n",
    "    dataout1b = dataout1[:,:,:].ravel() # pO2\n",
    "    dataout2b = dataout2[:,:,:].ravel() # temp\n",
    "    # make sure volume array has dimensions months x depths x lat x lon before applying ravel()\n",
    "    vol_inhabitat_b = np.copy(vol_inhabitat).ravel() #np.tile(vol_inhabitat,(12,1,1,1)).ravel() \n",
    "    \n",
    "    # make sure to only keep nodes that are available for current species\n",
    "    ind = np.where((~np.isnan(dataout1b)))[0] # every available node\n",
    "    dataout1b = dataout1b[ind]\n",
    "    dataout2b = dataout2b[ind]\n",
    "    vol_inhabitat_b = vol_inhabitat_b[ind]\n",
    "    ind = np.where((dataout1b!=0))[0] # every available node\n",
    "    dataout1b = dataout1b[ind] # pO2\n",
    "    dataout2b = dataout2b[ind] # temp\n",
    "    vol_inhabitat_b = vol_inhabitat_b[ind]\n",
    "    del ind\n",
    "    \n",
    "  #  print('Min/Max pO2 in habitat:',np.min(dataout1b),np.max(dataout1b))\n",
    "  #  print('Min/Max t insitu in habitat:',np.min(dataout2b),np.max(dataout2b))\n",
    "    \n",
    "    totalvol_inhabitat = np.nansum(vol_inhabitat_b) # total in-habitat volume (accounting for bathymetry)\n",
    "  #  print('totalvol_inhabitat (3D):',totalvol_inhabitat) \n",
    "    vol_weights = vol_inhabitat_b/np.sum(vol_inhabitat_b)\n",
    "    #print(np.sum(vol_weights)) # as a check, should be 1\n",
    "    \n",
    "    # order of species in W, Winf etc not the same as in this i-loop!\n",
    "    # correct for that here (same was done for index_min_depth and index_max_depth)\n",
    "    iii = species_list.index(species_names[i])\n",
    "    \n",
    "    #------\n",
    "    # get Tpref & O2thresh -> see plot_AGI_toothfish_TPref_O2thresh_save_as_netcdf.ipynb\n",
    "    #   Tpref: 50th percentile in habitat (volume weighted)\n",
    "    #   O2thresh: 10th percentile in habitat (volume weighted)\n",
    "    tpref_species    = TPref[i]\n",
    "    o2thresh_species = o2thresh[i]   \n",
    "    #------\n",
    "    \n",
    "    #----\n",
    "    # calculate AGIcrit: 10th percentile in habitat (volume wieghted)\n",
    "    \n",
    "    #w_ratio = (W[iii]**(1-d))/(Winf[iii]**(1-d))\n",
    "    # UPDATE Jan 2023: adapt calculation of AGI to what is in Anne's paper (W, W_inf etc not needed anymore)\n",
    "    w_ratio = ((1./3.)**(1-d))\n",
    "    a1 = np.exp((j_diff/(tpref_species+273.15)) - (j_diff/(dataout2b+273.15)))\n",
    "    \n",
    "    AGI = dataout1b/(o2thresh_species*w_ratio*a1)\n",
    "    #print('Min/Max AGI in 3D habitat:',np.min(AGI),np.max(AGI))\n",
    "    \n",
    "    #print(AGI.shape)\n",
    "    #print(vol_inhabitat_b.shape)\n",
    "    \n",
    "    res = weighted_quantile(AGI, [0.1], sample_weight=vol_weights)\n",
    "    \n",
    "    ind_hab = np.where(AGI>AGI_crit[i])[0]\n",
    "    \n",
    "    #print(ind_hab.shape)\n",
    "    #print('volume above AGIcrit:',np.sum(vol_inhabitat_b[ind_hab]))\n",
    "    #print('total volume:',totalvol_inhabitat)\n",
    "    #print('Ratio:',np.sum(vol_inhabitat_b[ind_hab])/totalvol_inhabitat)\n",
    "    \n",
    "    # return: AGIcrit_future, volume above AGIcrit_present_day, total volume\n",
    "    return res[0],np.sum(vol_inhabitat_b[ind_hab]),np.sum(vol_inhabitat_b)\n",
    "    "
   ]
  },
  {
   "cell_type": "code",
   "execution_count": null,
   "metadata": {
    "tags": []
   },
   "outputs": [],
   "source": [
    "\n",
    "#aux = pO2_1[0,:,:].ravel()\n",
    "#print(AGI_crit[i])\n",
    "#aux[aux.mask==True]=-999\n",
    "#ind_hab = np.where(aux>AGI_crit[i])[0]\n",
    "#\n",
    "#print(ind_hab.shape)\n",
    "#\n",
    "# (302686,)\n"
   ]
  },
  {
   "cell_type": "code",
   "execution_count": 20,
   "metadata": {
    "tags": []
   },
   "outputs": [
    {
     "name": "stdout",
     "output_type": "stream",
     "text": [
      "ssp126 ...\n",
      "ssp126 0 Dissostichus mawsoni\n",
      "/pscratch/sd/c/cnissen/AGI_toothfish_project/all_prey_plus_toothfish/Reviewed_Dissostichus_mawsoni_modelgrid_boolean.nc\n"
     ]
    },
    {
     "name": "stderr",
     "output_type": "stream",
     "text": [
      "100%|██████████| 88/88 [00:04<00:00, 21.51it/s]\n"
     ]
    },
    {
     "name": "stdout",
     "output_type": "stream",
     "text": [
      "[100.         100.         100.         100.         100.01271929\n",
      " 100.         100.         100.         100.         100.\n",
      " 100.         100.         100.         100.         100.\n",
      " 100.         100.         100.         100.         100.\n",
      " 100.         100.         100.         100.         100.\n",
      " 100.         100.         100.         100.         100.\n",
      " 100.         100.         100.         100.05288491 100.07034558\n",
      " 100.10696187 100.16787622 100.08808815 100.16012297 100.04866856\n",
      " 100.22311301 100.29827546 100.20927202 100.19618278 100.29494179\n",
      " 100.         100.          99.70994521  99.82815923 100.\n",
      " 100.         100.         100.37198755 100.18389462 100.\n",
      " 100.         100.         100.         100.         100.\n",
      " 100.         100.         100.         100.         100.\n",
      " 100.         100.         100.         100.         100.\n",
      " 100.         100.         100.         100.         100.\n",
      "   0.           0.           0.           0.           0.\n",
      "   0.           0.           0.           0.           0.\n",
      "   0.           0.           0.        ]\n",
      "Create file /pscratch/sd/c/cnissen/AGI_toothfish_project/habitat_loss/Viable_habitat_2091_2100_and_1995_2014_ssp126_all_depth_levels_monthly_drift_corrected_2091_2100_minus_1995_2014_v2_CORRECTED_v20240129_shelf_only.nc\n",
      "ssp126 1 Trematomus loennbergii\n",
      "/pscratch/sd/c/cnissen/AGI_toothfish_project/all_prey_plus_toothfish/Reviewed_Trematomus_loennbergii_modelgrid_boolean.nc\n"
     ]
    },
    {
     "name": "stderr",
     "output_type": "stream",
     "text": [
      "100%|██████████| 88/88 [00:02<00:00, 40.43it/s]\n"
     ]
    },
    {
     "name": "stdout",
     "output_type": "stream",
     "text": [
      "ssp126 2 Macrourus whitsoni\n",
      "/pscratch/sd/c/cnissen/AGI_toothfish_project/all_prey_plus_toothfish/Reviewed_Macrourus_whitsoni_modelgrid_boolean.nc\n"
     ]
    },
    {
     "name": "stderr",
     "output_type": "stream",
     "text": [
      "100%|██████████| 88/88 [00:02<00:00, 39.37it/s] \n"
     ]
    },
    {
     "name": "stdout",
     "output_type": "stream",
     "text": [
      "ssp126 3 Galiteuthis glacialis\n",
      "/pscratch/sd/c/cnissen/AGI_toothfish_project/all_prey_plus_toothfish/Galiteuthis_glacialis_modelgrid_boolean.nc\n"
     ]
    },
    {
     "name": "stderr",
     "output_type": "stream",
     "text": [
      "100%|██████████| 88/88 [00:01<00:00, 55.32it/s] \n"
     ]
    },
    {
     "name": "stdout",
     "output_type": "stream",
     "text": [
      "ssp126 4 Chionodraco hamatus\n",
      "/pscratch/sd/c/cnissen/AGI_toothfish_project/all_prey_plus_toothfish/Reviewed_Chionodraco_hamatus_modelgrid_boolean.nc\n"
     ]
    },
    {
     "name": "stderr",
     "output_type": "stream",
     "text": [
      "100%|██████████| 88/88 [00:01<00:00, 77.03it/s]\n"
     ]
    },
    {
     "name": "stdout",
     "output_type": "stream",
     "text": [
      "ssp126 5 Anotopterus vorax\n",
      "/pscratch/sd/c/cnissen/AGI_toothfish_project/all_prey_plus_toothfish/Default_Anotopterus_vorax_modelgrid_boolean.nc\n"
     ]
    },
    {
     "name": "stderr",
     "output_type": "stream",
     "text": [
      "100%|██████████| 88/88 [00:01<00:00, 47.87it/s] \n"
     ]
    },
    {
     "name": "stdout",
     "output_type": "stream",
     "text": [
      "ssp126 6 Chaenodraco wilsoni\n",
      "/pscratch/sd/c/cnissen/AGI_toothfish_project/all_prey_plus_toothfish/Default_Chaenodraco_wilsoni_modelgrid_boolean.nc\n"
     ]
    },
    {
     "name": "stderr",
     "output_type": "stream",
     "text": [
      "100%|██████████| 88/88 [00:01<00:00, 47.47it/s] \n"
     ]
    },
    {
     "name": "stdout",
     "output_type": "stream",
     "text": [
      "ssp126 7 Kondakovia longimana\n",
      "/pscratch/sd/c/cnissen/AGI_toothfish_project/all_prey_plus_toothfish/Kondakovia_longimana_modelgrid_boolean.nc\n"
     ]
    },
    {
     "name": "stderr",
     "output_type": "stream",
     "text": [
      "100%|██████████| 88/88 [00:01<00:00, 75.51it/s] \n"
     ]
    },
    {
     "name": "stdout",
     "output_type": "stream",
     "text": [
      "ssp126 8 Cryodraco antarcticus\n",
      "/pscratch/sd/c/cnissen/AGI_toothfish_project/all_prey_plus_toothfish/Default_Cryodraco_antarcticus_modelgrid_boolean.nc\n"
     ]
    },
    {
     "name": "stderr",
     "output_type": "stream",
     "text": [
      "100%|██████████| 88/88 [00:01<00:00, 46.60it/s]\n"
     ]
    },
    {
     "name": "stdout",
     "output_type": "stream",
     "text": [
      "ssp126 9 Muraenolepis microps\n",
      "/pscratch/sd/c/cnissen/AGI_toothfish_project/all_prey_plus_toothfish/Reviewed_Muraenolepis_microps_modelgrid_boolean.nc\n"
     ]
    },
    {
     "name": "stderr",
     "output_type": "stream",
     "text": [
      "100%|██████████| 88/88 [00:03<00:00, 25.86it/s]\n"
     ]
    },
    {
     "name": "stdout",
     "output_type": "stream",
     "text": [
      "ssp126 10 Psychroteuthis glacialis\n",
      "/pscratch/sd/c/cnissen/AGI_toothfish_project/all_prey_plus_toothfish/Reviewed_Psychroteuthis_glacialis_modelgrid_boolean.nc\n"
     ]
    },
    {
     "name": "stderr",
     "output_type": "stream",
     "text": [
      "100%|██████████| 88/88 [00:00<00:00, 94.66it/s] \n"
     ]
    },
    {
     "name": "stdout",
     "output_type": "stream",
     "text": [
      "ssp126 11 Gymnodraco acuticeps\n",
      "/pscratch/sd/c/cnissen/AGI_toothfish_project/all_prey_plus_toothfish/Reviewed_Gymnodraco_acuticeps_modelgrid_boolean.nc\n"
     ]
    },
    {
     "name": "stderr",
     "output_type": "stream",
     "text": [
      "100%|██████████| 88/88 [00:01<00:00, 77.96it/s] \n"
     ]
    },
    {
     "name": "stdout",
     "output_type": "stream",
     "text": [
      "ssp126 12 Amblyraja georgiana\n",
      "/pscratch/sd/c/cnissen/AGI_toothfish_project/all_prey_plus_toothfish/Reviewed_Amblyraja_georgiana_modelgrid_boolean.nc\n"
     ]
    },
    {
     "name": "stderr",
     "output_type": "stream",
     "text": [
      "100%|██████████| 88/88 [00:00<00:00, 102.48it/s]\n"
     ]
    },
    {
     "name": "stdout",
     "output_type": "stream",
     "text": [
      "ssp126 13 Antarctomysis maxima\n",
      "/pscratch/sd/c/cnissen/AGI_toothfish_project/all_prey_plus_toothfish/Reviewed_Antarctomysis_maxima_modelgrid_boolean.nc\n"
     ]
    },
    {
     "name": "stderr",
     "output_type": "stream",
     "text": [
      "100%|██████████| 88/88 [00:00<00:00, 90.50it/s] \n"
     ]
    },
    {
     "name": "stdout",
     "output_type": "stream",
     "text": [
      "ssp126 14 Lepidonotothen squamifrons\n",
      "/pscratch/sd/c/cnissen/AGI_toothfish_project/all_prey_plus_toothfish/Default_Lepidonotothen_squamifrons_modelgrid_boolean.nc\n"
     ]
    },
    {
     "name": "stderr",
     "output_type": "stream",
     "text": [
      "100%|██████████| 88/88 [00:02<00:00, 32.46it/s]\n"
     ]
    },
    {
     "name": "stdout",
     "output_type": "stream",
     "text": [
      "ssp126 15 Mesonychoteuthis hamiltoni\n",
      "/pscratch/sd/c/cnissen/AGI_toothfish_project/all_prey_plus_toothfish/Mesonychoteuthis_hamiltoni_modelgrid_boolean.nc\n"
     ]
    },
    {
     "name": "stderr",
     "output_type": "stream",
     "text": [
      "100%|██████████| 88/88 [00:00<00:00, 128.23it/s]\n"
     ]
    },
    {
     "name": "stdout",
     "output_type": "stream",
     "text": [
      "ssp126 16 Pleuragramma antarctica\n",
      "/pscratch/sd/c/cnissen/AGI_toothfish_project/all_prey_plus_toothfish/Reviewed_Pleuragramma_antarctica_modelgrid_boolean.nc\n"
     ]
    },
    {
     "name": "stderr",
     "output_type": "stream",
     "text": [
      "100%|██████████| 88/88 [00:03<00:00, 28.56it/s]\n"
     ]
    },
    {
     "name": "stdout",
     "output_type": "stream",
     "text": [
      "ssp126 17 Euphausia superba\n",
      "/pscratch/sd/c/cnissen/AGI_toothfish_project/all_prey_plus_toothfish/Reviewed_Euphausia_superba_modelgrid_boolean.nc\n"
     ]
    },
    {
     "name": "stderr",
     "output_type": "stream",
     "text": [
      "100%|██████████| 88/88 [00:02<00:00, 36.77it/s] \n"
     ]
    },
    {
     "name": "stdout",
     "output_type": "stream",
     "text": [
      "ssp126 18 Notothenia coriiceps\n",
      "/pscratch/sd/c/cnissen/AGI_toothfish_project/all_prey_plus_toothfish/Default_Notothenia_coriiceps_modelgrid_boolean.nc\n"
     ]
    },
    {
     "name": "stderr",
     "output_type": "stream",
     "text": [
      "100%|██████████| 88/88 [00:02<00:00, 38.02it/s] \n"
     ]
    },
    {
     "name": "stdout",
     "output_type": "stream",
     "text": [
      "ssp126 19 Trematomus lepidorhinus\n",
      "/pscratch/sd/c/cnissen/AGI_toothfish_project/all_prey_plus_toothfish/Reviewed_Trematomus_lepidorhinus_modelgrid_boolean.nc\n"
     ]
    },
    {
     "name": "stderr",
     "output_type": "stream",
     "text": [
      "100%|██████████| 88/88 [00:00<00:00, 97.74it/s] \n"
     ]
    },
    {
     "name": "stdout",
     "output_type": "stream",
     "text": [
      "ssp126 20 Pagothenia borchgrevinki\n",
      "/pscratch/sd/c/cnissen/AGI_toothfish_project/all_prey_plus_toothfish/Reviewed_Pagothenia_borchgrevinki_modelgrid_boolean.nc\n"
     ]
    },
    {
     "name": "stderr",
     "output_type": "stream",
     "text": [
      "100%|██████████| 88/88 [00:00<00:00, 137.28it/s]\n"
     ]
    },
    {
     "name": "stdout",
     "output_type": "stream",
     "text": [
      "ssp126 21 Lycenchelys aratrirostris\n",
      "/pscratch/sd/c/cnissen/AGI_toothfish_project/all_prey_plus_toothfish/Reviewed_Lycenchelys_aratrirostris_modelgrid_boolean.nc\n"
     ]
    },
    {
     "name": "stderr",
     "output_type": "stream",
     "text": [
      "100%|██████████| 88/88 [00:00<00:00, 120.00it/s]\n"
     ]
    },
    {
     "name": "stdout",
     "output_type": "stream",
     "text": [
      "ssp126 22 Neopagetopsis ionah\n",
      "/pscratch/sd/c/cnissen/AGI_toothfish_project/all_prey_plus_toothfish/Reviewed_Neopagetopsis_ionah_modelgrid_boolean.nc\n"
     ]
    },
    {
     "name": "stderr",
     "output_type": "stream",
     "text": [
      "100%|██████████| 88/88 [00:02<00:00, 31.97it/s]\n"
     ]
    },
    {
     "name": "stdout",
     "output_type": "stream",
     "text": [
      "ssp126 23 Chaenocephalus aceratus\n",
      "/pscratch/sd/c/cnissen/AGI_toothfish_project/all_prey_plus_toothfish/Default_Chaenocephalus_aceratus_modelgrid_boolean.nc\n"
     ]
    },
    {
     "name": "stderr",
     "output_type": "stream",
     "text": [
      "100%|██████████| 88/88 [00:02<00:00, 35.56it/s] \n"
     ]
    },
    {
     "name": "stdout",
     "output_type": "stream",
     "text": [
      "ssp126 24 Trematomus hansoni\n",
      "/pscratch/sd/c/cnissen/AGI_toothfish_project/all_prey_plus_toothfish/Default_Trematomus_hansoni_modelgrid_boolean.nc\n"
     ]
    },
    {
     "name": "stderr",
     "output_type": "stream",
     "text": [
      "100%|██████████| 88/88 [00:02<00:00, 43.17it/s] \n"
     ]
    },
    {
     "name": "stdout",
     "output_type": "stream",
     "text": [
      "ssp126 25 Chionobathyscus dewitti\n",
      "/pscratch/sd/c/cnissen/AGI_toothfish_project/all_prey_plus_toothfish/Default_Chionobathyscus_dewitti_All_Suitable_Habitat_modelgrid_boolean.nc\n"
     ]
    },
    {
     "name": "stderr",
     "output_type": "stream",
     "text": [
      "100%|██████████| 88/88 [00:02<00:00, 42.66it/s] \n"
     ]
    },
    {
     "name": "stdout",
     "output_type": "stream",
     "text": [
      "ssp126 26 Euphausia crystallorophias\n",
      "/pscratch/sd/c/cnissen/AGI_toothfish_project/all_prey_plus_toothfish/Default_Euphausia_crystallorophias_modelgrid_boolean.nc\n"
     ]
    },
    {
     "name": "stderr",
     "output_type": "stream",
     "text": [
      "100%|██████████| 88/88 [00:02<00:00, 34.36it/s] \n"
     ]
    },
    {
     "name": "stdout",
     "output_type": "stream",
     "text": [
      "ssp126 27 Notothenia rossii\n",
      "/pscratch/sd/c/cnissen/AGI_toothfish_project/all_prey_plus_toothfish/Default_Notothenia_rossii_modelgrid_boolean.nc\n"
     ]
    },
    {
     "name": "stderr",
     "output_type": "stream",
     "text": [
      "100%|██████████| 88/88 [00:01<00:00, 57.31it/s] \n"
     ]
    },
    {
     "name": "stdout",
     "output_type": "stream",
     "text": [
      "ssp126 28 Bathyraja maccaini\n",
      "/pscratch/sd/c/cnissen/AGI_toothfish_project/all_prey_plus_toothfish/Reviewed_Bathyraja_maccaini_modelgrid_boolean.nc\n"
     ]
    },
    {
     "name": "stderr",
     "output_type": "stream",
     "text": [
      "100%|██████████| 88/88 [00:01<00:00, 72.55it/s] "
     ]
    },
    {
     "name": "stdout",
     "output_type": "stream",
     "text": [
      "done\n"
     ]
    },
    {
     "name": "stderr",
     "output_type": "stream",
     "text": [
      "\n"
     ]
    }
   ],
   "source": [
    "#---\n",
    "# get habitat loss for each species and each depth intervall\n",
    "#---\n",
    "\n",
    "from netCDF4 import Dataset\n",
    "from datetime import datetime\n",
    "from tqdm import tqdm\n",
    "\n",
    "today = datetime.today()\n",
    "\n",
    "save_as_netcdf = True\n",
    "shelf_only = True # option to process continental shelf only instead of whole SO habitat\n",
    "\n",
    "print(which_sim,'...')\n",
    "\n",
    "depths = np.copy(levels)\n",
    "\n",
    "# first version\n",
    "#depth_list1 = [0,   0,  250,750, 1500]\n",
    "#depth_list2 = [3500,250,750,1500,3500]\n",
    "\n",
    "# second version (motivated by temp & O2 changes in toothfish habitat)\n",
    "#depth_list1 = [0,   0,  400,700, 1000]\n",
    "#depth_list2 = [3500,400,700,1000,3500]\n",
    "\n",
    "levels[0]=0\n",
    "    \n",
    "habitat_loss = np.zeros([len(species_names),len(depths)])\n",
    "viable1      = np.zeros([len(species_names),len(depths)]) # -> 90% is defined as viable in present-day\n",
    "viable2      = np.zeros([len(species_names),len(depths)])\n",
    "for i in range(0,len(species_names)):\n",
    "    print(which_sim,i,species_names[i])\n",
    "    print(habitat_file_names[i])\n",
    "    \n",
    "    for dd in tqdm(range(0,len(depths))):\n",
    "        #depth1,depth2 = depth_list1[dd],depth_list2[dd] #750,1500 #250,750 #0,250 #1000,2000 #0,3000\n",
    "        ind_depths = [dd] #np.where((levels>=depth1) & (levels<depth2))[0]\n",
    "        #print(ind_depths) \n",
    "        \n",
    "        ### Get the in-habitat data for each species over the relevant depth range ###\n",
    "        file_habitat = habitat_file_names[i]\n",
    "        data_hab     = xr.open_dataset(file_habitat) # 2D habitat presence/absence data (1 for present or 0 for absent)\n",
    "        av_depths = np.arange(index_min_depth[i],index_max_depth[i]+1,1)\n",
    "        #if dd==0:\n",
    "        #    print(av_depths)\n",
    "        #print('available zlevs:',depths[av_depths])\n",
    "        \n",
    "        overlap = np.array(list(set(ind_depths) & set(av_depths)))\n",
    "        #print(overlap)\n",
    "        \n",
    "        if len(overlap)>0: # only of some depth levels are available for current species\n",
    "            # make sure the habitat field has dimensions depth x lat x lon before applying it to the respective fields\n",
    "            num_depth = len(overlap) \n",
    "            hab_field = np.tile(data_hab['presence'].values,(num_depth,1,1))\n",
    "            data_hab.close()\n",
    "            \n",
    "            #-----\n",
    "            # if shelf only, correct habitat field here to only contain ones on the continental shelf\n",
    "            if shelf_only:\n",
    "                file_shelf = '/pscratch/sd/c/cnissen/AGI_toothfish_project/masks/Mask_Antarctic_shelf_south_of_1000m_isobath.nc'\n",
    "                ff = xr.open_dataset(file_shelf)\n",
    "                mask_shelf = ff.variables['mask'][:].values\n",
    "                ff.close()\n",
    "                mask_shelf = np.expand_dims(mask_shelf, 0)\n",
    "                #print(mask_shelf.shape)\n",
    "                hab_field[mask_shelf==0] = 0\n",
    "            \n",
    "            #\n",
    "            #-----\n",
    "\n",
    "            try:\n",
    "                # get habitable volume in present-day \n",
    "                AGI_crit_present,vol_hab1,tot_vol = get_habitable_volume(i,hab_field,vol,pO2_1,t_insitu_1,\\\n",
    "                                                                         overlap,\\\n",
    "                                                species_list,species_names,TPref,o2thresh,AGI_crit,j_diff)\n",
    "                del tot_vol\n",
    "\n",
    "                # get habitable volume in future\n",
    "                AGI_crit_future,vol_hab2,tot_vol = get_habitable_volume(i,hab_field,vol,pO2_2,t_insitu_2,\\\n",
    "                                                                        overlap,\\\n",
    "                                                species_list,species_names,TPref,o2thresh,AGI_crit,j_diff)\n",
    "                \n",
    "                #print('AGIcrit present-day vs future:',AGI_crit[i],AGI_crit_future)\n",
    "                #print('habitable volume present-day (volume above present-day AGIcrit, =90%):',vol_hab1)\n",
    "                #print('habitable volume future (volume above present-day AGIcrit):',vol_hab2)\n",
    "                #print(tot_vol)\n",
    "                #print('Ratio of future habitable volume to total volume',100*vol_hab2/tot_vol)\n",
    "                #print('Habitat loss (90% minus future habitable volume):',90-100*vol_hab2/tot_vol)\n",
    "                # in the present-day, the above is 90% (per definition)\n",
    "                # anything below 90% is a habitat loss\n",
    "                #print('vol_hab2/tot_vol',vol_hab2/tot_vol)\n",
    "                #print('vol_hab2/vol_hab1',vol_hab2/vol_hab1)\n",
    "                habitat_loss[i,dd] = 100*vol_hab2/vol_hab1\n",
    "                #habitat_loss[i,dd] = 90-100*vol_hab2/tot_vol # what I used until Jan 29, 2024 -> I think this is wrong though. \n",
    "                # the \"90% viable for the present-day\" only holds for the whole 3D habitat, not necessarily for a given depth level.\n",
    "                # To be more exact, compare the actual volume of viable habitat within each depth level here!\n",
    "                viable1[i,dd]  = vol_hab1\n",
    "                viable2[i,dd]  = vol_hab2\n",
    "                del AGI_crit_present,AGI_crit_future,vol_hab1,vol_hab2,tot_vol,hab_field\n",
    "            \n",
    "            except: # if it doesn't work, no grid cells equal to 1 in habitat array (e.g., at greater depths for shelf case)\n",
    "                habitat_loss[i,dd] = 0\n",
    "                viable1[i,dd]  = 0\n",
    "                viable2[i,dd]  = 0\n",
    "\n",
    "        del overlap,av_depths,data_hab,file_habitat,ind_depths\n",
    "        \n",
    "    if i==0:\n",
    "        print(habitat_loss[i,:])\n",
    "        \n",
    "    #----\n",
    "    # save as netcdf\n",
    "    #----\n",
    "    if save_as_netcdf:\n",
    "        #-----\n",
    "        # create file & define dimensions\n",
    "        #-----\n",
    "        savepath = '/pscratch/sd/c/cnissen/AGI_toothfish_project/habitat_loss/'\n",
    "        if shelf_only:\n",
    "            netcdf_name = 'Viable_habitat_'+str(year_list2[0])+'_'+str(year_list2[-1])+'_and_'+\\\n",
    "                            str(year_list1[0])+'_'+str(year_list1[-1])+'_'+\\\n",
    "                        which_sim+'_all_depth_levels_'+drift_corr+'_CORRECTED_v20240129_shelf_only.nc'\n",
    "        else:\n",
    "            netcdf_name = 'Viable_habitat_'+str(year_list2[0])+'_'+str(year_list2[-1])+'_and_'+\\\n",
    "                            str(year_list1[0])+'_'+str(year_list1[-1])+'_'+\\\n",
    "                        which_sim+'_all_depth_levels_'+drift_corr+'_CORRECTED_v20240129.nc'\n",
    "        if not os.path.exists(savepath+netcdf_name):\n",
    "            print ('Create file '+savepath+netcdf_name)\n",
    "            w_nc_fid = Dataset(savepath+netcdf_name, 'w', format='NETCDF4_CLASSIC')\n",
    "            # create dimension & variable\n",
    "            w_nc_fid.createDimension('species_names', len(species_names)) \n",
    "            w_nc_fid.createDimension('depths', len(depths)) \n",
    "            w_nc_fid.close()\n",
    "\n",
    "            #-----\n",
    "            # global information\n",
    "            #-----\n",
    "            #----\n",
    "            script_name = 'plot_PAPER_AGI_toothfish_viable_habitat_ALL_TOGETHER_at_each_depth_save_as_netcdf.ipynb'\n",
    "            w_nc_fid = Dataset(savepath+netcdf_name, 'r+', format='NETCDF4_CLASSIC')\n",
    "            w_nc_fid.species_names1 = '0=Dissostichus mawsoni, 1=Trematomus loennbergii, 2=Macrourus whitsoni, 3=Galiteuthis glacialis'\n",
    "            w_nc_fid.species_names2 = '4=Chionodraco hamatus, 5=Anotopterus vorax, 6=Chaenodraco wilsoni, 7=Kondakovia longimana'\n",
    "            w_nc_fid.species_names3 = '8=Cryodraco antarcticus, 9=Muraenolepis microps, 10=Psychroteuthis glacialis, 11=Gymnodraco acuticeps'\n",
    "            w_nc_fid.species_names4 = '12=Amblyraja georgiana, 13=Antarctomysis maxima, 14=Lepidonotothen 15=squamifrons, 16=Mesonychoteuthis hamiltoni'\n",
    "            w_nc_fid.species_names5 = '17=Pleuragramma antarctica, 18=Euphausia superba, 19=Notothenia coriiceps, 20=Trematomus lepidorhinus'\n",
    "            w_nc_fid.species_names6 = '21=Pagothenia borchgrevinki, 22=Lycenchelys aratrirostris, 23=Neopagetopsis ionah, 24=Chaenocephalus aceratus'\n",
    "            w_nc_fid.species_names7 = '25=Trematomus hansoni, 26=Chionobathyscus dewitti, 27=Euphausia crystallorophias, 28=Notothenia rossii'\n",
    "            w_nc_fid.species_names8 = '29=Bathyraja maccaini'\n",
    "            w_nc_fid.AGI_crit = 'AGIcrit based on monthly mean climatology'\n",
    "            w_nc_fid.present_day = str(year_list1[0])+'-'+str(year_list1[-1])\n",
    "            w_nc_fid.future = str(year_list2[0])+'-'+str(year_list2[-1])\n",
    "            w_nc_fid.which_scenario = which_sim\n",
    "            w_nc_fid.history = \"Created \" + today.strftime(\"%d/%m/%y\")\n",
    "            w_nc_fid.script = script_name+\" (for internal information only)\"\n",
    "            if shelf_only:\n",
    "                w_nc_fid.mask_shelf = file_shelf\n",
    "            w_nc_fid.close()\n",
    "            \n",
    "            #-----\n",
    "            # define variables\n",
    "            #-----\n",
    "            w_nc_fid = Dataset(savepath+netcdf_name, 'r+', format='NETCDF4_CLASSIC')      # Create and open new netcdf file to write to\n",
    "            w_nc_var1a = w_nc_fid.createVariable('habitat_loss', 'f4',('species_names','depths'),fill_value=-999)\n",
    "            w_nc_var1a.description = 'Loss of viable habitat (defined as 100*viable_habitat_future/viable_habitat_present)'\n",
    "            w_nc_var1a.units = '%'\n",
    "            w_nc_var1a = w_nc_fid.createVariable('viable_habitat_present', 'f4',('species_names','depths'),fill_value=-999)\n",
    "            w_nc_var1a.description = 'Total present-day viable habitat volume (AGI>AGIcrit)'\n",
    "            w_nc_var1a.units = 'Mio km3'\n",
    "            w_nc_var1a = w_nc_fid.createVariable('viable_habitat_future', 'f4',('species_names','depths'),fill_value=-999)\n",
    "            w_nc_var1a.description = 'Total future viable habitat volume (AGI>AGIcrit)'\n",
    "            w_nc_var1a.units = 'Mio km3'\n",
    "\n",
    "            w_nc_var1a = w_nc_fid.createVariable('depths', 'f4',('depths'))\n",
    "\n",
    "            w_nc_fid.close() \n",
    "\n",
    "        habitat_loss[i,:][habitat_loss[i,:]==0] = -999\n",
    "        viable1[i,:][viable1[i,:]==0] = -999\n",
    "        viable2[i,:][viable2[i,:]==0] = -999\n",
    "        \n",
    "        w_nc_fid = Dataset(savepath+netcdf_name, 'r+', format='NETCDF4_CLASSIC')      # Create and open new netcdf file to write to\n",
    "        w_nc_fid.variables['depths'][:]= depths\n",
    "        w_nc_fid.variables['habitat_loss'][i,:]= habitat_loss[i,:]\n",
    "        w_nc_fid.variables['viable_habitat_present'][i,:]= viable1[i,:]\n",
    "        w_nc_fid.variables['viable_habitat_future'][i,:]= viable2[i,:]\n",
    "        w_nc_fid.close() \n",
    "    \n",
    "print('done')\n",
    "        "
   ]
  },
  {
   "cell_type": "code",
   "execution_count": null,
   "metadata": {
    "tags": []
   },
   "outputs": [],
   "source": []
  },
  {
   "cell_type": "code",
   "execution_count": 11,
   "metadata": {
    "tags": []
   },
   "outputs": [
    {
     "ename": "NameError",
     "evalue": "name 'tot_volume' is not defined",
     "output_type": "error",
     "traceback": [
      "\u001b[0;31m---------------------------------------------------------------------------\u001b[0m",
      "\u001b[0;31mNameError\u001b[0m                                 Traceback (most recent call last)",
      "Input \u001b[0;32mIn [11]\u001b[0m, in \u001b[0;36m<cell line: 5>\u001b[0;34m()\u001b[0m\n\u001b[1;32m      1\u001b[0m \u001b[38;5;66;03m#---\u001b[39;00m\n\u001b[1;32m      2\u001b[0m \u001b[38;5;66;03m# print some numbers\u001b[39;00m\n\u001b[1;32m      3\u001b[0m \u001b[38;5;66;03m#---\u001b[39;00m\n\u001b[0;32m----> 5\u001b[0m tot_volume \u001b[38;5;241m=\u001b[39m np\u001b[38;5;241m.\u001b[39mma\u001b[38;5;241m.\u001b[39mmasked_where(\u001b[43mtot_volume\u001b[49m\u001b[38;5;241m==\u001b[39m\u001b[38;5;241m-\u001b[39m\u001b[38;5;241m999\u001b[39m,tot_volume)\n\u001b[1;32m      6\u001b[0m viable2 \u001b[38;5;241m=\u001b[39m np\u001b[38;5;241m.\u001b[39mma\u001b[38;5;241m.\u001b[39mmasked_where(viable2\u001b[38;5;241m==\u001b[39m\u001b[38;5;241m-\u001b[39m\u001b[38;5;241m999\u001b[39m,viable2)\n\u001b[1;32m      8\u001b[0m sum_habitat \u001b[38;5;241m=\u001b[39m \u001b[38;5;241m0.9\u001b[39m\u001b[38;5;241m*\u001b[39mnp\u001b[38;5;241m.\u001b[39msum(tot_volume\u001b[38;5;241m/\u001b[39m\u001b[38;5;241m1e15\u001b[39m,axis\u001b[38;5;241m=\u001b[39m\u001b[38;5;241m1\u001b[39m)\n",
      "\u001b[0;31mNameError\u001b[0m: name 'tot_volume' is not defined"
     ]
    }
   ],
   "source": [
    "#---\n",
    "# print some numbers\n",
    "#---\n",
    "\n",
    "tot_volume = np.ma.masked_where(tot_volume==-999,tot_volume)\n",
    "viable2 = np.ma.masked_where(viable2==-999,viable2)\n",
    "\n",
    "sum_habitat = 0.9*np.sum(tot_volume/1e15,axis=1)\n",
    "sum_viable2 = 0.9*np.sum(viable2/1e15,axis=1)\n",
    "#print(sum_habitat.shape)\n",
    "\n",
    "for ss in range(0,0):#len(species_names)):\n",
    "    print('Viable habitat historical',species_names[ss],sum_habitat[ss])\n",
    "    print('Viable habitat future',species_names[ss],sum_viable2[ss])\n",
    "    print('Viable habitat loss',species_names[ss],100-(100*sum_viable2[ss]/sum_habitat[ss]))\n",
    "    print()\n",
    "\n",
    "\n",
    "# Why are the absolute numbers of the viable habitat so much larger than the overlap???\n",
    "# --> carefully double-check (also the overlap numbers!!!)\n",
    "# are the orders of magnitude correct??\n",
    "    "
   ]
  },
  {
   "cell_type": "code",
   "execution_count": 12,
   "metadata": {
    "tags": []
   },
   "outputs": [
    {
     "name": "stdout",
     "output_type": "stream",
     "text": [
      "#####\n",
      "viable present-day habitat\n",
      "#####\n",
      "Dissostichus mawsoni 8.28328\n",
      "Trematomus loennbergii 1.6425602\n",
      "Macrourus whitsoni 22.729502\n",
      "Galiteuthis glacialis 75.51766\n",
      "Chionodraco hamatus 0.5006764\n",
      "Anotopterus vorax 9.7821245\n",
      "Chaenodraco wilsoni 0.9697828\n",
      "Kondakovia longimana 35.62511\n",
      "Cryodraco antarcticus 1.0283716\n",
      "Muraenolepis microps 2.1781359\n",
      "Psychroteuthis glacialis 0.6342047\n",
      "Gymnodraco acuticeps 0.48862207\n",
      "Amblyraja georgiana 0.43605322\n",
      "Antarctomysis maxima 0.42878854\n",
      "Lepidonotothen squamifrons 2.2403746\n",
      "Mesonychoteuthis hamiltoni 16.561825\n",
      "Pleuragramma antarctica 1.8653369\n",
      "Euphausia superba 21.977894\n",
      "Notothenia coriiceps 1.4622253\n",
      "Trematomus lepidorhinus 0.4389614\n",
      "Pagothenia borchgrevinki 0.077346236\n",
      "Lycenchelys aratrirostris 0.08583923\n",
      "Neopagetopsis ionah 1.5923529\n",
      "Chaenocephalus aceratus 0.27729923\n",
      "Trematomus hansoni 1.1911392\n",
      "Chionobathyscus dewitti 2.3538113\n",
      "Euphausia crystallorophias 9.500189\n",
      "Notothenia rossii 0.23350748\n",
      "Bathyraja maccaini 0.19538985\n"
     ]
    }
   ],
   "source": [
    "#---\n",
    "# get overlap in % of toothfish habitat for present-day\n",
    "#---\n",
    "\n",
    "path = '/pscratch/sd/c/cnissen/AGI_toothfish_project/habitat_loss/'\n",
    "file1 = 'Viable_habitat_2091_2100_and_1995_2014_ssp126_all_depth_levels_monthly_drift_corrected_2091_2100_minus_1995_2014_v2_CORRECTED_v20240129.nc'\n",
    "file2 = 'Viable_habitat_2091_2100_and_1995_2014_ssp245_all_depth_levels_monthly_drift_corrected_2091_2100_minus_1995_2014_v2_CORRECTED_v20240129.nc'\n",
    "file3 = 'Viable_habitat_2091_2100_and_1995_2014_ssp370_all_depth_levels_monthly_drift_corrected_2091_2100_minus_1995_2014_v2_CORRECTED_v20240129.nc'\n",
    "file4 = 'Viable_habitat_2091_2100_and_1995_2014_ssp585_all_depth_levels_monthly_drift_corrected_2091_2100_minus_1995_2014_v2_CORRECTED_v20240129.nc'\n",
    "        \n",
    "ff   = xr.open_dataset(path+file1)\n",
    "viable1 = ff['viable_habitat_present'].values # -> this is the same in every file, only load once!\n",
    "loss2a  = ff['habitat_loss'].values\n",
    "viable2a = ff['viable_habitat_future'].values\n",
    "ff.close()\n",
    "\n",
    "ff   = xr.open_dataset(path+file2)\n",
    "viable2b = ff['viable_habitat_future'].values\n",
    "loss2b   = ff['habitat_loss'].values\n",
    "ff.close()\n",
    "\n",
    "ff   = xr.open_dataset(path+file3)\n",
    "viable2c = ff['viable_habitat_future'].values\n",
    "loss2c   = ff['habitat_loss'].values\n",
    "ff.close()\n",
    "\n",
    "ff   = xr.open_dataset(path+file4)\n",
    "viable2d = ff['viable_habitat_future'].values\n",
    "loss2d   = ff['habitat_loss'].values\n",
    "ff.close()\n",
    "\n",
    "# get total viable habitat for present day and future (integrated over depth)\n",
    "sum_habitat1 = np.nansum(viable1/1e15,axis=1) # -> this is the same in every file, only load once!\n",
    "viable2a_int = np.nansum(viable2a/1e15,axis=1)\n",
    "viable2b_int = np.nansum(viable2b/1e15,axis=1)\n",
    "viable2c_int = np.nansum(viable2c/1e15,axis=1)\n",
    "viable2d_int = np.nansum(viable2d/1e15,axis=1)\n",
    "\n",
    "ind_tf = species_names.index(\"Dissostichus mawsoni\")\n",
    "\n",
    "print('#####')\n",
    "print('viable present-day habitat')\n",
    "print('#####')\n",
    "\n",
    "for ss in range(0,len(species_names)):\n",
    "    print(species_names[ss],sum_habitat1[ss])\n",
    "    "
   ]
  },
  {
   "cell_type": "code",
   "execution_count": 22,
   "metadata": {
    "tags": []
   },
   "outputs": [
    {
     "name": "stdout",
     "output_type": "stream",
     "text": [
      "#####\n",
      "viable present-day habitat\n",
      "#####\n",
      "Dissostichus mawsoni 0.9671442\n",
      "Trematomus loennbergii 0.926686\n",
      "Macrourus whitsoni 0.19220749\n",
      "Galiteuthis glacialis 0.53909373\n",
      "Chionodraco hamatus 0.37110662\n",
      "Anotopterus vorax 0.13506177\n",
      "Chaenodraco wilsoni 0.4758739\n",
      "Kondakovia longimana 0.06210075\n",
      "Cryodraco antarcticus 0.65951383\n",
      "Muraenolepis microps 0.5767226\n",
      "Psychroteuthis glacialis 0.17115426\n",
      "Gymnodraco acuticeps 0.37286538\n",
      "Amblyraja georgiana 0.114180796\n",
      "Antarctomysis maxima 0.17270494\n",
      "Lepidonotothen squamifrons 0.8961004\n",
      "Mesonychoteuthis hamiltoni 0.05561895\n",
      "Pleuragramma antarctica 1.0984422\n",
      "Euphausia superba 1.0892092\n",
      "Notothenia coriiceps 0.8466866\n",
      "Trematomus lepidorhinus 0.27911296\n",
      "Pagothenia borchgrevinki 0.049787596\n",
      "Lycenchelys aratrirostris 0.04728239\n",
      "Neopagetopsis ionah 0.85351545\n",
      "Chaenocephalus aceratus 0.030691784\n",
      "Trematomus hansoni 0.76931715\n",
      "Chionobathyscus dewitti 0.06261778\n",
      "Euphausia crystallorophias 1.1581016\n",
      "Notothenia rossii 0.02813421\n",
      "Bathyraja maccaini 0.021289265\n"
     ]
    }
   ],
   "source": [
    "#---\n",
    "# get viable present-day habitat for toothfish on the shelf\n",
    "#---\n",
    "\n",
    "path = '/pscratch/sd/c/cnissen/AGI_toothfish_project/habitat_loss/'\n",
    "file1 = 'Viable_habitat_2091_2100_and_1995_2014_ssp126_all_depth_levels_monthly_drift_'+\\\n",
    "            'corrected_2091_2100_minus_1995_2014_v2_CORRECTED_v20240129_shelf_only.nc'\n",
    "        \n",
    "ff   = xr.open_dataset(path+file1)\n",
    "viable1 = ff['viable_habitat_present'].values # -> this is the same in every file, only load once!\n",
    "loss2a  = ff['habitat_loss'].values\n",
    "viable2a = ff['viable_habitat_future'].values\n",
    "ff.close()\n",
    "\n",
    "# get total viable habitat for present day and future (integrated over depth)\n",
    "sum_habitat1 = np.nansum(viable1/1e15,axis=1) # -> this is the same in every file, only load once!\n",
    "\n",
    "ind_tf = species_names.index(\"Dissostichus mawsoni\")\n",
    "\n",
    "print('#####')\n",
    "print('viable present-day habitat')\n",
    "print('#####')\n",
    "\n",
    "for ss in range(0,len(species_names)):\n",
    "    print(species_names[ss],sum_habitat1[ss])\n",
    "    "
   ]
  },
  {
   "cell_type": "code",
   "execution_count": null,
   "metadata": {
    "tags": []
   },
   "outputs": [],
   "source": [
    "print('#####')\n",
    "print('rel. change in viable habitat, future vs. present-day: ssp126, ssp245, ssp370, ssp585')\n",
    "print('#####')\n",
    "\n",
    "factor1 = 10 # for rounding \n",
    "\n",
    "for ss in range(0,len(species_names)):\n",
    "    print(species_names[ss],\\\n",
    "         np.round(factor1*((100*viable2a_int[ss]/sum_habitat1[ss])-100))/factor1,\\\n",
    "         np.round(factor1*((100*viable2b_int[ss]/sum_habitat1[ss])-100))/factor1,\\\n",
    "         np.round(factor1*((100*viable2c_int[ss]/sum_habitat1[ss])-100))/factor1,\\\n",
    "         np.round(factor1*((100*viable2d_int[ss]/sum_habitat1[ss])-100))/factor1)\n",
    "        \n",
    "        "
   ]
  },
  {
   "cell_type": "code",
   "execution_count": null,
   "metadata": {
    "tags": []
   },
   "outputs": [],
   "source": [
    "\n",
    "for ss in range(0,len(species_names)):\n",
    "    print(species_names[ss],\\\n",
    "         np.round(factor1*((100*viable2a_int[ss]/sum_habitat1[ss])-100))/factor1,\\\n",
    "         np.round(factor1*((100*viable2b_int[ss]/sum_habitat1[ss])-100))/factor1,\\\n",
    "         np.round(factor1*((100*viable2c_int[ss]/sum_habitat1[ss])-100))/factor1,\\\n",
    "         np.round(factor1*((100*viable2d_int[ss]/sum_habitat1[ss])-100))/factor1)\n",
    "        "
   ]
  },
  {
   "cell_type": "code",
   "execution_count": null,
   "metadata": {
    "tags": []
   },
   "outputs": [],
   "source": [
    "#---\n",
    "# print differences in change between highest and lowest emission scenario\n",
    "#---\n",
    "\n",
    "for ss in range(0,len(species_names)):\n",
    "    aux1 = 100*viable2a_int[ss]/sum_habitat1[ss]\n",
    "    aux2 = 100*viable2b_int[ss]/sum_habitat1[ss]\n",
    "    aux3 = 100*viable2c_int[ss]/sum_habitat1[ss]\n",
    "    aux4 = 100*viable2d_int[ss]/sum_habitat1[ss]\n",
    "    print(species_names[ss],\\\n",
    "          np.round(factor1*((aux4-100) - (aux1-100)))/factor1)\n",
    "\n",
    "    "
   ]
  },
  {
   "cell_type": "code",
   "execution_count": null,
   "metadata": {},
   "outputs": [],
   "source": []
  },
  {
   "cell_type": "code",
   "execution_count": null,
   "metadata": {},
   "outputs": [],
   "source": []
  },
  {
   "cell_type": "code",
   "execution_count": null,
   "metadata": {
    "tags": []
   },
   "outputs": [],
   "source": [
    "#---\n",
    "# print some numbers: total loss in viable habitat for each species and each scenario\n",
    "# (to be added to Fig. 5)\n",
    "#---\n",
    "\n",
    "old_code = False\n",
    "if old_code:\n",
    "\n",
    "    path = '/pscratch/sd/c/cnissen/AGI_toothfish_project/habitat_loss/'\n",
    "    file1 = 'Viable_habitat_2091_2100_and_1995_2014_ssp126_all_depth_levels_monthly_drift_corrected_2091_2100_minus_1995_2014_v2.nc'\n",
    "    file2 = 'Viable_habitat_2091_2100_and_1995_2014_ssp245_all_depth_levels_monthly_drift_corrected_2091_2100_minus_1995_2014_v2.nc'\n",
    "    file3 = 'Viable_habitat_2091_2100_and_1995_2014_ssp370_all_depth_levels_monthly_drift_corrected_2091_2100_minus_1995_2014_v2.nc'\n",
    "    file4 = 'Viable_habitat_2091_2100_and_1995_2014_ssp585_all_depth_levels_monthly_drift_corrected_2091_2100_minus_1995_2014_v2.nc'\n",
    "\n",
    "    ff   = xr.open_dataset(path+file1)\n",
    "    total1  = ff['total_volume_historical'].values # -> this is the same in every file, only load once!\n",
    "    viable1 = ff['viable_habitat_future'].values\n",
    "    ff.close()\n",
    "\n",
    "    ff   = xr.open_dataset(path+file2)\n",
    "    viable2 = ff['viable_habitat_future'].values\n",
    "    ff.close()\n",
    "\n",
    "    ff   = xr.open_dataset(path+file3)\n",
    "    viable3 = ff['viable_habitat_future'].values\n",
    "    ff.close()\n",
    "\n",
    "    ff   = xr.open_dataset(path+file4)\n",
    "    viable4 = ff['viable_habitat_future'].values\n",
    "    ff.close()\n",
    "\n",
    "    print(total1.shape)\n",
    "\n",
    "    #tot_volume = np.ma.masked_where(tot_volume==-999,tot_volume)\n",
    "    #viable2 = np.ma.masked_where(viable2==-999,viable2)\n",
    "\n",
    "    # get total viable habitat for present day -> total1 is total habitat, 90% is viable per definition (AGI_crit)\n",
    "    sum_habitat1 = np.nansum(total1/1e15,axis=1) # -> this is the same in every file, only load once!\n",
    "\n",
    "    #habitat_loss[i,dd] = 90-100*vol_hab2/tot_vol\n",
    "\n",
    "    viable4b = np.copy(viable4)\n",
    "    # get total viable habitat for future, sum over depth\n",
    "    viable1 = np.nansum(viable1/1e15,axis=1)\n",
    "    viable2 = np.nansum(viable2/1e15,axis=1)\n",
    "    viable3 = np.nansum(viable3/1e15,axis=1)\n",
    "    viable4 = np.nansum(viable4/1e15,axis=1)\n",
    "    #print(sum_habitat.shape)\n",
    "\n",
    "    factor1 = 10 # for rounding \n",
    "\n",
    "    print()\n",
    "    print('Viable habitat loss in % (ssp126, ssp245, ssp370, ssp585)')\n",
    "    print()\n",
    "    for ss in range(0,len(species_names)):\n",
    "        aux1 = 100*viable1[ss]/sum_habitat1[ss]\n",
    "        aux2 = 100*viable2[ss]/sum_habitat1[ss]\n",
    "        aux3 = 100*viable3[ss]/sum_habitat1[ss]\n",
    "        aux4 = 100*viable4[ss]/sum_habitat1[ss]\n",
    "        print(species_names[ss],\\\n",
    "              np.round(factor1*(10+aux1-100))/factor1,\\\n",
    "              np.round(factor1*(10+aux2-100))/factor1,\\\n",
    "              np.round(factor1*(10+aux3-100))/factor1,\\\n",
    "             np.round(factor1*(10+aux4-100))/factor1)\n",
    "\n",
    "    # Why are the absolute numbers of the viable habitat so much larger than the overlap???\n",
    "    # --> carefully double-check (also the overlap numbers!!!)\n",
    "    # are the orders of magnitude correct??\n",
    "    \n",
    "    \n",
    "    "
   ]
  },
  {
   "cell_type": "code",
   "execution_count": null,
   "metadata": {
    "tags": []
   },
   "outputs": [],
   "source": []
  },
  {
   "cell_type": "code",
   "execution_count": null,
   "metadata": {
    "tags": []
   },
   "outputs": [],
   "source": []
  },
  {
   "cell_type": "code",
   "execution_count": null,
   "metadata": {},
   "outputs": [],
   "source": []
  },
  {
   "cell_type": "code",
   "execution_count": null,
   "metadata": {},
   "outputs": [],
   "source": []
  }
 ],
 "metadata": {
  "kernelspec": {
   "display_name": "myenv-jupyter",
   "language": "python",
   "name": "myenv-jupyter"
  },
  "language_info": {
   "codemirror_mode": {
    "name": "ipython",
    "version": 3
   },
   "file_extension": ".py",
   "mimetype": "text/x-python",
   "name": "python",
   "nbconvert_exporter": "python",
   "pygments_lexer": "ipython3",
   "version": "3.9.12"
  }
 },
 "nbformat": 4,
 "nbformat_minor": 4
}
