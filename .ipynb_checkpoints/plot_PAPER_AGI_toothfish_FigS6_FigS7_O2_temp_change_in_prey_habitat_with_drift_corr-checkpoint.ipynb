{
 "cells": [
  {
   "cell_type": "markdown",
   "metadata": {},
   "source": [
    "# get average change in temp & O2 in habitat of each prey\n",
    "# version September 2023: adapt to Perlmutter\n",
    "# include model drift\n",
    "# Fig.S6 & Fig.S7 in paper"
   ]
  },
  {
   "cell_type": "code",
   "execution_count": 1,
   "metadata": {},
   "outputs": [],
   "source": [
    "import sys\n",
    "import os\n",
    "import matplotlib.pyplot as plt\n",
    "import numpy as np\n",
    "from scipy.interpolate import griddata\n",
    "from matplotlib import cm\n",
    "from netCDF4 import Dataset, MFDataset\n",
    "import pandas as pd\n",
    "from matplotlib.patches import Rectangle\n",
    "import copy\n",
    "import cartopy.crs as ccrs\n",
    "import cartopy\n",
    "import matplotlib.path as mpath\n",
    "import matplotlib.ticker as mticker\n",
    "from cartopy.mpl.ticker import (LongitudeFormatter, LatitudeFormatter,\n",
    "                                LatitudeLocator)\n",
    "from pathlib import Path\n",
    "import xarray as xr"
   ]
  },
  {
   "cell_type": "code",
   "execution_count": 2,
   "metadata": {},
   "outputs": [
    {
     "name": "stdout",
     "output_type": "stream",
     "text": [
      "[1980 1981 1982 1983 1984 1985 1986 1987 1988 1989 1990 1991 1992 1993\n",
      " 1994 1995 1996 1997 1998 1999 2000 2001 2002 2003 2004 2005 2006 2007\n",
      " 2008 2009 2010 2011 2012 2013 2014 2015 2016 2017 2018 2019 2020 2021\n",
      " 2022 2023 2024 2025 2026 2027 2028 2029 2030 2031 2032 2033 2034 2035\n",
      " 2036 2037 2038 2039 2040 2041 2042 2043 2044 2045 2046 2047 2048 2049\n",
      " 2050 2051 2052 2053 2054 2055 2056 2057 2058 2059 2060 2061 2062 2063\n",
      " 2064 2065 2066 2067 2068 2069 2070 2071 2072 2073 2074 2075 2076 2077\n",
      " 2078 2079 2080 2081 2082 2083 2084 2085 2086 2087 2088 2089 2090 2091\n",
      " 2092 2093 2094 2095 2096 2097 2098 2099 2100]\n",
      "(72411,)\n"
     ]
    }
   ],
   "source": [
    "#------\n",
    "# MODEL INFO\n",
    "#------\n",
    "\n",
    "years = np.arange(1980,2100+1,1)\n",
    "print (years)\n",
    "\n",
    "savepath    = '/global/cfs/cdirs/m4003/cnissen/Plots/AGI_project/environmental_change_in_species_habitat_with_drift_corr/'\n",
    "if not os.path.exists(savepath):\n",
    "    print('Created '+savepath)\n",
    "    os.makedirs(savepath)\n",
    "\n",
    "savepath2    = '/global/cfs/cdirs/m4003/cnissen/Plots/AGI_project/environmental_change_in_species_habitat_with_drift_corr/eps/'\n",
    "if not os.path.exists(savepath2):\n",
    "    print('Created '+savepath2)\n",
    "    os.makedirs(savepath2)\n",
    "    \n",
    "#---\n",
    "# load mesh info\n",
    "#---\n",
    "\n",
    "path_mesh = '/pscratch/sd/c/cnissen/'\n",
    "file_mesh = 'Nissen2022_FESOM_REcoM_mesh_information_corrected_20220910.nc'\n",
    "\n",
    "f1 = Dataset(path_mesh+file_mesh) #xr.open_dataset(path+file1)\n",
    "lat_model      = f1.variables['lat'][:]\n",
    "lon_model      = f1.variables['lon'][:]\n",
    "zlevs    = f1.variables['zlevs'][:]\n",
    "cavities = f1.variables['cavity'][:]\n",
    "topo     = f1.variables['topo'][:]\n",
    "area     = f1.variables['cell_area'][:]\n",
    "volume   = f1.variables['cell_volume'][:]\n",
    "f1.close()\n",
    "print(lat_model.shape)\n",
    "\n",
    "ind_no_cavity = np.where(cavities==0)[0]\n",
    "ind_cavities = np.where(cavities==1)[0]\n",
    "\n",
    "#---\n",
    "# get area of regridded field\n",
    "#---\n",
    "\n",
    "file_mesh2 = '/pscratch/sd/c/cnissen/files_toothfish_project_AGI/Mesh_ancillary_information_v20220919.nc'\n",
    "f1 = Dataset(file_mesh2) #xr.open_dataset(path+file1)\n",
    "area2     = f1.variables['area'][:]\n",
    "f1.close()\n",
    "\n",
    "# get lat/lon/depth of AGI mesh\n",
    "path = '/pscratch/sd/c/cnissen/files_toothfish_project_AGI/'\n",
    "which_sim = 'simAssp585'\n",
    "vari      = 't_insitu'\n",
    "f1 = Dataset(path+which_sim+'_reduced/'+vari+'_fesom_'+which_sim+'_19950101_v2.nc')\n",
    "lat_agi = f1.variables['lat'][:]\n",
    "lon_agi = f1.variables['lon'][:]\n",
    "zlevs     = f1.variables['depth'][:]\n",
    "f1.close()\n",
    "\n"
   ]
  },
  {
   "cell_type": "code",
   "execution_count": 3,
   "metadata": {
    "tags": []
   },
   "outputs": [],
   "source": [
    "#---\n",
    "# all_shelves and all_openOcean masks:\n",
    "#---\n",
    "\n",
    "path_shelf_mask = '/pscratch/sd/c/cnissen/AGI_toothfish_project/masks/Mask_Antarctic_shelf_south_of_1000m_isobath.nc'\n",
    "path_openOcean_mask = '/pscratch/sd/c/cnissen/AGI_toothfish_project/masks/Mask_openOcean_south_of_45S_north_of_1000m_isobath.nc'\n",
    "    \n",
    "ff  = xr.open_dataset(path_shelf_mask)\n",
    "mask_shelves = ff['mask'].values\n",
    "ff.close()\n",
    "\n",
    "ff  = xr.open_dataset(path_openOcean_mask)\n",
    "mask_openOcean = ff['mask'].values\n",
    "ff.close()\n"
   ]
  },
  {
   "cell_type": "code",
   "execution_count": 4,
   "metadata": {},
   "outputs": [
    {
     "name": "stdout",
     "output_type": "stream",
     "text": [
      "Load 1995 of simAssp585\n",
      "Load 1996 of simAssp585\n",
      "Load 1997 of simAssp585\n",
      "Load 1998 of simAssp585\n",
      "Load 1999 of simAssp585\n",
      "Load 2000 of simAssp585\n",
      "Load 2001 of simAssp585\n",
      "Load 2002 of simAssp585\n",
      "Load 2003 of simAssp585\n",
      "Load 2004 of simAssp585\n",
      "Load 2005 of simAssp585\n",
      "Load 2006 of simAssp585\n",
      "Load 2007 of simAssp585\n",
      "Load 2008 of simAssp585\n",
      "Load 2009 of simAssp585\n",
      "Load 2010 of simAssp585\n",
      "Load 2011 of simAssp585\n",
      "Load 2012 of simAssp585\n",
      "Load 2013 of simAssp585\n",
      "Load 2014 of simAssp585\n",
      "done\n"
     ]
    }
   ],
   "source": [
    "#-----\n",
    "# load data for 1990s: in-situ temp\n",
    "#-----\n",
    "\n",
    "vari      = 't_insitu'\n",
    "which_sim = 'simAssp585' # present-day files are in ssp585 folder\n",
    "\n",
    "path = '/pscratch/sd/c/cnissen/files_toothfish_project_AGI/'\n",
    "\n",
    "years = np.arange(1995,2014+1,1)\n",
    "\n",
    "array_1990s_simA_temp   = np.zeros([len(np.unique(zlevs)),len(lat_agi),len(lon_agi),len(years)]) # only 97 depth levels filled in file\n",
    "for yy in range(0,len(years)):\n",
    "    print ('Load '+str(years[yy])+' of '+which_sim)\n",
    "    \n",
    "    f1 = Dataset(path+which_sim+'_reduced/'+vari+'_fesom_'+which_sim+'_'+str(years[yy])+'0101_v2.nc')\n",
    "    data1 = f1.variables[vari][:,:,:] # depth x lat x lon\n",
    "    f1.close()\n",
    "    data1 = np.ma.masked_where(data1<-999,data1)\n",
    "    data1[data1.mask==True]=0\n",
    "    array_1990s_simA_temp[:,:,:,yy]    = data1\n",
    "    \n",
    "    del data1\n",
    "    \n",
    "# decadal avg\n",
    "array_1990s_simA_temp    = np.nanmean(array_1990s_simA_temp,axis=3) \n",
    "    \n",
    "print ('done')\n"
   ]
  },
  {
   "cell_type": "code",
   "execution_count": 5,
   "metadata": {},
   "outputs": [
    {
     "name": "stdout",
     "output_type": "stream",
     "text": [
      "Load 2091 of ssp585\n",
      "Load 2092 of ssp585\n",
      "Load 2093 of ssp585\n",
      "Load 2094 of ssp585\n",
      "Load 2095 of ssp585\n",
      "Load 2096 of ssp585\n",
      "Load 2097 of ssp585\n",
      "Load 2098 of ssp585\n",
      "Load 2099 of ssp585\n",
      "Load 2100 of ssp585\n",
      "Load 2091 of ssp370\n",
      "Load 2092 of ssp370\n",
      "Load 2093 of ssp370\n",
      "Load 2094 of ssp370\n",
      "Load 2095 of ssp370\n",
      "Load 2096 of ssp370\n",
      "Load 2097 of ssp370\n",
      "Load 2098 of ssp370\n",
      "Load 2099 of ssp370\n",
      "Load 2100 of ssp370\n",
      "Load 2091 of ssp245\n",
      "Load 2092 of ssp245\n",
      "Load 2093 of ssp245\n",
      "Load 2094 of ssp245\n",
      "Load 2095 of ssp245\n",
      "Load 2096 of ssp245\n",
      "Load 2097 of ssp245\n",
      "Load 2098 of ssp245\n"
     ]
    },
    {
     "ename": "KeyboardInterrupt",
     "evalue": "",
     "output_type": "error",
     "traceback": [
      "\u001b[0;31m---------------------------------------------------------------------------\u001b[0m",
      "\u001b[0;31mKeyboardInterrupt\u001b[0m                         Traceback (most recent call last)",
      "Input \u001b[0;32mIn [5]\u001b[0m, in \u001b[0;36m<cell line: 18>\u001b[0;34m()\u001b[0m\n\u001b[1;32m     23\u001b[0m \u001b[38;5;28mprint\u001b[39m (\u001b[38;5;124m'\u001b[39m\u001b[38;5;124mLoad \u001b[39m\u001b[38;5;124m'\u001b[39m\u001b[38;5;241m+\u001b[39m\u001b[38;5;28mstr\u001b[39m(years[yy])\u001b[38;5;241m+\u001b[39m\u001b[38;5;124m'\u001b[39m\u001b[38;5;124m of \u001b[39m\u001b[38;5;124m'\u001b[39m\u001b[38;5;241m+\u001b[39msim_list[ss])\n\u001b[1;32m     25\u001b[0m f1 \u001b[38;5;241m=\u001b[39m Dataset(path\u001b[38;5;241m+\u001b[39mvari\u001b[38;5;241m+\u001b[39m\u001b[38;5;124m'\u001b[39m\u001b[38;5;124m_fesom_\u001b[39m\u001b[38;5;124m'\u001b[39m\u001b[38;5;241m+\u001b[39msim_list[ss]\u001b[38;5;241m+\u001b[39m\u001b[38;5;124m'\u001b[39m\u001b[38;5;124m_\u001b[39m\u001b[38;5;124m'\u001b[39m\u001b[38;5;241m+\u001b[39m\u001b[38;5;28mstr\u001b[39m(years[yy])\u001b[38;5;241m+\u001b[39m\u001b[38;5;124m'\u001b[39m\u001b[38;5;124m0101_\u001b[39m\u001b[38;5;124m'\u001b[39m\u001b[38;5;241m+\u001b[39mdrift_corr\u001b[38;5;241m+\u001b[39m\u001b[38;5;124m'\u001b[39m\u001b[38;5;124m.nc\u001b[39m\u001b[38;5;124m'\u001b[39m)\n\u001b[0;32m---> 26\u001b[0m data1 \u001b[38;5;241m=\u001b[39m \u001b[43mf1\u001b[49m\u001b[38;5;241;43m.\u001b[39;49m\u001b[43mvariables\u001b[49m\u001b[43m[\u001b[49m\u001b[43mvari\u001b[49m\u001b[43m]\u001b[49m\u001b[43m[\u001b[49m\u001b[43m:\u001b[49m\u001b[43m,\u001b[49m\u001b[43m:\u001b[49m\u001b[43m,\u001b[49m\u001b[43m:\u001b[49m\u001b[43m]\u001b[49m \u001b[38;5;66;03m# depth x lat x lon\u001b[39;00m\n\u001b[1;32m     27\u001b[0m f1\u001b[38;5;241m.\u001b[39mclose()\n\u001b[1;32m     28\u001b[0m data1 \u001b[38;5;241m=\u001b[39m np\u001b[38;5;241m.\u001b[39mma\u001b[38;5;241m.\u001b[39mmasked_where(data1\u001b[38;5;241m<\u001b[39m\u001b[38;5;241m-\u001b[39m\u001b[38;5;241m999\u001b[39m,data1)\n",
      "File \u001b[0;32msrc/netCDF4/_netCDF4.pyx:4461\u001b[0m, in \u001b[0;36mnetCDF4._netCDF4.Variable.__getitem__\u001b[0;34m()\u001b[0m\n",
      "File \u001b[0;32msrc/netCDF4/_netCDF4.pyx:4549\u001b[0m, in \u001b[0;36mnetCDF4._netCDF4.Variable._toma\u001b[0;34m()\u001b[0m\n",
      "File \u001b[0;32m~/.conda/envs/myenv/lib/python3.9/site-packages/numpy/core/_methods.py:54\u001b[0m, in \u001b[0;36m_any\u001b[0;34m(a, axis, dtype, out, keepdims, where)\u001b[0m\n\u001b[1;32m     50\u001b[0m \u001b[38;5;28;01mdef\u001b[39;00m \u001b[38;5;21m_prod\u001b[39m(a, axis\u001b[38;5;241m=\u001b[39m\u001b[38;5;28;01mNone\u001b[39;00m, dtype\u001b[38;5;241m=\u001b[39m\u001b[38;5;28;01mNone\u001b[39;00m, out\u001b[38;5;241m=\u001b[39m\u001b[38;5;28;01mNone\u001b[39;00m, keepdims\u001b[38;5;241m=\u001b[39m\u001b[38;5;28;01mFalse\u001b[39;00m,\n\u001b[1;32m     51\u001b[0m           initial\u001b[38;5;241m=\u001b[39m_NoValue, where\u001b[38;5;241m=\u001b[39m\u001b[38;5;28;01mTrue\u001b[39;00m):\n\u001b[1;32m     52\u001b[0m     \u001b[38;5;28;01mreturn\u001b[39;00m umr_prod(a, axis, dtype, out, keepdims, initial, where)\n\u001b[0;32m---> 54\u001b[0m \u001b[38;5;28;01mdef\u001b[39;00m \u001b[38;5;21m_any\u001b[39m(a, axis\u001b[38;5;241m=\u001b[39m\u001b[38;5;28;01mNone\u001b[39;00m, dtype\u001b[38;5;241m=\u001b[39m\u001b[38;5;28;01mNone\u001b[39;00m, out\u001b[38;5;241m=\u001b[39m\u001b[38;5;28;01mNone\u001b[39;00m, keepdims\u001b[38;5;241m=\u001b[39m\u001b[38;5;28;01mFalse\u001b[39;00m, \u001b[38;5;241m*\u001b[39m, where\u001b[38;5;241m=\u001b[39m\u001b[38;5;28;01mTrue\u001b[39;00m):\n\u001b[1;32m     55\u001b[0m     \u001b[38;5;66;03m# Parsing keyword arguments is currently fairly slow, so avoid it for now\u001b[39;00m\n\u001b[1;32m     56\u001b[0m     \u001b[38;5;28;01mif\u001b[39;00m where \u001b[38;5;129;01mis\u001b[39;00m \u001b[38;5;28;01mTrue\u001b[39;00m:\n\u001b[1;32m     57\u001b[0m         \u001b[38;5;28;01mreturn\u001b[39;00m umr_any(a, axis, dtype, out, keepdims)\n",
      "\u001b[0;31mKeyboardInterrupt\u001b[0m: "
     ]
    }
   ],
   "source": [
    "#-----\n",
    "# load data for 2090s: temp -> drift-corrected files!\n",
    "#-----\n",
    "\n",
    "vari      = 't_insitu'\n",
    "\n",
    "sim_list  = ['ssp585','ssp370','ssp245','ssp126']\n",
    "sim_list2 = ['simA-ssp585','simA-ssp370','simA-ssp245','simA-ssp126']\n",
    "\n",
    "# load drift-corrected files \n",
    "which_drift = '2091_2100' # 2081_2100, 2091_2100, 2098_2100\n",
    "drift_corr ='monthly_drift_corrected_'+which_drift+'_minus_1995_2014_v2' \n",
    "\n",
    "years = np.arange(int(which_drift[0:4]),int(which_drift[5:])+1,1)\n",
    "\n",
    "# only 97 depth levels filled in file\n",
    "array_2090s_temp    = np.zeros([len(np.unique(zlevs)),len(lat_agi),len(lon_agi),len(years),len(sim_list)]) \n",
    "for ss in range(0,len(sim_list)):\n",
    "    \n",
    "    path = '/pscratch/sd/c/cnissen/files_toothfish_project_AGI/'+sim_list[ss]+'_reduced/'\n",
    "    \n",
    "    for yy in range(0,len(years)):\n",
    "        print ('Load '+str(years[yy])+' of '+sim_list[ss])\n",
    "\n",
    "        f1 = Dataset(path+vari+'_fesom_'+sim_list[ss]+'_'+str(years[yy])+'0101_'+drift_corr+'.nc')\n",
    "        data1 = f1.variables[vari][:,:,:] # depth x lat x lon\n",
    "        f1.close()\n",
    "        data1 = np.ma.masked_where(data1<-999,data1)\n",
    "        data1[data1.mask==True]=0\n",
    "        array_2090s_temp[:,:,:,yy,ss]    = data1\n",
    "        del data1\n",
    "    \n",
    "# decadal avg\n",
    "array_2090s_temp    = np.nanmean(array_2090s_temp,axis=3)  \n",
    "    \n",
    "print ('done')\n"
   ]
  },
  {
   "cell_type": "code",
   "execution_count": null,
   "metadata": {},
   "outputs": [],
   "source": [
    "#-----\n",
    "# load data for 1990s: oxygen (pO2)\n",
    "#-----\n",
    "\n",
    "vari      = 'pO2'\n",
    "which_sim = 'simAssp585' # present-day files are in ssp585 folder\n",
    "\n",
    "path = '/pscratch/sd/c/cnissen/files_toothfish_project_AGI/'\n",
    "\n",
    "years = np.arange(1995,2014+1,1)\n",
    "\n",
    "array_1990s_simA   = np.zeros([len(np.unique(zlevs)),len(lat_agi),len(lon_agi),len(years)]) # only 97 depth levels filled in file\n",
    "for yy in range(0,len(years)):\n",
    "    print ('Load '+str(years[yy])+' of '+which_sim)\n",
    "    \n",
    "    f1 = Dataset(path+which_sim+'_reduced/'+vari+'_fesom_'+which_sim+'_'+str(years[yy])+'0101_v2.nc')\n",
    "    data1 = f1.variables[vari][:,:,:] # depth x lat x lon\n",
    "    f1.close()\n",
    "    data1 = np.ma.masked_where(data1<-999,data1)\n",
    "    data1[data1.mask==True]=0\n",
    "    array_1990s_simA[:,:,:,yy]    = data1\n",
    "    \n",
    "    del data1\n",
    "    \n",
    "# decadal avg\n",
    "array_1990s_simA    = np.nanmean(array_1990s_simA,axis=3) \n",
    "    \n",
    "print ('done')\n"
   ]
  },
  {
   "cell_type": "code",
   "execution_count": null,
   "metadata": {},
   "outputs": [],
   "source": [
    "#-----\n",
    "# load data for 2090s: temp -> drift-corrected files!\n",
    "#-----\n",
    "\n",
    "vari      = 'pO2'\n",
    "\n",
    "sim_list  = ['ssp585','ssp370','ssp245','ssp126']\n",
    "sim_list2 = ['simA-ssp585','simA-ssp370','simA-ssp245','simA-ssp126']\n",
    "\n",
    "# load drift-corrected files \n",
    "which_drift = '2091_2100' # 2081_2100, 2091_2100, 2098_2100\n",
    "drift_corr ='monthly_drift_corrected_'+which_drift+'_minus_1995_2014_v2' \n",
    "\n",
    "years = np.arange(int(which_drift[0:4]),int(which_drift[5:])+1,1)\n",
    "\n",
    "# only 97 depth levels filled in file\n",
    "array_2090s    = np.zeros([len(np.unique(zlevs)),len(lat_agi),len(lon_agi),len(years),len(sim_list)]) \n",
    "for ss in range(0,len(sim_list)):\n",
    "    \n",
    "    path = '/pscratch/sd/c/cnissen/files_toothfish_project_AGI/'+sim_list[ss]+'_reduced/'\n",
    "    \n",
    "    for yy in range(0,len(years)):\n",
    "        print ('Load '+str(years[yy])+' of '+sim_list[ss])\n",
    "\n",
    "        f1 = Dataset(path+vari+'_fesom_'+sim_list[ss]+'_'+str(years[yy])+'0101_'+drift_corr+'.nc')\n",
    "        data1 = f1.variables[vari][:,:,:] # depth x lat x lon\n",
    "        f1.close()\n",
    "        data1 = np.ma.masked_where(data1<-9,data1)\n",
    "        data1[data1.mask==True]=0\n",
    "        array_2090s[:,:,:,yy,ss]    = data1\n",
    "        del data1\n",
    "    \n",
    "# decadal avg\n",
    "array_2090s    = np.nanmean(array_2090s,axis=3)  \n",
    "    \n",
    "print ('done')\n"
   ]
  },
  {
   "cell_type": "code",
   "execution_count": null,
   "metadata": {
    "tags": []
   },
   "outputs": [],
   "source": [
    "#---\n",
    "# get toothfish habitat\n",
    "#---\n",
    "\n",
    "basepath=\"/pscratch/sd/c/cnissen/AGI_toothfish_project/\" \n",
    "no_species=29\n",
    "\n",
    "# Init\n",
    "species_names         = [None] * no_species # empty list\n",
    "species_names_        = [None] * no_species # empty list\n",
    "habitat_file_names    = [None] * no_species # empty list\n",
    "habitat_all = np.zeros([360,1440,no_species])\n",
    "\n",
    "habitat_files = Path(basepath + \"all_prey_plus_toothfish/\").glob('*_boolean.nc')  # updated habitat files, Nov 2022!!!!!!\n",
    "#habitat_files = Path(basepath + \"share/\").glob('*_boolean.nc') \n",
    "# Note: I changed name of file of Antimora_rostrata to *boolean2.nc, so that it won't be included here\n",
    "for ifile,file in enumerate(habitat_files):   \n",
    "    habitat_file_names[ifile]    = str(file)\n",
    "    \n",
    "    ff = xr.open_dataset(file)\n",
    "    habitat_all[:,:,ifile] = ff['presence'].values \n",
    "    if ifile==0:\n",
    "        lat  = ff['lat'].values \n",
    "        lon  = ff['lon'].values \n",
    "    ff.close()\n",
    "\n",
    "    # Get the species name from the full pathname with a space between\n",
    "    species_names[ifile]  = '_'.join(os.path.basename(file).split('_')[:-2]).replace('_',' ') \n",
    "    if not species_names[ifile] in ['Galiteuthis glacialis','Mesonychoteuthis hamiltoni','Kondakovia longimana']:\n",
    "        species_names[ifile] = species_names[ifile][8:] # get rid of \"Default\" or \"Reviewed\"\n",
    "    if species_names[ifile][0].isspace():  # get rid of white space if there is any\n",
    "        species_names[ifile] = species_names[ifile][1:]\n",
    "    if species_names[ifile] in ['Chionobathyscus dewitti All Suitable Habitat']:\n",
    "        species_names[ifile] = species_names[ifile][0:23]\n",
    "    # Get the species name from the full pathname with _ in it\n",
    "    species_names_[ifile] = species_names[ifile].replace(' ','_')  #'_'.join(os.path.basename(file).split('_')[:-2]) \n",
    "\n",
    "#print(habitat_file_names)\n",
    "print(species_names)\n",
    "print(len(species_names),'species')\n",
    "print(species_names_)\n",
    "\n",
    "# for plotting, set regions outside of habitat to negative number (so that they appear in white)\n",
    "habitat_all[habitat_all==0] = -999\n",
    "\n",
    "#----\n",
    "# get indices of depth levels of species\n",
    "#----\n",
    "\n",
    "# Minimum depth of occurence (meter)\n",
    "depth_min     = [None] * len(species_names) # Initialize\n",
    "depth_min[0]  = 90   # 'Cryodraco antarcticus'\n",
    "depth_min[1]  = 20   #'Neopagetopsis ionah'\n",
    "depth_min[2]  = 272    # 'Trematomus lepidorhinus'\n",
    "depth_min[3]  = 6    # 'Trematomus hansoni'\n",
    "depth_min[4]  = 167  # 'Bathyraja maccaini'\n",
    "depth_min[5]  = 0    # 'Chaenocephalus aceratus'\n",
    "depth_min[6]  = 0    # 'Notothenia coriiceps'\n",
    "depth_min[7]  = 0    # 'Pleuragramma antarctica'\n",
    "depth_min[8]  = 0    # 'Dissostichus mawsoni' ## Assume a wide range for toothfish (max. overlap with prey) ##\n",
    "depth_min[9]  = 400  # 'Macrourus whitsoni'\n",
    "depth_min[10] = 10   # 'Lepidonotothen squamifrons'\n",
    "depth_min[11] = 5    # 'Notothenia rossii'\n",
    "depth_min[12] = 10   # 'Muraenolepis microps'\n",
    "depth_min[13] = 200  # 'Chaenodraco wilsoni'\n",
    "depth_min[14] = 500  # 'Chionobathyscus dewitti'\n",
    "depth_min[15] = 200   #'Galiteuthis glacialis'\n",
    "depth_min[16] = 200   # 'Mesonychoteuthis hamiltoni'\n",
    "depth_min[17] = 500   # 'Kondakovia longimana'\n",
    "depth_min[18] = 57    # Amblyraja georgiana\n",
    "depth_min[19] = 358  # Anotopterus vorax\n",
    "depth_min[20] = 220 # Antarctomysis maxima\n",
    "depth_min[21] = 76 # Chionodraco hamatus\n",
    "depth_min[22] = 0 # Euphausia crystallorophias\n",
    "depth_min[23] = 0 # Euphausia superba\n",
    "depth_min[24] = 66 # Gymnodraco acuticeps\n",
    "depth_min[25] = 244 # Lycenchelys aratrirostris\n",
    "depth_min[26] = 0 # Pagothenia borchgrevinki\n",
    "depth_min[27] = 385 # Psychroteuthis glacialis\n",
    "depth_min[28] = 65 # Trematomus loennbergii\n",
    "#depth_min[29] = # Trematomus eulepidotus #EXCLUDED\n",
    "\n",
    "# Maximum depth of occurence (meter)\n",
    "depth_max     = [None] * len(species_names) # Initialize\n",
    "depth_max[0]  = 600  # 'Cryodraco antarcticus'\n",
    "depth_max[1]  = 900  #'Neopagetopsis ionah'\n",
    "depth_max[2]  = 468  # 'Trematomus lepidorhinus'\n",
    "depth_max[3]  = 549  # 'Trematomus hansoni'\n",
    "depth_max[4]  = 500  # 'Bathyraja maccaini'\n",
    "depth_max[5]  = 770  # 'Chaenocephalus aceratus'\n",
    "depth_max[6]  = 550  # 'Notothenia coriiceps'\n",
    "depth_max[7]  = 1000 # 'Pleuragramma antarctica'\n",
    "depth_max[8]  = 2210   # 'Dissostichus mawsoni' ## Assume a wide range for toothfish (max. overlap with prey) ##\n",
    "depth_max[9]  = 3185 # 'Macrourus whitsoni'\n",
    "depth_max[10] = 900  # 'Lepidonotothen squamifrons'\n",
    "depth_max[11] = 350 # 'Notothenia rossii'\n",
    "depth_max[12] = 1600 # 'Muraenolepis microps'\n",
    "depth_max[13] = 800  # 'Chaenodraco wilsoni'\n",
    "depth_max[14] = 2000 # 'Chionobathyscus dewitti'\n",
    "depth_max[15] = 2500   #'Galiteuthis glacialis'\n",
    "depth_max[16] =  600  # 'Mesonychoteuthis hamiltoni'\n",
    "depth_max[17] = 2000   # 'Kondakovia longimana'\n",
    "depth_max[18] = 173    # Amblyraja georgiana\n",
    "depth_max[19] = 1059 # Anotopterus vorax\n",
    "depth_max[20] = 440 # Antarctomysis maxima\n",
    "depth_max[21] = 271 # Chionodraco hamatus\n",
    "depth_max[22] = 650 # Euphausia crystallorophias\n",
    "depth_max[23] = 600 # Euphausia superba\n",
    "depth_max[24] = 247 # Gymnodraco acuticeps\n",
    "depth_max[25] = 376 # Lycenchelys aratrirostris\n",
    "depth_max[26] = 30 # Pagothenia borchgrevinki\n",
    "depth_max[27] = 610 # Psychroteuthis glacialis\n",
    "depth_max[28] = 832 # Trematomus loennbergii\n",
    "#depth_max[29] = # Trematomus eulepidotus EXCLUDED\n",
    "\n",
    "def find_nearest(array, value):\n",
    "    array = np.asarray(array)\n",
    "    idx = (np.abs(array - value)).argmin()\n",
    "    return idx\n",
    "\n",
    "file_mesh = '/pscratch/sd/c/cnissen/files_toothfish_project_AGI/Mesh_ancillary_information_v20220919.nc'\n",
    "data_levels = xr.open_dataset(file_mesh)\n",
    "levels      = data_levels['depth'].values # 88 levels\n",
    "#lat      = data_levels['lat'].values\n",
    "#lon      = data_levels['lon'].values\n",
    "#mask        = data_levels['mask_vol'].values\n",
    "data_levels.close()\n",
    "\n",
    "# define order of species as contained in depth_min, LWa etc.\n",
    "species_list = ['Cryodraco antarcticus','Neopagetopsis ionah','Trematomus lepidorhinus',\\\n",
    "               'Trematomus hansoni','Bathyraja maccaini','Chaenocephalus aceratus',\\\n",
    "               'Notothenia coriiceps','Pleuragramma antarctica','Dissostichus mawsoni',\\\n",
    "                'Macrourus whitsoni',\\\n",
    "               'Lepidonotothen squamifrons','Notothenia rossii','Muraenolepis microps',\\\n",
    "               'Chaenodraco wilsoni','Chionobathyscus dewitti',\\\n",
    "               'Galiteuthis glacialis','Mesonychoteuthis hamiltoni','Kondakovia longimana',\\\n",
    "               'Amblyraja georgiana','Anotopterus vorax','Antarctomysis maxima',\\\n",
    "               'Chionodraco hamatus','Euphausia crystallorophias','Euphausia superba','Gymnodraco acuticeps',\\\n",
    "               'Lycenchelys aratrirostris','Pagothenia borchgrevinki','Psychroteuthis glacialis',\\\n",
    "               'Trematomus loennbergii']\n",
    "\n",
    "index_min_depth     = [None] * len(species_names) # Initialize\n",
    "index_max_depth     = [None] * len(species_names) # Initialize\n",
    "\n",
    "for i,name in enumerate(species_names):\n",
    "    # Note Cara: order of entries in depth_min etc. is not alphabetical!!!!\n",
    "    # here, I have adapted the index from \"i\" to \"iii\" to read in the correct depth ranges\n",
    "    # for the current species\n",
    "    iii = species_list.index(species_names[i]) # get index of current species as contained in depth_min etc.\n",
    "    index_min_depth[i] = find_nearest(levels,depth_min[iii])\n",
    "    index_max_depth[i] = find_nearest(levels,depth_max[iii])\n",
    "    # now, index_min_depth should contain the correct values according to alphabetical order as looped over\n",
    "    # NOTE: given how python is indexing, I think I then need to index over index_min_depth:index_max_depth+1\n",
    "    # (was index_min_depth:index_max_depth before)\n",
    "    "
   ]
  },
  {
   "cell_type": "code",
   "execution_count": null,
   "metadata": {
    "tags": []
   },
   "outputs": [],
   "source": [
    "print(habitat_all.shape)\n",
    "print(array_1990s_simA.shape)\n",
    "print(array_2090s.shape)\n",
    "print(lat.shape,lon.shape)\n",
    "print(mask_shelves.shape)\n",
    "#print(array_2090s[70,:,:,0])\n",
    "print(area2.shape)"
   ]
  },
  {
   "cell_type": "code",
   "execution_count": 10,
   "metadata": {
    "tags": []
   },
   "outputs": [],
   "source": [
    "\n",
    "#lat_2d = np.tile(lat,[len(lon),1]).transpose()\n",
    "#print(lat_2d.shape)\n",
    "\n",
    "#print(depths[80])\n"
   ]
  },
  {
   "cell_type": "code",
   "execution_count": 29,
   "metadata": {
    "tags": []
   },
   "outputs": [
    {
     "name": "stdout",
     "output_type": "stream",
     "text": [
      "Process for the whole habitat of toothfish\n",
      "1995-2014\n",
      "2091-2100\n",
      "2091-2100 minus 1995-2014\n"
     ]
    },
    {
     "name": "stderr",
     "output_type": "stream",
     "text": [
      " 11%|█         | 9/81 [00:00<00:00, 80.96it/s]"
     ]
    },
    {
     "name": "stdout",
     "output_type": "stream",
     "text": [
      "0 Dissostichus mawsoni\n",
      "(49584,)\n"
     ]
    },
    {
     "name": "stderr",
     "output_type": "stream",
     "text": [
      "100%|██████████| 81/81 [00:01<00:00, 79.61it/s]\n"
     ]
    },
    {
     "name": "stdout",
     "output_type": "stream",
     "text": [
      "In_insitu_FESOM_temp_historical_in_Dissostichus_mawsoni_habitat_2091_2100.png\n",
      "pO2_historical_FESOM_in_Dissostichus_mawsoni_habitat_2091_2100.png\n",
      "Change_in_pO2_all_scenarios_2091-2100_minus_1995-2014_in_Dissostichus_mawsoni_habitat_with_2091_2100.png\n",
      "Change_in_insitu_temp_all_scenarios_2091-2100_minus_1995-2014_in_Dissostichus_mawsoni_habitat_2091_2100.png\n"
     ]
    },
    {
     "name": "stderr",
     "output_type": "stream",
     "text": [
      " 11%|█         | 9/81 [00:00<00:00, 89.77it/s]"
     ]
    },
    {
     "name": "stdout",
     "output_type": "stream",
     "text": [
      "1 Trematomus loennbergii\n",
      "(34840,)\n"
     ]
    },
    {
     "name": "stderr",
     "output_type": "stream",
     "text": [
      "100%|██████████| 81/81 [00:00<00:00, 84.66it/s]\n"
     ]
    },
    {
     "name": "stdout",
     "output_type": "stream",
     "text": [
      "In_insitu_FESOM_temp_historical_in_Trematomus_loennbergii_habitat_2091_2100.png\n",
      "pO2_historical_FESOM_in_Trematomus_loennbergii_habitat_2091_2100.png\n",
      "Change_in_pO2_all_scenarios_2091-2100_minus_1995-2014_in_Trematomus_loennbergii_habitat_with_2091_2100.png\n",
      "Change_in_insitu_temp_all_scenarios_2091-2100_minus_1995-2014_in_Trematomus_loennbergii_habitat_2091_2100.png\n"
     ]
    },
    {
     "name": "stderr",
     "output_type": "stream",
     "text": [
      " 10%|▉         | 8/81 [00:00<00:00, 75.58it/s]"
     ]
    },
    {
     "name": "stdout",
     "output_type": "stream",
     "text": [
      "2 Macrourus whitsoni\n",
      "(74056,)\n"
     ]
    },
    {
     "name": "stderr",
     "output_type": "stream",
     "text": [
      "100%|██████████| 81/81 [00:01<00:00, 72.92it/s]\n"
     ]
    },
    {
     "name": "stdout",
     "output_type": "stream",
     "text": [
      "In_insitu_FESOM_temp_historical_in_Macrourus_whitsoni_habitat_2091_2100.png\n",
      "pO2_historical_FESOM_in_Macrourus_whitsoni_habitat_2091_2100.png\n",
      "Change_in_pO2_all_scenarios_2091-2100_minus_1995-2014_in_Macrourus_whitsoni_habitat_with_2091_2100.png\n",
      "Change_in_insitu_temp_all_scenarios_2091-2100_minus_1995-2014_in_Macrourus_whitsoni_habitat_2091_2100.png\n"
     ]
    },
    {
     "name": "stderr",
     "output_type": "stream",
     "text": [
      "  6%|▌         | 5/81 [00:00<00:01, 49.34it/s]"
     ]
    },
    {
     "name": "stdout",
     "output_type": "stream",
     "text": [
      "3 Galiteuthis glacialis\n",
      "(214493,)\n"
     ]
    },
    {
     "name": "stderr",
     "output_type": "stream",
     "text": [
      "100%|██████████| 81/81 [00:01<00:00, 47.99it/s]\n"
     ]
    },
    {
     "name": "stdout",
     "output_type": "stream",
     "text": [
      "In_insitu_FESOM_temp_historical_in_Galiteuthis_glacialis_habitat_2091_2100.png\n",
      "pO2_historical_FESOM_in_Galiteuthis_glacialis_habitat_2091_2100.png\n",
      "Change_in_pO2_all_scenarios_2091-2100_minus_1995-2014_in_Galiteuthis_glacialis_habitat_with_2091_2100.png\n",
      "Change_in_insitu_temp_all_scenarios_2091-2100_minus_1995-2014_in_Galiteuthis_glacialis_habitat_2091_2100.png\n"
     ]
    },
    {
     "name": "stderr",
     "output_type": "stream",
     "text": [
      " 11%|█         | 9/81 [00:00<00:00, 87.36it/s]"
     ]
    },
    {
     "name": "stdout",
     "output_type": "stream",
     "text": [
      "4 Chionodraco hamatus\n",
      "(28264,)\n"
     ]
    },
    {
     "name": "stderr",
     "output_type": "stream",
     "text": [
      "100%|██████████| 81/81 [00:00<00:00, 85.75it/s]\n"
     ]
    },
    {
     "name": "stdout",
     "output_type": "stream",
     "text": [
      "In_insitu_FESOM_temp_historical_in_Chionodraco_hamatus_habitat_2091_2100.png\n",
      "pO2_historical_FESOM_in_Chionodraco_hamatus_habitat_2091_2100.png\n",
      "Change_in_pO2_all_scenarios_2091-2100_minus_1995-2014_in_Chionodraco_hamatus_habitat_with_2091_2100.png\n",
      "Change_in_insitu_temp_all_scenarios_2091-2100_minus_1995-2014_in_Chionodraco_hamatus_habitat_2091_2100.png\n"
     ]
    },
    {
     "name": "stderr",
     "output_type": "stream",
     "text": [
      " 10%|▉         | 8/81 [00:00<00:01, 71.08it/s]"
     ]
    },
    {
     "name": "stdout",
     "output_type": "stream",
     "text": [
      "5 Anotopterus vorax\n",
      "(96096,)\n"
     ]
    },
    {
     "name": "stderr",
     "output_type": "stream",
     "text": [
      "100%|██████████| 81/81 [00:01<00:00, 68.80it/s]\n"
     ]
    },
    {
     "name": "stdout",
     "output_type": "stream",
     "text": [
      "In_insitu_FESOM_temp_historical_in_Anotopterus_vorax_habitat_2091_2100.png\n",
      "pO2_historical_FESOM_in_Anotopterus_vorax_habitat_2091_2100.png\n",
      "Change_in_pO2_all_scenarios_2091-2100_minus_1995-2014_in_Anotopterus_vorax_habitat_with_2091_2100.png\n",
      "Change_in_insitu_temp_all_scenarios_2091-2100_minus_1995-2014_in_Anotopterus_vorax_habitat_2091_2100.png\n"
     ]
    },
    {
     "name": "stderr",
     "output_type": "stream",
     "text": [
      " 12%|█▏        | 10/81 [00:00<00:00, 95.08it/s]"
     ]
    },
    {
     "name": "stdout",
     "output_type": "stream",
     "text": [
      "6 Chaenodraco wilsoni\n",
      "(23376,)\n"
     ]
    },
    {
     "name": "stderr",
     "output_type": "stream",
     "text": [
      "100%|██████████| 81/81 [00:00<00:00, 92.90it/s]\n"
     ]
    },
    {
     "name": "stdout",
     "output_type": "stream",
     "text": [
      "In_insitu_FESOM_temp_historical_in_Chaenodraco_wilsoni_habitat_2091_2100.png\n",
      "pO2_historical_FESOM_in_Chaenodraco_wilsoni_habitat_2091_2100.png\n",
      "Change_in_pO2_all_scenarios_2091-2100_minus_1995-2014_in_Chaenodraco_wilsoni_habitat_with_2091_2100.png\n",
      "Change_in_insitu_temp_all_scenarios_2091-2100_minus_1995-2014_in_Chaenodraco_wilsoni_habitat_2091_2100.png\n"
     ]
    },
    {
     "name": "stderr",
     "output_type": "stream",
     "text": [
      "  9%|▊         | 7/81 [00:00<00:01, 64.46it/s]"
     ]
    },
    {
     "name": "stdout",
     "output_type": "stream",
     "text": [
      "7 Kondakovia longimana\n",
      "(141061,)\n"
     ]
    },
    {
     "name": "stderr",
     "output_type": "stream",
     "text": [
      "100%|██████████| 81/81 [00:01<00:00, 64.53it/s]\n"
     ]
    },
    {
     "name": "stdout",
     "output_type": "stream",
     "text": [
      "In_insitu_FESOM_temp_historical_in_Kondakovia_longimana_habitat_2091_2100.png\n",
      "pO2_historical_FESOM_in_Kondakovia_longimana_habitat_2091_2100.png\n",
      "Change_in_pO2_all_scenarios_2091-2100_minus_1995-2014_in_Kondakovia_longimana_habitat_with_2091_2100.png\n",
      "Change_in_insitu_temp_all_scenarios_2091-2100_minus_1995-2014_in_Kondakovia_longimana_habitat_2091_2100.png\n"
     ]
    },
    {
     "name": "stderr",
     "output_type": "stream",
     "text": [
      " 12%|█▏        | 10/81 [00:00<00:00, 94.63it/s]"
     ]
    },
    {
     "name": "stdout",
     "output_type": "stream",
     "text": [
      "8 Cryodraco antarcticus\n",
      "(24664,)\n"
     ]
    },
    {
     "name": "stderr",
     "output_type": "stream",
     "text": [
      "100%|██████████| 81/81 [00:00<00:00, 94.50it/s]\n"
     ]
    },
    {
     "name": "stdout",
     "output_type": "stream",
     "text": [
      "In_insitu_FESOM_temp_historical_in_Cryodraco_antarcticus_habitat_2091_2100.png\n",
      "pO2_historical_FESOM_in_Cryodraco_antarcticus_habitat_2091_2100.png\n",
      "Change_in_pO2_all_scenarios_2091-2100_minus_1995-2014_in_Cryodraco_antarcticus_habitat_with_2091_2100.png\n",
      "Change_in_insitu_temp_all_scenarios_2091-2100_minus_1995-2014_in_Cryodraco_antarcticus_habitat_2091_2100.png\n"
     ]
    },
    {
     "name": "stderr",
     "output_type": "stream",
     "text": [
      " 12%|█▏        | 10/81 [00:00<00:00, 96.71it/s]"
     ]
    },
    {
     "name": "stdout",
     "output_type": "stream",
     "text": [
      "9 Muraenolepis microps\n",
      "(22304,)\n"
     ]
    },
    {
     "name": "stderr",
     "output_type": "stream",
     "text": [
      "100%|██████████| 81/81 [00:00<00:00, 94.95it/s]\n"
     ]
    },
    {
     "name": "stdout",
     "output_type": "stream",
     "text": [
      "In_insitu_FESOM_temp_historical_in_Muraenolepis_microps_habitat_2091_2100.png\n",
      "pO2_historical_FESOM_in_Muraenolepis_microps_habitat_2091_2100.png\n",
      "Change_in_pO2_all_scenarios_2091-2100_minus_1995-2014_in_Muraenolepis_microps_habitat_with_2091_2100.png\n",
      "Change_in_insitu_temp_all_scenarios_2091-2100_minus_1995-2014_in_Muraenolepis_microps_habitat_2091_2100.png\n"
     ]
    },
    {
     "name": "stderr",
     "output_type": "stream",
     "text": [
      " 25%|██▍       | 20/81 [00:00<00:00, 98.17it/s]"
     ]
    },
    {
     "name": "stdout",
     "output_type": "stream",
     "text": [
      "10 Psychroteuthis glacialis\n",
      "(26184,)\n"
     ]
    },
    {
     "name": "stderr",
     "output_type": "stream",
     "text": [
      "100%|██████████| 81/81 [00:00<00:00, 96.10it/s]\n"
     ]
    },
    {
     "name": "stdout",
     "output_type": "stream",
     "text": [
      "In_insitu_FESOM_temp_historical_in_Psychroteuthis_glacialis_habitat_2091_2100.png\n",
      "pO2_historical_FESOM_in_Psychroteuthis_glacialis_habitat_2091_2100.png\n",
      "Change_in_pO2_all_scenarios_2091-2100_minus_1995-2014_in_Psychroteuthis_glacialis_habitat_with_2091_2100.png\n",
      "Change_in_insitu_temp_all_scenarios_2091-2100_minus_1995-2014_in_Psychroteuthis_glacialis_habitat_2091_2100.png\n"
     ]
    },
    {
     "name": "stderr",
     "output_type": "stream",
     "text": [
      " 12%|█▏        | 10/81 [00:00<00:00, 93.88it/s]"
     ]
    },
    {
     "name": "stdout",
     "output_type": "stream",
     "text": [
      "11 Gymnodraco acuticeps\n",
      "(31056,)\n"
     ]
    },
    {
     "name": "stderr",
     "output_type": "stream",
     "text": [
      "100%|██████████| 81/81 [00:00<00:00, 91.81it/s]\n"
     ]
    },
    {
     "name": "stdout",
     "output_type": "stream",
     "text": [
      "In_insitu_FESOM_temp_historical_in_Gymnodraco_acuticeps_habitat_2091_2100.png\n",
      "pO2_historical_FESOM_in_Gymnodraco_acuticeps_habitat_2091_2100.png\n",
      "Change_in_pO2_all_scenarios_2091-2100_minus_1995-2014_in_Gymnodraco_acuticeps_habitat_with_2091_2100.png\n",
      "Change_in_insitu_temp_all_scenarios_2091-2100_minus_1995-2014_in_Gymnodraco_acuticeps_habitat_2091_2100.png\n"
     ]
    },
    {
     "name": "stderr",
     "output_type": "stream",
     "text": [
      " 25%|██▍       | 20/81 [00:00<00:00, 98.59it/s]"
     ]
    },
    {
     "name": "stdout",
     "output_type": "stream",
     "text": [
      "12 Amblyraja georgiana\n",
      "(22592,)\n"
     ]
    },
    {
     "name": "stderr",
     "output_type": "stream",
     "text": [
      "100%|██████████| 81/81 [00:00<00:00, 94.38it/s]\n"
     ]
    },
    {
     "name": "stdout",
     "output_type": "stream",
     "text": [
      "In_insitu_FESOM_temp_historical_in_Amblyraja_georgiana_habitat_2091_2100.png\n",
      "pO2_historical_FESOM_in_Amblyraja_georgiana_habitat_2091_2100.png\n",
      "Change_in_pO2_all_scenarios_2091-2100_minus_1995-2014_in_Amblyraja_georgiana_habitat_with_2091_2100.png\n",
      "Change_in_insitu_temp_all_scenarios_2091-2100_minus_1995-2014_in_Amblyraja_georgiana_habitat_2091_2100.png\n"
     ]
    },
    {
     "name": "stderr",
     "output_type": "stream",
     "text": [
      " 11%|█         | 9/81 [00:00<00:00, 86.19it/s]"
     ]
    },
    {
     "name": "stdout",
     "output_type": "stream",
     "text": [
      "13 Antarctomysis maxima\n",
      "(15688,)\n"
     ]
    },
    {
     "name": "stderr",
     "output_type": "stream",
     "text": [
      "100%|██████████| 81/81 [00:00<00:00, 86.18it/s]\n"
     ]
    },
    {
     "name": "stdout",
     "output_type": "stream",
     "text": [
      "In_insitu_FESOM_temp_historical_in_Antarctomysis_maxima_habitat_2091_2100.png\n",
      "pO2_historical_FESOM_in_Antarctomysis_maxima_habitat_2091_2100.png\n",
      "Change_in_pO2_all_scenarios_2091-2100_minus_1995-2014_in_Antarctomysis_maxima_habitat_with_2091_2100.png\n",
      "Change_in_insitu_temp_all_scenarios_2091-2100_minus_1995-2014_in_Antarctomysis_maxima_habitat_2091_2100.png\n"
     ]
    },
    {
     "name": "stderr",
     "output_type": "stream",
     "text": [
      " 11%|█         | 9/81 [00:00<00:00, 82.24it/s]"
     ]
    },
    {
     "name": "stdout",
     "output_type": "stream",
     "text": [
      "14 Lepidonotothen squamifrons\n",
      "(31840,)\n"
     ]
    },
    {
     "name": "stderr",
     "output_type": "stream",
     "text": [
      "100%|██████████| 81/81 [00:00<00:00, 81.97it/s]\n"
     ]
    },
    {
     "name": "stdout",
     "output_type": "stream",
     "text": [
      "In_insitu_FESOM_temp_historical_in_Lepidonotothen_squamifrons_habitat_2091_2100.png\n",
      "pO2_historical_FESOM_in_Lepidonotothen_squamifrons_habitat_2091_2100.png\n",
      "Change_in_pO2_all_scenarios_2091-2100_minus_1995-2014_in_Lepidonotothen_squamifrons_habitat_with_2091_2100.png\n",
      "Change_in_insitu_temp_all_scenarios_2091-2100_minus_1995-2014_in_Lepidonotothen_squamifrons_habitat_2091_2100.png\n"
     ]
    },
    {
     "name": "stderr",
     "output_type": "stream",
     "text": [
      "  6%|▌         | 5/81 [00:00<00:01, 47.59it/s]"
     ]
    },
    {
     "name": "stdout",
     "output_type": "stream",
     "text": [
      "15 Mesonychoteuthis hamiltoni\n",
      "(229781,)\n"
     ]
    },
    {
     "name": "stderr",
     "output_type": "stream",
     "text": [
      "100%|██████████| 81/81 [00:01<00:00, 47.56it/s]\n"
     ]
    },
    {
     "name": "stdout",
     "output_type": "stream",
     "text": [
      "In_insitu_FESOM_temp_historical_in_Mesonychoteuthis_hamiltoni_habitat_2091_2100.png\n",
      "pO2_historical_FESOM_in_Mesonychoteuthis_hamiltoni_habitat_2091_2100.png\n",
      "Change_in_pO2_all_scenarios_2091-2100_minus_1995-2014_in_Mesonychoteuthis_hamiltoni_habitat_with_2091_2100.png\n",
      "Change_in_insitu_temp_all_scenarios_2091-2100_minus_1995-2014_in_Mesonychoteuthis_hamiltoni_habitat_2091_2100.png\n"
     ]
    },
    {
     "name": "stderr",
     "output_type": "stream",
     "text": [
      " 10%|▉         | 8/81 [00:00<00:00, 78.50it/s]"
     ]
    },
    {
     "name": "stdout",
     "output_type": "stream",
     "text": [
      "16 Pleuragramma antarctica\n",
      "(35616,)\n"
     ]
    },
    {
     "name": "stderr",
     "output_type": "stream",
     "text": [
      "100%|██████████| 81/81 [00:01<00:00, 78.16it/s]\n"
     ]
    },
    {
     "name": "stdout",
     "output_type": "stream",
     "text": [
      "In_insitu_FESOM_temp_historical_in_Pleuragramma_antarctica_habitat_2091_2100.png\n",
      "pO2_historical_FESOM_in_Pleuragramma_antarctica_habitat_2091_2100.png\n",
      "Change_in_pO2_all_scenarios_2091-2100_minus_1995-2014_in_Pleuragramma_antarctica_habitat_with_2091_2100.png\n",
      "Change_in_insitu_temp_all_scenarios_2091-2100_minus_1995-2014_in_Pleuragramma_antarctica_habitat_2091_2100.png\n"
     ]
    },
    {
     "name": "stderr",
     "output_type": "stream",
     "text": [
      "  6%|▌         | 5/81 [00:00<00:01, 47.81it/s]"
     ]
    },
    {
     "name": "stdout",
     "output_type": "stream",
     "text": [
      "17 Euphausia superba\n",
      "(231016,)\n"
     ]
    },
    {
     "name": "stderr",
     "output_type": "stream",
     "text": [
      "100%|██████████| 81/81 [00:01<00:00, 47.33it/s]\n"
     ]
    },
    {
     "name": "stdout",
     "output_type": "stream",
     "text": [
      "In_insitu_FESOM_temp_historical_in_Euphausia_superba_habitat_2091_2100.png\n",
      "pO2_historical_FESOM_in_Euphausia_superba_habitat_2091_2100.png\n",
      "Change_in_pO2_all_scenarios_2091-2100_minus_1995-2014_in_Euphausia_superba_habitat_with_2091_2100.png\n",
      "Change_in_insitu_temp_all_scenarios_2091-2100_minus_1995-2014_in_Euphausia_superba_habitat_2091_2100.png\n"
     ]
    },
    {
     "name": "stderr",
     "output_type": "stream",
     "text": [
      " 11%|█         | 9/81 [00:00<00:00, 84.60it/s]"
     ]
    },
    {
     "name": "stdout",
     "output_type": "stream",
     "text": [
      "18 Notothenia coriiceps\n",
      "(32592,)\n"
     ]
    },
    {
     "name": "stderr",
     "output_type": "stream",
     "text": [
      "100%|██████████| 81/81 [00:00<00:00, 81.55it/s]\n"
     ]
    },
    {
     "name": "stdout",
     "output_type": "stream",
     "text": [
      "In_insitu_FESOM_temp_historical_in_Notothenia_coriiceps_habitat_2091_2100.png\n",
      "pO2_historical_FESOM_in_Notothenia_coriiceps_habitat_2091_2100.png\n",
      "Change_in_pO2_all_scenarios_2091-2100_minus_1995-2014_in_Notothenia_coriiceps_habitat_with_2091_2100.png\n",
      "Change_in_insitu_temp_all_scenarios_2091-2100_minus_1995-2014_in_Notothenia_coriiceps_habitat_2091_2100.png\n"
     ]
    },
    {
     "name": "stderr",
     "output_type": "stream",
     "text": [
      " 22%|██▏       | 18/81 [00:00<00:00, 88.11it/s]"
     ]
    },
    {
     "name": "stdout",
     "output_type": "stream",
     "text": [
      "19 Trematomus lepidorhinus\n",
      "(23192,)\n"
     ]
    },
    {
     "name": "stderr",
     "output_type": "stream",
     "text": [
      "100%|██████████| 81/81 [00:00<00:00, 87.15it/s]\n"
     ]
    },
    {
     "name": "stdout",
     "output_type": "stream",
     "text": [
      "In_insitu_FESOM_temp_historical_in_Trematomus_lepidorhinus_habitat_2091_2100.png\n",
      "pO2_historical_FESOM_in_Trematomus_lepidorhinus_habitat_2091_2100.png\n",
      "Change_in_pO2_all_scenarios_2091-2100_minus_1995-2014_in_Trematomus_lepidorhinus_habitat_with_2091_2100.png\n",
      "Change_in_insitu_temp_all_scenarios_2091-2100_minus_1995-2014_in_Trematomus_lepidorhinus_habitat_2091_2100.png\n"
     ]
    },
    {
     "name": "stderr",
     "output_type": "stream",
     "text": [
      " 11%|█         | 9/81 [00:00<00:00, 85.42it/s]"
     ]
    },
    {
     "name": "stdout",
     "output_type": "stream",
     "text": [
      "20 Pagothenia borchgrevinki\n",
      "(28512,)\n"
     ]
    },
    {
     "name": "stderr",
     "output_type": "stream",
     "text": [
      "100%|██████████| 81/81 [00:00<00:00, 83.82it/s]\n"
     ]
    },
    {
     "name": "stdout",
     "output_type": "stream",
     "text": [
      "In_insitu_FESOM_temp_historical_in_Pagothenia_borchgrevinki_habitat_2091_2100.png\n",
      "pO2_historical_FESOM_in_Pagothenia_borchgrevinki_habitat_2091_2100.png\n",
      "Change_in_pO2_all_scenarios_2091-2100_minus_1995-2014_in_Pagothenia_borchgrevinki_habitat_with_2091_2100.png\n",
      "Change_in_insitu_temp_all_scenarios_2091-2100_minus_1995-2014_in_Pagothenia_borchgrevinki_habitat_2091_2100.png\n"
     ]
    },
    {
     "name": "stderr",
     "output_type": "stream",
     "text": [
      " 14%|█▎        | 11/81 [00:00<00:00, 101.15it/s]"
     ]
    },
    {
     "name": "stdout",
     "output_type": "stream",
     "text": [
      "21 Lycenchelys aratrirostris\n",
      "(5008,)\n"
     ]
    },
    {
     "name": "stderr",
     "output_type": "stream",
     "text": [
      "100%|██████████| 81/81 [00:00<00:00, 99.79it/s] \n"
     ]
    },
    {
     "name": "stdout",
     "output_type": "stream",
     "text": [
      "In_insitu_FESOM_temp_historical_in_Lycenchelys_aratrirostris_habitat_2091_2100.png\n",
      "pO2_historical_FESOM_in_Lycenchelys_aratrirostris_habitat_2091_2100.png\n",
      "Change_in_pO2_all_scenarios_2091-2100_minus_1995-2014_in_Lycenchelys_aratrirostris_habitat_with_2091_2100.png\n",
      "Change_in_insitu_temp_all_scenarios_2091-2100_minus_1995-2014_in_Lycenchelys_aratrirostris_habitat_2091_2100.png\n"
     ]
    },
    {
     "name": "stderr",
     "output_type": "stream",
     "text": [
      " 11%|█         | 9/81 [00:00<00:00, 86.37it/s]"
     ]
    },
    {
     "name": "stdout",
     "output_type": "stream",
     "text": [
      "22 Neopagetopsis ionah\n",
      "(27800,)\n"
     ]
    },
    {
     "name": "stderr",
     "output_type": "stream",
     "text": [
      "100%|██████████| 81/81 [00:00<00:00, 84.57it/s]\n"
     ]
    },
    {
     "name": "stdout",
     "output_type": "stream",
     "text": [
      "In_insitu_FESOM_temp_historical_in_Neopagetopsis_ionah_habitat_2091_2100.png\n",
      "pO2_historical_FESOM_in_Neopagetopsis_ionah_habitat_2091_2100.png\n",
      "Change_in_pO2_all_scenarios_2091-2100_minus_1995-2014_in_Neopagetopsis_ionah_habitat_with_2091_2100.png\n",
      "Change_in_insitu_temp_all_scenarios_2091-2100_minus_1995-2014_in_Neopagetopsis_ionah_habitat_2091_2100.png\n"
     ]
    },
    {
     "name": "stderr",
     "output_type": "stream",
     "text": [
      " 14%|█▎        | 11/81 [00:00<00:00, 103.44it/s]"
     ]
    },
    {
     "name": "stdout",
     "output_type": "stream",
     "text": [
      "23 Chaenocephalus aceratus\n",
      "(2304,)\n"
     ]
    },
    {
     "name": "stderr",
     "output_type": "stream",
     "text": [
      "100%|██████████| 81/81 [00:00<00:00, 104.52it/s]\n"
     ]
    },
    {
     "name": "stdout",
     "output_type": "stream",
     "text": [
      "In_insitu_FESOM_temp_historical_in_Chaenocephalus_aceratus_habitat_2091_2100.png\n",
      "pO2_historical_FESOM_in_Chaenocephalus_aceratus_habitat_2091_2100.png\n",
      "Change_in_pO2_all_scenarios_2091-2100_minus_1995-2014_in_Chaenocephalus_aceratus_habitat_with_2091_2100.png\n",
      "Change_in_insitu_temp_all_scenarios_2091-2100_minus_1995-2014_in_Chaenocephalus_aceratus_habitat_2091_2100.png\n"
     ]
    },
    {
     "name": "stderr",
     "output_type": "stream",
     "text": [
      " 11%|█         | 9/81 [00:00<00:00, 85.42it/s]"
     ]
    },
    {
     "name": "stdout",
     "output_type": "stream",
     "text": [
      "24 Trematomus hansoni\n",
      "(27040,)\n"
     ]
    },
    {
     "name": "stderr",
     "output_type": "stream",
     "text": [
      "100%|██████████| 81/81 [00:00<00:00, 84.77it/s]\n"
     ]
    },
    {
     "name": "stdout",
     "output_type": "stream",
     "text": [
      "In_insitu_FESOM_temp_historical_in_Trematomus_hansoni_habitat_2091_2100.png\n",
      "pO2_historical_FESOM_in_Trematomus_hansoni_habitat_2091_2100.png\n",
      "Change_in_pO2_all_scenarios_2091-2100_minus_1995-2014_in_Trematomus_hansoni_habitat_with_2091_2100.png\n",
      "Change_in_insitu_temp_all_scenarios_2091-2100_minus_1995-2014_in_Trematomus_hansoni_habitat_2091_2100.png\n"
     ]
    },
    {
     "name": "stderr",
     "output_type": "stream",
     "text": [
      " 12%|█▏        | 10/81 [00:00<00:00, 91.78it/s]"
     ]
    },
    {
     "name": "stdout",
     "output_type": "stream",
     "text": [
      "25 Chionobathyscus dewitti\n",
      "(23816,)\n"
     ]
    },
    {
     "name": "stderr",
     "output_type": "stream",
     "text": [
      "100%|██████████| 81/81 [00:00<00:00, 89.29it/s]\n"
     ]
    },
    {
     "name": "stdout",
     "output_type": "stream",
     "text": [
      "In_insitu_FESOM_temp_historical_in_Chionobathyscus_dewitti_habitat_2091_2100.png\n",
      "pO2_historical_FESOM_in_Chionobathyscus_dewitti_habitat_2091_2100.png\n",
      "Change_in_pO2_all_scenarios_2091-2100_minus_1995-2014_in_Chionobathyscus_dewitti_habitat_with_2091_2100.png\n",
      "Change_in_insitu_temp_all_scenarios_2091-2100_minus_1995-2014_in_Chionobathyscus_dewitti_habitat_2091_2100.png\n"
     ]
    },
    {
     "name": "stderr",
     "output_type": "stream",
     "text": [
      "  9%|▊         | 7/81 [00:00<00:01, 65.07it/s]"
     ]
    },
    {
     "name": "stdout",
     "output_type": "stream",
     "text": [
      "26 Euphausia crystallorophias\n",
      "(111824,)\n"
     ]
    },
    {
     "name": "stderr",
     "output_type": "stream",
     "text": [
      "100%|██████████| 81/81 [00:01<00:00, 62.36it/s]\n"
     ]
    },
    {
     "name": "stdout",
     "output_type": "stream",
     "text": [
      "In_insitu_FESOM_temp_historical_in_Euphausia_crystallorophias_habitat_2091_2100.png\n",
      "pO2_historical_FESOM_in_Euphausia_crystallorophias_habitat_2091_2100.png\n",
      "Change_in_pO2_all_scenarios_2091-2100_minus_1995-2014_in_Euphausia_crystallorophias_habitat_with_2091_2100.png\n",
      "Change_in_insitu_temp_all_scenarios_2091-2100_minus_1995-2014_in_Euphausia_crystallorophias_habitat_2091_2100.png\n"
     ]
    },
    {
     "name": "stderr",
     "output_type": "stream",
     "text": [
      " 14%|█▎        | 11/81 [00:00<00:00, 101.53it/s]"
     ]
    },
    {
     "name": "stdout",
     "output_type": "stream",
     "text": [
      "27 Notothenia rossii\n",
      "(3584,)\n"
     ]
    },
    {
     "name": "stderr",
     "output_type": "stream",
     "text": [
      "100%|██████████| 81/81 [00:00<00:00, 99.78it/s] \n"
     ]
    },
    {
     "name": "stdout",
     "output_type": "stream",
     "text": [
      "In_insitu_FESOM_temp_historical_in_Notothenia_rossii_habitat_2091_2100.png\n",
      "pO2_historical_FESOM_in_Notothenia_rossii_habitat_2091_2100.png\n",
      "Change_in_pO2_all_scenarios_2091-2100_minus_1995-2014_in_Notothenia_rossii_habitat_with_2091_2100.png\n",
      "Change_in_insitu_temp_all_scenarios_2091-2100_minus_1995-2014_in_Notothenia_rossii_habitat_2091_2100.png\n"
     ]
    },
    {
     "name": "stderr",
     "output_type": "stream",
     "text": [
      " 14%|█▎        | 11/81 [00:00<00:00, 103.47it/s]"
     ]
    },
    {
     "name": "stdout",
     "output_type": "stream",
     "text": [
      "28 Bathyraja maccaini\n",
      "(3248,)\n"
     ]
    },
    {
     "name": "stderr",
     "output_type": "stream",
     "text": [
      "100%|██████████| 81/81 [00:00<00:00, 103.09it/s]\n"
     ]
    },
    {
     "name": "stdout",
     "output_type": "stream",
     "text": [
      "In_insitu_FESOM_temp_historical_in_Bathyraja_maccaini_habitat_2091_2100.png\n",
      "pO2_historical_FESOM_in_Bathyraja_maccaini_habitat_2091_2100.png\n",
      "Change_in_pO2_all_scenarios_2091-2100_minus_1995-2014_in_Bathyraja_maccaini_habitat_with_2091_2100.png\n",
      "Change_in_insitu_temp_all_scenarios_2091-2100_minus_1995-2014_in_Bathyraja_maccaini_habitat_2091_2100.png\n",
      "done\n"
     ]
    }
   ],
   "source": [
    "####\n",
    "# 1) interpolate\n",
    "# 2) get average change in toothfish habitat\n",
    "#---\n",
    "from cartopy.util import add_cyclic_point\n",
    "from tqdm import tqdm\n",
    "\n",
    "name_string = 'toothfish' #'silverfish' #'toothfish','krill'\n",
    "shelf_only  = False # if False, whole habitat, else Antarctic shelf only\n",
    "if shelf_only:\n",
    "    print('Process for the habitat of',name_string,'on the Antarctic shelf')\n",
    "else:\n",
    "    print('Process for the whole habitat of',name_string)\n",
    "    \n",
    "lat_2d = np.tile(lat,[len(lon),1]).transpose()\n",
    "\n",
    "#ind_toothfish = np.where((habitat_all[:,:,0].ravel()==1) & (lat_2d.ravel()>=-65.0) & (lat_2d.ravel()<-60.0))[0]\n",
    "#ind_toothfish = np.where((habitat_all[:,:,0].ravel()==1) & (lat_2d.ravel()<-65.0))[0]\n",
    "#if name_string in ['toothfish']:\n",
    "#    if shelf_only:\n",
    "#        ind_toothfish = np.where((habitat_all[:,:,0].ravel()==1) & (mask_shelves.ravel()==1))[0]\n",
    "#    else:\n",
    "#        ind_toothfish = np.where((habitat_all[:,:,0].ravel()==1))[0]\n",
    "#elif name_string in ['silverfish']:\n",
    "#    if shelf_only:\n",
    "#        ind_toothfish = np.where((habitat_all[:,:,ind_silverfish].ravel()==1) & (mask_shelves.ravel()==1))[0]\n",
    "#    else:\n",
    "#        ind_toothfish = np.where((habitat_all[:,:,ind_silverfish].ravel()==1))[0]\n",
    "#elif name_string in ['krill']:\n",
    "#    if shelf_only:\n",
    "#        ind_toothfish = np.where((habitat_all[:,:,ind_krill].ravel()==1) & (mask_shelves.ravel()==1))[0]\n",
    "#    else:\n",
    "#        ind_toothfish = np.where((habitat_all[:,:,ind_krill].ravel()==1))[0]\n",
    "        \n",
    "depths = np.copy(zlevs)\n",
    "\n",
    "fs = 14\n",
    "lw = 2.5\n",
    "\n",
    "save_plots         = True\n",
    "plot_eps           = True\n",
    "display_plots_hist = False\n",
    "display_plots      = False\n",
    "display_plots_eps  = False\n",
    "display_plots_hist_eps = False\n",
    "    \n",
    "time_String_hist       = '1995-2014'\n",
    "time_String_future     = str(int(which_drift[0:4]))+'-'+str(int(which_drift[5:]))\n",
    "time_String_diff       = str(int(which_drift[0:4]))+'-'+str(int(which_drift[5:]))+' minus 1995-2014'\n",
    "print(time_String_hist)\n",
    "print(time_String_future)\n",
    "print(time_String_diff)\n",
    "\n",
    "# Ross Sea colors\n",
    "color_list1 = [(0./255.,59./255.,70./255.),(102./255.,165./255.,173./255.),(196./255.,223./255.,230./255.),\\\n",
    "                  (0.82,0.82,0.82)]\n",
    "# eastAA colors\n",
    "color_list2 = [(75./255.,116./255.,71./255.),(161./255.,190./255.,149./255.),(201./255.,209./255.,200./255.),\\\n",
    "                  (0.82,0.82,0.82)]\n",
    "# Weddell Sea colors\n",
    "color_list3 = [(26./255.,64./255.,95./255.),(51./255.,123./255.,174./255.),(208./255.,225./255.,249./255.),\\\n",
    "                  (0.82,0.82,0.82)]\n",
    "# Orkney colors\n",
    "color_list4 = [(164./255.,56./255.,32./255.),(238./255.,105./255.,36./255.),(248./255.,160./255.,85./255.),\\\n",
    "                  (0.82,0.82,0.82)]\n",
    "# WAP colors\n",
    "color_list5 = [(80./255.,49./255.,47./255.),(186./255.,168./255.,150./255.),(230./255.,204./255.,181./255.),\\\n",
    "                  (0.82,0.82,0.82)]\n",
    "# grey scale \n",
    "color_list6 = [(0./255.,0./255.,0./255.),(75./255.,75./255.,75./255.),(150./255.,150./255.,150./255.),\\\n",
    "                  (0.82,0.82,0.82)]\n",
    "\n",
    "color_simB = 'k'\n",
    "color_list = np.copy(color_list1)\n",
    "\n",
    "\n",
    "for ss in range(0,len(species_names)):\n",
    "\n",
    "    avg_oxy_historical     = np.zeros(len(depths))\n",
    "    avg_change_oxy_ssp126  = np.zeros(len(depths))\n",
    "    avg_change_oxy_ssp245  = np.zeros(len(depths))\n",
    "    avg_change_oxy_ssp370  = np.zeros(len(depths))\n",
    "    avg_change_oxy_ssp585  = np.zeros(len(depths))\n",
    "    avg_temp_historical    = np.zeros(len(depths))\n",
    "    avg_change_temp_ssp126 = np.zeros(len(depths))\n",
    "    avg_change_temp_ssp245 = np.zeros(len(depths))\n",
    "    avg_change_temp_ssp370 = np.zeros(len(depths))\n",
    "    avg_change_temp_ssp585 = np.zeros(len(depths))\n",
    "    for dd in tqdm(range(0,81)):#len(depths)): #np.arange(0,2):#len(depths),2):\n",
    "        #print('')\n",
    "        #print('depth level',dd,depths[dd])\n",
    "\n",
    "        ind_species = np.where((habitat_all[:,:,ss].ravel()==1))[0]\n",
    "        if dd==0:\n",
    "            print(ss,species_names[ss])\n",
    "            print(ind_species.shape)\n",
    "\n",
    "        #---\n",
    "        # get avg difference 2090s-1990s\n",
    "        #----\n",
    "        aux1 = array_1990s_simA[dd,:,:].ravel()[ind_species]\n",
    "        aux2 = array_2090s[dd,:,:,0].ravel()[ind_species]\n",
    "        aux3 = array_2090s[dd,:,:,1].ravel()[ind_species]\n",
    "        aux4 = array_2090s[dd,:,:,2].ravel()[ind_species]\n",
    "        aux5 = array_2090s[dd,:,:,3].ravel()[ind_species]\n",
    "\n",
    "        aux1_temp = array_1990s_simA_temp[dd,:,:].ravel()[ind_species]\n",
    "        aux2_temp = array_2090s_temp[dd,:,:,0].ravel()[ind_species]\n",
    "        aux3_temp = array_2090s_temp[dd,:,:,1].ravel()[ind_species]\n",
    "        aux4_temp = array_2090s_temp[dd,:,:,2].ravel()[ind_species]\n",
    "        aux5_temp = array_2090s_temp[dd,:,:,3].ravel()[ind_species]\n",
    "\n",
    "        aux1[aux1==0]=np.nan\n",
    "        aux2[aux2==0]=np.nan\n",
    "        aux3[aux3==0]=np.nan\n",
    "        aux4[aux4==0]=np.nan\n",
    "        aux5[aux5==0]=np.nan\n",
    "\n",
    "        aux1_temp[aux1_temp==0]=np.nan\n",
    "        aux2_temp[aux2_temp==0]=np.nan\n",
    "        aux3_temp[aux3_temp==0]=np.nan\n",
    "        aux4_temp[aux4_temp==0]=np.nan\n",
    "        aux5_temp[aux5_temp==0]=np.nan\n",
    "\n",
    "        #print(aux1.shape)\n",
    "        #print(np.min(aux1))\n",
    "        #print(np.min(aux1_temp))\n",
    "\n",
    "        # correct area for NaNs in field (especially important at depth)\n",
    "        area3 = np.copy(area2).ravel()[ind_species]\n",
    "        area3[np.isnan(aux1)] = np.nan\n",
    "\n",
    "        # get averages for oxygen\n",
    "        a1990s = np.nansum(aux1*area3)/np.nansum(area3)\n",
    "        a2090s_1 = np.nansum(aux2*area3)/np.nansum(area3)\n",
    "        a2090s_2 = np.nansum(aux3*area3)/np.nansum(area3)\n",
    "        a2090s_3 = np.nansum(aux4*area3)/np.nansum(area3)\n",
    "        a2090s_4 = np.nansum(aux5*area3)/np.nansum(area3)\n",
    "\n",
    "        # get averages for temperature\n",
    "        a1990s_temp = np.nansum(aux1_temp*area3)/np.nansum(area3)\n",
    "        a2090s_1_temp = np.nansum(aux2_temp*area3)/np.nansum(area3)\n",
    "        a2090s_2_temp = np.nansum(aux3_temp*area3)/np.nansum(area3)\n",
    "        a2090s_3_temp = np.nansum(aux4_temp*area3)/np.nansum(area3)\n",
    "        a2090s_4_temp = np.nansum(aux5_temp*area3)/np.nansum(area3)\n",
    "\n",
    "        avg_oxy_historical[dd]     = a1990s\n",
    "        avg_change_oxy_ssp126[dd]  = a2090s_4-a1990s\n",
    "        avg_change_oxy_ssp245[dd]  = a2090s_3-a1990s\n",
    "        avg_change_oxy_ssp370[dd]  = a2090s_2-a1990s\n",
    "        avg_change_oxy_ssp585[dd]  = a2090s_1-a1990s\n",
    "\n",
    "        avg_temp_historical[dd]    = a1990s_temp\n",
    "        avg_change_temp_ssp126[dd] = a2090s_4_temp-a1990s_temp\n",
    "        avg_change_temp_ssp245[dd] = a2090s_3_temp-a1990s_temp\n",
    "        avg_change_temp_ssp370[dd] = a2090s_2_temp-a1990s_temp\n",
    "        avg_change_temp_ssp585[dd] = a2090s_1_temp-a1990s_temp\n",
    "\n",
    "        del a2090s_1_temp,a2090s_2_temp,a2090s_3_temp,a2090s_4_temp,a1990s_temp\n",
    "        del a2090s_1,a2090s_2,a2090s_3,a2090s_4,a1990s\n",
    "        del aux1,aux2,aux3,aux4,aux5\n",
    "        del aux1_temp,aux2_temp,aux3_temp,aux4_temp,aux5_temp\n",
    "        \n",
    "    # reduce to available depth levels for surrent species\n",
    "    if index_min_depth[ss]>0:\n",
    "        avg_temp_historical[0:index_min_depth[ss]:] = np.nan\n",
    "        avg_change_temp_ssp126[0:index_min_depth[ss]:] = np.nan\n",
    "        avg_change_temp_ssp245[0:index_min_depth[ss]:] = np.nan\n",
    "        avg_change_temp_ssp370[0:index_min_depth[ss]:] = np.nan\n",
    "        avg_change_temp_ssp585[0:index_min_depth[ss]:] = np.nan\n",
    "        avg_oxy_historical[0:index_min_depth[ss]:] = np.nan\n",
    "        avg_change_oxy_ssp126[0:index_min_depth[ss]:] = np.nan\n",
    "        avg_change_oxy_ssp245[0:index_min_depth[ss]:] = np.nan\n",
    "        avg_change_oxy_ssp370[0:index_min_depth[ss]:] = np.nan\n",
    "        avg_change_oxy_ssp585[0:index_min_depth[ss]:] = np.nan\n",
    "        \n",
    "    avg_temp_historical[index_max_depth[ss]:] = np.nan\n",
    "    avg_change_temp_ssp126[index_max_depth[ss]:] = np.nan\n",
    "    avg_change_temp_ssp245[index_max_depth[ss]:] = np.nan\n",
    "    avg_change_temp_ssp370[index_max_depth[ss]:] = np.nan\n",
    "    avg_change_temp_ssp585[index_max_depth[ss]:] = np.nan\n",
    "    avg_oxy_historical[index_max_depth[ss]:] = np.nan\n",
    "    avg_change_oxy_ssp126[index_max_depth[ss]:] = np.nan\n",
    "    avg_change_oxy_ssp245[index_max_depth[ss]:] = np.nan\n",
    "    avg_change_oxy_ssp370[index_max_depth[ss]:] = np.nan\n",
    "    avg_change_oxy_ssp585[index_max_depth[ss]:] = np.nan\n",
    "     \n",
    "    to_plot = True\n",
    "    if to_plot:\n",
    "        #---\n",
    "        # plot HISTORICAL\n",
    "        #---\n",
    "\n",
    "        #---\n",
    "        # temperature -> HISTORICAL\n",
    "        #---\n",
    "        xlim1,xlim2 = -0.5,1.5\n",
    "        avg_temp_historical = np.ma.masked_where(avg_oxy_historical==0,avg_temp_historical)\n",
    "\n",
    "        fig = plt.figure(figsize=(4, 7))\n",
    "        plt.vlines(0,np.min(depths),np.max(depths),color='dimgrey',linewidth=1,linestyle='-')\n",
    "        plt.hlines(400,xlim1,xlim2,color='lightgray',linewidth=1.5,linestyle='--')\n",
    "        plt.hlines(700,xlim1,xlim2,color='lightgray',linewidth=1.5,linestyle='--')\n",
    "        plt.hlines(1000,xlim1,xlim2,color='lightgray',linewidth=1.5,linestyle='--')\n",
    "        # all scenarios\n",
    "        plt.plot(avg_temp_historical,depths,linewidth=lw,color='k',label='historical')\n",
    "        plt.ylim((np.min(depths),2200))\n",
    "        plt.ylabel('Depth in m',fontsize=fs)\n",
    "        plt.xlabel('In-situ temp. in $^{\\circ}$C',fontsize=fs)\n",
    "        plt.yticks([0,250,500,750,1000,1250,1500,1750,2000,2250],\\\n",
    "                   [0,'',500,'',1000,'',1500,'',2000,''],fontsize=fs)\n",
    "        plt.gca().invert_yaxis()\n",
    "        plt.gca().xaxis.tick_top()\n",
    "        plt.gca().xaxis.set_label_position('top') \n",
    "        plt.xticks([-0.5,0,0.5,1,1.5],[-0.5,0,0.5,1,1.5],fontsize=fs)\n",
    "        plt.xlim((xlim1,xlim2))\n",
    "        plt.legend(frameon=False,markerfirst=False)\n",
    "        if save_plots:\n",
    "            dpicnt = 200\n",
    "            filename = 'In_insitu_FESOM_temp_historical_in_'+species_names_[ss]+'_habitat_'+which_drift+'.png'\n",
    "            print(filename)\n",
    "            plt.savefig(savepath+filename,dpi = dpicnt, bbox_inches='tight')\n",
    "            del filename\n",
    "        if display_plots_hist:\n",
    "            plt.show()\n",
    "        else:\n",
    "            plt.close(fig)\n",
    "\n",
    "        if plot_eps:\n",
    "            fig = plt.figure(figsize=(4, 7))\n",
    "            plt.vlines(0,np.min(depths),np.max(depths),color='dimgrey',linewidth=1,linestyle='-')\n",
    "            plt.hlines(400,xlim1,xlim2,color='lightgray',linewidth=1.5,linestyle='--')\n",
    "            plt.hlines(700,xlim1,xlim2,color='lightgray',linewidth=1.5,linestyle='--')\n",
    "            plt.hlines(1000,xlim1,xlim2,color='lightgray',linewidth=1.5,linestyle='--')\n",
    "            # all scenarios\n",
    "            plt.plot(avg_temp_historical,depths,linewidth=lw,color='k',label='historical')\n",
    "            plt.ylim((np.min(depths),2200))\n",
    "            plt.yticks([0,250,500,750,1000,1250,1500,1750,2000,2250],\\\n",
    "                       [],fontsize=fs)\n",
    "            plt.gca().invert_yaxis()\n",
    "            plt.gca().xaxis.tick_top()\n",
    "            plt.gca().xaxis.set_label_position('top') \n",
    "            plt.xticks([-0.5,0,0.5,1,1.5],[],fontsize=fs)\n",
    "            plt.xlim((xlim1,xlim2))\n",
    "            if save_plots:\n",
    "                dpicnt = 200\n",
    "                filename = 'In_insitu_FESOM_temp_historical_in_'+species_names_[ss]+'_habitat_'+which_drift+'.eps'\n",
    "                #print(filename)\n",
    "                plt.savefig(savepath2+filename,dpi = dpicnt, bbox_inches='tight',format='eps')\n",
    "                del filename\n",
    "            if display_plots_hist_eps:\n",
    "                plt.show()\n",
    "            else:\n",
    "                plt.close(fig)\n",
    "                \n",
    "        #---\n",
    "        # oxygen -> HISTORICAL\n",
    "        #---\n",
    "\n",
    "        xlim1,xlim2 = 100,200\n",
    "        avg_oxy_historical = np.ma.masked_where(avg_oxy_historical==0,avg_oxy_historical)\n",
    "\n",
    "        fig = plt.figure(figsize=(4, 7))\n",
    "        plt.vlines(0,np.min(depths),np.max(depths),color='dimgrey',linewidth=1,linestyle='-')\n",
    "        plt.hlines(400,xlim1,xlim2,color='lightgray',linewidth=1.5,linestyle='--')\n",
    "        plt.hlines(700,xlim1,xlim2,color='lightgray',linewidth=1.5,linestyle='--')\n",
    "        plt.hlines(1000,xlim1,xlim2,color='lightgray',linewidth=1.5,linestyle='--')\n",
    "        # all scenarios\n",
    "        plt.plot(avg_oxy_historical,depths,linewidth=lw,color='k',label='historical')\n",
    "        plt.ylim((np.min(depths),2200))\n",
    "        plt.ylabel('Depth in m',fontsize=fs)\n",
    "        plt.xlabel('pO$_2$ in mbar',fontsize=fs)\n",
    "        plt.yticks([0,250,500,750,1000,1250,1500,1750,2000,2250],\\\n",
    "                   [0,'',500,'',1000,'',1500,'',2000,''],fontsize=fs)\n",
    "        plt.gca().invert_yaxis()\n",
    "        plt.gca().xaxis.tick_top()\n",
    "        plt.gca().xaxis.set_label_position('top') \n",
    "        plt.xticks([100,125,150,175,200],[100,125,150,175,200],fontsize=fs)\n",
    "        plt.xlim((xlim1,xlim2))\n",
    "        plt.legend(frameon=False,markerfirst=False)\n",
    "        if save_plots:\n",
    "            dpicnt = 200\n",
    "            filename = 'pO2_historical_FESOM_in_'+species_names_[ss]+'_habitat_'+which_drift+'.png'\n",
    "            print(filename)\n",
    "            plt.savefig(savepath+filename,dpi = dpicnt, bbox_inches='tight')\n",
    "            del filename\n",
    "        if display_plots_hist:\n",
    "            plt.show()\n",
    "        else:\n",
    "            plt.close(fig)\n",
    "\n",
    "        if plot_eps:\n",
    "            fig = plt.figure(figsize=(4, 7))\n",
    "            plt.vlines(0,np.min(depths),np.max(depths),color='dimgrey',linewidth=1,linestyle='-')\n",
    "            plt.hlines(400,xlim1,xlim2,color='lightgray',linewidth=1.5,linestyle='--')\n",
    "            plt.hlines(700,xlim1,xlim2,color='lightgray',linewidth=1.5,linestyle='--')\n",
    "            plt.hlines(1000,xlim1,xlim2,color='lightgray',linewidth=1.5,linestyle='--')\n",
    "            # all scenarios\n",
    "            plt.plot(avg_oxy_historical,depths,linewidth=lw,color='k',label='historical')\n",
    "            plt.ylim((np.min(depths),2200))\n",
    "            plt.yticks([0,250,500,750,1000,1250,1500,1750,2000,2250],\\\n",
    "                       [],fontsize=fs)\n",
    "            plt.gca().invert_yaxis()\n",
    "            plt.gca().xaxis.tick_top()\n",
    "            plt.gca().xaxis.set_label_position('top') \n",
    "            plt.xticks([100,125,150,175,200],[],fontsize=fs)\n",
    "            plt.xlim((xlim1,xlim2))\n",
    "            if save_plots:\n",
    "                dpicnt = 200\n",
    "                filename = 'pO2_historical_FESOM_in_'+species_names_[ss]+'_habitat_'+which_drift+'.eps'\n",
    "                #print(filename)\n",
    "                plt.savefig(savepath2+filename,dpi = dpicnt, bbox_inches='tight',format='eps')\n",
    "                del filename\n",
    "            if display_plots_hist_eps:\n",
    "                plt.show()\n",
    "            else:\n",
    "                plt.close(fig)\n",
    "                \n",
    "                \n",
    "        #---\n",
    "        # FUTURE OXYGEN\n",
    "        #---\n",
    "        \n",
    "        xlim1,xlim2 = -20,20 #-12,10\n",
    "\n",
    "        fig = plt.figure(figsize=(4, 7))\n",
    "        plt.vlines(0,np.min(depths),np.max(depths),color='dimgrey',linewidth=1,linestyle='-')\n",
    "        plt.hlines(400,xlim1,xlim2,color='lightgray',linewidth=1.5,linestyle='--')\n",
    "        plt.hlines(700,xlim1,xlim2,color='lightgray',linewidth=1.5,linestyle='--')\n",
    "        plt.hlines(1000,xlim1,xlim2,color='lightgray',linewidth=1.5,linestyle='--')\n",
    "        # all scenarios\n",
    "        plt.plot(avg_change_oxy_ssp126,depths,linewidth=lw,color=color_list[3],label='SSP1-2.6')\n",
    "        plt.plot(avg_change_oxy_ssp245,depths,linewidth=lw,color=color_list[2],label='SSP2-4.5')\n",
    "        plt.plot(avg_change_oxy_ssp370,depths,linewidth=lw,color=color_list[1],label='SSP3-7.0')\n",
    "        plt.plot(avg_change_oxy_ssp585,depths,linewidth=lw,color=color_list[0],label='SSP5-8.5')\n",
    "        plt.ylim((np.min(depths),2250))\n",
    "        plt.ylabel('Depth in m',fontsize=fs)\n",
    "        plt.xlabel('Change in pO$_2$ in mbar',fontsize=fs)\n",
    "        plt.yticks([0,250,500,750,1000,1250,1500,1750,2000,2250],\\\n",
    "                   [0,'',500,'',1000,'',1500,'',2000,''],fontsize=fs)\n",
    "        plt.gca().invert_yaxis()\n",
    "        plt.gca().xaxis.tick_top()\n",
    "        plt.gca().xaxis.set_label_position('top') \n",
    "        plt.xticks([-20,-10,0,10,20],[-20,-10,0,10,20],fontsize=fs)\n",
    "        plt.xlim((xlim1,xlim2))\n",
    "        plt.legend(frameon=False,markerfirst=False)\n",
    "        if save_plots:\n",
    "            dpicnt = 200\n",
    "            if shelf_only:\n",
    "                filename = 'Change_in_pO2_all_scenarios_'+time_String_diff.replace(\" \",\"_\")+\\\n",
    "                                '_in_'+species_names_[ss]+'_habitat_AntarcticShelf_only_'+which_drift+'.png'\n",
    "            else:\n",
    "                filename = 'Change_in_pO2_all_scenarios_'+time_String_diff.replace(\" \",\"_\")+\\\n",
    "                                '_in_'+species_names_[ss]+'_habitat_with_'+which_drift+'.png'\n",
    "            print(filename)\n",
    "            plt.savefig(savepath+filename,dpi = dpicnt, bbox_inches='tight')\n",
    "            del filename\n",
    "        if display_plots:\n",
    "            plt.show()\n",
    "        else:\n",
    "            plt.close(fig)\n",
    "\n",
    "\n",
    "        if plot_eps:\n",
    "            fig = plt.figure(figsize=(4, 7))\n",
    "            plt.vlines(0,np.min(depths),np.max(depths),color='dimgrey',linewidth=1,linestyle='-')\n",
    "            plt.hlines(400,xlim1,xlim2,color='lightgray',linewidth=1.0,linestyle='--')\n",
    "            plt.hlines(700,xlim1,xlim2,color='lightgray',linewidth=1.0,linestyle='--')\n",
    "            plt.hlines(1000,xlim1,xlim2,color='lightgray',linewidth=1.0,linestyle='--')\n",
    "            # all scenarios\n",
    "            plt.plot(avg_change_oxy_ssp126,depths,linewidth=lw,color=color_list[3],label='SSP1-2.6')\n",
    "            plt.plot(avg_change_oxy_ssp245,depths,linewidth=lw,color=color_list[2],label='SSP2-4.5')\n",
    "            plt.plot(avg_change_oxy_ssp370,depths,linewidth=lw,color=color_list[1],label='SSP3-7.0')\n",
    "            plt.plot(avg_change_oxy_ssp585,depths,linewidth=lw,color=color_list[0],label='SSP5-8.5')\n",
    "            plt.ylim((np.min(depths),2250))\n",
    "            plt.yticks([0,250,500,750,1000,1250,1500,1750,2000,2250],[],fontsize=fs)\n",
    "            plt.gca().invert_yaxis()\n",
    "            plt.gca().xaxis.tick_bottom()\n",
    "            plt.gca().xaxis.set_label_position('bottom') \n",
    "            plt.xticks([-20,-10,0,10,20],[],fontsize=fs)\n",
    "            plt.xlim((xlim1,xlim2))\n",
    "            if save_plots:\n",
    "                dpicnt = 200\n",
    "                if shelf_only:\n",
    "                    filename = 'Change_in_pO2_all_scenarios_'+time_String_diff.replace(\" \",\"_\")+\\\n",
    "                                '_in_'+species_names_[ss]+'_habitat_AntarcticShelf_only_'+which_drift+'.eps'\n",
    "                else:\n",
    "                    filename = 'Change_in_pO2_all_scenarios_'+time_String_diff.replace(\" \",\"_\")+\\\n",
    "                                '_in_'+species_names_[ss]+'_habitat_'+which_drift+'.eps'\n",
    "                #print(filename)\n",
    "                plt.savefig(savepath2+filename,dpi = dpicnt, bbox_inches='tight',format='eps')\n",
    "                del filename\n",
    "            if display_plots_eps:\n",
    "                plt.show()\n",
    "            else:\n",
    "                plt.close(fig)\n",
    "        \n",
    "        #---\n",
    "        # FUTURE TEMPERATURE\n",
    "        #---\n",
    "        \n",
    "        xlim1,xlim2 = -0.8,1.8 #-1,2 #-0.2,1.5\n",
    "\n",
    "        fig = plt.figure(figsize=(4, 7))\n",
    "        plt.vlines(0,np.min(depths),np.max(depths),color='dimgrey',linewidth=1,linestyle='-')\n",
    "        plt.hlines(400,xlim1,xlim2,color='lightgray',linewidth=1.5,linestyle='--')\n",
    "        plt.hlines(700,xlim1,xlim2,color='lightgray',linewidth=1.5,linestyle='--')\n",
    "        plt.hlines(1000,xlim1,xlim2,color='lightgray',linewidth=1.5,linestyle='--')\n",
    "        # all scenarios\n",
    "        plt.plot(avg_change_temp_ssp126,depths,linewidth=lw,color=color_list[3],label='SSP1-2.6')\n",
    "        plt.plot(avg_change_temp_ssp245,depths,linewidth=lw,color=color_list[2],label='SSP2-4.5')\n",
    "        plt.plot(avg_change_temp_ssp370,depths,linewidth=lw,color=color_list[1],label='SSP3-7.0')\n",
    "        plt.plot(avg_change_temp_ssp585,depths,linewidth=lw,color=color_list[0],label='SSP5-8.5')\n",
    "        plt.ylim((np.min(depths),2200))\n",
    "        plt.ylabel('Depth in m',fontsize=fs)\n",
    "        plt.xlabel('Change in in-situ temp. in $^{\\circ}$C',fontsize=fs)\n",
    "        plt.yticks([0,250,500,750,1000,1250,1500,1750,2000,2250],\\\n",
    "                   [0,'',500,'',1000,'',1500,'',2000,''],fontsize=fs)\n",
    "        plt.gca().invert_yaxis()\n",
    "        plt.gca().xaxis.tick_top()\n",
    "        plt.gca().xaxis.set_label_position('top') \n",
    "        plt.xticks([-0.5,0,0.5,1,1.5],[-0.5,0,0.5,1,1.5],fontsize=fs)\n",
    "        plt.xlim((xlim1,xlim2))\n",
    "        plt.legend(frameon=False,markerfirst=False)\n",
    "        if save_plots:\n",
    "            dpicnt = 200\n",
    "            if shelf_only:\n",
    "                filename = 'Change_in_insitu_temp_all_scenarios_'+time_String_diff.replace(\" \",\"_\")+\\\n",
    "                                '_in_'+species_names_[ss]+'_habitat_AntarcticShelf_only_'+which_drift+'.png'\n",
    "            else:\n",
    "                filename = 'Change_in_insitu_temp_all_scenarios_'+time_String_diff.replace(\" \",\"_\")+\\\n",
    "                                '_in_'+species_names_[ss]+'_habitat_'+which_drift+'.png'\n",
    "            print(filename)\n",
    "            plt.savefig(savepath+filename,dpi = dpicnt, bbox_inches='tight')\n",
    "            del filename\n",
    "        if display_plots:\n",
    "            plt.show()\n",
    "        else:\n",
    "            plt.close(fig)\n",
    "\n",
    "        if plot_eps:\n",
    "            fig = plt.figure(figsize=(4, 7))\n",
    "            plt.vlines(0,np.min(depths),np.max(depths),color='dimgrey',linewidth=1,linestyle='-')\n",
    "            plt.hlines(400,xlim1,xlim2,color='lightgray',linewidth=1.0,linestyle='--')\n",
    "            plt.hlines(700,xlim1,xlim2,color='lightgray',linewidth=1.0,linestyle='--')\n",
    "            plt.hlines(1000,xlim1,xlim2,color='lightgray',linewidth=1.0,linestyle='--')\n",
    "            # all scenarios\n",
    "            plt.plot(avg_change_temp_ssp126,depths,linewidth=lw,color=color_list[3],label='SSP1-2.6')\n",
    "            plt.plot(avg_change_temp_ssp245,depths,linewidth=lw,color=color_list[2],label='SSP2-4.5')\n",
    "            plt.plot(avg_change_temp_ssp370,depths,linewidth=lw,color=color_list[1],label='SSP3-7.0')\n",
    "            plt.plot(avg_change_temp_ssp585,depths,linewidth=lw,color=color_list[0],label='SSP5-8.5')\n",
    "            plt.ylim((np.min(depths),2200))\n",
    "            plt.yticks([0,250,500,750,1000,1250,1500,1750,2000,2250],[],fontsize=fs)\n",
    "            plt.gca().invert_yaxis()\n",
    "            plt.gca().xaxis.tick_bottom()\n",
    "            plt.gca().xaxis.set_label_position('bottom') \n",
    "            plt.xticks([-0.5,0,0.5,1,1.5],[],fontsize=fs)\n",
    "            plt.xlim((xlim1,xlim2))\n",
    "            if save_plots:\n",
    "                dpicnt = 200\n",
    "                if shelf_only:\n",
    "                    filename = 'Change_in_insitu_temp_all_scenarios_'+time_String_diff.replace(\" \",\"_\")+\\\n",
    "                                '_in_'+species_names_[ss]+'_habitat_AntarcticShelf_only_'+which_drift+'.eps'\n",
    "                else:\n",
    "                    filename = 'Change_in_insitu_temp_all_scenarios_'+time_String_diff.replace(\" \",\"_\")+\\\n",
    "                                '_in_'+species_names_[ss]+'_habitat_'+which_drift+'.eps'\n",
    "                #print(filename)\n",
    "                plt.savefig(savepath2+filename,dpi = dpicnt, bbox_inches='tight',format='eps')\n",
    "                del filename\n",
    "            if display_plots_eps:\n",
    "                plt.show()\n",
    "            else:\n",
    "                plt.close(fig)\n",
    "        \n",
    "print('done')\n"
   ]
  },
  {
   "cell_type": "code",
   "execution_count": null,
   "metadata": {
    "tags": []
   },
   "outputs": [],
   "source": [
    "\n"
   ]
  },
  {
   "cell_type": "code",
   "execution_count": null,
   "metadata": {},
   "outputs": [],
   "source": []
  },
  {
   "cell_type": "code",
   "execution_count": 11,
   "metadata": {
    "tags": []
   },
   "outputs": [
    {
     "name": "stdout",
     "output_type": "stream",
     "text": [
      "/global/cfs/cdirs/m4003/cnissen/Plots/AGI_project/change_oxygen_with_drift_corr/\n"
     ]
    }
   ],
   "source": [
    "print(savepath)"
   ]
  },
  {
   "cell_type": "code",
   "execution_count": null,
   "metadata": {},
   "outputs": [],
   "source": []
  },
  {
   "cell_type": "code",
   "execution_count": null,
   "metadata": {
    "tags": []
   },
   "outputs": [],
   "source": []
  },
  {
   "cell_type": "code",
   "execution_count": null,
   "metadata": {
    "tags": []
   },
   "outputs": [],
   "source": []
  },
  {
   "cell_type": "code",
   "execution_count": null,
   "metadata": {
    "tags": []
   },
   "outputs": [],
   "source": []
  }
 ],
 "metadata": {
  "kernelspec": {
   "display_name": "myenv-jupyter",
   "language": "python",
   "name": "myenv-jupyter"
  },
  "language_info": {
   "codemirror_mode": {
    "name": "ipython",
    "version": 3
   },
   "file_extension": ".py",
   "mimetype": "text/x-python",
   "name": "python",
   "nbconvert_exporter": "python",
   "pygments_lexer": "ipython3",
   "version": "3.9.12"
  }
 },
 "nbformat": 4,
 "nbformat_minor": 4
}
